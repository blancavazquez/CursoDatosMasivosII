{
  "nbformat": 4,
  "nbformat_minor": 0,
  "metadata": {
    "colab": {
      "name": "PageRank_spark.ipynb",
      "provenance": [],
      "collapsed_sections": [],
      "authorship_tag": "ABX9TyPf0z6TN/xcJ4JAM8qN5Ixk",
      "include_colab_link": true
    },
    "kernelspec": {
      "name": "python3",
      "display_name": "Python 3"
    },
    "language_info": {
      "name": "python"
    }
  },
  "cells": [
    {
      "cell_type": "markdown",
      "metadata": {
        "id": "view-in-github",
        "colab_type": "text"
      },
      "source": [
        "<a href=\"https://colab.research.google.com/github/blancavazquez/CursoDatosMasivosII/blob/master/notebooks/PageRank_spark.ipynb\" target=\"_parent\"><img src=\"https://colab.research.google.com/assets/colab-badge.svg\" alt=\"Open In Colab\"/></a>"
      ]
    },
    {
      "cell_type": "markdown",
      "metadata": {
        "id": "wMRZojcTvaDa"
      },
      "source": [
        "## Algoritmo de Page Rank usando pyspark"
      ]
    },
    {
      "cell_type": "code",
      "metadata": {
        "id": "iMzHvRjhuUdS"
      },
      "source": [
        "#!pip install pyspark\n",
        "#!pip install -U -q PyDrive\n",
        "#!apt install openjdk-8-jdk-headless -qq\n",
        "import os\n",
        "os.environ[\"JAVA_HOME\"] = \"/usr/lib/jvm/java-8-openjdk-amd64\""
      ],
      "execution_count": 1,
      "outputs": []
    },
    {
      "cell_type": "code",
      "metadata": {
        "id": "o9dCojYhuZT5"
      },
      "source": [
        "import pyspark\n",
        "# Initialize the spark context.\n",
        "sc = pyspark.SparkContext(appName=\"PageRankpySpark\")"
      ],
      "execution_count": 2,
      "outputs": []
    },
    {
      "cell_type": "code",
      "metadata": {
        "id": "9WMYEPr5ud0f"
      },
      "source": [
        "# returns list of (url, contribution) tuples to each url \n",
        "def computeContribs(urls, rank):\n",
        "    \"\"\"Calculates URL contributions to the rank of other URLs.\"\"\"\n",
        "    num_urls = len(urls)\n",
        "    contributions = []\n",
        "    for url in urls:\n",
        "        contributions.append( (url, rank/num_urls ) )\n",
        "    return contributions"
      ],
      "execution_count": 3,
      "outputs": []
    },
    {
      "cell_type": "code",
      "metadata": {
        "id": "aHvC05uuuf44"
      },
      "source": [
        "urls = [\"Page1 Page3\",\n",
        "         \"Page2 Page1\",\n",
        "         \"Page3 Page1\",\n",
        "         \"Page3 Page4\",\n",
        "         \"Page4 Page1\",\n",
        "         \"Page4 Page2\"]"
      ],
      "execution_count": 4,
      "outputs": []
    },
    {
      "cell_type": "code",
      "metadata": {
        "id": "guRMNBlhunko"
      },
      "source": [
        "# create RDD in format (URL, [neighbors])\n",
        "links = sc.parallelize(urls)\n",
        "links = links.map(lambda x: x.split()).map(lambda x: (x[0], x[1])).distinct().groupByKey()"
      ],
      "execution_count": 5,
      "outputs": []
    },
    {
      "cell_type": "code",
      "metadata": {
        "colab": {
          "base_uri": "https://localhost:8080/"
        },
        "id": "M9DcR5_6uqWZ",
        "outputId": "e537237f-b0fa-41e4-9e1a-9528a165c43e"
      },
      "source": [
        "# after groupBy, value is iterator; let's convert to a list\n",
        "links = links.mapValues(lambda x: list(x))\n",
        "links.collect()"
      ],
      "execution_count": 6,
      "outputs": [
        {
          "output_type": "execute_result",
          "data": {
            "text/plain": [
              "[('Page2', ['Page1']),\n",
              " ('Page4', ['Page1', 'Page2']),\n",
              " ('Page1', ['Page3']),\n",
              " ('Page3', ['Page1', 'Page4'])]"
            ]
          },
          "metadata": {},
          "execution_count": 6
        }
      ]
    },
    {
      "cell_type": "code",
      "metadata": {
        "colab": {
          "base_uri": "https://localhost:8080/"
        },
        "id": "DHnwSQQkuvDw",
        "outputId": "d2e415b9-37c9-4342-b7a5-06ddc2bad2d6"
      },
      "source": [
        "# Initialize rank of each URL to 1\n",
        "ranks = links.map(lambda x: (x[0], 1.0))\n",
        "ranks.collect()"
      ],
      "execution_count": 7,
      "outputs": [
        {
          "output_type": "execute_result",
          "data": {
            "text/plain": [
              "[('Page2', 1.0), ('Page4', 1.0), ('Page1', 1.0), ('Page3', 1.0)]"
            ]
          },
          "metadata": {},
          "execution_count": 7
        }
      ]
    },
    {
      "cell_type": "code",
      "metadata": {
        "id": "_z4DiEyWuv7Y"
      },
      "source": [
        "# Calculates and updates URL ranks continuously using PageRank algorithm.\n",
        "#   (10 iterations are used)\n",
        "for iteration in range(10):\n",
        "    \n",
        "    # create RDD of form: (url, (neighbors, rank)\n",
        "    contribs = links.join(ranks)\n",
        "    contribs.collect()\n",
        "    \n",
        "    # create RDD of form: (url, contributed rank)\n",
        "    contribs = contribs.flatMap( #neighbor urls,  rank\n",
        "            lambda x: computeContribs(x[1][0], x[1][1]))\n",
        "\n",
        "    # Re-calculates URL ranks based on neighbor contributions, by\n",
        "    #     summing contributions to each url (reduceByKey)\n",
        "    #     rank = .85*contributions + 0.15 (mapValues)\n",
        "    ranks = contribs.reduceByKey(lambda v1,v2:v1+v2).mapValues(lambda rank: rank * 0.85 + 0.15)\n",
        "    ranks.collect()"
      ],
      "execution_count": 8,
      "outputs": []
    },
    {
      "cell_type": "code",
      "metadata": {
        "colab": {
          "base_uri": "https://localhost:8080/"
        },
        "id": "slxzVFbfu1XI",
        "outputId": "2a61cdd4-0682-40bf-b12c-2694c73d9282"
      },
      "source": [
        "# Output final URL ranks\n",
        "for link, rank in ranks.collect():\n",
        "    print(link, \"has rank:\", rank)"
      ],
      "execution_count": 9,
      "outputs": [
        {
          "output_type": "stream",
          "name": "stdout",
          "text": [
            "Page1 has rank: 1.4313779845858583\n",
            "Page3 has rank: 1.3758228705372555\n",
            "Page4 has rank: 0.7294952436130331\n",
            "Page2 has rank: 0.4633039012638519\n"
          ]
        }
      ]
    },
    {
      "cell_type": "code",
      "metadata": {
        "id": "0EPbcdbku27o"
      },
      "source": [
        "sc.stop()"
      ],
      "execution_count": 10,
      "outputs": []
    }
  ]
}