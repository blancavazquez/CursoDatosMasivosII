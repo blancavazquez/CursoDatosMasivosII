{
  "nbformat": 4,
  "nbformat_minor": 0,
  "metadata": {
    "kernelspec": {
      "display_name": "Python 3",
      "language": "python",
      "name": "python3"
    },
    "language_info": {
      "codemirror_mode": {
        "name": "ipython",
        "version": 3
      },
      "file_extension": ".py",
      "mimetype": "text/x-python",
      "name": "python",
      "nbconvert_exporter": "python",
      "pygments_lexer": "ipython3",
      "version": "3.8.3"
    },
    "colab": {
      "name": "1a_eigenvalues.ipynb",
      "provenance": [],
      "collapsed_sections": [],
      "include_colab_link": true
    }
  },
  "cells": [
    {
      "cell_type": "markdown",
      "metadata": {
        "id": "view-in-github",
        "colab_type": "text"
      },
      "source": [
        "<a href=\"https://colab.research.google.com/github/blancavazquez/CursoDatosMasivosII/blob/master/notebooks/1a_eigenvalues.ipynb\" target=\"_parent\"><img src=\"https://colab.research.google.com/assets/colab-badge.svg\" alt=\"Open In Colab\"/></a>"
      ]
    },
    {
      "cell_type": "markdown",
      "metadata": {
        "id": "FXDzd4LXPtpe"
      },
      "source": [
        "## Descomposición propia de una matriz"
      ]
    },
    {
      "cell_type": "markdown",
      "metadata": {
        "id": "glmR1sCLPtpf"
      },
      "source": [
        "Una de los tipos de descomposición matricial más utilizados se llama \"descomposición propia\" que consiste en descomponer una matriz en un conjuntos de vectores propios y valores propios.\n",
        "\n",
        "- Los vectores propios (eigenvectores): son vectores unitarios en los cuales su tamaño o magnitud es igual a 1.\n",
        "- Los valores propios (eigenvalores): son coeficientes aplicados a los valores propios \n",
        "\n",
        "\n",
        "#### Importancia de la descomposición de una matriz\n",
        "- La descomposición puede ser usada para calcular los componentes principales de una matriz en el método de \"Análisis de Componentes Principales (PCA, por sus siglas en inglés)\" y que se usa para reducir la dimensionalidad de los datos.\n",
        "\n",
        "Para calcular la descomposición de una matriz A, emplearemos la función de Numpy llamada eig()."
      ]
    },
    {
      "cell_type": "code",
      "metadata": {
        "id": "D8XbrwHmPtpg",
        "colab": {
          "base_uri": "https://localhost:8080/"
        },
        "outputId": "e14f4857-a2da-460f-f725-b179dd3b8d91"
      },
      "source": [
        "import numpy as np\n",
        "from numpy import array\n",
        "from numpy.linalg import eig\n",
        "\n",
        "#Se define la matriz\n",
        "A = array([[9,8,7],[6,5,4],[3,2,1]])\n",
        "print(A)"
      ],
      "execution_count": null,
      "outputs": [
        {
          "output_type": "stream",
          "name": "stdout",
          "text": [
            "[[9 8 7]\n",
            " [6 5 4]\n",
            " [3 2 1]]\n"
          ]
        }
      ]
    },
    {
      "cell_type": "code",
      "metadata": {
        "id": "O7poQlZsPtpg",
        "colab": {
          "base_uri": "https://localhost:8080/"
        },
        "outputId": "4b25cd1e-d8b8-4d6d-ad2c-4221f849f6dd"
      },
      "source": [
        "#Calculando los valores propios y vectores propios usando numpy\n",
        "valores, vectores = eig(A)\n",
        "print(\"Eigenvalores: \\n\", valores)\n",
        "print(\"Eigenvalores: \\n\",vectores)"
      ],
      "execution_count": null,
      "outputs": [
        {
          "output_type": "stream",
          "name": "stdout",
          "text": [
            "Eigenvalores: \n",
            " [ 1.61168440e+01 -1.11684397e+00 -5.03850873e-16]\n",
            "Eigenvalores: \n",
            " [[-0.8186735  -0.61232756  0.40824829]\n",
            " [-0.52532209  0.08675134 -0.81649658]\n",
            " [-0.23197069  0.78583024  0.40824829]]\n"
          ]
        }
      ]
    },
    {
      "cell_type": "markdown",
      "metadata": {
        "id": "YaUrafyBPtph"
      },
      "source": [
        "## Reconstrucción de la matriz original\n",
        "Es posible reconstruir la matriz original a partir de los vectores propios y valores propios."
      ]
    },
    {
      "cell_type": "code",
      "metadata": {
        "id": "9KGF2bJcPtph"
      },
      "source": [
        "from numpy import diag\n",
        "from numpy import dot\n",
        "from numpy.linalg import inv\n",
        "from numpy import array\n",
        "from numpy.linalg import eig"
      ],
      "execution_count": null,
      "outputs": []
    },
    {
      "cell_type": "code",
      "metadata": {
        "id": "Q68jIRBqPtph",
        "colab": {
          "base_uri": "https://localhost:8080/"
        },
        "outputId": "30018a7a-f452-41e2-82ba-f78e9a64d681"
      },
      "source": [
        "#Se define la matriz\n",
        "A = array([[1,2,3],[4,5,6],[7,8,9]])\n",
        "print(\"Matriz \\n\", A)\n",
        "#Calcular los valores y vectores propios\n",
        "valores, vectores = eig(A)\n",
        "print(\"Eigenvalores: \\n\", valores)\n",
        "print(\"Eigenvalores: \\n\",vectores)"
      ],
      "execution_count": null,
      "outputs": [
        {
          "output_type": "stream",
          "name": "stdout",
          "text": [
            "Matriz \n",
            " [[1 2 3]\n",
            " [4 5 6]\n",
            " [7 8 9]]\n",
            "Eigenvalores: \n",
            " [ 1.61168440e+01 -1.11684397e+00 -1.30367773e-15]\n",
            "Eigenvalores: \n",
            " [[-0.23197069 -0.78583024  0.40824829]\n",
            " [-0.52532209 -0.08675134 -0.81649658]\n",
            " [-0.8186735   0.61232756  0.40824829]]\n"
          ]
        }
      ]
    },
    {
      "cell_type": "code",
      "metadata": {
        "id": "xiEsbl4BPtph",
        "colab": {
          "base_uri": "https://localhost:8080/"
        },
        "outputId": "97da587b-e1f3-455b-bf08-a352b0388f2a"
      },
      "source": [
        "#Crear una matriz a partir de los vectores propios\n",
        "m_vectores_propios = vectores\n",
        "print(m_vectores_propios)"
      ],
      "execution_count": null,
      "outputs": [
        {
          "output_type": "stream",
          "name": "stdout",
          "text": [
            "[[-0.23197069 -0.78583024  0.40824829]\n",
            " [-0.52532209 -0.08675134 -0.81649658]\n",
            " [-0.8186735   0.61232756  0.40824829]]\n"
          ]
        }
      ]
    },
    {
      "cell_type": "code",
      "metadata": {
        "id": "Vt_DT9wBPtpi",
        "colab": {
          "base_uri": "https://localhost:8080/"
        },
        "outputId": "58c6be78-c6b6-4a1c-e52b-26896f5e8478"
      },
      "source": [
        "#Crear una matriz inversa de los vectores propios\n",
        "m_inversa = inv(m_vectores_propios)\n",
        "print(m_inversa)"
      ],
      "execution_count": null,
      "outputs": [
        {
          "output_type": "stream",
          "name": "stdout",
          "text": [
            "[[-0.48295226 -0.59340999 -0.70386772]\n",
            " [-0.91788599 -0.24901003  0.41986593]\n",
            " [ 0.40824829 -0.81649658  0.40824829]]\n"
          ]
        }
      ]
    },
    {
      "cell_type": "code",
      "metadata": {
        "id": "shMORCVuPtpi",
        "colab": {
          "base_uri": "https://localhost:8080/"
        },
        "outputId": "70ff79af-cd0d-4d41-f5fa-afca5b88d227"
      },
      "source": [
        "#Crear una matriz diagonal para los valores propios\n",
        "m_diagonal = diag(valores)\n",
        "print(m_diagonal)"
      ],
      "execution_count": null,
      "outputs": [
        {
          "output_type": "stream",
          "name": "stdout",
          "text": [
            "[[ 1.61168440e+01  0.00000000e+00  0.00000000e+00]\n",
            " [ 0.00000000e+00 -1.11684397e+00  0.00000000e+00]\n",
            " [ 0.00000000e+00  0.00000000e+00 -1.30367773e-15]]\n"
          ]
        }
      ]
    },
    {
      "cell_type": "code",
      "metadata": {
        "id": "HI3RALIOPtpi",
        "colab": {
          "base_uri": "https://localhost:8080/"
        },
        "outputId": "7703b2ce-3971-4a13-cf08-127a99bb72f1"
      },
      "source": [
        "#Reconstruir la matriz original, usando la función producto punto .dot() de numpy\n",
        "m_original = m_vectores_propios.dot(m_diagonal).dot(m_inversa)\n",
        "print(m_original)"
      ],
      "execution_count": null,
      "outputs": [
        {
          "output_type": "stream",
          "name": "stdout",
          "text": [
            "[[1. 2. 3.]\n",
            " [4. 5. 6.]\n",
            " [7. 8. 9.]]\n"
          ]
        }
      ]
    },
    {
      "cell_type": "markdown",
      "source": [
        "### Método de las potencias"
      ],
      "metadata": {
        "id": "2uf2TwEVCFy9"
      }
    },
    {
      "cell_type": "markdown",
      "source": [
        "El método de las potencias es un método libre de matrices que aproxima los valores y vectores propios de una matriz simétrica. A continuación se explora el cálculo de un par propio (valor y vector propio) usando este método.\n",
        "\n",
        "El primer código está basado de [Power iteration](http://mlwiki.org/index.php/Power_Iteration) y el segundo de [UCG](https://www.ucg.ac.me/skladiste/blog_10701/objava_23569/fajlovi/power.pdf)"
      ],
      "metadata": {
        "id": "A_hf5gkPP9PC"
      }
    },
    {
      "cell_type": "code",
      "source": [
        "def eigenvalue(A, v):\n",
        "    Av = A.dot(v)\n",
        "    return v.dot(Av)\n",
        "\n",
        "def power_iteration(A):\n",
        "    n = A.shape[0] #Tamaño de la matriz (n)\n",
        "\n",
        "    #Inicializamos el vector\n",
        "    v = np.ones(n) / np.sqrt(n)\n",
        "    print(\"v:\", v)\n",
        "    ev = eigenvalue(A, v)\n",
        "\n",
        "    while True:\n",
        "        Av = A.dot(v)\n",
        "        #se calcula la norma y se normaliza el vector\n",
        "        v_new = Av / np.linalg.norm(Av)\n",
        "\n",
        "        ev_new = eigenvalue(A, v_new)\n",
        "        if np.abs(ev - ev_new) < 0.01:   ##  For complex input, a + ib, the absolute value is sqrt(a**2+b**2)\n",
        "            print(\"Umbral:\", np.abs(ev - ev_new))\n",
        "            break\n",
        "\n",
        "        v = v_new\n",
        "        ev = ev_new\n",
        "    return ev_new, v_new"
      ],
      "metadata": {
        "id": "2UgtuPkTBbY9"
      },
      "execution_count": null,
      "outputs": []
    },
    {
      "cell_type": "code",
      "source": [
        "#Se define la matriz\n",
        "A = array([[3,2],[2,6]])\n",
        "power_iteration(A)"
      ],
      "metadata": {
        "colab": {
          "base_uri": "https://localhost:8080/"
        },
        "id": "rDY3BSB-BjPN",
        "outputId": "a2965c03-dc09-4606-c7ef-6eaf5084b481"
      },
      "execution_count": null,
      "outputs": [
        {
          "output_type": "stream",
          "name": "stdout",
          "text": [
            "v: [0.70710678 0.70710678]\n",
            "Umbral: 0.0033972229956287237\n"
          ]
        },
        {
          "output_type": "execute_result",
          "data": {
            "text/plain": [
              "(6.99969780103031, array([0.45415363, 0.89092339]))"
            ]
          },
          "metadata": {},
          "execution_count": 10
        }
      ]
    },
    {
      "cell_type": "code",
      "source": [
        "def power_iteration (A, num_simulations):\n",
        "  v = np.ones(A.shape[0]) / np.sqrt(A.shape[0]) #se inicializa el vector\n",
        "\n",
        "  for _ in range(num_simulations):\n",
        "    # calculate the matrix-by-vector product Ab\n",
        "    v_new = np.dot(A, v)\n",
        "    # se calcula la norma  y se re-normaliza el vector\n",
        "    v = v_new / np.linalg.norm(v_new)\n",
        "  return v\n",
        "\n",
        "power_iteration(np.array([[3,2], [2,6]]), 5)"
      ],
      "metadata": {
        "colab": {
          "base_uri": "https://localhost:8080/"
        },
        "id": "ImCCfMwFFk8Z",
        "outputId": "9aaea491-58b5-46c5-d5c5-8fc0dc13654c"
      },
      "execution_count": null,
      "outputs": [
        {
          "output_type": "execute_result",
          "data": {
            "text/plain": [
              "array([0.44778116, 0.89414318])"
            ]
          },
          "metadata": {},
          "execution_count": 12
        }
      ]
    }
  ]
}