{
 "cells": [
  {
   "cell_type": "markdown",
   "metadata": {},
   "source": [
    "## Sistema de recomendación: caso Netflix\n",
    "\n",
    "Objetivo: construir un sistema de recomendación de películas basado en los datos de Netflix.\n",
    "\n",
    "Los pasos a seguir son:\n",
    "* Análisis de datos\n",
    "* Pre-procesamiento\n",
    "* Construcción del sistema de recomendación\n",
    "    - Usando filtrado colaborativo\n",
    "    - Usando las correlaciones de Pearson\n",
    "\n",
    "[Créditos y fuente de datos](https://www.kaggle.com/laowingkin/netflix-movie-recommendation)"
   ]
  },
  {
   "cell_type": "code",
   "execution_count": 1,
   "metadata": {},
   "outputs": [],
   "source": [
    "\"\"\"Carga de bibliotecas\"\"\"\n",
    "import pandas as pd\n",
    "import numpy as np\n",
    "import math\n",
    "import re\n",
    "from scipy.sparse import csr_matrix\n",
    "import matplotlib.pyplot as plt\n",
    "import seaborn as sns\n",
    "from surprise import Reader, Dataset, SVD\n",
    "from surprise.model_selection import cross_validate\n",
    "sns.set_style(\"darkgrid\")"
   ]
  },
  {
   "cell_type": "code",
   "execution_count": 2,
   "metadata": {},
   "outputs": [
    {
     "name": "stdout",
     "output_type": "stream",
     "text": [
      "Tamaño de la base de datos: (24058263, 2)\n",
      "-Ejemplos-\n",
      "          User_Id  Rating\n",
      "0              1:     NaN\n",
      "5000000   2560324     4.0\n",
      "10000000  2271935     2.0\n",
      "15000000  1921803     2.0\n",
      "20000000  1933327     3.0\n"
     ]
    }
   ],
   "source": [
    "\"\"\"Carga de la base de datos\"\"\"\n",
    "#selección de ID y rating\n",
    "df = pd.read_csv('../data/netflix/combined_data_1.txt', header = None, names = ['User_Id', 'Rating'], usecols = [0,1])\n",
    "\n",
    "df['Rating'] = df['Rating'].astype(float)\n",
    "print('Tamaño de la base de datos: {}'.format(df.shape))\n",
    "print('-Ejemplos-')\n",
    "print(df.iloc[::5000000, :])"
   ]
  },
  {
   "cell_type": "markdown",
   "metadata": {},
   "source": [
    "## Análisis de datos"
   ]
  },
  {
   "cell_type": "code",
   "execution_count": 3,
   "metadata": {},
   "outputs": [
    {
     "data": {
      "image/png": "[encoded data removed]",
      "text/plain": [
       "<Figure size 1080x720 with 1 Axes>"
      ]
     },
     "metadata": {},
     "output_type": "display_data"
    }
   ],
   "source": [
    "\"\"\"Visualizamos los datos de Netflix\"\"\"\n",
    "p = df.groupby('Rating')['Rating'].agg(['count'])\n",
    "\n",
    "movie_count = df.isnull().sum()[1]#Se obtiene el total de películas\n",
    "cust_count = df['User_Id'].nunique() - movie_count#Se obtiene el total de usuarios\n",
    "rating_count = df['User_Id'].count() - movie_count#Se obtiene el total de ratings\n",
    "\n",
    "ax = p.plot(kind = 'barh', legend = False, figsize = (15,10))\n",
    "plt.title('Total: {:,} peliculas, {:,} usuarios, {:,} ratings'.format(movie_count, cust_count, rating_count), fontsize=20)\n",
    "plt.axis('off')\n",
    "\n",
    "for i in range(1,6):\n",
    "    ax.text(p.iloc[i-1][0]/4, i-1, 'Rating {}: {:.0f}%'.format(i, p.iloc[i-1][0]*100 / p.sum()[0]), color = 'white', weight = 'bold')"
   ]
  },
  {
   "cell_type": "markdown",
   "metadata": {},
   "source": [
    "Se observa que la mayoría de los ratings tiende a ser positiva (>3)"
   ]
  },
  {
   "cell_type": "markdown",
   "metadata": {},
   "source": [
    "## Pre-procesamiento"
   ]
  },
  {
   "cell_type": "code",
   "execution_count": 4,
   "metadata": {},
   "outputs": [
    {
     "name": "stdout",
     "output_type": "stream",
     "text": [
      "Películas (numpy): [1.000e+00 1.000e+00 1.000e+00 ... 4.499e+03 4.499e+03 4.499e+03]\n",
      "Tamaño: 24053764\n"
     ]
    }
   ],
   "source": [
    "\"\"\"Crear una matriz de numpy para el ID de la película (procesamiento más eficiente)\"\"\"\n",
    "df_nan = pd.DataFrame(pd.isnull(df.Rating))\n",
    "df_nan = df_nan[df_nan['Rating'] == True]\n",
    "df_nan = df_nan.reset_index()\n",
    "\n",
    "movie_np = []\n",
    "movie_id = 1\n",
    "\n",
    "for i,j in zip(df_nan['index'][1:],df_nan['index'][:-1]):\n",
    "    # matriz de numpy\n",
    "    temp = np.full((1,i-j-1), movie_id)\n",
    "    movie_np = np.append(movie_np, temp)\n",
    "    movie_id += 1\n",
    "\n",
    "# Se toma en cuenta el último registro y la longitud correspondiente\n",
    "last_record = np.full((1,len(df) - df_nan.iloc[-1, 0] - 1),movie_id)\n",
    "movie_np = np.append(movie_np, last_record)\n",
    "\n",
    "print('Películas (numpy): {}'.format(movie_np))\n",
    "print('Tamaño: {}'.format(len(movie_np)))"
   ]
  },
  {
   "cell_type": "code",
   "execution_count": 5,
   "metadata": {},
   "outputs": [
    {
     "name": "stdout",
     "output_type": "stream",
     "text": [
      "-Dataset examples-\n",
      "          User_Id  Rating  Movie_Id\n",
      "1         1488844     3.0         1\n",
      "5000996    501954     2.0       996\n",
      "10001962   404654     5.0      1962\n",
      "15002876   886608     2.0      2876\n",
      "20003825  1193835     2.0      3825\n"
     ]
    }
   ],
   "source": [
    "\"\"\"Visualizamos nuevamente\"\"\"\n",
    "df = df[pd.notnull(df['Rating'])]\n",
    "\n",
    "df['Movie_Id'] = movie_np.astype(int)\n",
    "df['User_Id'] = df['User_Id'].astype(int)\n",
    "print('-Dataset examples-')\n",
    "print(df.iloc[::5000000, :])"
   ]
  },
  {
   "cell_type": "markdown",
   "metadata": {},
   "source": [
    "## División de los datos\n",
    "\n",
    "Algunos criterios que se toman en cuenta:\n",
    "\n",
    "- Eliminar películas con menos ratings (relativamente no son populares)\n",
    "- Eliminar a los usuarios que dieron menos reseñas (son relativamente menos activos)"
   ]
  },
  {
   "cell_type": "code",
   "execution_count": 6,
   "metadata": {},
   "outputs": [
    {
     "name": "stdout",
     "output_type": "stream",
     "text": [
      "Películas menos populares: 1799.0\n",
      "Usuarios menos activos: 52.0\n"
     ]
    }
   ],
   "source": [
    "f = ['count','mean']\n",
    "\n",
    "df_movie_summary = df.groupby('Movie_Id')['Rating'].agg(f)\n",
    "df_movie_summary.index = df_movie_summary.index.map(int)\n",
    "movie_benchmark = round(df_movie_summary['count'].quantile(0.7),0)\n",
    "drop_movie_list = df_movie_summary[df_movie_summary['count'] < movie_benchmark].index\n",
    "\n",
    "print('Películas menos populares: {}'.format(movie_benchmark))\n",
    "\n",
    "df_cust_summary = df.groupby('User_Id')['Rating'].agg(f)\n",
    "df_cust_summary.index = df_cust_summary.index.map(int)\n",
    "cust_benchmark = round(df_cust_summary['count'].quantile(0.7),0)\n",
    "drop_cust_list = df_cust_summary[df_cust_summary['count'] < cust_benchmark].index\n",
    "\n",
    "print('Usuarios menos activos: {}'.format(cust_benchmark))"
   ]
  },
  {
   "cell_type": "code",
   "execution_count": 7,
   "metadata": {},
   "outputs": [
    {
     "name": "stdout",
     "output_type": "stream",
     "text": [
      "Tamaño original: (24053764, 3)\n",
      "Tamaño después de la reducción: (17337458, 3)\n",
      "-Data Examples-\n",
      "          User_Id  Rating  Movie_Id\n",
      "696        712664     5.0         3\n",
      "6932490   1299309     5.0      1384\n",
      "13860273   400155     3.0      2660\n",
      "20766530   466962     4.0      3923\n"
     ]
    }
   ],
   "source": [
    "\"\"\"Después de reducir la base de datos, vemos cómo queda\"\"\"\n",
    "print('Tamaño original: {}'.format(df.shape))\n",
    "df = df[~df['Movie_Id'].isin(drop_movie_list)]\n",
    "df = df[~df['User_Id'].isin(drop_cust_list)]\n",
    "print('Tamaño después de la reducción: {}'.format(df.shape))\n",
    "print('-Data Examples-')\n",
    "print(df.iloc[::5000000, :])"
   ]
  },
  {
   "cell_type": "code",
   "execution_count": 8,
   "metadata": {},
   "outputs": [
    {
     "name": "stdout",
     "output_type": "stream",
     "text": [
      "(143458, 1350)\n"
     ]
    }
   ],
   "source": [
    "\"\"\"Generar una tabla pivote\"\"\"\n",
    "df_p = pd.pivot_table(df,values='Rating',index='User_Id',columns='Movie_Id')\n",
    "\n",
    "print(df_p.shape)"
   ]
  },
  {
   "cell_type": "markdown",
   "metadata": {},
   "source": [
    "## Mapeo de datos"
   ]
  },
  {
   "cell_type": "code",
   "execution_count": 9,
   "metadata": {},
   "outputs": [
    {
     "name": "stdout",
     "output_type": "stream",
     "text": [
      "            Year                          Name\n",
      "Movie_Id                                      \n",
      "1         2003.0               Dinosaur Planet\n",
      "2         2004.0    Isle of Man TT 2004 Review\n",
      "3         1997.0                     Character\n",
      "4         1994.0  Paula Abdul's Get Up & Dance\n",
      "5         2004.0      The Rise and Fall of ECW\n",
      "6         1997.0                          Sick\n",
      "7         1992.0                         8 Man\n",
      "8         2004.0    What the #$*! Do We Know!?\n",
      "9         1991.0      Class of Nuke 'Em High 2\n",
      "10        2001.0                       Fighter\n"
     ]
    }
   ],
   "source": [
    "\"\"\"Carga de la base de datos de películas\"\"\"\n",
    "df_title = pd.read_csv('../data/netflix/movie_titles.csv', encoding = \"ISO-8859-1\", header = None, names = ['Movie_Id', 'Year', 'Name'])\n",
    "df_title.set_index('Movie_Id', inplace = True)\n",
    "print (df_title.head(10))"
   ]
  },
  {
   "cell_type": "markdown",
   "metadata": {},
   "source": [
    "## Construcción del sistema de recomendación usando filtrado colaborativo\n",
    "\n",
    "Usamos la biblioteca [Surprise](http://surpriselib.com/) y se emplea el algoritmo de [factorización de matrices probabilísticas](https://surprise.readthedocs.io/en/stable/matrix_factorization.html#surprise.prediction_algorithms.matrix_factorization.SVD)."
   ]
  },
  {
   "cell_type": "code",
   "execution_count": 10,
   "metadata": {},
   "outputs": [
    {
     "data": {
      "text/plain": [
       "{'test_rmse': array([0.84787407, 0.84800261, 0.84791944, 0.84848291, 0.84825324]),\n",
       " 'test_mae': array([0.65825397, 0.65844116, 0.6584262 , 0.65861519, 0.65827341]),\n",
       " 'fit_time': (601.1181998252869,\n",
       "  607.0085506439209,\n",
       "  615.9723484516144,\n",
       "  586.3250668048859,\n",
       "  585.3966884613037),\n",
       " 'test_time': (44.58849883079529,\n",
       "  46.67794370651245,\n",
       "  45.162806034088135,\n",
       "  34.89421224594116,\n",
       "  34.51215195655823)}"
      ]
     },
     "execution_count": 10,
     "metadata": {},
     "output_type": "execute_result"
    }
   ],
   "source": [
    "reader = Reader()\n",
    "#Con fines prácticos y para mejorar el rendimiento, únicamente se utilizando los primeros 100 mil registros\n",
    "data = Dataset.load_from_df(df[['User_Id', 'Movie_Id', 'Rating']][:], reader)\n",
    "svd = SVD()\n",
    "cross_validate(svd, data, measures=['RMSE', 'MAE'])"
   ]
  },
  {
   "cell_type": "code",
   "execution_count": 11,
   "metadata": {
    "scrolled": true
   },
   "outputs": [
    {
     "name": "stdout",
     "output_type": "stream",
     "text": [
      "Movie_Id\n",
      "57                                            Richard III\n",
      "175                                        Reservoir Dogs\n",
      "311                                               Ed Wood\n",
      "329                                                 Dogma\n",
      "331                                           Chasing Amy\n",
      "395                                         Captain Blood\n",
      "788                                                Clerks\n",
      "798                                                  Jaws\n",
      "907                                       Animal Crackers\n",
      "985                                             The Mummy\n",
      "1552                                          Black Adder\n",
      "1905    Pirates of the Caribbean: The Curse of the Bla...\n",
      "2000                          Four Weddings and a Funeral\n",
      "2122                                 Being John Malkovich\n",
      "2342                                        Super Size Me\n",
      "2360                                  Singin' in the Rain\n",
      "2430                           Alien: Collector's Edition\n",
      "2443                             Like Water for Chocolate\n",
      "2452        Lord of the Rings: The Fellowship of the Ring\n",
      "2465                                   This Is Spinal Tap\n",
      "2554                        The Rocky Horror Picture Show\n",
      "2847                                    The Mark of Zorro\n",
      "2848                                          The Hustler\n",
      "2862                             The Silence of the Lambs\n",
      "3150                     Monty Python: The Life of Python\n",
      "3168                            Evil Dead 2: Dead by Dawn\n",
      "3198                                    The Addams Family\n",
      "3315                                   The Maltese Falcon\n",
      "3446                                        Spirited Away\n",
      "3489                                         Time Bandits\n",
      "3590                              Jason and the Argonauts\n",
      "3648            Who Framed Roger Rabbit?: Special Edition\n",
      "3798                                            The Sting\n",
      "3935                                     Yellow Submarine\n",
      "3949        Terminator 2: Extreme Edition: Bonus Material\n",
      "3962                            Finding Nemo (Widescreen)\n",
      "3984                                         On the Beach\n",
      "4080                                        A Mighty Wind\n",
      "4227                                       The Full Monty\n",
      "4253                             Kind Hearts and Coronets\n",
      "4306                                      The Sixth Sense\n",
      "4345                                Bowling for Columbine\n",
      "4356                                    Road to Perdition\n",
      "4392                                     Army of Darkness\n",
      "4454                                 To Have and Have Not\n",
      "Name: Name, dtype: object\n"
     ]
    }
   ],
   "source": [
    "\"\"\"Analicemos al usuario con ID:785314 \"\"\"\n",
    "df_785314 = df[(df['User_Id'] == 785314) & (df['Rating'] == 5)]\n",
    "df_785314 = df_785314.set_index('Movie_Id')\n",
    "df_785314 = df_785314.join(df_title)['Name']\n",
    "print(df_785314) #Estas son las películas que ha visto"
   ]
  },
  {
   "cell_type": "code",
   "execution_count": 12,
   "metadata": {},
   "outputs": [
    {
     "name": "stdout",
     "output_type": "stream",
     "text": [
      "        Year                                          Name  Estimate_Score\n",
      "3768  2004.0              Wonderfalls: The Complete Series        5.000000\n",
      "2101  1994.0                        The Simpsons: Season 6        5.000000\n",
      "3045  1990.0             The Simpsons: Treehouse of Horror        4.993798\n",
      "2171  1991.0                        The Simpsons: Season 3        4.937169\n",
      "1019  1989.0                        The Simpsons: Season 1        4.872105\n",
      "1551  1983.0                                   Black Adder        4.825152\n",
      "4114  1999.0                       The Simpsons: Bart Wars        4.805160\n",
      "1434  2001.0  Wallace & Gromit in Three Amazing Adventures        4.769497\n",
      "2056  2001.0            Buffy the Vampire Slayer: Season 6        4.722436\n",
      "2018  2004.0                              Samurai Champloo        4.712778\n"
     ]
    }
   ],
   "source": [
    "\"\"\"Predecir las películas que le gustaría al usuario: 785314\"\"\"\n",
    "\n",
    "user_785314 = df_title.copy()\n",
    "user_785314 = user_785314.reset_index()\n",
    "user_785314 = user_785314[~user_785314['Movie_Id'].isin(drop_movie_list)]\n",
    "\n",
    "data = Dataset.load_from_df(df[['User_Id', 'Movie_Id', 'Rating']], reader) #Traemos la base de datos completa\n",
    "\n",
    "trainset = data.build_full_trainset()\n",
    "svd.fit(trainset)\n",
    "\n",
    "user_785314['Estimate_Score'] = user_785314['Movie_Id'].apply(lambda x: svd.predict(785314, x).est)\n",
    "user_785314 = user_785314.drop('Movie_Id', axis = 1)\n",
    "user_785314 = user_785314.sort_values('Estimate_Score', ascending=False)\n",
    "print(user_785314.head(10))"
   ]
  },
  {
   "cell_type": "markdown",
   "metadata": {},
   "source": [
    "## Generando recomendaciones usando la correlación de Pearson\n",
    "\n",
    "Se usará la correlación de Pearson para medir la correlación lineal entre los ratings de todos los pares de películas."
   ]
  },
  {
   "cell_type": "code",
   "execution_count": 13,
   "metadata": {},
   "outputs": [],
   "source": [
    "def recommend(movie_title, min_count):\n",
    "    print(\"For movie ({})\".format(movie_title))\n",
    "    print(\"- Top 10 movies recommended based on Pearsons'R correlation - \")\n",
    "    i = int(df_title.index[df_title['Name'] == movie_title][0])\n",
    "    target = df_p[i]\n",
    "    similar_to_target = df_p.corrwith(target)\n",
    "    corr_target = pd.DataFrame(similar_to_target, columns = ['PearsonR'])\n",
    "    corr_target.dropna(inplace = True)\n",
    "    corr_target = corr_target.sort_values('PearsonR', ascending = False)\n",
    "    corr_target.index = corr_target.index.map(int)\n",
    "    corr_target = corr_target.join(df_title).join(df_movie_summary)[['PearsonR', 'Name', 'count', 'mean']]\n",
    "    print(corr_target[corr_target['count']>min_count][:10].to_string(index=False))"
   ]
  },
  {
   "cell_type": "code",
   "execution_count": 14,
   "metadata": {},
   "outputs": [
    {
     "name": "stdout",
     "output_type": "stream",
     "text": [
      "For movie (Finding Nemo (Widescreen))\n",
      "- Top 10 movies recommended based on Pearsons'R correlation - \n",
      " PearsonR                                          Name   count      mean\n",
      " 1.000000                     Finding Nemo (Widescreen)  140979  4.415523\n",
      " 0.325961                                       Shrek 2  153996  4.144543\n",
      " 0.320806                The Lion King: Special Edition   67575  4.195191\n",
      " 0.312034  The Land Before Time VII: Stone of Cold Fire    2083  3.711954\n",
      " 0.300824                        Pooh's Heffalump Movie    9312  3.862865\n",
      " 0.293018                     Aladdin: Platinum Edition   51856  4.182621\n",
      " 0.288898         VeggieTales: The Ballad of Little Joe    3725  3.842953\n",
      " 0.287817                   The Hunchback of Notre Dame    1883  3.482209\n",
      " 0.284445  Brother Bear (Theatrical Widescreen Version)   33708  3.746707\n",
      " 0.281412                               Lilo and Stitch   39752  3.823254\n"
     ]
    }
   ],
   "source": [
    "recommend(\"Finding Nemo (Widescreen)\", 0)"
   ]
  },
  {
   "cell_type": "code",
   "execution_count": 15,
   "metadata": {},
   "outputs": [
    {
     "name": "stdout",
     "output_type": "stream",
     "text": [
      "For movie (X2: X-Men United)\n",
      "- Top 10 movies recommended based on Pearsons'R correlation - \n",
      " PearsonR                                                   Name  count      mean\n",
      " 1.000000                                       X2: X-Men United  98720  3.932202\n",
      " 0.384550                               Batman Beyond: The Movie   2614  3.726855\n",
      " 0.375967                                         Justice League   3591  3.710944\n",
      " 0.361393                       Justice League: Justice on Trial   2961  3.718001\n",
      " 0.338025                     Batman Beyond: Return of the Joker   3704  3.604752\n",
      " 0.335256                                          Batman Begins  54922  4.236699\n",
      " 0.328229                           Batman: Mask of the Phantasm   2823  3.767977\n",
      " 0.327040  Batman: The Animated Series: Tales of the Dark Knight   2432  3.583059\n",
      " 0.316666                        Dragon Ball Z: Super Android 13   2426  3.428689\n",
      " 0.316166                               Mortal Kombat: The Movie   7633  3.165466\n"
     ]
    }
   ],
   "source": [
    "recommend(\"X2: X-Men United\", 0)"
   ]
  }
 ],
 "metadata": {
  "kernelspec": {
   "display_name": "Python 3",
   "language": "python",
   "name": "python3"
  },
  "language_info": {
   "codemirror_mode": {
    "name": "ipython",
    "version": 3
   },
   "file_extension": ".py",
   "mimetype": "text/x-python",
   "name": "python",
   "nbconvert_exporter": "python",
   "pygments_lexer": "ipython3",
   "version": "3.8.5"
  }
 },
 "nbformat": 4,
 "nbformat_minor": 4
}
