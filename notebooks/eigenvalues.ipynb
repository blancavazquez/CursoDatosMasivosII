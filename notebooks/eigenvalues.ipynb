{
 "cells": [
  {
   "cell_type": "markdown",
   "metadata": {},
   "source": [
    "## Descomposición propia de una matriz"
   ]
  },
  {
   "cell_type": "markdown",
   "metadata": {},
   "source": [
    "Una de los tipos de descomposición matricial más utilizados se llama \"descomposición propia\" que consiste en descomponer una matriz en un conjuntos de vectores propios y valores propios.\n",
    "\n",
    "- Los vectores propios (eigenvectores): son vectores unitarios en los cuales su tamaño o magnitud es igual a 1.\n",
    "- Los valores propios (eigenvalores): son coeficientes aplicados a los valores propios \n",
    "\n",
    "\n",
    "#### Importancia de la descomposición de una matriz\n",
    "- La descomposición puede ser usada para calcular los componentes principales de una matriz en el método de \"Análisis de Componentes Principales (PCA, por sus siglas en inglés)\" y que se usa para reducir la dimensionalidad de los datos.\n",
    "\n",
    "Para calcular la descomposición de una matriz A, emplearemos la función de Numpy llamada eig()."
   ]
  },
  {
   "cell_type": "code",
   "execution_count": 1,
   "metadata": {},
   "outputs": [
    {
     "name": "stdout",
     "output_type": "stream",
     "text": [
      "[[9 8 7]\n",
      " [6 5 4]\n",
      " [3 2 1]]\n"
     ]
    }
   ],
   "source": [
    "from numpy import array\n",
    "from numpy.linalg import eig\n",
    "\n",
    "#Se define la matriz\n",
    "A = array([[9,8,7],[6,5,4],[3,2,1]])\n",
    "print(A)"
   ]
  },
  {
   "cell_type": "code",
   "execution_count": 2,
   "metadata": {},
   "outputs": [
    {
     "name": "stdout",
     "output_type": "stream",
     "text": [
      "[ 1.61168440e+01 -1.11684397e+00 -5.03850873e-16]\n",
      "[[-0.8186735  -0.61232756  0.40824829]\n",
      " [-0.52532209  0.08675134 -0.81649658]\n",
      " [-0.23197069  0.78583024  0.40824829]]\n"
     ]
    }
   ],
   "source": [
    "#Calculando los valores propios y vectores propios\n",
    "valores, vectores = eig(A)\n",
    "print(valores)\n",
    "print(vectores)"
   ]
  },
  {
   "cell_type": "markdown",
   "metadata": {},
   "source": [
    "## Reconstrucción de la matriz original\n",
    "Es posible reconstruir la matriz original a partir de los vectores propios y valores propios."
   ]
  },
  {
   "cell_type": "code",
   "execution_count": 3,
   "metadata": {},
   "outputs": [],
   "source": [
    "from numpy import diag\n",
    "from numpy import dot\n",
    "from numpy.linalg import inv\n",
    "from numpy import array\n",
    "from numpy.linalg import eig"
   ]
  },
  {
   "cell_type": "code",
   "execution_count": 4,
   "metadata": {},
   "outputs": [
    {
     "name": "stdout",
     "output_type": "stream",
     "text": [
      "[[1 2 3]\n",
      " [4 5 6]\n",
      " [7 8 9]]\n",
      "[ 1.61168440e+01 -1.11684397e+00 -1.30367773e-15]\n",
      "[[-0.23197069 -0.78583024  0.40824829]\n",
      " [-0.52532209 -0.08675134 -0.81649658]\n",
      " [-0.8186735   0.61232756  0.40824829]]\n"
     ]
    }
   ],
   "source": [
    "#Se define la matriz\n",
    "A = array([[1,2,3],[4,5,6],[7,8,9]])\n",
    "print(A)\n",
    "#Calcular los valores y vectores propios\n",
    "valores, vectores = eig(A)\n",
    "print(valores)\n",
    "print(vectores)"
   ]
  },
  {
   "cell_type": "code",
   "execution_count": 5,
   "metadata": {},
   "outputs": [
    {
     "name": "stdout",
     "output_type": "stream",
     "text": [
      "[[-0.23197069 -0.78583024  0.40824829]\n",
      " [-0.52532209 -0.08675134 -0.81649658]\n",
      " [-0.8186735   0.61232756  0.40824829]]\n"
     ]
    }
   ],
   "source": [
    "#Crear una matriz a partir de los vectores propios\n",
    "m_vectores_propios = vectores\n",
    "print(m_vectores_propios)"
   ]
  },
  {
   "cell_type": "code",
   "execution_count": 6,
   "metadata": {},
   "outputs": [
    {
     "name": "stdout",
     "output_type": "stream",
     "text": [
      "[[-0.48295226 -0.59340999 -0.70386772]\n",
      " [-0.91788599 -0.24901003  0.41986593]\n",
      " [ 0.40824829 -0.81649658  0.40824829]]\n"
     ]
    }
   ],
   "source": [
    "#Crear una matriz inversa de los vectores propios\n",
    "m_inversa = inv(m_vectores_propios)\n",
    "print(m_inversa)"
   ]
  },
  {
   "cell_type": "code",
   "execution_count": 7,
   "metadata": {},
   "outputs": [
    {
     "name": "stdout",
     "output_type": "stream",
     "text": [
      "[[ 1.61168440e+01  0.00000000e+00  0.00000000e+00]\n",
      " [ 0.00000000e+00 -1.11684397e+00  0.00000000e+00]\n",
      " [ 0.00000000e+00  0.00000000e+00 -1.30367773e-15]]\n"
     ]
    }
   ],
   "source": [
    "#Crear una matriz diagonal para los valores propios\n",
    "m_diagonal = diag(valores)\n",
    "print(m_diagonal)"
   ]
  },
  {
   "cell_type": "code",
   "execution_count": 8,
   "metadata": {},
   "outputs": [
    {
     "name": "stdout",
     "output_type": "stream",
     "text": [
      "[[1. 2. 3.]\n",
      " [4. 5. 6.]\n",
      " [7. 8. 9.]]\n"
     ]
    }
   ],
   "source": [
    "#Reconstruir la matriz original, usando la función producto punto .dot() de numpy\n",
    "m_original = m_vectores_propios.dot(m_diagonal).dot(m_inversa)\n",
    "print(m_original)"
   ]
  }
 ],
 "metadata": {
  "kernelspec": {
   "display_name": "Python 3",
   "language": "python",
   "name": "python3"
  },
  "language_info": {
   "codemirror_mode": {
    "name": "ipython",
    "version": 3
   },
   "file_extension": ".py",
   "mimetype": "text/x-python",
   "name": "python",
   "nbconvert_exporter": "python",
   "pygments_lexer": "ipython3",
   "version": "3.6.9"
  }
 },
 "nbformat": 4,
 "nbformat_minor": 2
}
