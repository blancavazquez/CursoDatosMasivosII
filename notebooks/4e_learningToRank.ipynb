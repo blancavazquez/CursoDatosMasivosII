{
 "cells": [
  {
   "cell_type": "markdown",
   "metadata": {},
   "source": [
    "## Algoritmos learning to rank\n",
    "\n",
    "El objetivo de esta libreta es estudiar los algoritmos de learning to rank en sistemas de recomendación\n",
    "\n",
    "En esta libreta se usará las bibliotecas de [rankerNN2pmml](https://pypi.org/project/rankerNN2pmml/) y [LambdaRankNN](https://pypi.org/project/LambdaRankNN/)"
   ]
  },
  {
   "cell_type": "markdown",
   "metadata": {},
   "source": [
    "## RankNet"
   ]
  },
  {
   "cell_type": "code",
   "execution_count": 9,
   "metadata": {},
   "outputs": [],
   "source": [
    "import keras\n",
    "from keras import backend as K\n",
    "from keras.layers import Activation, Dense, Input, Subtract\n",
    "from keras.models import Model\n",
    "import random\n",
    "import numpy as np\n",
    "import pandas as pd\n",
    "from sklearn.preprocessing import StandardScaler, MinMaxScaler\n",
    "from rankerNN2pmml import rankerNN2pmml\n",
    "import warnings\n",
    "warnings.filterwarnings('ignore')"
   ]
  },
  {
   "cell_type": "code",
   "execution_count": 2,
   "metadata": {},
   "outputs": [
    {
     "name": "stdout",
     "output_type": "stream",
     "text": [
      "Tamaño de X1 (50, 3)\n",
      "Tamaño de X2 (50, 3)\n"
     ]
    }
   ],
   "source": [
    "\"\"\"Generación de datos dummies\"\"\"\n",
    "INPUT_DIM = 3\n",
    "\n",
    "#se definen los objetos a comparar\n",
    "X1 = 2 * np.random.uniform(size=(50, INPUT_DIM)) #Objeto 1\n",
    "X2 = np.random.uniform(size=(50, INPUT_DIM)) #Objeto 2\n",
    "Y = [random.randint(0,1) for _ in range(50)]\n",
    "\n",
    "print(\"Tamaño de X1\",X1.shape)\n",
    "print(\"Tamaño de X2\",X2.shape)"
   ]
  },
  {
   "cell_type": "code",
   "execution_count": 3,
   "metadata": {},
   "outputs": [],
   "source": [
    "def RankNet_model(input_shape):\n",
    "    \"\"\"Construcción de la red neuronal\"\"\"\n",
    "    h1 = Dense(4, activation=\"relu\", name='Relu_layer1')\n",
    "    h2 = Dense(2, activation='relu', name='Relu_layer2')\n",
    "    h3 = Dense(1, activation='linear', name='Identity_layer')\n",
    "    # Objeto 1 a comparar\n",
    "    input1 = Input(shape=(input_shape,), name='Input_layer1')\n",
    "    x1 = h1(input1)\n",
    "    x1 = h2(x1)\n",
    "    x1 = h3(x1)\n",
    "    # Objeto 2 a comparar\n",
    "    input2 = Input(shape=(input_shape,), name='Input_layer2')\n",
    "    x2 = h1(input2)\n",
    "    x2 = h2(x2)\n",
    "    x2 = h3(x2)\n",
    "    # Capa de comparación\n",
    "    subtracted = Subtract(name='Subtract_layer')([x1, x2])\n",
    "    # Función de activación\n",
    "    out = Activation('sigmoid', name='Activation_layer')(subtracted)\n",
    "    # Modelo\n",
    "    model = Model(inputs=[input1, input2], outputs=out)\n",
    "    return model"
   ]
  },
  {
   "cell_type": "code",
   "execution_count": 4,
   "metadata": {},
   "outputs": [
    {
     "name": "stdout",
     "output_type": "stream",
     "text": [
      "Model: \"model\"\n",
      "__________________________________________________________________________________________________\n",
      "Layer (type)                    Output Shape         Param #     Connected to                     \n",
      "==================================================================================================\n",
      "Input_layer1 (InputLayer)       [(None, 3)]          0                                            \n",
      "__________________________________________________________________________________________________\n",
      "Input_layer2 (InputLayer)       [(None, 3)]          0                                            \n",
      "__________________________________________________________________________________________________\n",
      "Relu_layer1 (Dense)             (None, 4)            16          Input_layer1[0][0]               \n",
      "                                                                 Input_layer2[0][0]               \n",
      "__________________________________________________________________________________________________\n",
      "Relu_layer2 (Dense)             (None, 2)            10          Relu_layer1[0][0]                \n",
      "                                                                 Relu_layer1[1][0]                \n",
      "__________________________________________________________________________________________________\n",
      "Identity_layer (Dense)          (None, 1)            3           Relu_layer2[0][0]                \n",
      "                                                                 Relu_layer2[1][0]                \n",
      "__________________________________________________________________________________________________\n",
      "Subtract_layer (Subtract)       (None, 1)            0           Identity_layer[0][0]             \n",
      "                                                                 Identity_layer[1][0]             \n",
      "__________________________________________________________________________________________________\n",
      "Activation_layer (Activation)   (None, 1)            0           Subtract_layer[0][0]             \n",
      "==================================================================================================\n",
      "Total params: 29\n",
      "Trainable params: 29\n",
      "Non-trainable params: 0\n",
      "__________________________________________________________________________________________________\n",
      "None\n"
     ]
    }
   ],
   "source": [
    "model = RankNet_model(INPUT_DIM)\n",
    "print(model.summary())"
   ]
  },
  {
   "cell_type": "code",
   "execution_count": 5,
   "metadata": {},
   "outputs": [],
   "source": [
    "# Transformación de los datos\n",
    "mms = MinMaxScaler()\n",
    "mms.fit(np.concatenate((X1, X2), axis=0))\n",
    "X1 = mms.transform(X1)\n",
    "X2 = mms.transform(X2)\n",
    "Y = np.asarray(Y)"
   ]
  },
  {
   "cell_type": "code",
   "execution_count": 6,
   "metadata": {},
   "outputs": [
    {
     "name": "stdout",
     "output_type": "stream",
     "text": [
      "Epoch 1/5\n",
      "5/5 [==============================] - 0s 5ms/step - loss: 0.6931\n",
      "Epoch 2/5\n",
      "5/5 [==============================] - 0s 6ms/step - loss: 0.6931\n",
      "Epoch 3/5\n",
      "5/5 [==============================] - 0s 2ms/step - loss: 0.6931\n",
      "Epoch 4/5\n",
      "5/5 [==============================] - 0s 7ms/step - loss: 0.6931\n",
      "Epoch 5/5\n",
      "5/5 [==============================] - 0s 3ms/step - loss: 0.6931\n"
     ]
    },
    {
     "data": {
      "text/plain": [
       "<tensorflow.python.keras.callbacks.History at 0x7fef444355e0>"
      ]
     },
     "execution_count": 6,
     "metadata": {},
     "output_type": "execute_result"
    }
   ],
   "source": [
    "# Entrenamiento del modelo\n",
    "model.compile(optimizer=\"adam\", loss=\"binary_crossentropy\")\n",
    "model.fit([X1,X2], Y, batch_size=10, epochs=5, verbose=1)"
   ]
  },
  {
   "cell_type": "code",
   "execution_count": 7,
   "metadata": {},
   "outputs": [
    {
     "name": "stdout",
     "output_type": "stream",
     "text": [
      "Generation of PMML successful.\n"
     ]
    }
   ],
   "source": [
    "params = {\n",
    "    'feature_names': ['Feature1', 'Feature2', 'Feature3'],\n",
    "    'target_name': 'score',\n",
    "}\n",
    "rankerNN2pmml(estimator=model, transformer=mms, file='model.xml', **params)\n",
    "\n",
    "#Salida del modelo\n",
    "get_ranker_output = K.function([model.layers[0].input], [model.layers[-3].get_output_at(0)])\n",
    "Ranker_output = get_ranker_output([X1])[0]\n",
    "\n",
    "df_input = pd.DataFrame(X1, columns = ['Feature1', 'Feature2', 'Feature3'])\n",
    "df_input.to_csv('Model_input.csv', index=False) #se guardan las entradas dummies\n",
    "df_output = pd.DataFrame(Ranker_output, columns = ['score'])\n",
    "df_output.to_csv('Model_output_example.csv', index=False) #se guardan las salidas"
   ]
  },
  {
   "cell_type": "markdown",
   "metadata": {},
   "source": [
    "## LambdaRank"
   ]
  },
  {
   "cell_type": "code",
   "execution_count": 8,
   "metadata": {},
   "outputs": [
    {
     "name": "stdout",
     "output_type": "stream",
     "text": [
      "Epoch 1/5\n",
      "1/1 [==============================] - 0s 2ms/step - loss: 0.2149\n",
      "Epoch 2/5\n",
      "1/1 [==============================] - 0s 1ms/step - loss: 0.2139\n",
      "Epoch 3/5\n",
      "1/1 [==============================] - 0s 1ms/step - loss: 0.2130\n",
      "Epoch 4/5\n",
      "1/1 [==============================] - 0s 905us/step - loss: 0.2123\n",
      "Epoch 5/5\n",
      "1/1 [==============================] - 0s 978us/step - loss: 0.2117\n",
      "ndcg: 0.75\n",
      "ndcg@2: 0.5\n"
     ]
    }
   ],
   "source": [
    "import numpy as np\n",
    "from LambdaRankNN import LambdaRankNN\n",
    "\n",
    "#Generación de datos dummies\n",
    "X = np.array([[0.2, 0.3, 0.4],\n",
    "              [0.1, 0.7, 0.4],\n",
    "              [0.3, 0.4, 0.1],\n",
    "              [0.8, 0.4, 0.3],\n",
    "              [0.9, 0.35, 0.25]])\n",
    "y = np.array([0, 1, 0, 0, 2])\n",
    "qid = np.array([1, 1, 1, 2, 2])\n",
    "\n",
    "#Entrenamiento del modelo\n",
    "ranker = LambdaRankNN(input_size=X.shape[1], hidden_layer_sizes=(16,8,), activation=('relu', 'relu',), solver='adam')\n",
    "ranker.fit(X, y, qid, epochs=5)\n",
    "y_pred = ranker.predict(X)\n",
    "ranker.evaluate(X, y, qid, eval_at=2)"
   ]
  }
 ],
 "metadata": {
  "kernelspec": {
   "display_name": "Python 3",
   "language": "python",
   "name": "python3"
  },
  "language_info": {
   "codemirror_mode": {
    "name": "ipython",
    "version": 3
   },
   "file_extension": ".py",
   "mimetype": "text/x-python",
   "name": "python",
   "nbconvert_exporter": "python",
   "pygments_lexer": "ipython3",
   "version": "3.8.5"
  }
 },
 "nbformat": 4,
 "nbformat_minor": 4
}
