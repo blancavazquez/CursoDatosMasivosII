{
  "nbformat": 4,
  "nbformat_minor": 0,
  "metadata": {
    "colab": {
      "name": "2b_apriori_paso_a_paso.ipynb",
      "provenance": [],
      "collapsed_sections": [],
      "include_colab_link": true
    },
    "kernelspec": {
      "name": "python3",
      "display_name": "Python 3"
    }
  },
  "cells": [
    {
      "cell_type": "markdown",
      "metadata": {
        "id": "view-in-github",
        "colab_type": "text"
      },
      "source": [
        "<a href=\"https://colab.research.google.com/github/blancavazquez/CursoDatosMasivosII/blob/master/notebooks/2b_apriori_paso_a_paso.ipynb\" target=\"_parent\"><img src=\"https://colab.research.google.com/assets/colab-badge.svg\" alt=\"Open In Colab\"/></a>"
      ]
    },
    {
      "cell_type": "markdown",
      "metadata": {
        "id": "TBrPVh-8gp7E"
      },
      "source": [
        "# **Algoritmo apriori**\n",
        "\n",
        "En esta libreta exploraremos el modelo mercado canasta basado en el algoritmo apriori usando una base de datos de transacciones de una tienda de productos comestibles.\n"
      ]
    },
    {
      "cell_type": "code",
      "metadata": {
        "id": "mjohW0TfimPk"
      },
      "source": [
        "import functools \n",
        "import itertools\n",
        "import operator \n",
        "import numpy as np\n",
        "import pandas as pd\n",
        "from math import sqrt\n",
        "from collections import Counter\n",
        "import matplotlib.pyplot as plt"
      ],
      "execution_count": 1,
      "outputs": []
    },
    {
      "cell_type": "markdown",
      "metadata": {
        "id": "1CQkff75ZCZ_"
      },
      "source": [
        "## Carga de datos\n",
        "Primero leemos la base de datos [Online Retail II](https://archive.ics.uci.edu/ml/datasets/Online+Retail+II) de [UCI Machine Learning Repository](https://archive.ics.uci.edu/ml/index.php) y mostramos algunos registros."
      ]
    },
    {
      "cell_type": "code",
      "metadata": {
        "id": "rR80_LXE04nq",
        "colab": {
          "base_uri": "https://localhost:8080/",
          "height": 203
        },
        "outputId": "1bc82a9d-c5d5-47e6-9dd8-c8af5384410b"
      },
      "source": [
        "tdb_nan = pd.read_excel('https://archive.ics.uci.edu/ml/machine-learning-databases/00502/online_retail_II.xlsx')\n",
        "tdb_nan.head(5)"
      ],
      "execution_count": 2,
      "outputs": [
        {
          "output_type": "execute_result",
          "data": {
            "text/html": [
              "<div>\n",
              "<style scoped>\n",
              "    .dataframe tbody tr th:only-of-type {\n",
              "        vertical-align: middle;\n",
              "    }\n",
              "\n",
              "    .dataframe tbody tr th {\n",
              "        vertical-align: top;\n",
              "    }\n",
              "\n",
              "    .dataframe thead th {\n",
              "        text-align: right;\n",
              "    }\n",
              "</style>\n",
              "<table border=\"1\" class=\"dataframe\">\n",
              "  <thead>\n",
              "    <tr style=\"text-align: right;\">\n",
              "      <th></th>\n",
              "      <th>Invoice</th>\n",
              "      <th>StockCode</th>\n",
              "      <th>Description</th>\n",
              "      <th>Quantity</th>\n",
              "      <th>InvoiceDate</th>\n",
              "      <th>Price</th>\n",
              "      <th>Customer ID</th>\n",
              "      <th>Country</th>\n",
              "    </tr>\n",
              "  </thead>\n",
              "  <tbody>\n",
              "    <tr>\n",
              "      <th>0</th>\n",
              "      <td>489434</td>\n",
              "      <td>85048</td>\n",
              "      <td>15CM CHRISTMAS GLASS BALL 20 LIGHTS</td>\n",
              "      <td>12</td>\n",
              "      <td>2009-12-01 07:45:00</td>\n",
              "      <td>6.95</td>\n",
              "      <td>13085.0</td>\n",
              "      <td>United Kingdom</td>\n",
              "    </tr>\n",
              "    <tr>\n",
              "      <th>1</th>\n",
              "      <td>489434</td>\n",
              "      <td>79323P</td>\n",
              "      <td>PINK CHERRY LIGHTS</td>\n",
              "      <td>12</td>\n",
              "      <td>2009-12-01 07:45:00</td>\n",
              "      <td>6.75</td>\n",
              "      <td>13085.0</td>\n",
              "      <td>United Kingdom</td>\n",
              "    </tr>\n",
              "    <tr>\n",
              "      <th>2</th>\n",
              "      <td>489434</td>\n",
              "      <td>79323W</td>\n",
              "      <td>WHITE CHERRY LIGHTS</td>\n",
              "      <td>12</td>\n",
              "      <td>2009-12-01 07:45:00</td>\n",
              "      <td>6.75</td>\n",
              "      <td>13085.0</td>\n",
              "      <td>United Kingdom</td>\n",
              "    </tr>\n",
              "    <tr>\n",
              "      <th>3</th>\n",
              "      <td>489434</td>\n",
              "      <td>22041</td>\n",
              "      <td>RECORD FRAME 7\" SINGLE SIZE</td>\n",
              "      <td>48</td>\n",
              "      <td>2009-12-01 07:45:00</td>\n",
              "      <td>2.10</td>\n",
              "      <td>13085.0</td>\n",
              "      <td>United Kingdom</td>\n",
              "    </tr>\n",
              "    <tr>\n",
              "      <th>4</th>\n",
              "      <td>489434</td>\n",
              "      <td>21232</td>\n",
              "      <td>STRAWBERRY CERAMIC TRINKET BOX</td>\n",
              "      <td>24</td>\n",
              "      <td>2009-12-01 07:45:00</td>\n",
              "      <td>1.25</td>\n",
              "      <td>13085.0</td>\n",
              "      <td>United Kingdom</td>\n",
              "    </tr>\n",
              "  </tbody>\n",
              "</table>\n",
              "</div>"
            ],
            "text/plain": [
              "  Invoice StockCode  ... Customer ID         Country\n",
              "0  489434     85048  ...     13085.0  United Kingdom\n",
              "1  489434    79323P  ...     13085.0  United Kingdom\n",
              "2  489434    79323W  ...     13085.0  United Kingdom\n",
              "3  489434     22041  ...     13085.0  United Kingdom\n",
              "4  489434     21232  ...     13085.0  United Kingdom\n",
              "\n",
              "[5 rows x 8 columns]"
            ]
          },
          "metadata": {
            "tags": []
          },
          "execution_count": 2
        }
      ]
    },
    {
      "cell_type": "markdown",
      "metadata": {
        "id": "taaL6h6CUi7q"
      },
      "source": [
        "Eliminamos los registros inválidos y revisamos el número de registros.\n",
        "\n"
      ]
    },
    {
      "cell_type": "code",
      "metadata": {
        "id": "Zbi_JFBS1fmn",
        "colab": {
          "base_uri": "https://localhost:8080/"
        },
        "outputId": "f7357f2e-a1f4-421a-82b3-4cbdb39ff12c"
      },
      "source": [
        "print(tdb_nan.shape)\n",
        "tdb = tdb_nan.dropna(axis=0)\n",
        "print(tdb.shape)"
      ],
      "execution_count": 3,
      "outputs": [
        {
          "output_type": "stream",
          "text": [
            "(525461, 8)\n",
            "(417534, 8)\n"
          ],
          "name": "stdout"
        }
      ]
    },
    {
      "cell_type": "markdown",
      "metadata": {
        "id": "BVlSQkhYZ1vH"
      },
      "source": [
        "La base de datos cuenta con un registro por cada producto comprado (campo `Description`) y una factura asociada (`Invoice`), ademas de otros campos. Para nuestro ejercicio, vamos a utilizar únicamente `Invoice` y `Description`."
      ]
    },
    {
      "cell_type": "code",
      "metadata": {
        "id": "-DtmA94Mm-MR",
        "colab": {
          "base_uri": "https://localhost:8080/",
          "height": 203
        },
        "outputId": "05257e8f-195f-4e8a-a197-d7e7719a2978"
      },
      "source": [
        "tdb = tdb[['Invoice', 'Description']]\n",
        "tdb.head(5)"
      ],
      "execution_count": 4,
      "outputs": [
        {
          "output_type": "execute_result",
          "data": {
            "text/html": [
              "<div>\n",
              "<style scoped>\n",
              "    .dataframe tbody tr th:only-of-type {\n",
              "        vertical-align: middle;\n",
              "    }\n",
              "\n",
              "    .dataframe tbody tr th {\n",
              "        vertical-align: top;\n",
              "    }\n",
              "\n",
              "    .dataframe thead th {\n",
              "        text-align: right;\n",
              "    }\n",
              "</style>\n",
              "<table border=\"1\" class=\"dataframe\">\n",
              "  <thead>\n",
              "    <tr style=\"text-align: right;\">\n",
              "      <th></th>\n",
              "      <th>Invoice</th>\n",
              "      <th>Description</th>\n",
              "    </tr>\n",
              "  </thead>\n",
              "  <tbody>\n",
              "    <tr>\n",
              "      <th>0</th>\n",
              "      <td>489434</td>\n",
              "      <td>15CM CHRISTMAS GLASS BALL 20 LIGHTS</td>\n",
              "    </tr>\n",
              "    <tr>\n",
              "      <th>1</th>\n",
              "      <td>489434</td>\n",
              "      <td>PINK CHERRY LIGHTS</td>\n",
              "    </tr>\n",
              "    <tr>\n",
              "      <th>2</th>\n",
              "      <td>489434</td>\n",
              "      <td>WHITE CHERRY LIGHTS</td>\n",
              "    </tr>\n",
              "    <tr>\n",
              "      <th>3</th>\n",
              "      <td>489434</td>\n",
              "      <td>RECORD FRAME 7\" SINGLE SIZE</td>\n",
              "    </tr>\n",
              "    <tr>\n",
              "      <th>4</th>\n",
              "      <td>489434</td>\n",
              "      <td>STRAWBERRY CERAMIC TRINKET BOX</td>\n",
              "    </tr>\n",
              "  </tbody>\n",
              "</table>\n",
              "</div>"
            ],
            "text/plain": [
              "  Invoice                          Description\n",
              "0  489434  15CM CHRISTMAS GLASS BALL 20 LIGHTS\n",
              "1  489434                   PINK CHERRY LIGHTS\n",
              "2  489434                  WHITE CHERRY LIGHTS\n",
              "3  489434         RECORD FRAME 7\" SINGLE SIZE \n",
              "4  489434       STRAWBERRY CERAMIC TRINKET BOX"
            ]
          },
          "metadata": {
            "tags": []
          },
          "execution_count": 4
        }
      ]
    },
    {
      "cell_type": "markdown",
      "metadata": {
        "id": "aeHyXuKKUmLb"
      },
      "source": [
        "Para encontrar elementos frecuentes, es necesario agrupar los productos comprados en una misma transacción usando el número de factura `Invoice`."
      ]
    },
    {
      "cell_type": "code",
      "metadata": {
        "id": "ZdAzmLg3sshV",
        "colab": {
          "base_uri": "https://localhost:8080/",
          "height": 203
        },
        "outputId": "7465f740-28c4-4898-fd7c-cb3054d20dc5"
      },
      "source": [
        "tdb = tdb.groupby(['Invoice'])['Description'].apply(list).reset_index(name='Description')\n",
        "tdb.head(5)"
      ],
      "execution_count": 5,
      "outputs": [
        {
          "output_type": "execute_result",
          "data": {
            "text/html": [
              "<div>\n",
              "<style scoped>\n",
              "    .dataframe tbody tr th:only-of-type {\n",
              "        vertical-align: middle;\n",
              "    }\n",
              "\n",
              "    .dataframe tbody tr th {\n",
              "        vertical-align: top;\n",
              "    }\n",
              "\n",
              "    .dataframe thead th {\n",
              "        text-align: right;\n",
              "    }\n",
              "</style>\n",
              "<table border=\"1\" class=\"dataframe\">\n",
              "  <thead>\n",
              "    <tr style=\"text-align: right;\">\n",
              "      <th></th>\n",
              "      <th>Invoice</th>\n",
              "      <th>Description</th>\n",
              "    </tr>\n",
              "  </thead>\n",
              "  <tbody>\n",
              "    <tr>\n",
              "      <th>0</th>\n",
              "      <td>489434</td>\n",
              "      <td>[15CM CHRISTMAS GLASS BALL 20 LIGHTS, PINK CHE...</td>\n",
              "    </tr>\n",
              "    <tr>\n",
              "      <th>1</th>\n",
              "      <td>489435</td>\n",
              "      <td>[CAT BOWL , DOG BOWL , CHASING BALL DESIGN, HE...</td>\n",
              "    </tr>\n",
              "    <tr>\n",
              "      <th>2</th>\n",
              "      <td>489436</td>\n",
              "      <td>[DOOR MAT BLACK FLOCK , LOVE BUILDING BLOCK WO...</td>\n",
              "    </tr>\n",
              "    <tr>\n",
              "      <th>3</th>\n",
              "      <td>489437</td>\n",
              "      <td>[CHRISTMAS CRAFT HEART DECORATIONS, CHRISTMAS ...</td>\n",
              "    </tr>\n",
              "    <tr>\n",
              "      <th>4</th>\n",
              "      <td>489438</td>\n",
              "      <td>[DINOSAURS  WRITING SET , SET OF MEADOW  FLOWE...</td>\n",
              "    </tr>\n",
              "  </tbody>\n",
              "</table>\n",
              "</div>"
            ],
            "text/plain": [
              "  Invoice                                        Description\n",
              "0  489434  [15CM CHRISTMAS GLASS BALL 20 LIGHTS, PINK CHE...\n",
              "1  489435  [CAT BOWL , DOG BOWL , CHASING BALL DESIGN, HE...\n",
              "2  489436  [DOOR MAT BLACK FLOCK , LOVE BUILDING BLOCK WO...\n",
              "3  489437  [CHRISTMAS CRAFT HEART DECORATIONS, CHRISTMAS ...\n",
              "4  489438  [DINOSAURS  WRITING SET , SET OF MEADOW  FLOWE..."
            ]
          },
          "metadata": {
            "tags": []
          },
          "execution_count": 5
        }
      ]
    },
    {
      "cell_type": "markdown",
      "metadata": {
        "id": "4QqG44Pee721"
      },
      "source": [
        "Revisamos el número de transacciones totales en la base de datos."
      ]
    },
    {
      "cell_type": "code",
      "metadata": {
        "colab": {
          "base_uri": "https://localhost:8080/"
        },
        "id": "3bdCcf598ID7",
        "outputId": "442445f0-eebc-46e1-816d-f92453e055d1"
      },
      "source": [
        "print(tdb.shape)"
      ],
      "execution_count": 6,
      "outputs": [
        {
          "output_type": "stream",
          "text": [
            "(23587, 2)\n"
          ],
          "name": "stdout"
        }
      ]
    },
    {
      "cell_type": "markdown",
      "metadata": {
        "id": "Ttp4f0pOb-Ts"
      },
      "source": [
        "## Búsqueda de elementos frecuentes\n",
        "Definimos el soporte mínimo y el número de transacciones mínimas de los conjuntos frecuentes que vamos a buscar"
      ]
    },
    {
      "cell_type": "code",
      "metadata": {
        "id": "s-FQcb9icRtT",
        "colab": {
          "base_uri": "https://localhost:8080/"
        },
        "outputId": "947b2d37-f0a0-47d0-a7d4-e8daf01135d4"
      },
      "source": [
        "minsup = 0.01\n",
        "minoc = minsup * len(tdb)\n",
        "d = len(set(e for t in tdb['Description'] for e in t))\n",
        "n = len(tdb)\n",
        "\n",
        "print('Número de elementos únicos: {0}\\nNúmero de transacciones: {1}'.format(d, n))\n",
        "print('Soporte mínimo: {0}\\nNúmero mínimo de transacciones: {1}'.format(minsup, minoc))"
      ],
      "execution_count": 7,
      "outputs": [
        {
          "output_type": "stream",
          "text": [
            "Número de elementos únicos: 4459\n",
            "Número de transacciones: 23587\n",
            "Soporte mínimo: 0.01\n",
            "Número mínimo de transacciones: 235.87\n"
          ],
          "name": "stdout"
        }
      ]
    },
    {
      "cell_type": "markdown",
      "metadata": {
        "id": "er1j2UpdcHjb"
      },
      "source": [
        "Empezamos buscando elementos únicos que cumplan la condición de soporte mínimo"
      ]
    },
    {
      "cell_type": "code",
      "metadata": {
        "id": "cJ4gqJf1cIIS"
      },
      "source": [
        "cont_ef = Counter([e for t in tdb['Description'] for e in t])\n",
        "ef = [c[0] for c in cont_ef.items() if c[1] >= minoc]\n",
        "sop_ef = [c[1] for c in cont_ef.items() if c[1] >= minoc]"
      ],
      "execution_count": 8,
      "outputs": []
    },
    {
      "cell_type": "markdown",
      "metadata": {
        "id": "wLyeUerydhHc"
      },
      "source": [
        "Generamos una función para imprimir los conjuntos de elementos frecuentes y el número de transacciones en las que ocurren"
      ]
    },
    {
      "cell_type": "code",
      "metadata": {
        "id": "74THIVkldg1j"
      },
      "source": [
        "def imprime_cf(cf, sop_cf):\n",
        "  orden_cf = np.argsort(sop_cf)[::-1]\n",
        "  texto_cf = [str(i+1)+ ' -- [' + str(sop_cf[j])+'] ' + str(cf[j]) \n",
        "              for i,j in enumerate(orden_cf)]\n",
        "  print('\\n'.join(texto_cf))"
      ],
      "execution_count": 9,
      "outputs": []
    },
    {
      "cell_type": "markdown",
      "metadata": {
        "id": "5ZyhqZrLu2Lc"
      },
      "source": [
        "Imprimimos los elementos frecuentes encontrados"
      ]
    },
    {
      "cell_type": "code",
      "metadata": {
        "id": "PBq6aFfau507",
        "colab": {
          "base_uri": "https://localhost:8080/"
        },
        "outputId": "7fdedc19-8c63-456a-95e7-d14a816c2a5c"
      },
      "source": [
        "imprime_cf(ef, sop_ef)"
      ],
      "execution_count": 10,
      "outputs": [
        {
          "output_type": "stream",
          "text": [
            "1 -- [3245] WHITE HANGING HEART T-LIGHT HOLDER\n",
            "2 -- [1872] REGENCY CAKESTAND 3 TIER\n",
            "3 -- [1536] STRAWBERRY CERAMIC TRINKET BOX\n",
            "4 -- [1376] ASSORTED COLOUR BIRD ORNAMENT\n",
            "5 -- [1229] HOME BUILDING BLOCK WORD\n",
            "6 -- [1214] PACK OF 72 RETRO SPOT CAKE CASES\n",
            "7 -- [1195] 60 TEATIME FAIRY CAKE CASES\n",
            "8 -- [1195] REX CASH+CARRY JUMBO SHOPPER\n",
            "9 -- [1114] JUMBO BAG RED RETROSPOT\n",
            "10 -- [1112] LUNCH BAG RED SPOTTY\n",
            "11 -- [1082] BAKING SET 9 PIECE RETROSPOT \n",
            "12 -- [1054] RED HANGING HEART T-LIGHT HOLDER\n",
            "13 -- [1051] HEART OF WICKER LARGE\n",
            "14 -- [1050] WOODEN FRAME ANTIQUE WHITE \n",
            "15 -- [1035] LUNCH BAG  BLACK SKULL.\n",
            "16 -- [1000] LOVE BUILDING BLOCK WORD\n",
            "17 -- [999] JUMBO STORAGE BAG SUKI\n",
            "18 -- [996] LUNCH BAG SUKI  DESIGN \n",
            "19 -- [966] PACK OF 60 PINK PAISLEY CAKE CASES\n",
            "20 -- [954] JUMBO SHOPPER VINTAGE RED PAISLEY\n",
            "21 -- [940] LUNCH BAG SPACEBOY DESIGN \n",
            "22 -- [923] HEART OF WICKER SMALL\n",
            "23 -- [903] JUMBO BAG STRAWBERRY\n",
            "24 -- [902] SWEETHEART CERAMIC TRINKET BOX\n",
            "25 -- [902] SCOTTIE DOG HOT WATER BOTTLE\n",
            "26 -- [894] LUNCH BAG CARS BLUE\n",
            "27 -- [872] HOT WATER BOTTLE TEA AND SYMPATHY\n",
            "28 -- [854] SET/5 RED SPOTTY LID GLASS BOWLS\n",
            "29 -- [851] WOODEN PICTURE FRAME WHITE FINISH\n",
            "30 -- [845] JUMBO  BAG BAROQUE BLACK WHITE\n",
            "31 -- [839] PAPER CHAIN KIT 50'S CHRISTMAS \n",
            "32 -- [835] LUNCH BAG WOODLAND\n",
            "33 -- [833] ZINC METAL HEART DECORATION\n",
            "34 -- [830] CHOCOLATE HOT WATER BOTTLE\n",
            "35 -- [828] VINTAGE SNAP CARDS\n",
            "36 -- [822] POSTAGE\n",
            "37 -- [805] FELTCRAFT 6 FLOWER FRIENDS\n",
            "38 -- [803] SET/20 RED SPOTTY PAPER NAPKINS \n",
            "39 -- [772] LUNCH BAG PINK RETROSPOT\n",
            "40 -- [771] GIN + TONIC DIET METAL SIGN\n",
            "41 -- [764] HANGING HEART ZINC T-LIGHT HOLDER\n",
            "42 -- [762] VINTAGE UNION JACK BUNTING\n",
            "43 -- [759] PLEASE ONE PERSON METAL SIGN\n",
            "44 -- [750] HAND OVER THE CHOCOLATE   SIGN \n",
            "45 -- [742] 72 SWEETHEART FAIRY CAKE CASES\n",
            "46 -- [741] SMALL POPCORN HOLDER\n",
            "47 -- [739] PINK CREAM FELT CRAFT TRINKET BOX \n",
            "48 -- [736] JUMBO BAG PINK WITH WHITE SPOTS\n",
            "49 -- [733] RETRO SPOT TEA SET CERAMIC 11 PC \n",
            "50 -- [732] PACK OF 6 BIRDY GIFT TAGS\n",
            "51 -- [732] RED WOOLLY HOTTIE WHITE HEART.\n",
            "52 -- [728] NATURAL SLATE HEART CHALKBOARD \n",
            "53 -- [728] PARTY BUNTING\n",
            "54 -- [720] ANTIQUE SILVER TEA GLASS ETCHED\n",
            "55 -- [714] WOOD S/3 CABINET ANT WHITE FINISH\n",
            "56 -- [709] CREAM HEART CARD HOLDER\n",
            "57 -- [705] PACK OF 72 SKULL CAKE CASES\n",
            "58 -- [699] VICTORIAN GLASS HANGING T-LIGHT\n",
            "59 -- [697] 6 RIBBONS RUSTIC CHARM\n",
            "60 -- [679] FELTCRAFT BUTTERFLY HEARTS\n",
            "61 -- [674] JUMBO BAG SCANDINAVIAN PAISLEY\n",
            "62 -- [671] RED RETROSPOT CAKE STAND\n",
            "63 -- [664] COOK WITH WINE METAL SIGN \n",
            "64 -- [660] JUMBO BAG PINK VINTAGE PAISLEY\n",
            "65 -- [650] Manual\n",
            "66 -- [647] PLASTERS IN TIN CIRCUS PARADE \n",
            "67 -- [646] PLASTERS IN TIN SPACEBOY\n",
            "68 -- [646] DOOR MAT UNION FLAG\n",
            "69 -- [641] PACK OF 60 DINOSAUR CAKE CASES\n",
            "70 -- [639] WOOD 2 DRAWER CABINET WHITE FINISH\n",
            "71 -- [637] RECYCLING BAG RETROSPOT \n",
            "72 -- [623] VINTAGE HEADS AND TAILS CARD GAME \n",
            "73 -- [623] PAPER CHAIN KIT VINTAGE CHRISTMAS\n",
            "74 -- [622] PAPER BUNTING RETRO SPOTS\n",
            "75 -- [619] COLOUR GLASS T-LIGHT HOLDER HANGING\n",
            "76 -- [613] NO SINGING METAL SIGN\n",
            "77 -- [613] HAND WARMER OWL DESIGN\n",
            "78 -- [611] RED SPOTTY CHARLOTTE BAG\n",
            "79 -- [608] GRAND CHOCOLATECANDLE\n",
            "80 -- [597] RED GINGHAM ROSE JEWELLERY BOX\n",
            "81 -- [595] PINK BLUE FELT CRAFT TRINKET BOX\n",
            "82 -- [593] HAND WARMER SCOTTY DOG DESIGN\n",
            "83 -- [593] ROUND SNACK BOXES SET OF4 WOODLAND \n",
            "84 -- [580] BATHROOM METAL SIGN\n",
            "85 -- [578] PLASTERS IN TIN VINTAGE PAISLEY \n",
            "86 -- [576] RED TOADSTOOL LED NIGHT LIGHT\n",
            "87 -- [573] ROUND SNACK BOXES SET OF 4 FRUITS \n",
            "88 -- [565] PLASTERS IN TIN WOODLAND ANIMALS\n",
            "89 -- [564] HANGING HEART JAR T-LIGHT HOLDER\n",
            "90 -- [563] JUMBO STORAGE BAG SKULLS\n",
            "91 -- [561] HAND WARMER BIRD DESIGN\n",
            "92 -- [561] WOODLAND CHARLOTTE BAG\n",
            "93 -- [559] LADIES & GENTLEMEN METAL SIGN\n",
            "94 -- [554] EDWARDIAN PARASOL BLACK\n",
            "95 -- [544] HANGING JAM JAR T-LIGHT HOLDER\n",
            "96 -- [542] JUMBO BAG OWLS\n",
            "97 -- [542] RIBBON REEL STRIPES DESIGN \n",
            "98 -- [539] PACK OF 60 SPACEBOY CAKE CASES\n",
            "99 -- [534] BAKING SET SPACEBOY DESIGN\n",
            "100 -- [529] POTTING SHED TEA MUG\n",
            "101 -- [528] STRAWBERRY CHARLOTTE BAG\n",
            "102 -- [526] CREAM CUPID HEARTS COAT HANGER\n",
            "103 -- [525] PLASTERS IN TIN SKULLS\n",
            "104 -- [521] JUMBO BAG SPACEBOY DESIGN\n",
            "105 -- [518] FAWN BLUE HOT WATER BOTTLE\n",
            "106 -- [517] RECIPE BOX PANTRY YELLOW DESIGN\n",
            "107 -- [514] KNITTED UNION FLAG HOT WATER BOTTLE\n",
            "108 -- [514] HEART FILIGREE DOVE  SMALL\n",
            "109 -- [512] SINGLE HEART ZINC T-LIGHT HOLDER\n",
            "110 -- [511] EDWARDIAN PARASOL NATURAL\n",
            "111 -- [510] HEART IVORY TRELLIS LARGE\n",
            "112 -- [508] POTTERING IN THE SHED METAL SIGN\n",
            "113 -- [502] PACK 20 ENGLISH ROSE PAPER NAPKINS\n",
            "114 -- [502] PAPER CHAIN KIT RETRO SPOT\n",
            "115 -- [501] COLOUR GLASS. STAR T-LIGHT HOLDER\n",
            "116 -- [498] RETRO SPOT LARGE MILK JUG\n",
            "117 -- [490] VINTAGE UNION JACK CUSHION COVER\n",
            "118 -- [483] IVORY KITCHEN SCALES\n",
            "119 -- [482] WOOD BLACK BOARD ANT WHITE FINISH\n",
            "120 -- [481] HAND WARMER UNION JACK\n",
            "121 -- [481] CERAMIC STRAWBERRY CAKE MONEY BANK\n",
            "122 -- [479] TEA TIME CAKE STAND IN GIFT BOX\n",
            "123 -- [479] JUMBO BAG RED WHITE SPOTTY \n",
            "124 -- [477] WOODEN SCHOOL COLOURING SET\n",
            "125 -- [473] RED 3 PIECE MINI DOTS CUTLERY SET\n",
            "126 -- [473] PINK HAPPY BIRTHDAY BUNTING\n",
            "127 -- [472] WICKER STAR \n",
            "128 -- [472] PACK OF 60 MUSHROOM CAKE CASES\n",
            "129 -- [470] FELTCRAFT DOLL ROSIE\n",
            "130 -- [470] HEART IVORY TRELLIS SMALL\n",
            "131 -- [470] WORLD WAR 2 GLIDERS ASSTD DESIGNS\n",
            "132 -- [468] HOT BATHS METAL SIGN\n",
            "133 -- [467] SET OF 20 VINTAGE CHRISTMAS NAPKINS\n",
            "134 -- [467] WOODEN BOX OF DOMINOES\n",
            "135 -- [465] GREY HEART HOT WATER BOTTLE\n",
            "136 -- [464] PARTY METAL SIGN \n",
            "137 -- [462] BLUE 3 PIECE MINI DOTS CUTLERY SET\n",
            "138 -- [461] RED RETROSPOT TRADITIONAL TEAPOT \n",
            "139 -- [461] GARDENERS KNEELING PAD\n",
            "140 -- [459] HEART FILIGREE DOVE LARGE\n",
            "141 -- [457] WHITE WOOD GARDEN PLANT LADDER\n",
            "142 -- [456] SET OF 3 HEART COOKIE CUTTERS\n",
            "143 -- [455] CHOCOLATE THIS WAY METAL SIGN\n",
            "144 -- [454] SET OF 72 RETRO SPOT PAPER  DOILIES\n",
            "145 -- [453] TOILET METAL SIGN\n",
            "146 -- [452] BEWARE OF THE CAT METAL SIGN \n",
            "147 -- [452] JUMBO BAG WOODLAND ANIMALS\n",
            "148 -- [450] CHILLI LIGHTS\n",
            "149 -- [448] 3 HEARTS HANGING DECORATION RUSTIC\n",
            "150 -- [446] LOVEBIRD HANGING DECORATION WHITE \n",
            "151 -- [446] SPACEBOY LUNCH BOX \n",
            "152 -- [445] PLASTERS IN TIN STRONGMAN\n",
            "153 -- [444] 12 PENCILS SMALL TUBE SKULL\n",
            "154 -- [442] I CAN ONLY PLEASE ONE PERSON MUG\n",
            "155 -- [441] RED RETROSPOT SMALL MILK JUG\n",
            "156 -- [441] WHITE SKULL HOT WATER BOTTLE \n",
            "157 -- [441] FELTCRAFT DOLL MOLLY\n",
            "158 -- [439] JUMBO BAG TOYS \n",
            "159 -- [438] RED SPOTTY ROUND CAKE TINS\n",
            "160 -- [438] PAPER BUNTING WHITE LACE\n",
            "161 -- [438] METAL SIGN TAKE IT OR LEAVE IT \n",
            "162 -- [437] CHICK GREY HOT WATER BOTTLE\n",
            "163 -- [435] GUMBALL COAT RACK\n",
            "164 -- [434] PINK 3 PIECE MINI DOTS CUTLERY SET\n",
            "165 -- [433] SPACEBOY BIRTHDAY CARD\n",
            "166 -- [432] FELTCRAFT CUSHION BUTTERFLY\n",
            "167 -- [430] LARGE POPCORN HOLDER \n",
            "168 -- [429] DOLLY GIRL LUNCH BOX\n",
            "169 -- [427] RED SPOT HEART HOT WATER BOTTLE\n",
            "170 -- [427] DOOR MAT NEW ENGLAND\n",
            "171 -- [426] HAND WARMER RED RETROSPOT\n",
            "172 -- [425] SILVER HANGING T-LIGHT HOLDER\n",
            "173 -- [421] MEMO BOARD COTTAGE DESIGN\n",
            "174 -- [421] TOY TIDY PINK RETROSPOT  \n",
            "175 -- [419] CLOTHES PEGS RETROSPOT PACK 24 \n",
            "176 -- [417] SMALL GLASS HEART TRINKET POT\n",
            "177 -- [416] KEY FOB , SHED\n",
            "178 -- [415] CREAM SWEETHEART MINI CHEST\n",
            "179 -- [415] SET OF 36 TEATIME PAPER DOILIES\n",
            "180 -- [414] RED SPOTTY BISCUIT TIN\n",
            "181 -- [413] TEA TIME TEA TOWELS \n",
            "182 -- [413] PACK OF 12 HEARTS DESIGN TISSUES \n",
            "183 -- [411] HANGING METAL HEART LANTERN\n",
            "184 -- [407] MEMO BOARD RETROSPOT  DESIGN\n",
            "185 -- [407] CHARLOTTE BAG SUKI DESIGN\n",
            "186 -- [405] METAL 4 HOOK HANGER FRENCH CHATEAU\n",
            "187 -- [403] RED SPOTTY SHOPPER BAG\n",
            "188 -- [403] STRAWBERRY LUNCH BOX WITH CUTLERY\n",
            "189 -- [402] 60 CAKE CASES VINTAGE CHRISTMAS\n",
            "190 -- [401] HOME SWEET HOME METAL SIGN \n",
            "191 -- [400] TEA TIME OVEN GLOVE\n",
            "192 -- [399] BOX OF 24 COCKTAIL PARASOLS\n",
            "193 -- [398] WHITE METAL LANTERN\n",
            "194 -- [397] DOORMAT HEARTS\n",
            "195 -- [395] FELTCRAFT CUSHION RABBIT\n",
            "196 -- [394] ASSTD DESIGN BUBBLE GUM RING\n",
            "197 -- [394] ASSORTED COLOUR MINI CASES\n",
            "198 -- [394] FELTCRAFT CUSHION OWL\n",
            "199 -- [391] I'M ON HOLIDAY METAL SIGN\n",
            "200 -- [391] PLACE SETTING WHITE HEART\n",
            "201 -- [390] SWALLOWS GREETING CARD\n",
            "202 -- [390] PINK HEART SHAPE EGG FRYING PAN\n",
            "203 -- [389] TEA PARTY BIRTHDAY CARD\n",
            "204 -- [389] SCANDINAVIAN REDS RIBBONS\n",
            "205 -- [389] SET/6 RED SPOTTY PAPER PLATES\n",
            "206 -- [385] PACK OF 72 RETROSPOT CAKE CASES\n",
            "207 -- [385] DOORMAT UNION FLAG\n",
            "208 -- [385] HOME SWEET HOME MUG\n",
            "209 -- [384] FOUR HOOK  WHITE LOVEBIRDS\n",
            "210 -- [383] PAINTED METAL PEARS ASSORTED\n",
            "211 -- [382] WASHROOM METAL SIGN\n",
            "212 -- [382] RED/WHITE DOTS RUFFLED UMBRELLA\n",
            "213 -- [380] SET/10 PINK SPOTTY PARTY CANDLES\n",
            "214 -- [380] PACK OF 6 PANNETONE GIFT BOXES\n",
            "215 -- [379] FELTCRAFT DOLL EMILY\n",
            "216 -- [378] MINI CAKE STAND  HANGING STRAWBERY\n",
            "217 -- [378] RED SPOTTY CUP\n",
            "218 -- [377] SAVE THE PLANET MUG\n",
            "219 -- [376] EDWARDIAN PARASOL RED\n",
            "220 -- [376] KEY FOB , BACK DOOR \n",
            "221 -- [374] WOODEN BOX ADVENT CALENDAR \n",
            "222 -- [374] SWEETHEART KEY CABINET\n",
            "223 -- [373] DOOR MAT RED SPOT\n",
            "224 -- [373] LARGE CAKE STAND  HANGING STRAWBERY\n",
            "225 -- [373] BINGO SET\n",
            "226 -- [371] TOY TIDY SPACEBOY  \n",
            "227 -- [370] TRADITIONAL WOODEN SKIPPING ROPE\n",
            "228 -- [370] TRAVEL SEWING KIT\n",
            "229 -- [369] DOORSTOP RETROSPOT HEART\n",
            "230 -- [368] VINTAGE SNAKES & LADDERS\n",
            "231 -- [368] SET/10 RED SPOTTY PARTY CANDLES\n",
            "232 -- [364] PINK DOUGHNUT TRINKET POT \n",
            "233 -- [363] RED SPOTS  WRAP \n",
            "234 -- [363] SMALL HEART MEASURING SPOONS\n",
            "235 -- [363] RED KITCHEN SCALES\n",
            "236 -- [362] PICNIC BASKET WICKER SMALL\n",
            "237 -- [362] NATURAL SLATE RECTANGLE CHALKBOARD\n",
            "238 -- [362] 3 STRIPEY MICE FELTCRAFT\n",
            "239 -- [361] TEA TIME PARTY BUNTING\n",
            "240 -- [361] RED  HARMONICA IN BOX \n",
            "241 -- [359] CERAMIC HEART FAIRY CAKE MONEY BANK\n",
            "242 -- [359] LAVENDER SCENTED FABRIC HEART\n",
            "243 -- [358] TRADITIONAL WOODEN CATCH CUP GAME \n",
            "244 -- [357] WOODEN ROUNDERS GARDEN SET \n",
            "245 -- [356] TRADITIONAL MODELLING CLAY\n",
            "246 -- [355] SET/6 RED SPOTTY PAPER CUPS\n",
            "247 -- [355] PINK FAIRY CAKE CHILD'S APRON\n",
            "248 -- [355] HOT WATER BOTTLE I AM SO POORLY\n",
            "249 -- [354] RED SPOTTY BOWL\n",
            "250 -- [352] GLITTER BUTTERFLY CLIPS\n",
            "251 -- [352] SET 7 BABUSHKA NESTING BOXES\n",
            "252 -- [350] SET/20 STRAWBERRY PAPER NAPKINS \n",
            "253 -- [350] AREA PATROLLED METAL SIGN\n",
            "254 -- [350] VICTORIAN SEWING BOX SMALL \n",
            "255 -- [348] TEA BAG PLATE RED SPOTTY \n",
            "256 -- [346] ANTIQUE LILY FAIRY LIGHTS\n",
            "257 -- [346] SET OF 3 NOTEBOOKS IN PARCEL\n",
            "258 -- [346] FOOD CONTAINER SET 3 LOVE HEART \n",
            "259 -- [345] RETRO RED SPOTTY WASHING UP GLOVES\n",
            "260 -- [345] WOODEN UNION JACK BUNTING\n",
            "261 -- [345] RETRO SPOT CAKE STAND\n",
            "262 -- [343] KITCHEN METAL SIGN\n",
            "263 -- [343] LUNCH BOX WITH CUTLERY RETROSPOT \n",
            "264 -- [343] PAPER CHAIN KIT EMPIRE\n",
            "265 -- [342] CAKE STAND 3 TIER MAGIC GARDEN\n",
            "266 -- [341] RETROSPOT TEA SET CERAMIC 11 PC \n",
            "267 -- [341] RETROSPOT HEART HOT WATER BOTTLE\n",
            "268 -- [340] TRADITIONAL CHRISTMAS RIBBONS\n",
            "269 -- [339] BLACK HEART CARD HOLDER\n",
            "270 -- [338] RED RETROSPOT PICNIC BAG\n",
            "271 -- [337] GINGHAM HEART  DOORSTOP RED\n",
            "272 -- [336] SET OF 36 PAISLEY FLOWER DOILIES\n",
            "273 -- [335] SET/2 RED SPOTTY TEA TOWELS \n",
            "274 -- [333] WHITE SPOT RED CERAMIC DRAWER KNOB\n",
            "275 -- [332] RIBBON REEL HEARTS DESIGN \n",
            "276 -- [332] ENGLISH ROSE DESIGN PEG BAG\n",
            "277 -- [331] 12 PENCILS SMALL TUBE RED SPOTTY\n",
            "278 -- [331] SET OF 3 BUTTERFLY COOKIE CUTTERS\n",
            "279 -- [331] ALARM CLOCK BAKELIKE RED \n",
            "280 -- [330] ROUND SNACK BOXES SET OF 4 SKULLS\n",
            "281 -- [329] SET 12 KIDS COLOUR  CHALK STICKS\n",
            "282 -- [329] WOODEN HAPPY BIRTHDAY GARLAND\n",
            "283 -- [328] KEY FOB , GARAGE DESIGN\n",
            "284 -- [328] VINTAGE CREAM 3 BASKET CAKE STAND\n",
            "285 -- [328] BLUE HARMONICA IN BOX \n",
            "286 -- [326] RECIPE BOX WITH METAL HEART\n",
            "287 -- [326] SET OF 72 PINK HEART PAPER DOILIES\n",
            "288 -- [326] FILIGRIS HEART WITH BUTTERFLY\n",
            "289 -- [325] LARGE HEART MEASURING SPOONS\n",
            "290 -- [325] DOOR MAT FAIRY CAKE\n",
            "291 -- [325] CERAMIC CAKE DESIGN SPOTTED MUG\n",
            "292 -- [325] ASSORTED COLOURS SILK FAN\n",
            "293 -- [324] GLASS HONEYPOT WASP CATCHER\n",
            "294 -- [324] PICTURE DOMINOES\n",
            "295 -- [323] 4 TRADITIONAL SPINNING TOPS\n",
            "296 -- [323] PAPER BUNTING COLOURED LACE\n",
            "297 -- [323] SET/3 RUSSIAN DOLL STACKING TINS\n",
            "298 -- [322] COFFEE MUG CAT + BIRD DESIGN\n",
            "299 -- [322] FIRST AID TIN\n",
            "300 -- [320] ANTIQUE SILVER TEA GLASS ENGRAVED\n",
            "301 -- [320] VINTAGE UNION JACK MEMOBOARD\n",
            "302 -- [320] IVORY HANGING DECORATION  HEART\n",
            "303 -- [319] CERAMIC CAKE STAND + HANGING CAKES\n",
            "304 -- [319] FANCY FONT BIRTHDAY CARD, \n",
            "305 -- [318] SET/10 BLUE SPOTTY PARTY CANDLES\n",
            "306 -- [318] NATURAL SLATE CHALKBOARD LARGE \n",
            "307 -- [318] WOODEN CROQUET GARDEN SET\n",
            "308 -- [317] PICTURE FRAME WOOD TRIPLE PORTRAIT\n",
            "309 -- [317] CERAMIC CHERRY CAKE MONEY BANK\n",
            "310 -- [316] BLUE STRIPE CERAMIC DRAWER KNOB\n",
            "311 -- [316] POPPY'S PLAYHOUSE KITCHEN\n",
            "312 -- [316] SET 12 RETRO WHITE CHALK STICKS\n",
            "313 -- [315] MULTI COLOUR SILVER T-LIGHT HOLDER\n",
            "314 -- [315] FAMILY ALBUM WHITE PICTURE FRAME\n",
            "315 -- [315] STRAWBERRY   PICNIC BAG\n",
            "316 -- [313] PACK OF 12 TRADITIONAL CRAYONS\n",
            "317 -- [313] ROSES REGENCY TEACUP AND SAUCER \n",
            "318 -- [313] PINK CHERRY LIGHTS\n",
            "319 -- [312] LUSH GREENS RIBBONS\n",
            "320 -- [312] MINI PAINT SET VINTAGE \n",
            "321 -- [312] CHILDS BREAKFAST SET SPACEBOY \n",
            "322 -- [311] RED WHITE SCARF  HOT WATER BOTTLE\n",
            "323 -- [311] PINK FAIRY CAKE CHILDRENS APRON\n",
            "324 -- [311] CHILDS BREAKFAST SET CIRCUS PARADE\n",
            "325 -- [310] BLUE SPOT CERAMIC DRAWER KNOB\n",
            "326 -- [310] GROW YOUR OWN PLANT IN A CAN \n",
            "327 -- [310] YOU'RE CONFUSING ME METAL SIGN \n",
            "328 -- [309] ALARM CLOCK BAKELIKE GREEN\n",
            "329 -- [308] LUNCH BOX I LOVE LONDON\n",
            "330 -- [308] CHILDS BREAKFAST SET DOLLY GIRL \n",
            "331 -- [308] LAUNDRY 15C METAL SIGN\n",
            "332 -- [307] RED SPOTTY PEG BAG\n",
            "333 -- [307] RED SPOT CERAMIC DRAWER KNOB\n",
            "334 -- [306] PINK  SPOTTY CUP\n",
            "335 -- [305] HEART DECORATION WITH PEARLS \n",
            "336 -- [305] PARTY CONE CHRISTMAS DECORATION \n",
            "337 -- [304] WHITE SPOT BLUE CERAMIC DRAWER KNOB\n",
            "338 -- [304] BOX OF VINTAGE ALPHABET BLOCKS\n",
            "339 -- [304] NOEL WOODEN BLOCK LETTERS \n",
            "340 -- [304] COWBOYS AND INDIANS BIRTHDAY CARD \n",
            "341 -- [303] CHRISTMAS GINGHAM HEART\n",
            "342 -- [303] RECIPE BOX BLUE SKETCHBOOK DESIGN\n",
            "343 -- [302] BLUE  SPOTTY CUP\n",
            "344 -- [301] COFFEE MUG DOG + BALL DESIGN\n",
            "345 -- [301] BOX OF VINTAGE JIGSAW BLOCKS \n",
            "346 -- [299] 12 PENCILS TALL TUBE SKULLS\n",
            "347 -- [298] RED STRIPE CERAMIC DRAWER KNOB\n",
            "348 -- [298] CHRISTMAS TOILET ROLL\n",
            "349 -- [298] KINGS CHOICE CIGAR BOX MATCHES \n",
            "350 -- [298] CACTI T-LIGHT CANDLES\n",
            "351 -- [297] KINGS CHOICE TEA CADDY \n",
            "352 -- [297] LUNCH BAG DOLLY GIRL DESIGN\n",
            "353 -- [296] CHILDS APRON SPACEBOY DESIGN\n",
            "354 -- [296] BATH BUILDING BLOCK WORD\n",
            "355 -- [295] FUNKY WASHING UP GLOVES ASSORTED\n",
            "356 -- [294] PINK FLORAL FELTCRAFT SHOULDER BAG\n",
            "357 -- [294] WOODEN HEART CHRISTMAS SCANDINAVIAN\n",
            "358 -- [294] DOOR MAT ENGLISH ROSE \n",
            "359 -- [293] RED RETROSPOT SUGAR JAM BOWL\n",
            "360 -- [293] BLUE HAPPY BIRTHDAY BUNTING\n",
            "361 -- [292] WEEKEND BAG VINTAGE ROSE PAISLEY\n",
            "362 -- [291] AGED GLASS SILVER T-LIGHT HOLDER\n",
            "363 -- [291] SET/3 RED GINGHAM ROSE STORAGE BOX\n",
            "364 -- [291] STRAWBERRY FAIRY CAKE TEAPOT\n",
            "365 -- [290] FELTCRAFT CHRISTMAS FAIRY\n",
            "366 -- [290] GREEN REGENCY TEACUP AND SAUCER\n",
            "367 -- [290] RETRO COFFEE MUGS ASSORTED\n",
            "368 -- [290] CHARLIE + LOLA RED HOT WATER BOTTLE\n",
            "369 -- [289] DOOR MAT HEARTS\n",
            "370 -- [289] POPPY'S PLAYHOUSE BEDROOM \n",
            "371 -- [289] MAGIC DRAWING SLATE SPACEBOY \n",
            "372 -- [289] BLACK/BLUE DOTS RUFFLED UMBRELLA\n",
            "373 -- [288] SET/5 RED RETROSPOT LID GLASS BOWLS\n",
            "374 -- [288] PACK OF 12 SUKI TISSUES \n",
            "375 -- [287] PACK OF 12 LONDON TISSUES \n",
            "376 -- [287] SET/6 PINK  BUTTERFLY T-LIGHTS\n",
            "377 -- [287] VICTORIAN SEWING BOX LARGE\n",
            "378 -- [286] WHITE DOVE HONEYCOMB PAPER GARLAND\n",
            "379 -- [286] ENAMEL FLOWER JUG CREAM\n",
            "380 -- [286] HOT WATER BOTTLE BABUSHKA \n",
            "381 -- [286] FANNY'S REST STOPMETAL SIGN\n",
            "382 -- [285] CHILDRENS APRON SPACEBOY DESIGN\n",
            "383 -- [285] BAG 250g SWIRLY MARBLES\n",
            "384 -- [284] STRAWBERRY SHOPPER BAG\n",
            "385 -- [284] BRIGHT BLUES RIBBONS \n",
            "386 -- [284] LUNCH BAG RED RETROSPOT\n",
            "387 -- [282] SET OF 6 RIBBONS VINTAGE CHRISTMAS\n",
            "388 -- [280] COLOURING PENCILS BROWN TUBE\n",
            "389 -- [280] GIN AND TONIC MUG\n",
            "390 -- [279] CARD HOLDER GINGHAM HEART\n",
            "391 -- [279] RED FLORAL FELTCRAFT SHOULDER BAG\n",
            "392 -- [279] RED SPOTTY CHILDS APRON\n",
            "393 -- [279] ROUND CONTAINER SET OF 5 RETROSPOT\n",
            "394 -- [279] AIRLINE BAG VINTAGE TOKYO 78\n",
            "395 -- [278] VINTAGE UNION JACK DOORSTOP\n",
            "396 -- [278] PACK OF 20 SKULL PAPER NAPKINS\n",
            "397 -- [276] RETRO SPOT SMALL MILK JUG\n",
            "398 -- [275] INFLATABLE POLITICAL GLOBE \n",
            "399 -- [275] ELEPHANT, BIRTHDAY CARD, \n",
            "400 -- [275] CORONA MEXICAN TRAY\n",
            "401 -- [274] WHITE WIRE EGG HOLDER\n",
            "402 -- [274] 12 PENCIL SMALL TUBE WOODLAND\n",
            "403 -- [273] 15CM CHRISTMAS GLASS BALL 20 LIGHTS\n",
            "404 -- [273] ROMANTIC PINKS RIBBONS \n",
            "405 -- [273] PINK SPOTTY BOWL\n",
            "406 -- [272] ZINC WILLIE WINKIE  CANDLE STICK\n",
            "407 -- [272] MINT KITCHEN SCALES\n",
            "408 -- [271] RED RETROSPOT BUTTER DISH\n",
            "409 -- [271] 20 DOLLY PEGS RETROSPOT\n",
            "410 -- [270] COFFEE MUG APPLES DESIGN\n",
            "411 -- [269] RETRO SPOT TRADITIONAL TEAPOT \n",
            "412 -- [269] VINTAGE KID DOLLY CARD \n",
            "413 -- [269] KEY FOB , FRONT  DOOR \n",
            "414 -- [268] GAOLERS KEYS DECORATIVE GARDEN \n",
            "415 -- [268] CHARLOTTE BAG , PINK/WHITE SPOTS\n",
            "416 -- [267] 3 HOOK PHOTO SHELF ANTIQUE WHITE\n",
            "417 -- [267] PICNIC BASKET WICKER LARGE\n",
            "418 -- [266] GLITTER HANGING BUTTERFLY STRING\n",
            "419 -- [265] SKULLS  WATER TRANSFER TATTOOS \n",
            "420 -- [265] PIGGY BANK RETROSPOT \n",
            "421 -- [265] CAKE STAND WHITE TWO TIER LACE\n",
            "422 -- [264] GLASS  BEURRE DISH\n",
            "423 -- [264] BLUE SPOTTY BOWL\n",
            "424 -- [264] ROTATING SILVER ANGELS T-LIGHT HLDR\n",
            "425 -- [263] MA CAMPAGNE CUTLERY BOX\n",
            "426 -- [263] HANGING METAL STAR LANTERN\n",
            "427 -- [263] PACK 3 BOXES CHRISTMAS PANNETONE\n",
            "428 -- [263] RETROSPOT CHILDRENS APRON\n",
            "429 -- [262] S/6 WOODEN SKITTLES IN COTTON BAG\n",
            "430 -- [262] SLATE TILE NATURAL HANGING\n",
            "431 -- [261] WOODEN STAR CHRISTMAS SCANDINAVIAN\n",
            "432 -- [261] HOME SMALL WOOD LETTERS\n",
            "433 -- [261] ENCHANTED BIRD COATHANGER 5 HOOK\n",
            "434 -- [261] SET OF 6 SOLDIER SKITTLES\n",
            "435 -- [261] MOROCCAN TEA GLASS\n",
            "436 -- [261] ORGANISER WOOD ANTIQUE WHITE \n",
            "437 -- [261] COSY HOUR GIANT TUBE MATCHES\n",
            "438 -- [260] SET OF 9 HEART SHAPED BALLOONS\n",
            "439 -- [260] RED SPOTTY OVEN GLOVE \n",
            "440 -- [260] MINI WOODEN HAPPY BIRTHDAY GARLAND\n",
            "441 -- [259] FOLKART ZINC HEART CHRISTMAS DEC\n",
            "442 -- [258] RIBBON REEL LACE DESIGN \n",
            "443 -- [258] SUKI  SHOULDER BAG\n",
            "444 -- [258] CHARLIE+LOLA PINK HOT WATER BOTTLE\n",
            "445 -- [258] DOOR MAT SPOTTY HOME SWEET HOME\n",
            "446 -- [257] HAND WARMER BABUSHKA DESIGN\n",
            "447 -- [257] WRAP PINK FAIRY CAKES \n",
            "448 -- [257] BIG DOUGHNUT FRIDGE MAGNETS\n",
            "449 -- [257] HAPPY STENCIL CRAFT\n",
            "450 -- [256] FULL ENGLISH BREAKFAST PLATE\n",
            "451 -- [256] FANCY FONTS BIRTHDAY WRAP\n",
            "452 -- [255] FELTCRAFT PRINCESS CHARLOTTE DOLL\n",
            "453 -- [255] RED/WHITE DOT MINI CASES\n",
            "454 -- [254] 10 COLOUR SPACEBOY PEN\n",
            "455 -- [254] WASH BAG VINTAGE ROSE PAISLEY\n",
            "456 -- [254] ENAMEL BREAD BIN CREAM\n",
            "457 -- [254] METAL MERRY CHRISTMAS WREATH\n",
            "458 -- [253] RIBBON REEL SPOTS DESIGN \n",
            "459 -- [253] PAPER BUNTING VINTAGE PAISLEY\n",
            "460 -- [253] DELUXE SEWING KIT \n",
            "461 -- [252] DOOR MAT 3 SMILEY CATS\n",
            "462 -- [252] CHARLOTTE BAG PINK WITH WHITE SPOTS\n",
            "463 -- [252] GIN & TONIC DIET GREETING CARD \n",
            "464 -- [251] RECIPE BOX RETROSPOT \n",
            "465 -- [251] COOKING SET RETROSPOT\n",
            "466 -- [250] CHOCOLATE BOX RIBBONS \n",
            "467 -- [250] CHRISTMAS RETROSPOT HEART WOOD\n",
            "468 -- [250] FELTCRAFT PRINCESS LOLA DOLL\n",
            "469 -- [250] SET 3 RED SPOT TIN TEA,COFFEE,SUGAR\n",
            "470 -- [248] KINGS CHOICE BISCUIT TIN\n",
            "471 -- [248] BROWN CHECK CAT DOORSTOP \n",
            "472 -- [248] DOORMAT SPOTTY HOME SWEET HOME\n",
            "473 -- [248] SET OF 20 KIDS COOKIE CUTTERS\n",
            "474 -- [248] WHITE BEADED GARLAND STRING 20LIGHT\n",
            "475 -- [248] RED SPOTTY PLATE \n",
            "476 -- [246] SKULL LUNCH BOX WITH CUTLERY \n",
            "477 -- [246] GROW YOUR OWN BASIL IN ENAMEL MUG\n",
            "478 -- [245] CREAM SWEETHEART TRAYS\n",
            "479 -- [244] FELTCRAFT DOLL MARIA\n",
            "480 -- [244] WHITE JEWELLED HEART DECORATION\n",
            "481 -- [244] OPEN CLOSED METAL SIGN\n",
            "482 -- [244] COSY HOUR CIGAR BOX MATCHES \n",
            "483 -- [243] POPPY'S PLAYHOUSE LIVINGROOM \n",
            "484 -- [243] CERAMIC CAKE BOWL + HANGING CAKES\n",
            "485 -- [243] GARDEN METAL SIGN \n",
            "486 -- [242] SPACEBOY GIFT WRAP\n",
            "487 -- [242] CHARLOTTE BAG , SUKI DESIGN\n",
            "488 -- [241] BLACK RECORD COVER FRAME\n",
            "489 -- [240] HEART DECORATION PAINTED ZINC \n",
            "490 -- [240] SET 10 LIGHTS NIGHT OWL\n",
            "491 -- [240] CHILDS GARDEN TROWEL PINK\n",
            "492 -- [239] SET OF 3 CASES WOODLAND DESIGN\n",
            "493 -- [239] VINTAGE BILLBOARD DRINK ME MUG\n",
            "494 -- [239] BABUSHKA LIGHTS STRING OF 10\n",
            "495 -- [239] ADVENT CALENDAR GINGHAM SACK\n",
            "496 -- [238] 36 PENCILS TUBE SKULLS\n",
            "497 -- [237] HOOK, 1 HANGER ,MAGIC GARDEN\n",
            "498 -- [237] VICTORIAN  METAL POSTCARD SPRING\n",
            "499 -- [236] EMPIRE BIRTHDAY CARD\n"
          ],
          "name": "stdout"
        }
      ]
    },
    {
      "cell_type": "markdown",
      "metadata": {
        "id": "_WuySE-ygkQj"
      },
      "source": [
        "Seguimos contando todos los pares de elementos frecuentes en las transacciones"
      ]
    },
    {
      "cell_type": "code",
      "metadata": {
        "id": "qBmrUSC6gjkc"
      },
      "source": [
        "cont_pf = Counter()\n",
        "for t in tdb['Description']:\n",
        "  tef = list(set(t) & set(ef))\n",
        "  for i in range(len(tef)-1):\n",
        "    for j in range(i+1,len(tef)):\n",
        "      cont_pf[(tef[i], tef[j])] += 1"
      ],
      "execution_count": 11,
      "outputs": []
    },
    {
      "cell_type": "markdown",
      "metadata": {
        "id": "YUAPbadsdwO0"
      },
      "source": [
        "Nos quedamos con los que cumplan el soporte mínimo"
      ]
    },
    {
      "cell_type": "code",
      "metadata": {
        "id": "YwsWA9Qh1CDZ"
      },
      "source": [
        "pf = [set(c[0]) for c in cont_pf.items() if c[1] >= minoc] \n",
        "sop_pf = [c[1] for c in cont_pf.items() if c[1] >= minoc]"
      ],
      "execution_count": 12,
      "outputs": []
    },
    {
      "cell_type": "markdown",
      "metadata": {
        "id": "HzLG2Iqug_WU"
      },
      "source": [
        "Imprimimos las reglas de pares frecuentes"
      ]
    },
    {
      "cell_type": "code",
      "metadata": {
        "id": "q8DOQsP3GwFK",
        "colab": {
          "base_uri": "https://localhost:8080/"
        },
        "outputId": "1ead0a36-224e-4338-8795-56e11aefede7"
      },
      "source": [
        "imprime_cf(pf, sop_pf)"
      ],
      "execution_count": 13,
      "outputs": [
        {
          "output_type": "stream",
          "text": [
            "1 -- [701] {'RED HANGING HEART T-LIGHT HOLDER', 'WHITE HANGING HEART T-LIGHT HOLDER'}\n",
            "2 -- [475] {'HEART OF WICKER LARGE', 'HEART OF WICKER SMALL'}\n",
            "3 -- [472] {'LOVE BUILDING BLOCK WORD', 'HOME BUILDING BLOCK WORD'}\n",
            "4 -- [463] {'60 TEATIME FAIRY CAKE CASES', 'PACK OF 60 PINK PAISLEY CAKE CASES'}\n",
            "5 -- [440] {'WOODEN FRAME ANTIQUE WHITE ', 'WHITE HANGING HEART T-LIGHT HOLDER'}\n",
            "6 -- [402] {'PACK OF 72 RETRO SPOT CAKE CASES', 'PACK OF 60 PINK PAISLEY CAKE CASES'}\n",
            "7 -- [390] {'WHITE HANGING HEART T-LIGHT HOLDER', 'HOME BUILDING BLOCK WORD'}\n",
            "8 -- [387] {'LUNCH BAG  BLACK SKULL.', 'LUNCH BAG RED SPOTTY'}\n",
            "9 -- [384] {'WOODEN PICTURE FRAME WHITE FINISH', 'WHITE HANGING HEART T-LIGHT HOLDER'}\n",
            "10 -- [384] {'HOT WATER BOTTLE TEA AND SYMPATHY', 'CHOCOLATE HOT WATER BOTTLE'}\n",
            "11 -- [379] {'ASSORTED COLOUR BIRD ORNAMENT', 'WHITE HANGING HEART T-LIGHT HOLDER'}\n",
            "12 -- [364] {'LOVE BUILDING BLOCK WORD', 'WHITE HANGING HEART T-LIGHT HOLDER'}\n",
            "13 -- [363] {'LUNCH BAG  BLACK SKULL.', 'LUNCH BAG SPACEBOY DESIGN '}\n",
            "14 -- [357] {'PACK OF 60 DINOSAUR CAKE CASES', '60 TEATIME FAIRY CAKE CASES'}\n",
            "15 -- [355] {'STRAWBERRY CERAMIC TRINKET BOX', 'SWEETHEART CERAMIC TRINKET BOX'}\n",
            "16 -- [354] {'60 TEATIME FAIRY CAKE CASES', '72 SWEETHEART FAIRY CAKE CASES'}\n",
            "17 -- [349] {'LUNCH BAG WOODLAND', 'LUNCH BAG RED SPOTTY'}\n",
            "18 -- [348] {'PINK BLUE FELT CRAFT TRINKET BOX', 'PINK CREAM FELT CRAFT TRINKET BOX '}\n",
            "19 -- [343] {'LUNCH BAG WOODLAND', 'LUNCH BAG CARS BLUE'}\n",
            "20 -- [341] {'JUMBO BAG STRAWBERRY', 'JUMBO STORAGE BAG SUKI'}\n",
            "21 -- [338] {'STRAWBERRY CERAMIC TRINKET BOX', 'WHITE HANGING HEART T-LIGHT HOLDER'}\n",
            "22 -- [334] {'LUNCH BAG WOODLAND', 'LUNCH BAG  BLACK SKULL.'}\n",
            "23 -- [333] {'LUNCH BAG WOODLAND', 'LUNCH BAG SPACEBOY DESIGN '}\n",
            "24 -- [328] {'BATHROOM METAL SIGN', 'TOILET METAL SIGN'}\n",
            "25 -- [324] {'LUNCH BAG WOODLAND', 'LUNCH BAG SUKI  DESIGN '}\n",
            "26 -- [321] {'JUMBO BAG STRAWBERRY', 'JUMBO BAG RED RETROSPOT'}\n",
            "27 -- [321] {'ZINC METAL HEART DECORATION', 'WHITE HANGING HEART T-LIGHT HOLDER'}\n",
            "28 -- [314] {'HEART OF WICKER SMALL', 'WHITE HANGING HEART T-LIGHT HOLDER'}\n",
            "29 -- [313] {'JUMBO STORAGE BAG SUKI', 'JUMBO BAG RED RETROSPOT'}\n",
            "30 -- [308] {'CREAM HEART CARD HOLDER', 'WHITE HANGING HEART T-LIGHT HOLDER'}\n",
            "31 -- [307] {'LUNCH BAG  BLACK SKULL.', 'LUNCH BAG CARS BLUE'}\n",
            "32 -- [302] {'LUNCH BAG PINK RETROSPOT', 'LUNCH BAG RED SPOTTY'}\n",
            "33 -- [301] {'LUNCH BAG SPACEBOY DESIGN ', 'LUNCH BAG RED SPOTTY'}\n",
            "34 -- [299] {'WOODEN FRAME ANTIQUE WHITE ', 'WOODEN PICTURE FRAME WHITE FINISH'}\n",
            "35 -- [298] {'LUNCH BAG SPACEBOY DESIGN ', 'LUNCH BAG CARS BLUE'}\n",
            "36 -- [297] {'LUNCH BAG SPACEBOY DESIGN ', 'LUNCH BAG PINK RETROSPOT'}\n",
            "37 -- [297] {'HAND WARMER OWL DESIGN', 'HAND WARMER SCOTTY DOG DESIGN'}\n",
            "38 -- [296] {'SINGLE HEART ZINC T-LIGHT HOLDER', 'HANGING HEART ZINC T-LIGHT HOLDER'}\n",
            "39 -- [292] {'HAND WARMER OWL DESIGN', 'HAND WARMER BIRD DESIGN'}\n",
            "40 -- [291] {'JUMBO  BAG BAROQUE BLACK WHITE', 'JUMBO STORAGE BAG SUKI'}\n",
            "41 -- [289] {'PACK OF 72 SKULL CAKE CASES', '60 TEATIME FAIRY CAKE CASES'}\n",
            "42 -- [289] {'SWEETHEART CERAMIC TRINKET BOX', 'STRAWBERRY CERAMIC TRINKET BOX'}\n",
            "43 -- [289] {'JUMBO BAG STRAWBERRY', 'JUMBO BAG PINK WITH WHITE SPOTS'}\n",
            "44 -- [287] {'PINK 3 PIECE MINI DOTS CUTLERY SET', 'BLUE 3 PIECE MINI DOTS CUTLERY SET'}\n",
            "45 -- [286] {'WHITE HANGING HEART T-LIGHT HOLDER', 'WOOD S/3 CABINET ANT WHITE FINISH'}\n",
            "46 -- [285] {'PLASTERS IN TIN CIRCUS PARADE ', 'PLASTERS IN TIN SPACEBOY'}\n",
            "47 -- [284] {'60 TEATIME FAIRY CAKE CASES', 'WHITE HANGING HEART T-LIGHT HOLDER'}\n",
            "48 -- [283] {'JUMBO  BAG BAROQUE BLACK WHITE', 'JUMBO BAG RED RETROSPOT'}\n",
            "49 -- [278] {'LUNCH BAG CARS BLUE', 'LUNCH BAG RED SPOTTY'}\n",
            "50 -- [277] {'LUNCH BAG  BLACK SKULL.', 'LUNCH BAG PINK RETROSPOT'}\n",
            "51 -- [276] {'PLASTERS IN TIN SPACEBOY', 'PLASTERS IN TIN WOODLAND ANIMALS'}\n",
            "52 -- [275] {'PACK OF 72 RETRO SPOT CAKE CASES', '60 TEATIME FAIRY CAKE CASES'}\n",
            "53 -- [274] {'PACK OF 72 RETRO SPOT CAKE CASES', '72 SWEETHEART FAIRY CAKE CASES'}\n",
            "54 -- [274] {'PACK OF 60 DINOSAUR CAKE CASES', 'PACK OF 72 RETRO SPOT CAKE CASES'}\n",
            "55 -- [273] {'RED 3 PIECE MINI DOTS CUTLERY SET', 'BLUE 3 PIECE MINI DOTS CUTLERY SET'}\n",
            "56 -- [273] {'JUMBO SHOPPER VINTAGE RED PAISLEY', 'JUMBO BAG RED RETROSPOT'}\n",
            "57 -- [272] {'JUMBO BAG SCANDINAVIAN PAISLEY', 'JUMBO BAG PINK VINTAGE PAISLEY'}\n",
            "58 -- [272] {'WOOD 2 DRAWER CABINET WHITE FINISH', 'WHITE HANGING HEART T-LIGHT HOLDER'}\n",
            "59 -- [270] {'REX CASH+CARRY JUMBO SHOPPER', 'WHITE HANGING HEART T-LIGHT HOLDER'}\n",
            "60 -- [270] {'WOODEN FRAME ANTIQUE WHITE ', 'WOOD 2 DRAWER CABINET WHITE FINISH'}\n",
            "61 -- [269] {'LUNCH BAG SPACEBOY DESIGN ', 'LUNCH BAG SUKI  DESIGN '}\n",
            "62 -- [268] {'JUMBO BAG STRAWBERRY', 'JUMBO SHOPPER VINTAGE RED PAISLEY'}\n",
            "63 -- [267] {'REGENCY CAKESTAND 3 TIER', 'WHITE HANGING HEART T-LIGHT HOLDER'}\n",
            "64 -- [267] {'PACK OF 60 DINOSAUR CAKE CASES', 'PACK OF 60 PINK PAISLEY CAKE CASES'}\n",
            "65 -- [267] {\"PAPER CHAIN KIT 50'S CHRISTMAS \", 'PAPER CHAIN KIT VINTAGE CHRISTMAS'}\n",
            "66 -- [266] {'FELTCRAFT CUSHION RABBIT', 'FELTCRAFT CUSHION BUTTERFLY'}\n",
            "67 -- [265] {'JUMBO BAG STRAWBERRY', 'JUMBO BAG SCANDINAVIAN PAISLEY'}\n",
            "68 -- [265] {'PACK OF 72 SKULL CAKE CASES', 'PACK OF 72 RETRO SPOT CAKE CASES'}\n",
            "69 -- [261] {'JUMBO BAG PINK WITH WHITE SPOTS', 'JUMBO STORAGE BAG SUKI'}\n",
            "70 -- [261] {'JUMBO BAG PINK WITH WHITE SPOTS', 'JUMBO SHOPPER VINTAGE RED PAISLEY'}\n",
            "71 -- [260] {'WOODEN PICTURE FRAME WHITE FINISH', 'WOOD S/3 CABINET ANT WHITE FINISH'}\n",
            "72 -- [259] {'WOODEN FRAME ANTIQUE WHITE ', 'WOODEN PICTURE FRAME WHITE FINISH'}\n",
            "73 -- [258] {'LUNCH BAG WOODLAND', 'LUNCH BAG PINK RETROSPOT'}\n",
            "74 -- [255] {'LARGE POPCORN HOLDER ', 'SMALL POPCORN HOLDER'}\n",
            "75 -- [255] {'GIN + TONIC DIET METAL SIGN', 'PLEASE ONE PERSON METAL SIGN'}\n",
            "76 -- [255] {'BATHROOM METAL SIGN', 'KITCHEN METAL SIGN'}\n",
            "77 -- [254] {'JUMBO BAG OWLS', 'JUMBO STORAGE BAG SUKI'}\n",
            "78 -- [254] {'HAND WARMER SCOTTY DOG DESIGN', 'HAND WARMER BIRD DESIGN'}\n",
            "79 -- [250] {'PACK OF 72 RETRO SPOT CAKE CASES', 'SET/20 RED SPOTTY PAPER NAPKINS '}\n",
            "80 -- [249] {'RED SPOTTY CHARLOTTE BAG', 'STRAWBERRY CHARLOTTE BAG'}\n",
            "81 -- [249] {'PACK OF 60 SPACEBOY CAKE CASES', '60 TEATIME FAIRY CAKE CASES'}\n",
            "82 -- [247] {'HANGING HEART ZINC T-LIGHT HOLDER', 'WHITE HANGING HEART T-LIGHT HOLDER'}\n",
            "83 -- [246] {'JUMBO BAG STRAWBERRY', 'JUMBO BAG PINK VINTAGE PAISLEY'}\n",
            "84 -- [246] {'HAND OVER THE CHOCOLATE   SIGN ', 'NO SINGING METAL SIGN'}\n",
            "85 -- [245] {'HAND OVER THE CHOCOLATE   SIGN ', 'WHITE HANGING HEART T-LIGHT HOLDER'}\n",
            "86 -- [242] {'GIN + TONIC DIET METAL SIGN', 'WHITE HANGING HEART T-LIGHT HOLDER'}\n",
            "87 -- [242] {'LUNCH BAG RED SPOTTY', 'WHITE HANGING HEART T-LIGHT HOLDER'}\n",
            "88 -- [241] {'72 SWEETHEART FAIRY CAKE CASES', 'PACK OF 60 PINK PAISLEY CAKE CASES'}\n",
            "89 -- [239] {'JUMBO BAG SCANDINAVIAN PAISLEY', 'JUMBO SHOPPER VINTAGE RED PAISLEY'}\n",
            "90 -- [239] {'ROUND SNACK BOXES SET OF 4 FRUITS ', 'ROUND SNACK BOXES SET OF4 WOODLAND '}\n",
            "91 -- [239] {'FELTCRAFT CUSHION RABBIT', 'FELTCRAFT CUSHION OWL'}\n",
            "92 -- [238] {'JUMBO STORAGE BAG SUKI', 'JUMBO STORAGE BAG SKULLS'}\n",
            "93 -- [237] {'JUMBO SHOPPER VINTAGE RED PAISLEY', 'JUMBO  BAG BAROQUE BLACK WHITE'}\n",
            "94 -- [237] {'PLASTERS IN TIN VINTAGE PAISLEY ', 'PLASTERS IN TIN SPACEBOY'}\n",
            "95 -- [236] {'PACK OF 72 SKULL CAKE CASES', 'PACK OF 60 DINOSAUR CAKE CASES'}\n",
            "96 -- [236] {'JUMBO BAG SPACEBOY DESIGN', 'JUMBO STORAGE BAG SUKI'}\n"
          ],
          "name": "stdout"
        }
      ]
    },
    {
      "cell_type": "markdown",
      "metadata": {
        "id": "GEpNuztKhFpE"
      },
      "source": [
        "Contamos todos los subconjuntos de tres elementos frecuentes, cuyos posibles pares también sean frecuentes"
      ]
    },
    {
      "cell_type": "code",
      "metadata": {
        "id": "4oKwDmFTFNIc"
      },
      "source": [
        "cont_t3 = Counter()\n",
        "for t in tdb['Description']:\n",
        "  tef = list(set(t) & set(ef))\n",
        "  tpf = [{tef[i],tef[j]} \n",
        "         for i in range(len(tef)-1) \n",
        "         for j in range(i+1,len(tef))]\n",
        "  tpf = [p for p in tpf if p in pf]\n",
        "  tef = [e for p in tpf for e in p]\n",
        "  for e in tef:\n",
        "    for p in tpf:\n",
        "      if e not in p:\n",
        "        pares = [{i,e} for i in p if {i,e} in pf]\n",
        "        if len(pares)==2:\n",
        "          cont_t3[tuple(p|{e})] += 1"
      ],
      "execution_count": 14,
      "outputs": []
    },
    {
      "cell_type": "markdown",
      "metadata": {
        "id": "-ESXS6NPheqi"
      },
      "source": [
        "Mantenemos aquellos que tengan soporte mínimo"
      ]
    },
    {
      "cell_type": "code",
      "metadata": {
        "id": "acXHwzzrMxhW"
      },
      "source": [
        "st3f = [set(c[0]) for c in cont_t3.items() if c[1] >= minoc] \n",
        "sop_st3 = [c[1] for c in cont_t3.items() if c[1] >= minoc]"
      ],
      "execution_count": 15,
      "outputs": []
    },
    {
      "cell_type": "markdown",
      "metadata": {
        "id": "L4W1KJtZrs3e"
      },
      "source": [
        "Visualizamos los conjuntos de 3 elementos frecuentes"
      ]
    },
    {
      "cell_type": "code",
      "metadata": {
        "id": "7IwtPH7prxs0",
        "colab": {
          "base_uri": "https://localhost:8080/"
        },
        "outputId": "4a58f891-f3d7-443b-dde4-acecc356e73a"
      },
      "source": [
        "imprime_cf(st3f, sop_st3)"
      ],
      "execution_count": 16,
      "outputs": [
        {
          "output_type": "stream",
          "text": [
            "1 -- [2730] {'WOODEN FRAME ANTIQUE WHITE ', 'WOODEN PICTURE FRAME WHITE FINISH', 'WHITE HANGING HEART T-LIGHT HOLDER'}\n",
            "2 -- [2457] {'PACK OF 72 RETRO SPOT CAKE CASES', '60 TEATIME FAIRY CAKE CASES', 'PACK OF 60 PINK PAISLEY CAKE CASES'}\n",
            "3 -- [2176] {'LUNCH BAG WOODLAND', 'LUNCH BAG SPACEBOY DESIGN ', 'LUNCH BAG SUKI  DESIGN '}\n",
            "4 -- [2151] {'LUNCH BAG WOODLAND', 'LUNCH BAG PINK RETROSPOT', 'LUNCH BAG RED SPOTTY'}\n",
            "5 -- [2125] {'PACK OF 60 DINOSAUR CAKE CASES', 'PACK OF 72 RETRO SPOT CAKE CASES', '60 TEATIME FAIRY CAKE CASES'}\n",
            "6 -- [2112] {'LUNCH BAG WOODLAND', 'LUNCH BAG CARS BLUE', 'LUNCH BAG RED SPOTTY'}\n",
            "7 -- [2100] {'LUNCH BAG WOODLAND', 'LUNCH BAG SPACEBOY DESIGN ', 'LUNCH BAG RED SPOTTY'}\n",
            "8 -- [2096] {'LUNCH BAG WOODLAND', 'LUNCH BAG  BLACK SKULL.', 'LUNCH BAG RED SPOTTY'}\n",
            "9 -- [2051] {'PACK OF 60 DINOSAUR CAKE CASES', '60 TEATIME FAIRY CAKE CASES', 'PACK OF 60 PINK PAISLEY CAKE CASES'}\n",
            "10 -- [1936] {'PACK OF 72 RETRO SPOT CAKE CASES', '60 TEATIME FAIRY CAKE CASES', '72 SWEETHEART FAIRY CAKE CASES'}\n",
            "11 -- [1661] {'WOODEN FRAME ANTIQUE WHITE ', 'WOOD 2 DRAWER CABINET WHITE FINISH', 'WHITE HANGING HEART T-LIGHT HOLDER'}\n",
            "12 -- [1627] {'PACK OF 72 SKULL CAKE CASES', 'PACK OF 72 RETRO SPOT CAKE CASES', '60 TEATIME FAIRY CAKE CASES'}\n",
            "13 -- [1599] {'PACK OF 60 DINOSAUR CAKE CASES', 'PACK OF 72 RETRO SPOT CAKE CASES', 'PACK OF 60 PINK PAISLEY CAKE CASES'}\n",
            "14 -- [1595] {'LOVE BUILDING BLOCK WORD', 'WHITE HANGING HEART T-LIGHT HOLDER', 'HOME BUILDING BLOCK WORD'}\n",
            "15 -- [1577] {'JUMBO BAG STRAWBERRY', 'JUMBO BAG PINK WITH WHITE SPOTS', 'JUMBO STORAGE BAG SUKI'}\n",
            "16 -- [1517] {'WOODEN PICTURE FRAME WHITE FINISH', 'WHITE HANGING HEART T-LIGHT HOLDER', 'WOOD S/3 CABINET ANT WHITE FINISH'}\n",
            "17 -- [1424] {'LUNCH BAG  BLACK SKULL.', 'LUNCH BAG RED SPOTTY', 'LUNCH BAG PINK RETROSPOT'}\n",
            "18 -- [1322] {'LUNCH BAG SPACEBOY DESIGN ', 'LUNCH BAG  BLACK SKULL.', 'LUNCH BAG RED SPOTTY'}\n",
            "19 -- [1314] {'JUMBO BAG STRAWBERRY', 'JUMBO BAG SCANDINAVIAN PAISLEY', 'JUMBO BAG PINK VINTAGE PAISLEY'}\n",
            "20 -- [1306] {'JUMBO BAG STRAWBERRY', 'JUMBO BAG SCANDINAVIAN PAISLEY', 'JUMBO SHOPPER VINTAGE RED PAISLEY'}\n",
            "21 -- [1276] {'LUNCH BAG WOODLAND', 'LUNCH BAG SPACEBOY DESIGN ', 'LUNCH BAG CARS BLUE'}\n",
            "22 -- [1264] {'LUNCH BAG SPACEBOY DESIGN ', 'LUNCH BAG RED SPOTTY', 'LUNCH BAG PINK RETROSPOT'}\n",
            "23 -- [1245] {'PACK OF 72 SKULL CAKE CASES', '60 TEATIME FAIRY CAKE CASES', 'PACK OF 60 DINOSAUR CAKE CASES'}\n",
            "24 -- [1231] {'60 TEATIME FAIRY CAKE CASES', 'PACK OF 60 PINK PAISLEY CAKE CASES', '72 SWEETHEART FAIRY CAKE CASES'}\n",
            "25 -- [1225] {'JUMBO BAG STRAWBERRY', 'JUMBO SHOPPER VINTAGE RED PAISLEY', 'JUMBO BAG RED RETROSPOT'}\n",
            "26 -- [1221] {'LUNCH BAG  BLACK SKULL.', 'LUNCH BAG RED SPOTTY', 'LUNCH BAG CARS BLUE'}\n",
            "27 -- [1147] {'LUNCH BAG SPACEBOY DESIGN ', 'LUNCH BAG  BLACK SKULL.', 'LUNCH BAG PINK RETROSPOT'}\n",
            "28 -- [1143] {'LUNCH BAG WOODLAND', 'LUNCH BAG SPACEBOY DESIGN ', 'LUNCH BAG PINK RETROSPOT'}\n",
            "29 -- [1065] {'LUNCH BAG SPACEBOY DESIGN ', 'LUNCH BAG  BLACK SKULL.', 'LUNCH BAG CARS BLUE'}\n",
            "30 -- [1042] {'LUNCH BAG SPACEBOY DESIGN ', 'LUNCH BAG RED SPOTTY', 'LUNCH BAG CARS BLUE'}\n",
            "31 -- [1041] {'JUMBO SHOPPER VINTAGE RED PAISLEY', 'JUMBO  BAG BAROQUE BLACK WHITE', 'JUMBO BAG RED RETROSPOT'}\n",
            "32 -- [1032] {'HAND WARMER OWL DESIGN', 'HAND WARMER SCOTTY DOG DESIGN', 'HAND WARMER BIRD DESIGN'}\n",
            "33 -- [981] {'JUMBO BAG STRAWBERRY', 'JUMBO BAG PINK WITH WHITE SPOTS', 'JUMBO SHOPPER VINTAGE RED PAISLEY'}\n",
            "34 -- [933] {'PACK OF 72 SKULL CAKE CASES', 'PACK OF 72 RETRO SPOT CAKE CASES', 'PACK OF 60 DINOSAUR CAKE CASES'}\n",
            "35 -- [904] {'PACK OF 72 RETRO SPOT CAKE CASES', 'PACK OF 60 PINK PAISLEY CAKE CASES', '72 SWEETHEART FAIRY CAKE CASES'}\n",
            "36 -- [891] {'JUMBO BAG RED RETROSPOT', 'JUMBO  BAG BAROQUE BLACK WHITE', 'JUMBO STORAGE BAG SUKI'}\n",
            "37 -- [856] {'LUNCH BAG SPACEBOY DESIGN ', 'LUNCH BAG RED SPOTTY', 'LUNCH BAG PINK RETROSPOT'}\n",
            "38 -- [801] {'LUNCH BAG WOODLAND', 'LUNCH BAG  BLACK SKULL.', 'LUNCH BAG SPACEBOY DESIGN '}\n",
            "39 -- [793] {'LUNCH BAG WOODLAND', 'LUNCH BAG CARS BLUE', 'LUNCH BAG SPACEBOY DESIGN '}\n",
            "40 -- [789] {'LUNCH BAG SPACEBOY DESIGN ', 'LUNCH BAG  BLACK SKULL.', 'LUNCH BAG WOODLAND'}\n",
            "41 -- [787] {'72 SWEETHEART FAIRY CAKE CASES', '60 TEATIME FAIRY CAKE CASES', 'PACK OF 60 PINK PAISLEY CAKE CASES'}\n",
            "42 -- [771] {'LUNCH BAG  BLACK SKULL.', 'LUNCH BAG SPACEBOY DESIGN ', 'LUNCH BAG RED SPOTTY'}\n",
            "43 -- [767] {'LUNCH BAG WOODLAND', 'LUNCH BAG  BLACK SKULL.', 'LUNCH BAG CARS BLUE'}\n",
            "44 -- [736] {'LUNCH BAG SPACEBOY DESIGN ', 'LUNCH BAG  BLACK SKULL.', 'LUNCH BAG PINK RETROSPOT'}\n",
            "45 -- [731] {'LUNCH BAG SPACEBOY DESIGN ', 'LUNCH BAG RED SPOTTY', 'LUNCH BAG CARS BLUE'}\n",
            "46 -- [706] {'LUNCH BAG WOODLAND', 'LUNCH BAG PINK RETROSPOT', 'LUNCH BAG SPACEBOY DESIGN '}\n",
            "47 -- [705] {'LUNCH BAG WOODLAND', 'LUNCH BAG CARS BLUE', 'LUNCH BAG  BLACK SKULL.'}\n",
            "48 -- [693] {'LUNCH BAG SPACEBOY DESIGN ', 'LUNCH BAG  BLACK SKULL.', 'LUNCH BAG CARS BLUE'}\n",
            "49 -- [678] {'LUNCH BAG WOODLAND', 'LUNCH BAG  BLACK SKULL.', 'LUNCH BAG PINK RETROSPOT'}\n",
            "50 -- [671] {'LUNCH BAG WOODLAND', 'LUNCH BAG SPACEBOY DESIGN ', 'LUNCH BAG  BLACK SKULL.'}\n",
            "51 -- [658] {'LUNCH BAG WOODLAND', 'LUNCH BAG  BLACK SKULL.', 'LUNCH BAG CARS BLUE'}\n",
            "52 -- [635] {'LUNCH BAG  BLACK SKULL.', 'LUNCH BAG RED SPOTTY', 'LUNCH BAG PINK RETROSPOT'}\n",
            "53 -- [617] {'72 SWEETHEART FAIRY CAKE CASES', 'PACK OF 72 RETRO SPOT CAKE CASES', 'PACK OF 60 PINK PAISLEY CAKE CASES'}\n",
            "54 -- [617] {'JUMBO BAG STRAWBERRY', 'JUMBO BAG RED RETROSPOT', 'JUMBO STORAGE BAG SUKI'}\n",
            "55 -- [601] {'LUNCH BAG WOODLAND', 'LUNCH BAG PINK RETROSPOT', 'LUNCH BAG  BLACK SKULL.'}\n",
            "56 -- [559] {'LUNCH BAG  BLACK SKULL.', 'LUNCH BAG RED SPOTTY', 'LUNCH BAG CARS BLUE'}\n",
            "57 -- [550] {'JUMBO BAG STRAWBERRY', 'JUMBO BAG RED RETROSPOT', 'JUMBO STORAGE BAG SUKI'}\n",
            "58 -- [522] {'LUNCH BAG WOODLAND', 'LUNCH BAG  BLACK SKULL.', 'LUNCH BAG PINK RETROSPOT'}\n",
            "59 -- [444] {'JUMBO BAG STRAWBERRY', 'JUMBO STORAGE BAG SUKI', 'JUMBO BAG RED RETROSPOT'}\n",
            "60 -- [428] {'PACK OF 60 DINOSAUR CAKE CASES', '60 TEATIME FAIRY CAKE CASES', 'PACK OF 72 SKULL CAKE CASES'}\n",
            "61 -- [412] {'JUMBO STORAGE BAG SUKI', 'JUMBO  BAG BAROQUE BLACK WHITE', 'JUMBO BAG RED RETROSPOT'}\n",
            "62 -- [357] {'PACK OF 60 DINOSAUR CAKE CASES', 'PACK OF 72 RETRO SPOT CAKE CASES', 'PACK OF 72 SKULL CAKE CASES'}\n",
            "63 -- [351] {'JUMBO BAG STRAWBERRY', 'JUMBO SHOPPER VINTAGE RED PAISLEY', 'JUMBO BAG PINK WITH WHITE SPOTS'}\n"
          ],
          "name": "stdout"
        }
      ]
    },
    {
      "cell_type": "markdown",
      "metadata": {
        "id": "qHhtbxTsiCxN"
      },
      "source": [
        "Contamos los subconjuntos de 4 elementos frecuentes, cuyos posibles subconjuntos de 3 elementos también son frecuentes"
      ]
    },
    {
      "cell_type": "code",
      "metadata": {
        "id": "Fl1-Op5B5T4h"
      },
      "source": [
        "cont_t4 = Counter()\n",
        "for t in tdb['Description']:\n",
        "  tef = list(set(t) & set(ef))\n",
        "  s3 = [{tef[i],tef[j],tef[k]} \n",
        "        for i in range(len(tef)-2) \n",
        "        for j in range(i+1,len(tef)-1) \n",
        "        for k in range(j+1,len(tef))]\n",
        "  s3 = [e for e in s3 if e in st3f]\n",
        "  tef = [e for s in s3 for e in s]\n",
        "  for e in tef:\n",
        "    for s in s3:\n",
        "      if e not in s:\n",
        "        frecuentes = True\n",
        "        for i in range(len(s)-1):\n",
        "          for j in range(i+1,len(s)): \n",
        "            if {i,j,e} not in st3f:\n",
        "              frecuentes = False\n",
        "              \n",
        "        if frecuentes:\n",
        "          cont_t4[tuple(s + (e,))] += 1"
      ],
      "execution_count": 17,
      "outputs": []
    },
    {
      "cell_type": "markdown",
      "metadata": {
        "id": "vUPUTa24kGSe"
      },
      "source": [
        "Descatamos los que no tengan mínimo soporte"
      ]
    },
    {
      "cell_type": "code",
      "metadata": {
        "id": "h05sLdTTlveX",
        "colab": {
          "base_uri": "https://localhost:8080/"
        },
        "outputId": "70f00949-2c54-45c0-ebd5-4e1c93b188b9"
      },
      "source": [
        "print(cont_t4.items())\n",
        "st4f = [c[0] for c in cont_t4.items() if c[1] >= minoc] \n",
        "sop_t4 = [c[1] for c in cont_t4.items() if c[1] >= minoc]\n",
        "print(st4f)\n",
        "print(sop_t4)"
      ],
      "execution_count": 18,
      "outputs": [
        {
          "output_type": "stream",
          "text": [
            "dict_items([])\n",
            "[]\n",
            "[]\n"
          ],
          "name": "stdout"
        }
      ]
    }
  ]
}