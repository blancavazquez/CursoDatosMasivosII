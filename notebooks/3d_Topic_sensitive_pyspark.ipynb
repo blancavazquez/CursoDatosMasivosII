{
  "nbformat": 4,
  "nbformat_minor": 0,
  "metadata": {
    "colab": {
      "name": "Topic_sensitive.ipynb",
      "provenance": [],
      "collapsed_sections": [],
      "mount_file_id": "1QgLJHgEAHZ3q8R-FXhUw0nZt9ehVj0h1",
      "authorship_tag": "ABX9TyMKi/1kLtOGU/nGmPcluXsF",
      "include_colab_link": true
    },
    "kernelspec": {
      "name": "python3",
      "display_name": "Python 3"
    },
    "language_info": {
      "name": "python"
    }
  },
  "cells": [
    {
      "cell_type": "markdown",
      "metadata": {
        "id": "view-in-github",
        "colab_type": "text"
      },
      "source": [
        "<a href=\"https://colab.research.google.com/github/blancavazquez/CursoDatosMasivosII/blob/master/notebooks/3d_Topic_sensitive_pyspark.ipynb\" target=\"_parent\"><img src=\"https://colab.research.google.com/assets/colab-badge.svg\" alt=\"Open In Colab\"/></a>"
      ]
    },
    {
      "cell_type": "markdown",
      "metadata": {
        "id": "DKQDIEWSBbGj"
      },
      "source": [
        "## Algoritmo de Page Rank sensible al tópico usando pyspark"
      ]
    },
    {
      "cell_type": "code",
      "metadata": {
        "id": "vHnj2vz4ellZ"
      },
      "source": [
        "#!pip install pyspark\n",
        "#!pip install -U -q PyDrive\n",
        "#!apt install openjdk-8-jdk-headless -qq\n",
        "import os\n",
        "os.environ[\"JAVA_HOME\"] = \"/usr/lib/jvm/java-8-openjdk-amd64\""
      ],
      "execution_count": 1,
      "outputs": []
    },
    {
      "cell_type": "code",
      "metadata": {
        "id": "sgYgfAX_MXbR"
      },
      "source": [
        "import pyspark\n",
        "from pyspark import SparkContext\n",
        "from operator import add\n",
        "import re, sys\n",
        "import time\n",
        "sc = SparkContext(appName=\"TopicSensitive_pySpark\") # Initialize the spark context."
      ],
      "execution_count": 2,
      "outputs": []
    },
    {
      "cell_type": "code",
      "metadata": {
        "id": "goWMWnMfe2iu"
      },
      "source": [
        "def computeContribs(urls, rank):\n",
        "    num_urls = len(urls)\n",
        "    for url in urls: yield (url, rank / num_urls)\n",
        "\n",
        "\n",
        "def parseNeighbors(urls):\n",
        "    parts = re.split(r'\\s+', urls)\n",
        "    return parts[0], parts[1]"
      ],
      "execution_count": 3,
      "outputs": []
    },
    {
      "cell_type": "code",
      "metadata": {
        "id": "QdJgE18ejp9q"
      },
      "source": [
        "lines = sc.textFile('/content/drive/MyDrive/Colab Notebooks/datos_vinculos/data_hist.txt')\n",
        "topics = sc.textFile('/content/drive/MyDrive/Colab Notebooks/datos_vinculos/topics.txt')"
      ],
      "execution_count": 4,
      "outputs": []
    },
    {
      "cell_type": "code",
      "metadata": {
        "colab": {
          "base_uri": "https://localhost:8080/"
        },
        "id": "FiIWVNz1-_3g",
        "outputId": "c7112c4e-a46f-41ba-d3fb-4c81c5656230"
      },
      "source": [
        "lines.collect()"
      ],
      "execution_count": 5,
      "outputs": [
        {
          "output_type": "execute_result",
          "data": {
            "text/plain": [
              "['1 2', '1 3', '1 4', '2 1', '2 4', '3 5', '4 2', '4 3']"
            ]
          },
          "metadata": {},
          "execution_count": 5
        }
      ]
    },
    {
      "cell_type": "code",
      "metadata": {
        "colab": {
          "base_uri": "https://localhost:8080/"
        },
        "id": "-Ju6Eb0N-uPY",
        "outputId": "d57a1bd2-9cc3-495a-c5e2-7ae07e325f28"
      },
      "source": [
        "topics.collect()"
      ],
      "execution_count": 6,
      "outputs": [
        {
          "output_type": "execute_result",
          "data": {
            "text/plain": [
              "['2', '3']"
            ]
          },
          "metadata": {},
          "execution_count": 6
        }
      ]
    },
    {
      "cell_type": "code",
      "metadata": {
        "id": "5fXFZZVd9x9I"
      },
      "source": [
        "# create RDD\n",
        "links = lines.map(lambda urls: parseNeighbors(urls)).distinct().groupByKey().cache()\n",
        "# create RDD\n",
        "topics = topics.map(lambda urls: urls).distinct()"
      ],
      "execution_count": 7,
      "outputs": []
    },
    {
      "cell_type": "code",
      "metadata": {
        "colab": {
          "base_uri": "https://localhost:8080/"
        },
        "id": "DIjRlBcO_UHQ",
        "outputId": "c10a4c49-8074-4794-e3fa-fdc30cf542fe"
      },
      "source": [
        "# Loads all URLs with other URL(s) link to from input file and initialize ranks of them to one.\n",
        "ranks = links.map(lambda x: (x[0], 1.0))\n",
        "ranks.collect()"
      ],
      "execution_count": 8,
      "outputs": [
        {
          "output_type": "execute_result",
          "data": {
            "text/plain": [
              "[('1', 1.0), ('4', 1.0), ('3', 1.0), ('2', 1.0)]"
            ]
          },
          "metadata": {},
          "execution_count": 8
        }
      ]
    },
    {
      "cell_type": "code",
      "metadata": {
        "id": "4cY50Yly_qGI"
      },
      "source": [
        "# Calculates and updates URL ranks continuously using PageRank Topic sensitive algorithm.\n",
        "for iteration in range(10):\n",
        "\n",
        "  # Calculates URL contributions to the rank of other URLs.\n",
        "  contribs = links.join(ranks).flatMap(lambda url_urls_rank:computeContribs(url_urls_rank[1][0], url_urls_rank[1][1]))\n",
        "  \n",
        "  # Re-calculates URL ranks based on neighbor contributions.\n",
        "  ranks = contribs.reduceByKey(add).mapValues(lambda rank: rank * 0.85)\n",
        "  new_ranks = [(v[0], v[1]) for i, v in enumerate(ranks.collect())]\n",
        "  \n",
        "  for number, i in enumerate(new_ranks):\n",
        "    if i[0] in topics.collect():\n",
        "      new_ranks[number] = (i[0], i[1]+0.15)\n",
        "  \n",
        "  ranks = sc.parallelize(new_ranks)"
      ],
      "execution_count": 9,
      "outputs": []
    },
    {
      "cell_type": "code",
      "metadata": {
        "colab": {
          "base_uri": "https://localhost:8080/"
        },
        "id": "48pIyCotNF8K",
        "outputId": "94f592bf-3d94-4b74-d70b-6f045564990e"
      },
      "source": [
        "# Output final\n",
        "for link, rank in ranks.collect():\n",
        "  print(link, \"has rank:\", rank)"
      ],
      "execution_count": 10,
      "outputs": [
        {
          "output_type": "stream",
          "name": "stdout",
          "text": [
            "4 has rank: 0.13404400023101573\n",
            "3 has rank: 0.23928692021412215\n",
            "1 has rank: 0.10374045693056969\n",
            "2 has rank: 0.23928692021412215\n",
            "5 has rank: 0.20748091386113937\n"
          ]
        }
      ]
    },
    {
      "cell_type": "code",
      "metadata": {
        "id": "sAdHEEgIC2bj"
      },
      "source": [
        "sc.stop()"
      ],
      "execution_count": 11,
      "outputs": []
    }
  ]
}