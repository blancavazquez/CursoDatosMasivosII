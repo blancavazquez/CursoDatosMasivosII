{
  "nbformat": 4,
  "nbformat_minor": 0,
  "metadata": {
    "colab": {
      "name": "Topic_sensitive.ipynb",
      "provenance": [],
      "collapsed_sections": [],
      "mount_file_id": "1QgLJHgEAHZ3q8R-FXhUw0nZt9ehVj0h1",
      "authorship_tag": "ABX9TyNxc6Lwd7erkZ+t5kpRwm+d",
      "include_colab_link": true
    },
    "kernelspec": {
      "name": "python3",
      "display_name": "Python 3"
    },
    "language_info": {
      "name": "python"
    }
  },
  "cells": [
    {
      "cell_type": "markdown",
      "metadata": {
        "id": "view-in-github",
        "colab_type": "text"
      },
      "source": [
        "<a href=\"https://colab.research.google.com/github/blancavazquez/CursoDatosMasivosII/blob/master/notebooks/Topic_sensitive.ipynb\" target=\"_parent\"><img src=\"https://colab.research.google.com/assets/colab-badge.svg\" alt=\"Open In Colab\"/></a>"
      ]
    },
    {
      "cell_type": "markdown",
      "metadata": {
        "id": "DKQDIEWSBbGj"
      },
      "source": [
        "## Algoritmo de Page Rank sensible al tópico usando pyspark"
      ]
    },
    {
      "cell_type": "code",
      "metadata": {
        "id": "vHnj2vz4ellZ"
      },
      "source": [
        "#!pip install pyspark\n",
        "#!pip install -U -q PyDrive\n",
        "#!apt install openjdk-8-jdk-headless -qq\n",
        "import os\n",
        "os.environ[\"JAVA_HOME\"] = \"/usr/lib/jvm/java-8-openjdk-amd64\""
      ],
      "execution_count": 1,
      "outputs": []
    },
    {
      "cell_type": "code",
      "metadata": {
        "id": "goWMWnMfe2iu"
      },
      "source": [
        "def computeContribs(urls, rank):\n",
        "    num_urls = len(urls)\n",
        "    for url in urls: yield (url, rank / num_urls)\n",
        "\n",
        "\n",
        "def parseNeighbors(urls):\n",
        "    parts = re.split(r'\\s+', urls)\n",
        "    return parts[0], parts[1]"
      ],
      "execution_count": 2,
      "outputs": []
    },
    {
      "cell_type": "code",
      "metadata": {
        "id": "ExYthWJxhx6W"
      },
      "source": [
        "import pyspark\n",
        "from pyspark.sql.functions import * \n",
        "from pyspark.sql import SparkSession\n",
        "import re, sys\n",
        "from operator import add\n",
        "from pyspark import SparkContext\n",
        "import time\n",
        "sc = SparkContext()"
      ],
      "execution_count": 3,
      "outputs": []
    },
    {
      "cell_type": "code",
      "metadata": {
        "id": "QdJgE18ejp9q"
      },
      "source": [
        "lines = sc.textFile('/content/drive/MyDrive/Colab Notebooks/datos_vinculos/data_hist.txt')\n",
        "pages = sc.textFile('/content/drive/MyDrive/Colab Notebooks/datos_vinculos/topics.txt')"
      ],
      "execution_count": 4,
      "outputs": []
    },
    {
      "cell_type": "code",
      "metadata": {
        "colab": {
          "base_uri": "https://localhost:8080/"
        },
        "id": "FiIWVNz1-_3g",
        "outputId": "a4a91953-fcf6-4eb5-e9cd-e131bd1d242b"
      },
      "source": [
        "lines.collect()"
      ],
      "execution_count": 5,
      "outputs": [
        {
          "output_type": "execute_result",
          "data": {
            "text/plain": [
              "['1 2', '1 3', '1 4', '2 1', '2 4', '3 5', '4 2', '4 3']"
            ]
          },
          "metadata": {},
          "execution_count": 5
        }
      ]
    },
    {
      "cell_type": "code",
      "metadata": {
        "colab": {
          "base_uri": "https://localhost:8080/"
        },
        "id": "-Ju6Eb0N-uPY",
        "outputId": "66d30114-2612-4327-9464-c24aa4e69350"
      },
      "source": [
        "pages.collect()"
      ],
      "execution_count": 6,
      "outputs": [
        {
          "output_type": "execute_result",
          "data": {
            "text/plain": [
              "['2', '3']"
            ]
          },
          "metadata": {},
          "execution_count": 6
        }
      ]
    },
    {
      "cell_type": "code",
      "metadata": {
        "id": "5fXFZZVd9x9I"
      },
      "source": [
        "links = lines.map(lambda urls: parseNeighbors(urls)).distinct().groupByKey().cache()\n",
        "topics = pages.map(lambda urls: urls).distinct()"
      ],
      "execution_count": 7,
      "outputs": []
    },
    {
      "cell_type": "code",
      "metadata": {
        "colab": {
          "base_uri": "https://localhost:8080/"
        },
        "id": "DIjRlBcO_UHQ",
        "outputId": "a224fabd-7d4e-4f62-cd69-0ec7ea376a22"
      },
      "source": [
        "# Loads all URLs with other URL(s) link to from input file and initialize ranks of them to one.\n",
        "ranks = links.map(lambda x: (x[0], 1.0))\n",
        "ranks.collect()"
      ],
      "execution_count": 8,
      "outputs": [
        {
          "output_type": "execute_result",
          "data": {
            "text/plain": [
              "[('1', 1.0), ('4', 1.0), ('3', 1.0), ('2', 1.0)]"
            ]
          },
          "metadata": {},
          "execution_count": 8
        }
      ]
    },
    {
      "cell_type": "code",
      "metadata": {
        "colab": {
          "base_uri": "https://localhost:8080/"
        },
        "id": "4cY50Yly_qGI",
        "outputId": "e3685ddd-ab7a-43b7-ef30-96636b310783"
      },
      "source": [
        "# Calculates and updates URL ranks continuously using PageRank Topic sensitive algorithm.\n",
        "for iteration in range(int(10)):\n",
        "\n",
        "  # Calculates URL contributions to the rank of other URLs.\n",
        "  contribs = links.join(ranks).flatMap(lambda url_urls_rank:computeContribs(url_urls_rank[1][0], url_urls_rank[1][1]))\n",
        "  \n",
        "  # Re-calculates URL ranks based on neighbor contributions.\n",
        "  ranks = contribs.reduceByKey(add).mapValues(lambda rank: rank * 0.85)\n",
        "  new_ranks = [(v[0], v[1]) for i, v in enumerate(ranks.collect())]\n",
        "  \n",
        "  for number, i in enumerate(new_ranks):\n",
        "    if i[0] in topics.collect():\n",
        "      new_ranks[number] = (i[0], i[1]+0.15)\n",
        "  \n",
        "  ranks = sc.parallelize(new_ranks)\n",
        "\n",
        "# Collects all URL ranks and dump them to console.\n",
        "for link, rank in ranks.collect():\n",
        "  print(link, \"has rank:\", rank)"
      ],
      "execution_count": 9,
      "outputs": [
        {
          "output_type": "stream",
          "name": "stdout",
          "text": [
            "4 has rank: 0.13404400023101573\n",
            "3 has rank: 0.23928692021412215\n",
            "1 has rank: 0.10374045693056969\n",
            "2 has rank: 0.23928692021412215\n",
            "5 has rank: 0.20748091386113937\n"
          ]
        }
      ]
    },
    {
      "cell_type": "code",
      "metadata": {
        "id": "sAdHEEgIC2bj"
      },
      "source": [
        "sc.stop()"
      ],
      "execution_count": 10,
      "outputs": []
    }
  ]
}