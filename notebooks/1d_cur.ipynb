{
  "nbformat": 4,
  "nbformat_minor": 0,
  "metadata": {
    "kernelspec": {
      "display_name": "Python 3",
      "language": "python",
      "name": "python3"
    },
    "language_info": {
      "codemirror_mode": {
        "name": "ipython",
        "version": 3
      },
      "file_extension": ".py",
      "mimetype": "text/x-python",
      "name": "python",
      "nbconvert_exporter": "python",
      "pygments_lexer": "ipython3",
      "version": "3.6.9"
    },
    "colab": {
      "name": "1d_cur.ipynb",
      "provenance": [],
      "collapsed_sections": [],
      "include_colab_link": true
    }
  },
  "cells": [
    {
      "cell_type": "markdown",
      "metadata": {
        "id": "view-in-github",
        "colab_type": "text"
      },
      "source": [
        "<a href=\"https://colab.research.google.com/github/blancavazquez/CursoDatosMasivosII/blob/master/notebooks/1d_cur.ipynb\" target=\"_parent\"><img src=\"https://colab.research.google.com/assets/colab-badge.svg\" alt=\"Open In Colab\"/></a>"
      ]
    },
    {
      "cell_type": "code",
      "metadata": {
        "colab": {
          "base_uri": "https://localhost:8080/"
        },
        "id": "bS_mENRyfoMP",
        "outputId": "d9791a46-2e8e-45a0-a878-1704e168c4bc"
      },
      "source": [
        "from google.colab import drive\n",
        "drive.mount('/content/drive')"
      ],
      "execution_count": 1,
      "outputs": [
        {
          "output_type": "stream",
          "text": [
            "Drive already mounted at /content/drive; to attempt to forcibly remount, call drive.mount(\"/content/drive\", force_remount=True).\n"
          ],
          "name": "stdout"
        }
      ]
    },
    {
      "cell_type": "code",
      "metadata": {
        "id": "1PwcLzQReuTU"
      },
      "source": [
        "#https://shivankgoel.github.io/notes/ds/cur_decomposition_shivank.pdf\n",
        "import numpy as np\n",
        "import random\n",
        "from numpy.linalg import pinv as inv\n",
        "import matplotlib.pyplot as plt\n",
        "\n",
        "def decision(probability):\n",
        "    return random.random() < probability\n",
        "\n",
        "def colselect(A, k, row=False, eps=1):\n",
        "    c = (k * np.log(k)) / (eps*eps)\n",
        "    m,n=A.shape[0], A.shape[1]\n",
        "    u,s,vh=np.linalg.svd(A,full_matrices=False)\n",
        "    vh=vh[:k,:]\n",
        "    probs=(1/k)*(vh**2).sum(axis=0)\n",
        "    probs=[min(1,c*p) for p in probs]\n",
        "    idxs=[decision(p) for p in probs]\n",
        "    cols=A[:,idxs]\n",
        "    included_idx=[i for i in range(n) if idxs[i]]\n",
        "    if row:\n",
        "        return cols.T, included_idx\n",
        "    return cols,included_idx\n",
        "\n",
        "def cur_decompose(A,k,e=1,return_idx=False):\n",
        "    m,n=A.shape[0],A.shape[1]\n",
        "    if k>min(m,n):\n",
        "        return[],[],[]\n",
        "    C,includedcols=colselect(A,k,False,eps=e)\n",
        "    R,includedrows=colselect(A.T,k,True,eps=e)\n",
        "    U=inv(C)@A@inv(R)\n",
        "    if return_idx:\n",
        "        return C,U,R,includedcols,includedrows\n",
        "    return C,U,R\n",
        "\n",
        "def give_error(A,B):\n",
        "    return np.sqrt(((A-B)**2).sum())\n",
        "\n",
        "def give_svd_results(A,upto=10):\n",
        "    errors=[]\n",
        "    ks=[i for i in range(1,upto+1)]\n",
        "    a,b,c=np.linalg.svd(A)\n",
        "    for k in ks:\n",
        "        errors.append(give_error(A,a[:,:k]@np.diag(b[:k])@c[:k,:]))\n",
        "    return errors\n",
        "\n",
        "def give_cur_vals(A,k,N=10):\n",
        "    c,u,r,cols,rows=cur_decompose(A,k,return_idx=True)\n",
        "    err=give_error(A,c@u@r)\n",
        "    for i in range(N):\n",
        "        ctmp,utmp,rtmp,ctmp,rtmp=cur_decompose(A,k,return_idx=True)\n",
        "        errtemp=give_error(A,ctmp@utmp@rtmp)\n",
        "        if errtemp<err:\n",
        "            err=errtemp\n",
        "            c=ctmp\n",
        "            u=utmp\n",
        "            r=rtmp\n",
        "            cols=ctmp\n",
        "            rows=rtmp\n",
        "    return c,u,r,err,cols,rows\n",
        "\n",
        "def give_cur_results(A,upto=10):\n",
        "    errors=[]\n",
        "    ks=[i for i in range(1,upto+1)]\n",
        "    for k in ks:\n",
        "        a,b,c,err,rows,cols=give_cur_vals(A,k)\n",
        "        errors.append(err)\n",
        "    return errors\n",
        "\n",
        "def plot_cur_and_svd_error(A,upto=10):\n",
        "    errs1=give_svd_results(A,upto)\n",
        "    errs2=give_cur_results(A,upto)\n",
        "    x=[i for i in range(1,upto+1)]\n",
        "    plt.plot(x,errs1,'b-',label='SVD')\n",
        "    plt.plot(x,errs2,'r-',label='CUR')\n",
        "    plt.xlabel(\"Value_of_k\")\n",
        "    plt.ylabel(\"Reconstruction_Error:_Forbenius_Norm\")\n",
        "    plt.title(\"CUR_vs_SVD_Reconstruction_Error\")\n",
        "    plt.legend(loc='best')\n",
        "    plt.show()"
      ],
      "execution_count": 2,
      "outputs": []
    },
    {
      "cell_type": "code",
      "metadata": {
        "colab": {
          "base_uri": "https://localhost:8080/"
        },
        "id": "f41KLd2oeuTV",
        "outputId": "e7fe178a-558b-485a-8e1b-bd2eef380b56"
      },
      "source": [
        "def getdata():\n",
        "    file=open('/content/drive/MyDrive/Colab Notebooks/images/u.data','r')\n",
        "    usermovies=np.zeros((943,1682))\n",
        "    entries=[[int(t)for t in k.split('\\t')]for k in file.readlines()]\n",
        "    for e in entries:\n",
        "        usermovies[e[0]-1,e[1]-1]=e[2]\n",
        "    print(\"usermovies::\",usermovies.shape)\n",
        "    print(\"usermovies::\\n\",usermovies)\n",
        "    return usermovies\n",
        "\n",
        "usermovies=getdata()"
      ],
      "execution_count": 3,
      "outputs": [
        {
          "output_type": "stream",
          "text": [
            "usermovies:: (943, 1682)\n",
            "usermovies::\n",
            " [[5. 3. 4. ... 0. 0. 0.]\n",
            " [4. 0. 0. ... 0. 0. 0.]\n",
            " [0. 0. 0. ... 0. 0. 0.]\n",
            " ...\n",
            " [5. 0. 0. ... 0. 0. 0.]\n",
            " [0. 0. 0. ... 0. 0. 0.]\n",
            " [0. 5. 0. ... 0. 0. 0.]]\n"
          ],
          "name": "stdout"
        }
      ]
    },
    {
      "cell_type": "code",
      "metadata": {
        "scrolled": true,
        "colab": {
          "base_uri": "https://localhost:8080/",
          "height": 296
        },
        "id": "i26tQJ_heuTW",
        "outputId": "f0bc4aec-60dc-412b-c77a-c677f8b49c8e"
      },
      "source": [
        "plot_cur_and_svd_error(usermovies,upto=10)"
      ],
      "execution_count": 4,
      "outputs": [
        {
          "output_type": "display_data",
          "data": {
            "image/png": "[encoded data removed]",
            "text/plain": [
              "<Figure size 432x288 with 1 Axes>"
            ]
          },
          "metadata": {
            "tags": [],
            "needs_background": "light"
          }
        }
      ]
    }
  ]
}