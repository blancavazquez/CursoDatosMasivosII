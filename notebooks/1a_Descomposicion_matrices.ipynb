{
  "nbformat": 4,
  "nbformat_minor": 0,
  "metadata": {
    "kernelspec": {
      "display_name": "Python 3",
      "language": "python",
      "name": "python3"
    },
    "language_info": {
      "codemirror_mode": {
        "name": "ipython",
        "version": 3
      },
      "file_extension": ".py",
      "mimetype": "text/x-python",
      "name": "python",
      "nbconvert_exporter": "python",
      "pygments_lexer": "ipython3",
      "version": "3.8.3"
    },
    "colab": {
      "name": "1a_eigenvalues.ipynb",
      "provenance": [],
      "collapsed_sections": [],
      "include_colab_link": true
    }
  },
  "cells": [
    {
      "cell_type": "markdown",
      "metadata": {
        "id": "view-in-github",
        "colab_type": "text"
      },
      "source": [
        "<a href=\"https://colab.research.google.com/github/blancavazquez/CursoDatosMasivosII/blob/master/notebooks/1a_Descomposicion_matrices.ipynb\" target=\"_parent\"><img src=\"https://colab.research.google.com/assets/colab-badge.svg\" alt=\"Open In Colab\"/></a>"
      ]
    },
    {
      "cell_type": "markdown",
      "metadata": {
        "id": "FXDzd4LXPtpe"
      },
      "source": [
        "## Descomposición propia de una matriz"
      ]
    },
    {
      "cell_type": "markdown",
      "metadata": {
        "id": "glmR1sCLPtpf"
      },
      "source": [
        "Una de los tipos de descomposición matricial más utilizados se llama \"descomposición propia\" que consiste en descomponer una matriz en un conjuntos de vectores propios y valores propios.\n",
        "\n",
        "- Los vectores propios (eigenvectores): son vectores unitarios en los cuales su tamaño o magnitud es igual a 1.\n",
        "- Los valores propios (eigenvalores): son coeficientes aplicados a los valores propios \n",
        "\n",
        "\n",
        "#### Importancia de la descomposición de una matriz\n",
        "- La descomposición puede ser usada para calcular los componentes principales de una matriz en el método de \"Análisis de Componentes Principales (PCA, por sus siglas en inglés)\" y que se usa para reducir la dimensionalidad de los datos.\n",
        "\n",
        "Para calcular la descomposición de una matriz A, emplearemos la función de Numpy llamada eig()."
      ]
    },
    {
      "cell_type": "code",
      "metadata": {
        "id": "D8XbrwHmPtpg",
        "colab": {
          "base_uri": "https://localhost:8080/"
        },
        "outputId": "c62dc46a-a0cc-4c41-f00f-d24c8ea237f1"
      },
      "source": [
        "from numpy import array\n",
        "from numpy.linalg import eig\n",
        "\n",
        "#Se define la matriz\n",
        "A = array([[9,8,7],[6,5,4],[3,2,1]])\n",
        "print(A)"
      ],
      "execution_count": 1,
      "outputs": [
        {
          "output_type": "stream",
          "text": [
            "[[9 8 7]\n",
            " [6 5 4]\n",
            " [3 2 1]]\n"
          ],
          "name": "stdout"
        }
      ]
    },
    {
      "cell_type": "code",
      "metadata": {
        "id": "O7poQlZsPtpg",
        "colab": {
          "base_uri": "https://localhost:8080/"
        },
        "outputId": "137075be-8a76-4d1f-96ec-d80df74b8067"
      },
      "source": [
        "#Calculando los valores propios y vectores propios\n",
        "valores, vectores = eig(A)\n",
        "print(\"Eigenvalores: \\n\", valores)\n",
        "print(\"Eigenvalores: \\n\",vectores)"
      ],
      "execution_count": 12,
      "outputs": [
        {
          "output_type": "stream",
          "text": [
            "Eigenvalores: \n",
            " [ 1.61168440e+01 -1.11684397e+00 -9.75918483e-16]\n",
            "Eigenvalores: \n",
            " [[-0.23197069 -0.78583024  0.40824829]\n",
            " [-0.52532209 -0.08675134 -0.81649658]\n",
            " [-0.8186735   0.61232756  0.40824829]]\n"
          ],
          "name": "stdout"
        }
      ]
    },
    {
      "cell_type": "markdown",
      "metadata": {
        "id": "YaUrafyBPtph"
      },
      "source": [
        "## Reconstrucción de la matriz original\n",
        "Es posible reconstruir la matriz original a partir de los vectores propios y valores propios."
      ]
    },
    {
      "cell_type": "code",
      "metadata": {
        "id": "9KGF2bJcPtph"
      },
      "source": [
        "from numpy import diag\n",
        "from numpy import dot\n",
        "from numpy.linalg import inv\n",
        "from numpy import array\n",
        "from numpy.linalg import eig"
      ],
      "execution_count": 3,
      "outputs": []
    },
    {
      "cell_type": "code",
      "metadata": {
        "id": "Q68jIRBqPtph",
        "colab": {
          "base_uri": "https://localhost:8080/"
        },
        "outputId": "491fa9c4-bcdd-4ff4-c6df-b33599ba0219"
      },
      "source": [
        "#Se define la matriz\n",
        "A = array([[1,2,3],[4,5,6],[7,8,9]])\n",
        "print(\"Matriz \\n\", A)\n",
        "#Calcular los valores y vectores propios\n",
        "valores, vectores = eig(A)\n",
        "print(\"Eigenvalores: \\n\", valores)\n",
        "print(\"Eigenvalores: \\n\",vectores)"
      ],
      "execution_count": 11,
      "outputs": [
        {
          "output_type": "stream",
          "text": [
            "Matriz \n",
            " [[1 2 3]\n",
            " [4 5 6]\n",
            " [7 8 9]]\n",
            "Eigenvalores: \n",
            " [ 1.61168440e+01 -1.11684397e+00 -9.75918483e-16]\n",
            "Eigenvalores: \n",
            " [[-0.23197069 -0.78583024  0.40824829]\n",
            " [-0.52532209 -0.08675134 -0.81649658]\n",
            " [-0.8186735   0.61232756  0.40824829]]\n"
          ],
          "name": "stdout"
        }
      ]
    },
    {
      "cell_type": "code",
      "metadata": {
        "id": "xiEsbl4BPtph",
        "colab": {
          "base_uri": "https://localhost:8080/"
        },
        "outputId": "52126254-ecd6-4a4a-d4cf-694f04ee77c4"
      },
      "source": [
        "#Crear una matriz a partir de los vectores propios\n",
        "m_vectores_propios = vectores\n",
        "print(m_vectores_propios)"
      ],
      "execution_count": 5,
      "outputs": [
        {
          "output_type": "stream",
          "text": [
            "[[-0.23197069 -0.78583024  0.40824829]\n",
            " [-0.52532209 -0.08675134 -0.81649658]\n",
            " [-0.8186735   0.61232756  0.40824829]]\n"
          ],
          "name": "stdout"
        }
      ]
    },
    {
      "cell_type": "code",
      "metadata": {
        "id": "Vt_DT9wBPtpi",
        "colab": {
          "base_uri": "https://localhost:8080/"
        },
        "outputId": "d3fc7b78-31be-4c83-eedf-ae71c2fab031"
      },
      "source": [
        "#Crear una matriz inversa de los vectores propios\n",
        "m_inversa = inv(m_vectores_propios)\n",
        "print(m_inversa)"
      ],
      "execution_count": 6,
      "outputs": [
        {
          "output_type": "stream",
          "text": [
            "[[-0.48295226 -0.59340999 -0.70386772]\n",
            " [-0.91788599 -0.24901003  0.41986593]\n",
            " [ 0.40824829 -0.81649658  0.40824829]]\n"
          ],
          "name": "stdout"
        }
      ]
    },
    {
      "cell_type": "code",
      "metadata": {
        "id": "shMORCVuPtpi",
        "colab": {
          "base_uri": "https://localhost:8080/"
        },
        "outputId": "12759154-eb5c-448f-a523-54c669b4a59b"
      },
      "source": [
        "#Crear una matriz diagonal para los valores propios\n",
        "m_diagonal = diag(valores)\n",
        "print(m_diagonal)"
      ],
      "execution_count": 7,
      "outputs": [
        {
          "output_type": "stream",
          "text": [
            "[[ 1.61168440e+01  0.00000000e+00  0.00000000e+00]\n",
            " [ 0.00000000e+00 -1.11684397e+00  0.00000000e+00]\n",
            " [ 0.00000000e+00  0.00000000e+00 -9.75918483e-16]]\n"
          ],
          "name": "stdout"
        }
      ]
    },
    {
      "cell_type": "code",
      "metadata": {
        "id": "HI3RALIOPtpi",
        "colab": {
          "base_uri": "https://localhost:8080/"
        },
        "outputId": "6ba5bf75-e68c-406e-cd0c-97bc73376c70"
      },
      "source": [
        "#Reconstruir la matriz original, usando la función producto punto .dot() de numpy\n",
        "m_original = m_vectores_propios.dot(m_diagonal).dot(m_inversa)\n",
        "print(m_original)"
      ],
      "execution_count": 8,
      "outputs": [
        {
          "output_type": "stream",
          "text": [
            "[[1. 2. 3.]\n",
            " [4. 5. 6.]\n",
            " [7. 8. 9.]]\n"
          ],
          "name": "stdout"
        }
      ]
    }
  ]
}