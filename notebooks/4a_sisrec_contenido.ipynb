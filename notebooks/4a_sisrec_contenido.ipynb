{
  "nbformat": 4,
  "nbformat_minor": 0,
  "metadata": {
    "colab": {
      "name": "4a_sisrec_contenido.ipynb",
      "provenance": [],
      "collapsed_sections": [],
      "authorship_tag": "ABX9TyN0Cmj17g4WglgacFOB4i26",
      "include_colab_link": true
    },
    "kernelspec": {
      "name": "python3",
      "display_name": "Python 3"
    }
  },
  "cells": [
    {
      "cell_type": "markdown",
      "metadata": {
        "id": "view-in-github",
        "colab_type": "text"
      },
      "source": [
        "<a href=\"https://colab.research.google.com/github/blancavazquez/CursoDatosMasivosII/blob/master/notebooks/4a_sisrec_contenido.ipynb\" target=\"_parent\"><img src=\"https://colab.research.google.com/assets/colab-badge.svg\" alt=\"Open In Colab\"/></a>"
      ]
    },
    {
      "cell_type": "markdown",
      "metadata": {
        "id": "zQ8DARaaW95M"
      },
      "source": [
        "# Sistema de recomendación de películas\n",
        "En esta libreta programaremos un sistema de recomendación de películas basado en contenido. "
      ]
    },
    {
      "cell_type": "code",
      "metadata": {
        "id": "I9RO2kUoSo-9"
      },
      "source": [
        "import numpy as np\n",
        "import pandas as pd\n",
        "import matplotlib.pyplot as plt\n",
        "from sklearn.feature_extraction.text import CountVectorizer\n",
        "\n",
        "from collections import Counter"
      ],
      "execution_count": 1,
      "outputs": []
    },
    {
      "cell_type": "markdown",
      "metadata": {
        "id": "gifq-VmSXaIs"
      },
      "source": [
        "## Conjunto de datos MovieLens\n",
        "Para ello usaremos la versión _small_ del conjunto de datos [MovieLens](https://grouplens.org/datasets/movielens/). Esta versión incluye 100,000 calificaciones y 3,600 etiquetas de 9,000 películas realizadas por 600 usarios distintos.\n"
      ]
    },
    {
      "cell_type": "code",
      "metadata": {
        "colab": {
          "base_uri": "https://localhost:8080/"
        },
        "id": "rq53qYQ-5yCR",
        "outputId": "5f259d62-e9c2-464c-d1d1-a0fe4a6ceccf"
      },
      "source": [
        "!wget http://files.grouplens.org/datasets/movielens/ml-latest-small.zip\n",
        "!unzip ml-latest-small.zip"
      ],
      "execution_count": 2,
      "outputs": [
        {
          "output_type": "stream",
          "text": [
            "--2021-01-17 21:29:56--  http://files.grouplens.org/datasets/movielens/ml-latest-small.zip\n",
            "Resolving files.grouplens.org (files.grouplens.org)... 128.101.65.152\n",
            "Connecting to files.grouplens.org (files.grouplens.org)|128.101.65.152|:80... connected.\n",
            "HTTP request sent, awaiting response... 200 OK\n",
            "Length: 978202 (955K) [application/zip]\n",
            "Saving to: ‘ml-latest-small.zip’\n",
            "\n",
            "ml-latest-small.zip 100%[===================>] 955.28K  1.50MB/s    in 0.6s    \n",
            "\n",
            "2021-01-17 21:29:57 (1.50 MB/s) - ‘ml-latest-small.zip’ saved [978202/978202]\n",
            "\n",
            "Archive:  ml-latest-small.zip\n",
            "   creating: ml-latest-small/\n",
            "  inflating: ml-latest-small/links.csv  \n",
            "  inflating: ml-latest-small/tags.csv  \n",
            "  inflating: ml-latest-small/ratings.csv  \n",
            "  inflating: ml-latest-small/README.txt  \n",
            "  inflating: ml-latest-small/movies.csv  \n"
          ],
          "name": "stdout"
        }
      ]
    },
    {
      "cell_type": "markdown",
      "metadata": {
        "id": "7tIK3ztw9aLt"
      },
      "source": [
        "Cargamos las calificaciones, las etiquetas y las películas, las cuales se encuentran en archivos CSV."
      ]
    },
    {
      "cell_type": "code",
      "metadata": {
        "id": "bxKxlL_T7jzF"
      },
      "source": [
        "ratings = pd.read_csv('ml-latest-small/ratings.csv')\n",
        "tags = pd.read_csv('ml-latest-small/tags.csv')\n",
        "movies = pd.read_csv('ml-latest-small/movies.csv')"
      ],
      "execution_count": 3,
      "outputs": []
    },
    {
      "cell_type": "markdown",
      "metadata": {
        "id": "KngyMHmu95Ef"
      },
      "source": [
        "Las etiquetas son asignadas por usuarios a una película. Un usuario puede etiquetar distintas películas y una pelicula puede estar etiquetada por múltiples usuarios.  "
      ]
    },
    {
      "cell_type": "code",
      "metadata": {
        "colab": {
          "base_uri": "https://localhost:8080/",
          "height": 202
        },
        "id": "c8sBV3-AaPsJ",
        "outputId": "b298a556-3ef6-4610-fc15-b3e4cec6db30"
      },
      "source": [
        "tags = tags.dropna()\r\n",
        "tags.head()"
      ],
      "execution_count": 4,
      "outputs": [
        {
          "output_type": "execute_result",
          "data": {
            "text/html": [
              "<div>\n",
              "<style scoped>\n",
              "    .dataframe tbody tr th:only-of-type {\n",
              "        vertical-align: middle;\n",
              "    }\n",
              "\n",
              "    .dataframe tbody tr th {\n",
              "        vertical-align: top;\n",
              "    }\n",
              "\n",
              "    .dataframe thead th {\n",
              "        text-align: right;\n",
              "    }\n",
              "</style>\n",
              "<table border=\"1\" class=\"dataframe\">\n",
              "  <thead>\n",
              "    <tr style=\"text-align: right;\">\n",
              "      <th></th>\n",
              "      <th>userId</th>\n",
              "      <th>movieId</th>\n",
              "      <th>tag</th>\n",
              "      <th>timestamp</th>\n",
              "    </tr>\n",
              "  </thead>\n",
              "  <tbody>\n",
              "    <tr>\n",
              "      <th>0</th>\n",
              "      <td>2</td>\n",
              "      <td>60756</td>\n",
              "      <td>funny</td>\n",
              "      <td>1445714994</td>\n",
              "    </tr>\n",
              "    <tr>\n",
              "      <th>1</th>\n",
              "      <td>2</td>\n",
              "      <td>60756</td>\n",
              "      <td>Highly quotable</td>\n",
              "      <td>1445714996</td>\n",
              "    </tr>\n",
              "    <tr>\n",
              "      <th>2</th>\n",
              "      <td>2</td>\n",
              "      <td>60756</td>\n",
              "      <td>will ferrell</td>\n",
              "      <td>1445714992</td>\n",
              "    </tr>\n",
              "    <tr>\n",
              "      <th>3</th>\n",
              "      <td>2</td>\n",
              "      <td>89774</td>\n",
              "      <td>Boxing story</td>\n",
              "      <td>1445715207</td>\n",
              "    </tr>\n",
              "    <tr>\n",
              "      <th>4</th>\n",
              "      <td>2</td>\n",
              "      <td>89774</td>\n",
              "      <td>MMA</td>\n",
              "      <td>1445715200</td>\n",
              "    </tr>\n",
              "  </tbody>\n",
              "</table>\n",
              "</div>"
            ],
            "text/plain": [
              "   userId  movieId              tag   timestamp\n",
              "0       2    60756            funny  1445714994\n",
              "1       2    60756  Highly quotable  1445714996\n",
              "2       2    60756     will ferrell  1445714992\n",
              "3       2    89774     Boxing story  1445715207\n",
              "4       2    89774              MMA  1445715200"
            ]
          },
          "metadata": {
            "tags": []
          },
          "execution_count": 4
        }
      ]
    },
    {
      "cell_type": "markdown",
      "metadata": {
        "id": "7IOJHrbZ-adb"
      },
      "source": [
        "Agrupamos las etiquetas por película. "
      ]
    },
    {
      "cell_type": "code",
      "metadata": {
        "colab": {
          "base_uri": "https://localhost:8080/",
          "height": 237
        },
        "id": "D6zZ7vkTatYc",
        "outputId": "0b3327a9-8d21-4f20-8162-7e0fc1c8f7d7"
      },
      "source": [
        "movietags = tags.groupby(['movieId'])['tag'].apply(set).reset_index(name='tags')\n",
        "tagcount = Counter(t for r in movietags['tags'] for t in r)\n",
        "print('{0} películas tienen al menos una etiqueta asociada por usuarios'.format(tags.shape[0]))\n",
        "print('Hay {0} etiquetas distintas'.format(len(tagcount.keys())))\n",
        "movietags.head()"
      ],
      "execution_count": 5,
      "outputs": [
        {
          "output_type": "stream",
          "text": [
            "3683 películas tienen al menos una etiqueta asociada por usuarios\n",
            "Hay 1589 etiquetas distintas\n"
          ],
          "name": "stdout"
        },
        {
          "output_type": "execute_result",
          "data": {
            "text/html": [
              "<div>\n",
              "<style scoped>\n",
              "    .dataframe tbody tr th:only-of-type {\n",
              "        vertical-align: middle;\n",
              "    }\n",
              "\n",
              "    .dataframe tbody tr th {\n",
              "        vertical-align: top;\n",
              "    }\n",
              "\n",
              "    .dataframe thead th {\n",
              "        text-align: right;\n",
              "    }\n",
              "</style>\n",
              "<table border=\"1\" class=\"dataframe\">\n",
              "  <thead>\n",
              "    <tr style=\"text-align: right;\">\n",
              "      <th></th>\n",
              "      <th>movieId</th>\n",
              "      <th>tags</th>\n",
              "    </tr>\n",
              "  </thead>\n",
              "  <tbody>\n",
              "    <tr>\n",
              "      <th>0</th>\n",
              "      <td>1</td>\n",
              "      <td>{pixar, fun}</td>\n",
              "    </tr>\n",
              "    <tr>\n",
              "      <th>1</th>\n",
              "      <td>2</td>\n",
              "      <td>{Robin Williams, magic board game, fantasy, game}</td>\n",
              "    </tr>\n",
              "    <tr>\n",
              "      <th>2</th>\n",
              "      <td>3</td>\n",
              "      <td>{old, moldy}</td>\n",
              "    </tr>\n",
              "    <tr>\n",
              "      <th>3</th>\n",
              "      <td>5</td>\n",
              "      <td>{remake, pregnancy}</td>\n",
              "    </tr>\n",
              "    <tr>\n",
              "      <th>4</th>\n",
              "      <td>7</td>\n",
              "      <td>{remake}</td>\n",
              "    </tr>\n",
              "  </tbody>\n",
              "</table>\n",
              "</div>"
            ],
            "text/plain": [
              "   movieId                                               tags\n",
              "0        1                                       {pixar, fun}\n",
              "1        2  {Robin Williams, magic board game, fantasy, game}\n",
              "2        3                                       {old, moldy}\n",
              "3        5                                {remake, pregnancy}\n",
              "4        7                                           {remake}"
            ]
          },
          "metadata": {
            "tags": []
          },
          "execution_count": 5
        }
      ]
    },
    {
      "cell_type": "markdown",
      "metadata": {
        "id": "u5DAcRy9-x8m"
      },
      "source": [
        "Graficamos el histograma de número de etiquetas por película."
      ]
    },
    {
      "cell_type": "code",
      "metadata": {
        "colab": {
          "base_uri": "https://localhost:8080/",
          "height": 279
        },
        "id": "CLsBd4okazsY",
        "outputId": "ece2aacf-25f5-4be6-8099-9011fc42dd6f"
      },
      "source": [
        "plt.bar(np.arange((len(tagcount.values()))), sorted(tagcount.values(), reverse=True))\n",
        "plt.xlabel(u'Etiqueta')\n",
        "plt.ylabel(u'Frecuencia')\n",
        "plt.show()"
      ],
      "execution_count": 6,
      "outputs": [
        {
          "output_type": "display_data",
          "data": {
            "image/png": "[encoded data removed]",
            "text/plain": [
              "<Figure size 432x288 with 1 Axes>"
            ]
          },
          "metadata": {
            "tags": [],
            "needs_background": "light"
          }
        }
      ]
    },
    {
      "cell_type": "code",
      "metadata": {
        "colab": {
          "base_uri": "https://localhost:8080/",
          "height": 362
        },
        "id": "62cjZ2YqeSZi",
        "outputId": "b8d23422-d368-47d9-d4b6-9f3204307324"
      },
      "source": [
        "etiqs = [e[0] for e in tagcount.most_common(20)]\n",
        "vals = [e[1] for e in tagcount.most_common(20)]\n",
        "plt.bar(etiqs, vals)\n",
        "plt.xticks(rotation='vertical')\n",
        "plt.xlabel(u'Etiqueta')\n",
        "plt.ylabel(u'Frecuencia')\n",
        "plt.show()"
      ],
      "execution_count": 7,
      "outputs": [
        {
          "output_type": "display_data",
          "data": {
            "image/png": "[encoded data removed]",
            "text/plain": [
              "<Figure size 432x288 with 1 Axes>"
            ]
          },
          "metadata": {
            "tags": [],
            "needs_background": "light"
          }
        }
      ]
    },
    {
      "cell_type": "markdown",
      "metadata": {
        "id": "DLXja19OLy05"
      },
      "source": [
        "Exploramos las calificaciones y visualizamos sus histogramas."
      ]
    },
    {
      "cell_type": "code",
      "metadata": {
        "colab": {
          "base_uri": "https://localhost:8080/",
          "height": 219
        },
        "id": "RKMgMbZxcK-C",
        "outputId": "424ee0c8-b303-4a61-8493-36ebf361a6b1"
      },
      "source": [
        "ratings = ratings.dropna()\n",
        "print('{0} calificaciones de usuarios a películas'.format(ratings.shape[0]))\n",
        "ratings.head()"
      ],
      "execution_count": 8,
      "outputs": [
        {
          "output_type": "stream",
          "text": [
            "100836 calificaciones de usuarios a películas\n"
          ],
          "name": "stdout"
        },
        {
          "output_type": "execute_result",
          "data": {
            "text/html": [
              "<div>\n",
              "<style scoped>\n",
              "    .dataframe tbody tr th:only-of-type {\n",
              "        vertical-align: middle;\n",
              "    }\n",
              "\n",
              "    .dataframe tbody tr th {\n",
              "        vertical-align: top;\n",
              "    }\n",
              "\n",
              "    .dataframe thead th {\n",
              "        text-align: right;\n",
              "    }\n",
              "</style>\n",
              "<table border=\"1\" class=\"dataframe\">\n",
              "  <thead>\n",
              "    <tr style=\"text-align: right;\">\n",
              "      <th></th>\n",
              "      <th>userId</th>\n",
              "      <th>movieId</th>\n",
              "      <th>rating</th>\n",
              "      <th>timestamp</th>\n",
              "    </tr>\n",
              "  </thead>\n",
              "  <tbody>\n",
              "    <tr>\n",
              "      <th>0</th>\n",
              "      <td>1</td>\n",
              "      <td>1</td>\n",
              "      <td>4.0</td>\n",
              "      <td>964982703</td>\n",
              "    </tr>\n",
              "    <tr>\n",
              "      <th>1</th>\n",
              "      <td>1</td>\n",
              "      <td>3</td>\n",
              "      <td>4.0</td>\n",
              "      <td>964981247</td>\n",
              "    </tr>\n",
              "    <tr>\n",
              "      <th>2</th>\n",
              "      <td>1</td>\n",
              "      <td>6</td>\n",
              "      <td>4.0</td>\n",
              "      <td>964982224</td>\n",
              "    </tr>\n",
              "    <tr>\n",
              "      <th>3</th>\n",
              "      <td>1</td>\n",
              "      <td>47</td>\n",
              "      <td>5.0</td>\n",
              "      <td>964983815</td>\n",
              "    </tr>\n",
              "    <tr>\n",
              "      <th>4</th>\n",
              "      <td>1</td>\n",
              "      <td>50</td>\n",
              "      <td>5.0</td>\n",
              "      <td>964982931</td>\n",
              "    </tr>\n",
              "  </tbody>\n",
              "</table>\n",
              "</div>"
            ],
            "text/plain": [
              "   userId  movieId  rating  timestamp\n",
              "0       1        1     4.0  964982703\n",
              "1       1        3     4.0  964981247\n",
              "2       1        6     4.0  964982224\n",
              "3       1       47     5.0  964983815\n",
              "4       1       50     5.0  964982931"
            ]
          },
          "metadata": {
            "tags": []
          },
          "execution_count": 8
        }
      ]
    },
    {
      "cell_type": "code",
      "metadata": {
        "id": "H-MfKrdDfR7a",
        "colab": {
          "base_uri": "https://localhost:8080/",
          "height": 279
        },
        "outputId": "387f0ab5-a2b9-4c67-90f5-6697a45c5809"
      },
      "source": [
        "plt.hist(ratings['rating'])\r\n",
        "plt.xlabel(u'Calificación')\r\n",
        "plt.ylabel(u'Frecuencia')\r\n",
        "plt.show()"
      ],
      "execution_count": 9,
      "outputs": [
        {
          "output_type": "display_data",
          "data": {
            "image/png": "[encoded data removed]",
            "text/plain": [
              "<Figure size 432x288 with 1 Axes>"
            ]
          },
          "metadata": {
            "tags": [],
            "needs_background": "light"
          }
        }
      ]
    },
    {
      "cell_type": "code",
      "metadata": {
        "colab": {
          "base_uri": "https://localhost:8080/",
          "height": 279
        },
        "id": "ajKQd7P7arnJ",
        "outputId": "10c516d5-6c1c-4e82-e9d0-c7f81d6ceaec"
      },
      "source": [
        "rvals = ratings.groupby(['movieId'])['rating'].size()\r\n",
        "plt.bar(np.arange((len(rvals))), sorted(rvals, reverse=True))\r\n",
        "plt.xlabel(u'Etiqueta')\r\n",
        "plt.ylabel(u'Número de calificaciones por película')\r\n",
        "plt.show()"
      ],
      "execution_count": 10,
      "outputs": [
        {
          "output_type": "display_data",
          "data": {
            "image/png": "[encoded data removed]",
            "text/plain": [
              "<Figure size 432x288 with 1 Axes>"
            ]
          },
          "metadata": {
            "tags": [],
            "needs_background": "light"
          }
        }
      ]
    },
    {
      "cell_type": "code",
      "metadata": {
        "colab": {
          "base_uri": "https://localhost:8080/",
          "height": 279
        },
        "id": "Tz7XXs9thcQK",
        "outputId": "c9e05ad1-e4c9-4fe4-87fd-e628cbd11054"
      },
      "source": [
        "rvals = ratings.groupby(['userId'])['rating'].size()\r\n",
        "plt.bar(np.arange((len(rvals))), sorted(rvals, reverse=True))\r\n",
        "plt.xlabel(u'Etiqueta')\r\n",
        "plt.ylabel(u'Número de calificaciones por usuario')\r\n",
        "plt.show()"
      ],
      "execution_count": 11,
      "outputs": [
        {
          "output_type": "display_data",
          "data": {
            "image/png": "[encoded data removed]",
            "text/plain": [
              "<Figure size 432x288 with 1 Axes>"
            ]
          },
          "metadata": {
            "tags": [],
            "needs_background": "light"
          }
        }
      ]
    },
    {
      "cell_type": "markdown",
      "metadata": {
        "id": "8JinuiSBMBVo"
      },
      "source": [
        "Binarizamos las calificaciones: mayores o iguales a cuatro como _me gusta_ (1) y menores como _no me gusta_ (0)."
      ]
    },
    {
      "cell_type": "code",
      "metadata": {
        "colab": {
          "base_uri": "https://localhost:8080/",
          "height": 202
        },
        "id": "ZH82F2KWk5OC",
        "outputId": "8cd42892-bbba-43e7-e564-dd79229e337f"
      },
      "source": [
        "pos = ratings['rating'] >= 4.0\r\n",
        "binrates = np.zeros(ratings['rating'].shape[0])\r\n",
        "binrates[pos.tolist()] = 1\r\n",
        "ratings['like'] = binrates\r\n",
        "ratings.head()"
      ],
      "execution_count": 12,
      "outputs": [
        {
          "output_type": "execute_result",
          "data": {
            "text/html": [
              "<div>\n",
              "<style scoped>\n",
              "    .dataframe tbody tr th:only-of-type {\n",
              "        vertical-align: middle;\n",
              "    }\n",
              "\n",
              "    .dataframe tbody tr th {\n",
              "        vertical-align: top;\n",
              "    }\n",
              "\n",
              "    .dataframe thead th {\n",
              "        text-align: right;\n",
              "    }\n",
              "</style>\n",
              "<table border=\"1\" class=\"dataframe\">\n",
              "  <thead>\n",
              "    <tr style=\"text-align: right;\">\n",
              "      <th></th>\n",
              "      <th>userId</th>\n",
              "      <th>movieId</th>\n",
              "      <th>rating</th>\n",
              "      <th>timestamp</th>\n",
              "      <th>like</th>\n",
              "    </tr>\n",
              "  </thead>\n",
              "  <tbody>\n",
              "    <tr>\n",
              "      <th>0</th>\n",
              "      <td>1</td>\n",
              "      <td>1</td>\n",
              "      <td>4.0</td>\n",
              "      <td>964982703</td>\n",
              "      <td>1.0</td>\n",
              "    </tr>\n",
              "    <tr>\n",
              "      <th>1</th>\n",
              "      <td>1</td>\n",
              "      <td>3</td>\n",
              "      <td>4.0</td>\n",
              "      <td>964981247</td>\n",
              "      <td>1.0</td>\n",
              "    </tr>\n",
              "    <tr>\n",
              "      <th>2</th>\n",
              "      <td>1</td>\n",
              "      <td>6</td>\n",
              "      <td>4.0</td>\n",
              "      <td>964982224</td>\n",
              "      <td>1.0</td>\n",
              "    </tr>\n",
              "    <tr>\n",
              "      <th>3</th>\n",
              "      <td>1</td>\n",
              "      <td>47</td>\n",
              "      <td>5.0</td>\n",
              "      <td>964983815</td>\n",
              "      <td>1.0</td>\n",
              "    </tr>\n",
              "    <tr>\n",
              "      <th>4</th>\n",
              "      <td>1</td>\n",
              "      <td>50</td>\n",
              "      <td>5.0</td>\n",
              "      <td>964982931</td>\n",
              "      <td>1.0</td>\n",
              "    </tr>\n",
              "  </tbody>\n",
              "</table>\n",
              "</div>"
            ],
            "text/plain": [
              "   userId  movieId  rating  timestamp  like\n",
              "0       1        1     4.0  964982703   1.0\n",
              "1       1        3     4.0  964981247   1.0\n",
              "2       1        6     4.0  964982224   1.0\n",
              "3       1       47     5.0  964983815   1.0\n",
              "4       1       50     5.0  964982931   1.0"
            ]
          },
          "metadata": {
            "tags": []
          },
          "execution_count": 12
        }
      ]
    },
    {
      "cell_type": "markdown",
      "metadata": {
        "id": "pfu0SXRcMVHF"
      },
      "source": [
        "Visualizamos el histograma de las calificaciones binarizadas."
      ]
    },
    {
      "cell_type": "code",
      "metadata": {
        "colab": {
          "base_uri": "https://localhost:8080/",
          "height": 279
        },
        "id": "RXUq5bY1nMxr",
        "outputId": "7316275d-4739-48ad-f2fb-66430f2c7ae3"
      },
      "source": [
        "plt.hist(ratings['like'])\r\n",
        "plt.xlabel(u'Me gusta')\r\n",
        "plt.ylabel(u'Frecuencia')\r\n",
        "plt.show()"
      ],
      "execution_count": 13,
      "outputs": [
        {
          "output_type": "display_data",
          "data": {
            "image/png": "[encoded data removed]",
            "text/plain": [
              "<Figure size 432x288 with 1 Axes>"
            ]
          },
          "metadata": {
            "tags": [],
            "needs_background": "light"
          }
        }
      ]
    },
    {
      "cell_type": "markdown",
      "metadata": {
        "id": "xm7E0mHsMdgD"
      },
      "source": [
        "Eliminamos valores faltantes de la tabla de películas, así como las películas sin género asignado (`(no genres listed)`)."
      ]
    },
    {
      "cell_type": "code",
      "metadata": {
        "colab": {
          "base_uri": "https://localhost:8080/",
          "height": 219
        },
        "id": "uIC6f2fCSPIZ",
        "outputId": "1bec66ce-504e-4cca-cf48-97410bab461d"
      },
      "source": [
        "movies = movies.dropna()\r\n",
        "movies = movies[movies['genres']!='(no genres listed)']\r\n",
        "print('{0} películas total'.format(movies.shape[0]))\r\n",
        "movies.head()"
      ],
      "execution_count": 14,
      "outputs": [
        {
          "output_type": "stream",
          "text": [
            "9708 películas total\n"
          ],
          "name": "stdout"
        },
        {
          "output_type": "execute_result",
          "data": {
            "text/html": [
              "<div>\n",
              "<style scoped>\n",
              "    .dataframe tbody tr th:only-of-type {\n",
              "        vertical-align: middle;\n",
              "    }\n",
              "\n",
              "    .dataframe tbody tr th {\n",
              "        vertical-align: top;\n",
              "    }\n",
              "\n",
              "    .dataframe thead th {\n",
              "        text-align: right;\n",
              "    }\n",
              "</style>\n",
              "<table border=\"1\" class=\"dataframe\">\n",
              "  <thead>\n",
              "    <tr style=\"text-align: right;\">\n",
              "      <th></th>\n",
              "      <th>movieId</th>\n",
              "      <th>title</th>\n",
              "      <th>genres</th>\n",
              "    </tr>\n",
              "  </thead>\n",
              "  <tbody>\n",
              "    <tr>\n",
              "      <th>0</th>\n",
              "      <td>1</td>\n",
              "      <td>Toy Story (1995)</td>\n",
              "      <td>Adventure|Animation|Children|Comedy|Fantasy</td>\n",
              "    </tr>\n",
              "    <tr>\n",
              "      <th>1</th>\n",
              "      <td>2</td>\n",
              "      <td>Jumanji (1995)</td>\n",
              "      <td>Adventure|Children|Fantasy</td>\n",
              "    </tr>\n",
              "    <tr>\n",
              "      <th>2</th>\n",
              "      <td>3</td>\n",
              "      <td>Grumpier Old Men (1995)</td>\n",
              "      <td>Comedy|Romance</td>\n",
              "    </tr>\n",
              "    <tr>\n",
              "      <th>3</th>\n",
              "      <td>4</td>\n",
              "      <td>Waiting to Exhale (1995)</td>\n",
              "      <td>Comedy|Drama|Romance</td>\n",
              "    </tr>\n",
              "    <tr>\n",
              "      <th>4</th>\n",
              "      <td>5</td>\n",
              "      <td>Father of the Bride Part II (1995)</td>\n",
              "      <td>Comedy</td>\n",
              "    </tr>\n",
              "  </tbody>\n",
              "</table>\n",
              "</div>"
            ],
            "text/plain": [
              "   movieId  ...                                       genres\n",
              "0        1  ...  Adventure|Animation|Children|Comedy|Fantasy\n",
              "1        2  ...                   Adventure|Children|Fantasy\n",
              "2        3  ...                               Comedy|Romance\n",
              "3        4  ...                         Comedy|Drama|Romance\n",
              "4        5  ...                                       Comedy\n",
              "\n",
              "[5 rows x 3 columns]"
            ]
          },
          "metadata": {
            "tags": []
          },
          "execution_count": 14
        }
      ]
    },
    {
      "cell_type": "markdown",
      "metadata": {
        "id": "x6GrWwF3QCl6"
      },
      "source": [
        "Visualizamos los histogramas de géneros."
      ]
    },
    {
      "cell_type": "code",
      "metadata": {
        "colab": {
          "base_uri": "https://localhost:8080/",
          "height": 337
        },
        "id": "33nVzsiMTSnw",
        "outputId": "76ac27ee-ee31-415e-afaf-3517490e24a4"
      },
      "source": [
        "gcount = Counter(g for r in movies['genres'] for g in r.split('|'))\n",
        "plt.bar(gcount.keys(), gcount.values())\n",
        "plt.xticks(rotation='vertical')\n",
        "plt.xlabel(u'Género')\n",
        "plt.ylabel(u'Frecuencia')\n",
        "plt.show()"
      ],
      "execution_count": 15,
      "outputs": [
        {
          "output_type": "display_data",
          "data": {
            "image/png": "[encoded data removed]",
            "text/plain": [
              "<Figure size 432x288 with 1 Axes>"
            ]
          },
          "metadata": {
            "tags": [],
            "needs_background": "light"
          }
        }
      ]
    },
    {
      "cell_type": "code",
      "metadata": {
        "colab": {
          "base_uri": "https://localhost:8080/",
          "height": 280
        },
        "id": "bKYoVwcETVlR",
        "outputId": "4285c763-294a-4e28-b3d5-f15a0d7557d3"
      },
      "source": [
        "n_genres = Counter(len(r.split('|')) for r in movies['genres'])\n",
        "plt.bar(n_genres.keys(), n_genres.values())\n",
        "plt.xlabel(u'Número de géneros')\n",
        "plt.ylabel(u'Frecuencia')\n",
        "plt.xticks(range(11))\n",
        "plt.show()"
      ],
      "execution_count": 16,
      "outputs": [
        {
          "output_type": "display_data",
          "data": {
            "image/png": "[encoded data removed]",
            "text/plain": [
              "<Figure size 432x288 with 1 Axes>"
            ]
          },
          "metadata": {
            "tags": [],
            "needs_background": "light"
          }
        }
      ]
    },
    {
      "cell_type": "markdown",
      "metadata": {
        "id": "oGARLEEZi4UM"
      },
      "source": [
        "## Perfiles de películas"
      ]
    },
    {
      "cell_type": "markdown",
      "metadata": {
        "id": "W3hgKzgBNRAX"
      },
      "source": [
        "Convertimos la columna de géneros a múltiples variables binarias."
      ]
    },
    {
      "cell_type": "code",
      "metadata": {
        "colab": {
          "base_uri": "https://localhost:8080/",
          "height": 239
        },
        "id": "7qzXPVdekTsR",
        "outputId": "f5609b9d-9310-4636-ee47-c4481af2912f"
      },
      "source": [
        "pelis = movies['genres'].str.get_dummies(sep='|')\n",
        "pelis['movieId'] = movies['movieId']\n",
        "pelis.head()"
      ],
      "execution_count": 17,
      "outputs": [
        {
          "output_type": "execute_result",
          "data": {
            "text/html": [
              "<div>\n",
              "<style scoped>\n",
              "    .dataframe tbody tr th:only-of-type {\n",
              "        vertical-align: middle;\n",
              "    }\n",
              "\n",
              "    .dataframe tbody tr th {\n",
              "        vertical-align: top;\n",
              "    }\n",
              "\n",
              "    .dataframe thead th {\n",
              "        text-align: right;\n",
              "    }\n",
              "</style>\n",
              "<table border=\"1\" class=\"dataframe\">\n",
              "  <thead>\n",
              "    <tr style=\"text-align: right;\">\n",
              "      <th></th>\n",
              "      <th>Action</th>\n",
              "      <th>Adventure</th>\n",
              "      <th>Animation</th>\n",
              "      <th>Children</th>\n",
              "      <th>Comedy</th>\n",
              "      <th>Crime</th>\n",
              "      <th>Documentary</th>\n",
              "      <th>Drama</th>\n",
              "      <th>Fantasy</th>\n",
              "      <th>Film-Noir</th>\n",
              "      <th>Horror</th>\n",
              "      <th>IMAX</th>\n",
              "      <th>Musical</th>\n",
              "      <th>Mystery</th>\n",
              "      <th>Romance</th>\n",
              "      <th>Sci-Fi</th>\n",
              "      <th>Thriller</th>\n",
              "      <th>War</th>\n",
              "      <th>Western</th>\n",
              "      <th>movieId</th>\n",
              "    </tr>\n",
              "  </thead>\n",
              "  <tbody>\n",
              "    <tr>\n",
              "      <th>0</th>\n",
              "      <td>0</td>\n",
              "      <td>1</td>\n",
              "      <td>1</td>\n",
              "      <td>1</td>\n",
              "      <td>1</td>\n",
              "      <td>0</td>\n",
              "      <td>0</td>\n",
              "      <td>0</td>\n",
              "      <td>1</td>\n",
              "      <td>0</td>\n",
              "      <td>0</td>\n",
              "      <td>0</td>\n",
              "      <td>0</td>\n",
              "      <td>0</td>\n",
              "      <td>0</td>\n",
              "      <td>0</td>\n",
              "      <td>0</td>\n",
              "      <td>0</td>\n",
              "      <td>0</td>\n",
              "      <td>1</td>\n",
              "    </tr>\n",
              "    <tr>\n",
              "      <th>1</th>\n",
              "      <td>0</td>\n",
              "      <td>1</td>\n",
              "      <td>0</td>\n",
              "      <td>1</td>\n",
              "      <td>0</td>\n",
              "      <td>0</td>\n",
              "      <td>0</td>\n",
              "      <td>0</td>\n",
              "      <td>1</td>\n",
              "      <td>0</td>\n",
              "      <td>0</td>\n",
              "      <td>0</td>\n",
              "      <td>0</td>\n",
              "      <td>0</td>\n",
              "      <td>0</td>\n",
              "      <td>0</td>\n",
              "      <td>0</td>\n",
              "      <td>0</td>\n",
              "      <td>0</td>\n",
              "      <td>2</td>\n",
              "    </tr>\n",
              "    <tr>\n",
              "      <th>2</th>\n",
              "      <td>0</td>\n",
              "      <td>0</td>\n",
              "      <td>0</td>\n",
              "      <td>0</td>\n",
              "      <td>1</td>\n",
              "      <td>0</td>\n",
              "      <td>0</td>\n",
              "      <td>0</td>\n",
              "      <td>0</td>\n",
              "      <td>0</td>\n",
              "      <td>0</td>\n",
              "      <td>0</td>\n",
              "      <td>0</td>\n",
              "      <td>0</td>\n",
              "      <td>1</td>\n",
              "      <td>0</td>\n",
              "      <td>0</td>\n",
              "      <td>0</td>\n",
              "      <td>0</td>\n",
              "      <td>3</td>\n",
              "    </tr>\n",
              "    <tr>\n",
              "      <th>3</th>\n",
              "      <td>0</td>\n",
              "      <td>0</td>\n",
              "      <td>0</td>\n",
              "      <td>0</td>\n",
              "      <td>1</td>\n",
              "      <td>0</td>\n",
              "      <td>0</td>\n",
              "      <td>1</td>\n",
              "      <td>0</td>\n",
              "      <td>0</td>\n",
              "      <td>0</td>\n",
              "      <td>0</td>\n",
              "      <td>0</td>\n",
              "      <td>0</td>\n",
              "      <td>1</td>\n",
              "      <td>0</td>\n",
              "      <td>0</td>\n",
              "      <td>0</td>\n",
              "      <td>0</td>\n",
              "      <td>4</td>\n",
              "    </tr>\n",
              "    <tr>\n",
              "      <th>4</th>\n",
              "      <td>0</td>\n",
              "      <td>0</td>\n",
              "      <td>0</td>\n",
              "      <td>0</td>\n",
              "      <td>1</td>\n",
              "      <td>0</td>\n",
              "      <td>0</td>\n",
              "      <td>0</td>\n",
              "      <td>0</td>\n",
              "      <td>0</td>\n",
              "      <td>0</td>\n",
              "      <td>0</td>\n",
              "      <td>0</td>\n",
              "      <td>0</td>\n",
              "      <td>0</td>\n",
              "      <td>0</td>\n",
              "      <td>0</td>\n",
              "      <td>0</td>\n",
              "      <td>0</td>\n",
              "      <td>5</td>\n",
              "    </tr>\n",
              "  </tbody>\n",
              "</table>\n",
              "</div>"
            ],
            "text/plain": [
              "   Action  Adventure  Animation  Children  ...  Thriller  War  Western  movieId\n",
              "0       0          1          1         1  ...         0    0        0        1\n",
              "1       0          1          0         1  ...         0    0        0        2\n",
              "2       0          0          0         0  ...         0    0        0        3\n",
              "3       0          0          0         0  ...         0    0        0        4\n",
              "4       0          0          0         0  ...         0    0        0        5\n",
              "\n",
              "[5 rows x 20 columns]"
            ]
          },
          "metadata": {
            "tags": []
          },
          "execution_count": 17
        }
      ]
    },
    {
      "cell_type": "markdown",
      "metadata": {
        "id": "COGv9qHFNcj5"
      },
      "source": [
        "## Perfiles de usuarios\n",
        "Agrupamos todas las películas que le gustaron a un usuario en un solo registro y calculamos los perfiles de los usuarios como el promedio de las películas que le gustaron."
      ]
    },
    {
      "cell_type": "code",
      "metadata": {
        "id": "ap5rLPM5kTGU"
      },
      "source": [
        "def promedio_usuario(calif, pelis):\r\n",
        "  ids = calif['movieId']\r\n",
        "  pelis_usuario = pelis.loc[pelis['movieId'].isin(ids)]\r\n",
        "  pelis_usuario = pelis_usuario.drop('movieId', 1)\r\n",
        "  return pelis_usuario.mean()\r\n",
        "\r\n",
        "positivos = ratings[ratings['like']==1]\r\n",
        "usuarios = positivos.groupby(['userId'])['movieId'].apply(list).reset_index(name='movieId')\r\n",
        "perfiles_usuarios = positivos.groupby(['userId']).apply(promedio_usuario, pelis)"
      ],
      "execution_count": 18,
      "outputs": []
    },
    {
      "cell_type": "markdown",
      "metadata": {
        "id": "mgQMHMhYPaip"
      },
      "source": [
        "Desplegamos los primeros registros de la tabla de las películas agrupadas por usuario "
      ]
    },
    {
      "cell_type": "code",
      "metadata": {
        "colab": {
          "base_uri": "https://localhost:8080/",
          "height": 202
        },
        "id": "PDbCBloM-QGo",
        "outputId": "071c9cb3-9e9c-4d0f-dffc-f7775ae87fe1"
      },
      "source": [
        "usuarios.head()"
      ],
      "execution_count": 19,
      "outputs": [
        {
          "output_type": "execute_result",
          "data": {
            "text/html": [
              "<div>\n",
              "<style scoped>\n",
              "    .dataframe tbody tr th:only-of-type {\n",
              "        vertical-align: middle;\n",
              "    }\n",
              "\n",
              "    .dataframe tbody tr th {\n",
              "        vertical-align: top;\n",
              "    }\n",
              "\n",
              "    .dataframe thead th {\n",
              "        text-align: right;\n",
              "    }\n",
              "</style>\n",
              "<table border=\"1\" class=\"dataframe\">\n",
              "  <thead>\n",
              "    <tr style=\"text-align: right;\">\n",
              "      <th></th>\n",
              "      <th>userId</th>\n",
              "      <th>movieId</th>\n",
              "    </tr>\n",
              "  </thead>\n",
              "  <tbody>\n",
              "    <tr>\n",
              "      <th>0</th>\n",
              "      <td>1</td>\n",
              "      <td>[1, 3, 6, 47, 50, 101, 110, 151, 157, 163, 216...</td>\n",
              "    </tr>\n",
              "    <tr>\n",
              "      <th>1</th>\n",
              "      <td>2</td>\n",
              "      <td>[333, 1704, 3578, 6874, 46970, 48516, 58559, 6...</td>\n",
              "    </tr>\n",
              "    <tr>\n",
              "      <th>2</th>\n",
              "      <td>3</td>\n",
              "      <td>[849, 1587, 2288, 2851, 3024, 3703, 4518, 5181...</td>\n",
              "    </tr>\n",
              "    <tr>\n",
              "      <th>3</th>\n",
              "      <td>4</td>\n",
              "      <td>[106, 125, 162, 176, 215, 232, 260, 265, 319, ...</td>\n",
              "    </tr>\n",
              "    <tr>\n",
              "      <th>4</th>\n",
              "      <td>5</td>\n",
              "      <td>[1, 21, 34, 36, 50, 58, 110, 232, 247, 261, 29...</td>\n",
              "    </tr>\n",
              "  </tbody>\n",
              "</table>\n",
              "</div>"
            ],
            "text/plain": [
              "   userId                                            movieId\n",
              "0       1  [1, 3, 6, 47, 50, 101, 110, 151, 157, 163, 216...\n",
              "1       2  [333, 1704, 3578, 6874, 46970, 48516, 58559, 6...\n",
              "2       3  [849, 1587, 2288, 2851, 3024, 3703, 4518, 5181...\n",
              "3       4  [106, 125, 162, 176, 215, 232, 260, 265, 319, ...\n",
              "4       5  [1, 21, 34, 36, 50, 58, 110, 232, 247, 261, 29..."
            ]
          },
          "metadata": {
            "tags": []
          },
          "execution_count": 19
        }
      ]
    },
    {
      "cell_type": "markdown",
      "metadata": {
        "id": "ZQQX_iaQPazb"
      },
      "source": [
        "Examinamos los perfiles de usuario calculados."
      ]
    },
    {
      "cell_type": "code",
      "metadata": {
        "colab": {
          "base_uri": "https://localhost:8080/"
        },
        "id": "KBkk0sQ4Pfwi",
        "outputId": "5de0d6b1-1b1d-4d89-9d6e-fa8d84195622"
      },
      "source": [
        "print(perfiles_usuarios)"
      ],
      "execution_count": 20,
      "outputs": [
        {
          "output_type": "stream",
          "text": [
            "          Action  Adventure  Animation  ...  Thriller       War   Western\n",
            "userId                                  ...                              \n",
            "1       0.380000   0.370000   0.135000  ...  0.215000  0.100000  0.030000\n",
            "2       0.368421   0.105263   0.000000  ...  0.315789  0.052632  0.000000\n",
            "3       0.562500   0.250000   0.000000  ...  0.375000  0.000000  0.000000\n",
            "4       0.101562   0.148438   0.031250  ...  0.171875  0.039062  0.054688\n",
            "5       0.130435   0.130435   0.217391  ...  0.217391  0.086957  0.043478\n",
            "...          ...        ...        ...  ...       ...       ...       ...\n",
            "606     0.092985   0.114192   0.039152  ...  0.145188  0.063622  0.009788\n",
            "607     0.378378   0.180180   0.018018  ...  0.423423  0.036036  0.018018\n",
            "608     0.396429   0.221429   0.060714  ...  0.403571  0.035714  0.003571\n",
            "609     0.100000   0.200000   0.000000  ...  0.400000  0.200000  0.100000\n",
            "610     0.350163   0.203583   0.061889  ...  0.351792  0.039088  0.024430\n",
            "\n",
            "[609 rows x 19 columns]\n"
          ],
          "name": "stdout"
        }
      ]
    },
    {
      "cell_type": "markdown",
      "metadata": {
        "id": "eHhpNal__A9J"
      },
      "source": [
        "## Búsqueda de películas a recomendar\n",
        "Para encontrar películas con perfil similar a un perfil de usuario usaremos hnswlib, una biblioteca escalable para la búsqueda del vecino más cercano aproximado."
      ]
    },
    {
      "cell_type": "code",
      "metadata": {
        "colab": {
          "base_uri": "https://localhost:8080/"
        },
        "id": "Yb7-uyakrtG7",
        "outputId": "f96d0e3d-e04b-4d0f-baba-fb89e2215ff8"
      },
      "source": [
        "!pip install hnswlib\r\n",
        "import hnswlib"
      ],
      "execution_count": 21,
      "outputs": [
        {
          "output_type": "stream",
          "text": [
            "Collecting hnswlib\n",
            "  Downloading https://files.pythonhosted.org/packages/97/f0/2fa53f02227df57a566a0f25b910066a50fa0cb12ee120717770d657aabd/hnswlib-0.4.0.tar.gz\n",
            "Collecting pybind11>=2.0\n",
            "\u001b[?25l  Downloading https://files.pythonhosted.org/packages/00/84/fc9dc13ee536ba5e6b8fd10ce368fea5b738fe394c3b296cde7c9b144a92/pybind11-2.6.1-py2.py3-none-any.whl (188kB)\n",
            "\u001b[K     |████████████████████████████████| 194kB 16.6MB/s \n",
            "\u001b[?25hRequirement already satisfied: numpy in /usr/local/lib/python3.6/dist-packages (from hnswlib) (1.19.5)\n",
            "Building wheels for collected packages: hnswlib\n",
            "  Building wheel for hnswlib (setup.py) ... \u001b[?25lerror\n",
            "\u001b[31m  ERROR: Failed building wheel for hnswlib\u001b[0m\n",
            "\u001b[?25h  Running setup.py clean for hnswlib\n",
            "Failed to build hnswlib\n",
            "Installing collected packages: pybind11, hnswlib\n",
            "    Running setup.py install for hnswlib ... \u001b[?25l\u001b[?25hdone\n",
            "Successfully installed hnswlib-0.4.0 pybind11-2.6.1\n"
          ],
          "name": "stdout"
        }
      ]
    },
    {
      "cell_type": "markdown",
      "metadata": {
        "id": "g9CMz5YfOSGX"
      },
      "source": [
        "Seleccionamos un usuario para recomendarle películas."
      ]
    },
    {
      "cell_type": "code",
      "metadata": {
        "colab": {
          "base_uri": "https://localhost:8080/"
        },
        "id": "yYetutds-77w",
        "outputId": "22758a63-7836-4e4c-90b9-d417e8be4ced"
      },
      "source": [
        "uid = 1\r\n",
        "pelis_u1 = usuarios[usuarios['userId']==uid]['movieId']\r\n",
        "print(pelis_u1)"
      ],
      "execution_count": 22,
      "outputs": [
        {
          "output_type": "stream",
          "text": [
            "0    [1, 3, 6, 47, 50, 101, 110, 151, 157, 163, 216...\n",
            "Name: movieId, dtype: object\n"
          ],
          "name": "stdout"
        }
      ]
    },
    {
      "cell_type": "markdown",
      "metadata": {
        "id": "NZlkwgq3OiL1"
      },
      "source": [
        "Buscamos las películas cuyos perfiles son más similares al perfil del usuario (similitud coseno)."
      ]
    },
    {
      "cell_type": "code",
      "metadata": {
        "id": "CZDHZ5TAy-aQ"
      },
      "source": [
        "uid = 1\r\n",
        "perfiles_pelis_u1 = pelis[~pelis['movieId'].isin(pelis_u1[0])]\r\n",
        "mids_u1 = perfiles_pelis_u1['movieId']\r\n",
        "perfiles_pelis_u1 = perfiles_pelis_u1.drop('movieId', 1)\r\n",
        "consulta = perfiles_usuarios.loc[uid].to_numpy()[np.newaxis]\r\n",
        "ann = hnswlib.Index(space = 'cosine', dim = perfiles_usuarios.shape[1])\r\n",
        "ann.init_index(max_elements = perfiles_pelis_u1.shape[0], ef_construction = 200, M = 16)\r\n",
        "ann.add_items(perfiles_pelis_u1.to_numpy(), mids_u1.to_numpy())\r\n",
        "vecinos, dists = ann.knn_query(consulta, k = 10)"
      ],
      "execution_count": 23,
      "outputs": []
    },
    {
      "cell_type": "markdown",
      "metadata": {
        "id": "Mjp40OQZOJsp"
      },
      "source": [
        "Desplegamos las películas ordenadas por similitud coseno."
      ]
    },
    {
      "cell_type": "code",
      "metadata": {
        "colab": {
          "base_uri": "https://localhost:8080/"
        },
        "id": "Rw3-Ygs10lCn",
        "outputId": "564f7bd8-3d23-4aa7-965c-7bd8f97dfc87"
      },
      "source": [
        "print(movies[movies['movieId'].isin(vecinos[0])])"
      ],
      "execution_count": 24,
      "outputs": [
        {
          "output_type": "stream",
          "text": [
            "      movieId  ...                                           genres\n",
            "3608     4956  ...   Action|Adventure|Comedy|Drama|Romance|Thriller\n",
            "4005     5657  ...              Action|Adventure|Comedy|Crime|Drama\n",
            "4681     6990  ...              Action|Adventure|Comedy|Crime|Drama\n",
            "5379     8968  ...           Action|Adventure|Comedy|Crime|Thriller\n",
            "5471    26184  ...           Action|Adventure|Comedy|Crime|Thriller\n",
            "6094    42015  ...            Action|Adventure|Comedy|Drama|Romance\n",
            "6570    55116  ...           Action|Adventure|Comedy|Drama|Thriller\n",
            "7409    80219  ...           Action|Adventure|Comedy|Crime|Thriller\n",
            "8597   117646  ...   Action|Adventure|Comedy|Drama|Fantasy|Thriller\n",
            "9394   164226  ...  Action|Adventure|Comedy|Fantasy|Sci-Fi|Thriller\n",
            "\n",
            "[10 rows x 3 columns]\n"
          ],
          "name": "stdout"
        }
      ]
    }
  ]
}