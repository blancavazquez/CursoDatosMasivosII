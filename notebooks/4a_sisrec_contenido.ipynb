{
  "nbformat": 4,
  "nbformat_minor": 0,
  "metadata": {
    "colab": {
      "name": "4a_sisrec_contenido.ipynb",
      "provenance": [],
      "collapsed_sections": [],
      "authorship_tag": "ABX9TyPOsiQjE3Xz6nxUnajV0sTz",
      "include_colab_link": true
    },
    "kernelspec": {
      "name": "python3",
      "display_name": "Python 3"
    }
  },
  "cells": [
    {
      "cell_type": "markdown",
      "metadata": {
        "id": "view-in-github",
        "colab_type": "text"
      },
      "source": [
        "<a href=\"https://colab.research.google.com/github/blancavazquez/CursoDatosMasivosII/blob/master/notebooks/4a_sisrec_contenido.ipynb\" target=\"_parent\"><img src=\"https://colab.research.google.com/assets/colab-badge.svg\" alt=\"Open In Colab\"/></a>"
      ]
    },
    {
      "cell_type": "markdown",
      "metadata": {
        "id": "zQ8DARaaW95M"
      },
      "source": [
        "# Sistema de recomendación de películas\n",
        "En esta libreta programaremos un sistema de recomendación de películas basado en contenido. "
      ]
    },
    {
      "cell_type": "code",
      "metadata": {
        "id": "I9RO2kUoSo-9"
      },
      "source": [
        "import numpy as np\n",
        "import pandas as pd\n",
        "import matplotlib.pyplot as plt\n",
        "from sklearn.feature_extraction.text import CountVectorizer\n",
        "\n",
        "from collections import Counter"
      ],
      "execution_count": 1,
      "outputs": []
    },
    {
      "cell_type": "markdown",
      "metadata": {
        "id": "gifq-VmSXaIs"
      },
      "source": [
        "## Conjunto de datos MovieLens\n",
        "Para ello usaremos la versión _small_ del conjunto de datos [MovieLens](https://grouplens.org/datasets/movielens/). Esta versión incluye 100,000 calificaciones y 3,600 etiquetas de 9,000 películas realizadas por 600 usarios distintos.\n"
      ]
    },
    {
      "cell_type": "code",
      "metadata": {
        "colab": {
          "base_uri": "https://localhost:8080/"
        },
        "id": "rq53qYQ-5yCR",
        "outputId": "a268dfe1-d51e-4650-edb7-f38d221aebdc"
      },
      "source": [
        "!wget http://files.grouplens.org/datasets/movielens/ml-latest-small.zip\n",
        "!unzip ml-latest-small.zip"
      ],
      "execution_count": 2,
      "outputs": [
        {
          "output_type": "stream",
          "name": "stdout",
          "text": [
            "--2021-10-18 18:06:08--  http://files.grouplens.org/datasets/movielens/ml-latest-small.zip\n",
            "Resolving files.grouplens.org (files.grouplens.org)... 128.101.65.152\n",
            "Connecting to files.grouplens.org (files.grouplens.org)|128.101.65.152|:80... connected.\n",
            "HTTP request sent, awaiting response... 200 OK\n",
            "Length: 978202 (955K) [application/zip]\n",
            "Saving to: ‘ml-latest-small.zip’\n",
            "\n",
            "ml-latest-small.zip 100%[===================>] 955.28K  3.07MB/s    in 0.3s    \n",
            "\n",
            "2021-10-18 18:06:08 (3.07 MB/s) - ‘ml-latest-small.zip’ saved [978202/978202]\n",
            "\n",
            "Archive:  ml-latest-small.zip\n",
            "   creating: ml-latest-small/\n",
            "  inflating: ml-latest-small/links.csv  \n",
            "  inflating: ml-latest-small/tags.csv  \n",
            "  inflating: ml-latest-small/ratings.csv  \n",
            "  inflating: ml-latest-small/README.txt  \n",
            "  inflating: ml-latest-small/movies.csv  \n"
          ]
        }
      ]
    },
    {
      "cell_type": "markdown",
      "metadata": {
        "id": "7tIK3ztw9aLt"
      },
      "source": [
        "Cargamos las calificaciones, las etiquetas y las películas, las cuales se encuentran en archivos CSV."
      ]
    },
    {
      "cell_type": "code",
      "metadata": {
        "id": "bxKxlL_T7jzF"
      },
      "source": [
        "ratings = pd.read_csv('ml-latest-small/ratings.csv')\n",
        "tags = pd.read_csv('ml-latest-small/tags.csv')\n",
        "movies = pd.read_csv('ml-latest-small/movies.csv')"
      ],
      "execution_count": 3,
      "outputs": []
    },
    {
      "cell_type": "markdown",
      "metadata": {
        "id": "KngyMHmu95Ef"
      },
      "source": [
        "Las etiquetas son asignadas por usuarios a una película. Un usuario puede etiquetar distintas películas y una pelicula puede estar etiquetada por múltiples usuarios.  "
      ]
    },
    {
      "cell_type": "code",
      "metadata": {
        "colab": {
          "base_uri": "https://localhost:8080/",
          "height": 204
        },
        "id": "c8sBV3-AaPsJ",
        "outputId": "0718f9cd-dd08-4255-8eae-3e1e6494d155"
      },
      "source": [
        "tags = tags.dropna()\n",
        "tags.head()"
      ],
      "execution_count": 4,
      "outputs": [
        {
          "output_type": "execute_result",
          "data": {
            "text/html": [
              "<div>\n",
              "<style scoped>\n",
              "    .dataframe tbody tr th:only-of-type {\n",
              "        vertical-align: middle;\n",
              "    }\n",
              "\n",
              "    .dataframe tbody tr th {\n",
              "        vertical-align: top;\n",
              "    }\n",
              "\n",
              "    .dataframe thead th {\n",
              "        text-align: right;\n",
              "    }\n",
              "</style>\n",
              "<table border=\"1\" class=\"dataframe\">\n",
              "  <thead>\n",
              "    <tr style=\"text-align: right;\">\n",
              "      <th></th>\n",
              "      <th>userId</th>\n",
              "      <th>movieId</th>\n",
              "      <th>tag</th>\n",
              "      <th>timestamp</th>\n",
              "    </tr>\n",
              "  </thead>\n",
              "  <tbody>\n",
              "    <tr>\n",
              "      <th>0</th>\n",
              "      <td>2</td>\n",
              "      <td>60756</td>\n",
              "      <td>funny</td>\n",
              "      <td>1445714994</td>\n",
              "    </tr>\n",
              "    <tr>\n",
              "      <th>1</th>\n",
              "      <td>2</td>\n",
              "      <td>60756</td>\n",
              "      <td>Highly quotable</td>\n",
              "      <td>1445714996</td>\n",
              "    </tr>\n",
              "    <tr>\n",
              "      <th>2</th>\n",
              "      <td>2</td>\n",
              "      <td>60756</td>\n",
              "      <td>will ferrell</td>\n",
              "      <td>1445714992</td>\n",
              "    </tr>\n",
              "    <tr>\n",
              "      <th>3</th>\n",
              "      <td>2</td>\n",
              "      <td>89774</td>\n",
              "      <td>Boxing story</td>\n",
              "      <td>1445715207</td>\n",
              "    </tr>\n",
              "    <tr>\n",
              "      <th>4</th>\n",
              "      <td>2</td>\n",
              "      <td>89774</td>\n",
              "      <td>MMA</td>\n",
              "      <td>1445715200</td>\n",
              "    </tr>\n",
              "  </tbody>\n",
              "</table>\n",
              "</div>"
            ],
            "text/plain": [
              "   userId  movieId              tag   timestamp\n",
              "0       2    60756            funny  1445714994\n",
              "1       2    60756  Highly quotable  1445714996\n",
              "2       2    60756     will ferrell  1445714992\n",
              "3       2    89774     Boxing story  1445715207\n",
              "4       2    89774              MMA  1445715200"
            ]
          },
          "metadata": {},
          "execution_count": 4
        }
      ]
    },
    {
      "cell_type": "markdown",
      "metadata": {
        "id": "7IOJHrbZ-adb"
      },
      "source": [
        "Agrupamos las etiquetas por película. "
      ]
    },
    {
      "cell_type": "code",
      "metadata": {
        "colab": {
          "base_uri": "https://localhost:8080/",
          "height": 239
        },
        "id": "D6zZ7vkTatYc",
        "outputId": "12a43a66-5c02-40bb-e10d-d50225fc2890"
      },
      "source": [
        "movietags = tags.groupby(['movieId'])['tag'].apply(set).reset_index(name='tags')\n",
        "tagcount = Counter(t for r in movietags['tags'] for t in r)\n",
        "print('{0} películas tienen al menos una etiqueta asociada por usuarios'.format(tags.shape[0]))\n",
        "print('Hay {0} etiquetas distintas'.format(len(tagcount.keys())))\n",
        "movietags.head()"
      ],
      "execution_count": 5,
      "outputs": [
        {
          "output_type": "stream",
          "name": "stdout",
          "text": [
            "3683 películas tienen al menos una etiqueta asociada por usuarios\n",
            "Hay 1589 etiquetas distintas\n"
          ]
        },
        {
          "output_type": "execute_result",
          "data": {
            "text/html": [
              "<div>\n",
              "<style scoped>\n",
              "    .dataframe tbody tr th:only-of-type {\n",
              "        vertical-align: middle;\n",
              "    }\n",
              "\n",
              "    .dataframe tbody tr th {\n",
              "        vertical-align: top;\n",
              "    }\n",
              "\n",
              "    .dataframe thead th {\n",
              "        text-align: right;\n",
              "    }\n",
              "</style>\n",
              "<table border=\"1\" class=\"dataframe\">\n",
              "  <thead>\n",
              "    <tr style=\"text-align: right;\">\n",
              "      <th></th>\n",
              "      <th>movieId</th>\n",
              "      <th>tags</th>\n",
              "    </tr>\n",
              "  </thead>\n",
              "  <tbody>\n",
              "    <tr>\n",
              "      <th>0</th>\n",
              "      <td>1</td>\n",
              "      <td>{pixar, fun}</td>\n",
              "    </tr>\n",
              "    <tr>\n",
              "      <th>1</th>\n",
              "      <td>2</td>\n",
              "      <td>{fantasy, Robin Williams, game, magic board game}</td>\n",
              "    </tr>\n",
              "    <tr>\n",
              "      <th>2</th>\n",
              "      <td>3</td>\n",
              "      <td>{old, moldy}</td>\n",
              "    </tr>\n",
              "    <tr>\n",
              "      <th>3</th>\n",
              "      <td>5</td>\n",
              "      <td>{remake, pregnancy}</td>\n",
              "    </tr>\n",
              "    <tr>\n",
              "      <th>4</th>\n",
              "      <td>7</td>\n",
              "      <td>{remake}</td>\n",
              "    </tr>\n",
              "  </tbody>\n",
              "</table>\n",
              "</div>"
            ],
            "text/plain": [
              "   movieId                                               tags\n",
              "0        1                                       {pixar, fun}\n",
              "1        2  {fantasy, Robin Williams, game, magic board game}\n",
              "2        3                                       {old, moldy}\n",
              "3        5                                {remake, pregnancy}\n",
              "4        7                                           {remake}"
            ]
          },
          "metadata": {},
          "execution_count": 5
        }
      ]
    },
    {
      "cell_type": "markdown",
      "metadata": {
        "id": "u5DAcRy9-x8m"
      },
      "source": [
        "Graficamos el histograma de número de etiquetas por película."
      ]
    },
    {
      "cell_type": "code",
      "metadata": {
        "colab": {
          "base_uri": "https://localhost:8080/",
          "height": 279
        },
        "id": "CLsBd4okazsY",
        "outputId": "eecd0fc1-eb2c-4c2c-dd6a-0b8730e2f220"
      },
      "source": [
        "plt.bar(np.arange((len(tagcount.values()))), sorted(tagcount.values(), reverse=True))\n",
        "plt.xlabel(u'Etiqueta')\n",
        "plt.ylabel(u'Frecuencia')\n",
        "plt.show()"
      ],
      "execution_count": 6,
      "outputs": [
        {
          "output_type": "display_data",
          "data": {
            "image/png": "[encoded data removed]",
            "text/plain": [
              "<Figure size 432x288 with 1 Axes>"
            ]
          },
          "metadata": {
            "needs_background": "light"
          }
        }
      ]
    },
    {
      "cell_type": "code",
      "metadata": {
        "colab": {
          "base_uri": "https://localhost:8080/",
          "height": 362
        },
        "id": "62cjZ2YqeSZi",
        "outputId": "033e5edc-32eb-4ac1-f18e-5281d1a39b1d"
      },
      "source": [
        "etiqs = [e[0] for e in tagcount.most_common(20)]\n",
        "vals = [e[1] for e in tagcount.most_common(20)]\n",
        "plt.bar(etiqs, vals)\n",
        "plt.xticks(rotation='vertical')\n",
        "plt.xlabel(u'Etiqueta')\n",
        "plt.ylabel(u'Frecuencia')\n",
        "plt.show()"
      ],
      "execution_count": 7,
      "outputs": [
        {
          "output_type": "display_data",
          "data": {
            "image/png": "[encoded data removed]",
            "text/plain": [
              "<Figure size 432x288 with 1 Axes>"
            ]
          },
          "metadata": {
            "needs_background": "light"
          }
        }
      ]
    },
    {
      "cell_type": "markdown",
      "metadata": {
        "id": "DLXja19OLy05"
      },
      "source": [
        "Exploramos las calificaciones y visualizamos sus histogramas."
      ]
    },
    {
      "cell_type": "code",
      "metadata": {
        "colab": {
          "base_uri": "https://localhost:8080/",
          "height": 222
        },
        "id": "RKMgMbZxcK-C",
        "outputId": "f8d5fdaa-5b61-434c-b054-5868afd754f1"
      },
      "source": [
        "ratings = ratings.dropna()\n",
        "print('{0} calificaciones de usuarios a películas'.format(ratings.shape[0]))\n",
        "ratings.head()"
      ],
      "execution_count": 8,
      "outputs": [
        {
          "output_type": "stream",
          "name": "stdout",
          "text": [
            "100836 calificaciones de usuarios a películas\n"
          ]
        },
        {
          "output_type": "execute_result",
          "data": {
            "text/html": [
              "<div>\n",
              "<style scoped>\n",
              "    .dataframe tbody tr th:only-of-type {\n",
              "        vertical-align: middle;\n",
              "    }\n",
              "\n",
              "    .dataframe tbody tr th {\n",
              "        vertical-align: top;\n",
              "    }\n",
              "\n",
              "    .dataframe thead th {\n",
              "        text-align: right;\n",
              "    }\n",
              "</style>\n",
              "<table border=\"1\" class=\"dataframe\">\n",
              "  <thead>\n",
              "    <tr style=\"text-align: right;\">\n",
              "      <th></th>\n",
              "      <th>userId</th>\n",
              "      <th>movieId</th>\n",
              "      <th>rating</th>\n",
              "      <th>timestamp</th>\n",
              "    </tr>\n",
              "  </thead>\n",
              "  <tbody>\n",
              "    <tr>\n",
              "      <th>0</th>\n",
              "      <td>1</td>\n",
              "      <td>1</td>\n",
              "      <td>4.0</td>\n",
              "      <td>964982703</td>\n",
              "    </tr>\n",
              "    <tr>\n",
              "      <th>1</th>\n",
              "      <td>1</td>\n",
              "      <td>3</td>\n",
              "      <td>4.0</td>\n",
              "      <td>964981247</td>\n",
              "    </tr>\n",
              "    <tr>\n",
              "      <th>2</th>\n",
              "      <td>1</td>\n",
              "      <td>6</td>\n",
              "      <td>4.0</td>\n",
              "      <td>964982224</td>\n",
              "    </tr>\n",
              "    <tr>\n",
              "      <th>3</th>\n",
              "      <td>1</td>\n",
              "      <td>47</td>\n",
              "      <td>5.0</td>\n",
              "      <td>964983815</td>\n",
              "    </tr>\n",
              "    <tr>\n",
              "      <th>4</th>\n",
              "      <td>1</td>\n",
              "      <td>50</td>\n",
              "      <td>5.0</td>\n",
              "      <td>964982931</td>\n",
              "    </tr>\n",
              "  </tbody>\n",
              "</table>\n",
              "</div>"
            ],
            "text/plain": [
              "   userId  movieId  rating  timestamp\n",
              "0       1        1     4.0  964982703\n",
              "1       1        3     4.0  964981247\n",
              "2       1        6     4.0  964982224\n",
              "3       1       47     5.0  964983815\n",
              "4       1       50     5.0  964982931"
            ]
          },
          "metadata": {},
          "execution_count": 8
        }
      ]
    },
    {
      "cell_type": "code",
      "metadata": {
        "id": "H-MfKrdDfR7a",
        "colab": {
          "base_uri": "https://localhost:8080/",
          "height": 279
        },
        "outputId": "9725c737-22ee-4936-ea3a-322f8bdee06f"
      },
      "source": [
        "plt.hist(ratings['rating'])\n",
        "plt.xlabel(u'Calificación')\n",
        "plt.ylabel(u'Frecuencia')\n",
        "plt.show()"
      ],
      "execution_count": 9,
      "outputs": [
        {
          "output_type": "display_data",
          "data": {
            "image/png": "[encoded data removed]",
            "text/plain": [
              "<Figure size 432x288 with 1 Axes>"
            ]
          },
          "metadata": {
            "needs_background": "light"
          }
        }
      ]
    },
    {
      "cell_type": "markdown",
      "metadata": {
        "id": "i2oa684I6wyn"
      },
      "source": [
        "Examinamos el histograma del número de calificaciones por película."
      ]
    },
    {
      "cell_type": "code",
      "metadata": {
        "colab": {
          "base_uri": "https://localhost:8080/",
          "height": 280
        },
        "id": "ajKQd7P7arnJ",
        "outputId": "49bc3e10-d5e0-45e2-a4f4-5994d81c522a"
      },
      "source": [
        "rvals = ratings.groupby(['movieId'])['rating'].size()\n",
        "plt.bar(np.arange((len(rvals))), sorted(rvals, reverse=True))\n",
        "plt.xlabel(u'Número de calificaciones por película')\n",
        "plt.ylabel(u'Número de películas')\n",
        "plt.show()"
      ],
      "execution_count": 38,
      "outputs": [
        {
          "output_type": "display_data",
          "data": {
            "image/png": "[encoded data removed]",
            "text/plain": [
              "<Figure size 432x288 with 1 Axes>"
            ]
          },
          "metadata": {
            "needs_background": "light"
          }
        }
      ]
    },
    {
      "cell_type": "markdown",
      "metadata": {
        "id": "tRgOidaf7GmZ"
      },
      "source": [
        "De igual manera el histograma del número de calificaciones por usuario."
      ]
    },
    {
      "cell_type": "code",
      "metadata": {
        "colab": {
          "base_uri": "https://localhost:8080/",
          "height": 280
        },
        "id": "Tz7XXs9thcQK",
        "outputId": "41ab4742-8e04-453d-ebc5-43218e6daa07"
      },
      "source": [
        "rvals = ratings.groupby(['userId'])['rating'].size()\n",
        "plt.bar(np.arange((len(rvals))), sorted(rvals, reverse=True))\n",
        "plt.xlabel(u'Número de calificaciones por usuario')\n",
        "plt.ylabel(u'Número de películas')\n",
        "plt.show()"
      ],
      "execution_count": 37,
      "outputs": [
        {
          "output_type": "display_data",
          "data": {
            "image/png": "[encoded data removed]",
            "text/plain": [
              "<Figure size 432x288 with 1 Axes>"
            ]
          },
          "metadata": {
            "needs_background": "light"
          }
        }
      ]
    },
    {
      "cell_type": "markdown",
      "metadata": {
        "id": "8JinuiSBMBVo"
      },
      "source": [
        "Binarizamos las calificaciones: mayores o iguales a cuatro como _me gusta_ (1) y menores como _no me gusta_ (0)."
      ]
    },
    {
      "cell_type": "code",
      "metadata": {
        "colab": {
          "base_uri": "https://localhost:8080/",
          "height": 204
        },
        "id": "ZH82F2KWk5OC",
        "outputId": "eb9c1166-e0ba-4732-a7d9-45fcd978c5f7"
      },
      "source": [
        "pos = ratings['rating'] >= 4.0\n",
        "binrates = np.zeros(ratings['rating'].shape[0])\n",
        "binrates[pos.tolist()] = 1\n",
        "ratings['like'] = binrates\n",
        "ratings.head()"
      ],
      "execution_count": 12,
      "outputs": [
        {
          "output_type": "execute_result",
          "data": {
            "text/html": [
              "<div>\n",
              "<style scoped>\n",
              "    .dataframe tbody tr th:only-of-type {\n",
              "        vertical-align: middle;\n",
              "    }\n",
              "\n",
              "    .dataframe tbody tr th {\n",
              "        vertical-align: top;\n",
              "    }\n",
              "\n",
              "    .dataframe thead th {\n",
              "        text-align: right;\n",
              "    }\n",
              "</style>\n",
              "<table border=\"1\" class=\"dataframe\">\n",
              "  <thead>\n",
              "    <tr style=\"text-align: right;\">\n",
              "      <th></th>\n",
              "      <th>userId</th>\n",
              "      <th>movieId</th>\n",
              "      <th>rating</th>\n",
              "      <th>timestamp</th>\n",
              "      <th>like</th>\n",
              "    </tr>\n",
              "  </thead>\n",
              "  <tbody>\n",
              "    <tr>\n",
              "      <th>0</th>\n",
              "      <td>1</td>\n",
              "      <td>1</td>\n",
              "      <td>4.0</td>\n",
              "      <td>964982703</td>\n",
              "      <td>1.0</td>\n",
              "    </tr>\n",
              "    <tr>\n",
              "      <th>1</th>\n",
              "      <td>1</td>\n",
              "      <td>3</td>\n",
              "      <td>4.0</td>\n",
              "      <td>964981247</td>\n",
              "      <td>1.0</td>\n",
              "    </tr>\n",
              "    <tr>\n",
              "      <th>2</th>\n",
              "      <td>1</td>\n",
              "      <td>6</td>\n",
              "      <td>4.0</td>\n",
              "      <td>964982224</td>\n",
              "      <td>1.0</td>\n",
              "    </tr>\n",
              "    <tr>\n",
              "      <th>3</th>\n",
              "      <td>1</td>\n",
              "      <td>47</td>\n",
              "      <td>5.0</td>\n",
              "      <td>964983815</td>\n",
              "      <td>1.0</td>\n",
              "    </tr>\n",
              "    <tr>\n",
              "      <th>4</th>\n",
              "      <td>1</td>\n",
              "      <td>50</td>\n",
              "      <td>5.0</td>\n",
              "      <td>964982931</td>\n",
              "      <td>1.0</td>\n",
              "    </tr>\n",
              "  </tbody>\n",
              "</table>\n",
              "</div>"
            ],
            "text/plain": [
              "   userId  movieId  rating  timestamp  like\n",
              "0       1        1     4.0  964982703   1.0\n",
              "1       1        3     4.0  964981247   1.0\n",
              "2       1        6     4.0  964982224   1.0\n",
              "3       1       47     5.0  964983815   1.0\n",
              "4       1       50     5.0  964982931   1.0"
            ]
          },
          "metadata": {},
          "execution_count": 12
        }
      ]
    },
    {
      "cell_type": "markdown",
      "metadata": {
        "id": "pfu0SXRcMVHF"
      },
      "source": [
        "Visualizamos el histograma de las calificaciones binarizadas."
      ]
    },
    {
      "cell_type": "code",
      "metadata": {
        "colab": {
          "base_uri": "https://localhost:8080/",
          "height": 279
        },
        "id": "RXUq5bY1nMxr",
        "outputId": "502fcd91-0a47-401f-c533-0db21fcec6d4"
      },
      "source": [
        "plt.hist(ratings['like'])\n",
        "plt.xlabel(u'Me gusta')\n",
        "plt.ylabel(u'Frecuencia')\n",
        "plt.show()"
      ],
      "execution_count": 13,
      "outputs": [
        {
          "output_type": "display_data",
          "data": {
            "image/png": "[encoded data removed]",
            "text/plain": [
              "<Figure size 432x288 with 1 Axes>"
            ]
          },
          "metadata": {
            "needs_background": "light"
          }
        }
      ]
    },
    {
      "cell_type": "markdown",
      "metadata": {
        "id": "xm7E0mHsMdgD"
      },
      "source": [
        "Eliminamos valores faltantes de la tabla de películas, así como las películas sin género asignado (`(no genres listed)`)."
      ]
    },
    {
      "cell_type": "code",
      "metadata": {
        "colab": {
          "base_uri": "https://localhost:8080/",
          "height": 222
        },
        "id": "uIC6f2fCSPIZ",
        "outputId": "6eb3c8d0-84d9-4393-d8d3-fc37fc22f71a"
      },
      "source": [
        "movies = movies.dropna()\n",
        "movies = movies[movies['genres']!='(no genres listed)']\n",
        "print('{0} películas total'.format(movies.shape[0]))\n",
        "movies.head()"
      ],
      "execution_count": 14,
      "outputs": [
        {
          "output_type": "stream",
          "name": "stdout",
          "text": [
            "9708 películas total\n"
          ]
        },
        {
          "output_type": "execute_result",
          "data": {
            "text/html": [
              "<div>\n",
              "<style scoped>\n",
              "    .dataframe tbody tr th:only-of-type {\n",
              "        vertical-align: middle;\n",
              "    }\n",
              "\n",
              "    .dataframe tbody tr th {\n",
              "        vertical-align: top;\n",
              "    }\n",
              "\n",
              "    .dataframe thead th {\n",
              "        text-align: right;\n",
              "    }\n",
              "</style>\n",
              "<table border=\"1\" class=\"dataframe\">\n",
              "  <thead>\n",
              "    <tr style=\"text-align: right;\">\n",
              "      <th></th>\n",
              "      <th>movieId</th>\n",
              "      <th>title</th>\n",
              "      <th>genres</th>\n",
              "    </tr>\n",
              "  </thead>\n",
              "  <tbody>\n",
              "    <tr>\n",
              "      <th>0</th>\n",
              "      <td>1</td>\n",
              "      <td>Toy Story (1995)</td>\n",
              "      <td>Adventure|Animation|Children|Comedy|Fantasy</td>\n",
              "    </tr>\n",
              "    <tr>\n",
              "      <th>1</th>\n",
              "      <td>2</td>\n",
              "      <td>Jumanji (1995)</td>\n",
              "      <td>Adventure|Children|Fantasy</td>\n",
              "    </tr>\n",
              "    <tr>\n",
              "      <th>2</th>\n",
              "      <td>3</td>\n",
              "      <td>Grumpier Old Men (1995)</td>\n",
              "      <td>Comedy|Romance</td>\n",
              "    </tr>\n",
              "    <tr>\n",
              "      <th>3</th>\n",
              "      <td>4</td>\n",
              "      <td>Waiting to Exhale (1995)</td>\n",
              "      <td>Comedy|Drama|Romance</td>\n",
              "    </tr>\n",
              "    <tr>\n",
              "      <th>4</th>\n",
              "      <td>5</td>\n",
              "      <td>Father of the Bride Part II (1995)</td>\n",
              "      <td>Comedy</td>\n",
              "    </tr>\n",
              "  </tbody>\n",
              "</table>\n",
              "</div>"
            ],
            "text/plain": [
              "   movieId  ...                                       genres\n",
              "0        1  ...  Adventure|Animation|Children|Comedy|Fantasy\n",
              "1        2  ...                   Adventure|Children|Fantasy\n",
              "2        3  ...                               Comedy|Romance\n",
              "3        4  ...                         Comedy|Drama|Romance\n",
              "4        5  ...                                       Comedy\n",
              "\n",
              "[5 rows x 3 columns]"
            ]
          },
          "metadata": {},
          "execution_count": 14
        }
      ]
    },
    {
      "cell_type": "markdown",
      "metadata": {
        "id": "x6GrWwF3QCl6"
      },
      "source": [
        "Visualizamos los histogramas de géneros."
      ]
    },
    {
      "cell_type": "code",
      "metadata": {
        "colab": {
          "base_uri": "https://localhost:8080/",
          "height": 337
        },
        "id": "33nVzsiMTSnw",
        "outputId": "7b37cdd1-9b80-4a18-8e71-fc812dd79916"
      },
      "source": [
        "gcount = Counter(g for r in movies['genres'] for g in r.split('|'))\n",
        "plt.bar(gcount.keys(), gcount.values())\n",
        "plt.xticks(rotation='vertical')\n",
        "plt.xlabel(u'Género')\n",
        "plt.ylabel(u'Frecuencia')\n",
        "plt.show()"
      ],
      "execution_count": 15,
      "outputs": [
        {
          "output_type": "display_data",
          "data": {
            "image/png": "[encoded data removed]",
            "text/plain": [
              "<Figure size 432x288 with 1 Axes>"
            ]
          },
          "metadata": {
            "needs_background": "light"
          }
        }
      ]
    },
    {
      "cell_type": "code",
      "metadata": {
        "colab": {
          "base_uri": "https://localhost:8080/",
          "height": 280
        },
        "id": "bKYoVwcETVlR",
        "outputId": "3b12c384-60ed-4379-d000-fcbc0ee65eb7"
      },
      "source": [
        "n_genres = Counter(len(r.split('|')) for r in movies['genres'])\n",
        "plt.bar(n_genres.keys(), n_genres.values())\n",
        "plt.xlabel(u'Número de géneros')\n",
        "plt.ylabel(u'Frecuencia')\n",
        "plt.xticks(range(11))\n",
        "plt.show()"
      ],
      "execution_count": 16,
      "outputs": [
        {
          "output_type": "display_data",
          "data": {
            "image/png": "[encoded data removed]",
            "text/plain": [
              "<Figure size 432x288 with 1 Axes>"
            ]
          },
          "metadata": {
            "needs_background": "light"
          }
        }
      ]
    },
    {
      "cell_type": "markdown",
      "metadata": {
        "id": "oGARLEEZi4UM"
      },
      "source": [
        "## Perfiles de películas"
      ]
    },
    {
      "cell_type": "markdown",
      "metadata": {
        "id": "W3hgKzgBNRAX"
      },
      "source": [
        "Convertimos la columna de géneros a múltiples variables binarias."
      ]
    },
    {
      "cell_type": "code",
      "metadata": {
        "colab": {
          "base_uri": "https://localhost:8080/",
          "height": 241
        },
        "id": "7qzXPVdekTsR",
        "outputId": "f8eaea7f-6e09-4deb-d738-56cb22aae629"
      },
      "source": [
        "pelis = movies['genres'].str.get_dummies(sep='|')\n",
        "pelis['movieId'] = movies['movieId']\n",
        "pelis.head()"
      ],
      "execution_count": 17,
      "outputs": [
        {
          "output_type": "execute_result",
          "data": {
            "text/html": [
              "<div>\n",
              "<style scoped>\n",
              "    .dataframe tbody tr th:only-of-type {\n",
              "        vertical-align: middle;\n",
              "    }\n",
              "\n",
              "    .dataframe tbody tr th {\n",
              "        vertical-align: top;\n",
              "    }\n",
              "\n",
              "    .dataframe thead th {\n",
              "        text-align: right;\n",
              "    }\n",
              "</style>\n",
              "<table border=\"1\" class=\"dataframe\">\n",
              "  <thead>\n",
              "    <tr style=\"text-align: right;\">\n",
              "      <th></th>\n",
              "      <th>Action</th>\n",
              "      <th>Adventure</th>\n",
              "      <th>Animation</th>\n",
              "      <th>Children</th>\n",
              "      <th>Comedy</th>\n",
              "      <th>Crime</th>\n",
              "      <th>Documentary</th>\n",
              "      <th>Drama</th>\n",
              "      <th>Fantasy</th>\n",
              "      <th>Film-Noir</th>\n",
              "      <th>Horror</th>\n",
              "      <th>IMAX</th>\n",
              "      <th>Musical</th>\n",
              "      <th>Mystery</th>\n",
              "      <th>Romance</th>\n",
              "      <th>Sci-Fi</th>\n",
              "      <th>Thriller</th>\n",
              "      <th>War</th>\n",
              "      <th>Western</th>\n",
              "      <th>movieId</th>\n",
              "    </tr>\n",
              "  </thead>\n",
              "  <tbody>\n",
              "    <tr>\n",
              "      <th>0</th>\n",
              "      <td>0</td>\n",
              "      <td>1</td>\n",
              "      <td>1</td>\n",
              "      <td>1</td>\n",
              "      <td>1</td>\n",
              "      <td>0</td>\n",
              "      <td>0</td>\n",
              "      <td>0</td>\n",
              "      <td>1</td>\n",
              "      <td>0</td>\n",
              "      <td>0</td>\n",
              "      <td>0</td>\n",
              "      <td>0</td>\n",
              "      <td>0</td>\n",
              "      <td>0</td>\n",
              "      <td>0</td>\n",
              "      <td>0</td>\n",
              "      <td>0</td>\n",
              "      <td>0</td>\n",
              "      <td>1</td>\n",
              "    </tr>\n",
              "    <tr>\n",
              "      <th>1</th>\n",
              "      <td>0</td>\n",
              "      <td>1</td>\n",
              "      <td>0</td>\n",
              "      <td>1</td>\n",
              "      <td>0</td>\n",
              "      <td>0</td>\n",
              "      <td>0</td>\n",
              "      <td>0</td>\n",
              "      <td>1</td>\n",
              "      <td>0</td>\n",
              "      <td>0</td>\n",
              "      <td>0</td>\n",
              "      <td>0</td>\n",
              "      <td>0</td>\n",
              "      <td>0</td>\n",
              "      <td>0</td>\n",
              "      <td>0</td>\n",
              "      <td>0</td>\n",
              "      <td>0</td>\n",
              "      <td>2</td>\n",
              "    </tr>\n",
              "    <tr>\n",
              "      <th>2</th>\n",
              "      <td>0</td>\n",
              "      <td>0</td>\n",
              "      <td>0</td>\n",
              "      <td>0</td>\n",
              "      <td>1</td>\n",
              "      <td>0</td>\n",
              "      <td>0</td>\n",
              "      <td>0</td>\n",
              "      <td>0</td>\n",
              "      <td>0</td>\n",
              "      <td>0</td>\n",
              "      <td>0</td>\n",
              "      <td>0</td>\n",
              "      <td>0</td>\n",
              "      <td>1</td>\n",
              "      <td>0</td>\n",
              "      <td>0</td>\n",
              "      <td>0</td>\n",
              "      <td>0</td>\n",
              "      <td>3</td>\n",
              "    </tr>\n",
              "    <tr>\n",
              "      <th>3</th>\n",
              "      <td>0</td>\n",
              "      <td>0</td>\n",
              "      <td>0</td>\n",
              "      <td>0</td>\n",
              "      <td>1</td>\n",
              "      <td>0</td>\n",
              "      <td>0</td>\n",
              "      <td>1</td>\n",
              "      <td>0</td>\n",
              "      <td>0</td>\n",
              "      <td>0</td>\n",
              "      <td>0</td>\n",
              "      <td>0</td>\n",
              "      <td>0</td>\n",
              "      <td>1</td>\n",
              "      <td>0</td>\n",
              "      <td>0</td>\n",
              "      <td>0</td>\n",
              "      <td>0</td>\n",
              "      <td>4</td>\n",
              "    </tr>\n",
              "    <tr>\n",
              "      <th>4</th>\n",
              "      <td>0</td>\n",
              "      <td>0</td>\n",
              "      <td>0</td>\n",
              "      <td>0</td>\n",
              "      <td>1</td>\n",
              "      <td>0</td>\n",
              "      <td>0</td>\n",
              "      <td>0</td>\n",
              "      <td>0</td>\n",
              "      <td>0</td>\n",
              "      <td>0</td>\n",
              "      <td>0</td>\n",
              "      <td>0</td>\n",
              "      <td>0</td>\n",
              "      <td>0</td>\n",
              "      <td>0</td>\n",
              "      <td>0</td>\n",
              "      <td>0</td>\n",
              "      <td>0</td>\n",
              "      <td>5</td>\n",
              "    </tr>\n",
              "  </tbody>\n",
              "</table>\n",
              "</div>"
            ],
            "text/plain": [
              "   Action  Adventure  Animation  Children  ...  Thriller  War  Western  movieId\n",
              "0       0          1          1         1  ...         0    0        0        1\n",
              "1       0          1          0         1  ...         0    0        0        2\n",
              "2       0          0          0         0  ...         0    0        0        3\n",
              "3       0          0          0         0  ...         0    0        0        4\n",
              "4       0          0          0         0  ...         0    0        0        5\n",
              "\n",
              "[5 rows x 20 columns]"
            ]
          },
          "metadata": {},
          "execution_count": 17
        }
      ]
    },
    {
      "cell_type": "markdown",
      "metadata": {
        "id": "COGv9qHFNcj5"
      },
      "source": [
        "## Perfiles de usuarios\n",
        "Agrupamos todas las películas que le gustaron a un usuario en un solo registro y calculamos los perfiles de los usuarios como el promedio de las películas que le gustaron."
      ]
    },
    {
      "cell_type": "code",
      "metadata": {
        "id": "ap5rLPM5kTGU"
      },
      "source": [
        "def promedio_usuario(calif, pelis):\n",
        "  ids = calif['movieId']\n",
        "  pelis_usuario = pelis.loc[pelis['movieId'].isin(ids)]\n",
        "  pelis_usuario = pelis_usuario.drop('movieId', 1)\n",
        "  return pelis_usuario.mean()\n",
        "\n",
        "positivos = ratings[ratings['like']==1]\n",
        "usuarios = positivos.groupby(['userId'])['movieId'].apply(list).reset_index(name='movieId')\n",
        "perfiles_usuarios = positivos.groupby(['userId']).apply(promedio_usuario, pelis)"
      ],
      "execution_count": 18,
      "outputs": []
    },
    {
      "cell_type": "markdown",
      "metadata": {
        "id": "mgQMHMhYPaip"
      },
      "source": [
        "Desplegamos los primeros registros de la tabla de las películas agrupadas por usuario "
      ]
    },
    {
      "cell_type": "code",
      "metadata": {
        "colab": {
          "base_uri": "https://localhost:8080/",
          "height": 204
        },
        "id": "PDbCBloM-QGo",
        "outputId": "40c7e387-2174-4808-febf-d33385c9f718"
      },
      "source": [
        "usuarios.head()"
      ],
      "execution_count": 19,
      "outputs": [
        {
          "output_type": "execute_result",
          "data": {
            "text/html": [
              "<div>\n",
              "<style scoped>\n",
              "    .dataframe tbody tr th:only-of-type {\n",
              "        vertical-align: middle;\n",
              "    }\n",
              "\n",
              "    .dataframe tbody tr th {\n",
              "        vertical-align: top;\n",
              "    }\n",
              "\n",
              "    .dataframe thead th {\n",
              "        text-align: right;\n",
              "    }\n",
              "</style>\n",
              "<table border=\"1\" class=\"dataframe\">\n",
              "  <thead>\n",
              "    <tr style=\"text-align: right;\">\n",
              "      <th></th>\n",
              "      <th>userId</th>\n",
              "      <th>movieId</th>\n",
              "    </tr>\n",
              "  </thead>\n",
              "  <tbody>\n",
              "    <tr>\n",
              "      <th>0</th>\n",
              "      <td>1</td>\n",
              "      <td>[1, 3, 6, 47, 50, 101, 110, 151, 157, 163, 216...</td>\n",
              "    </tr>\n",
              "    <tr>\n",
              "      <th>1</th>\n",
              "      <td>2</td>\n",
              "      <td>[333, 1704, 3578, 6874, 46970, 48516, 58559, 6...</td>\n",
              "    </tr>\n",
              "    <tr>\n",
              "      <th>2</th>\n",
              "      <td>3</td>\n",
              "      <td>[849, 1587, 2288, 2851, 3024, 3703, 4518, 5181...</td>\n",
              "    </tr>\n",
              "    <tr>\n",
              "      <th>3</th>\n",
              "      <td>4</td>\n",
              "      <td>[106, 125, 162, 176, 215, 232, 260, 265, 319, ...</td>\n",
              "    </tr>\n",
              "    <tr>\n",
              "      <th>4</th>\n",
              "      <td>5</td>\n",
              "      <td>[1, 21, 34, 36, 50, 58, 110, 232, 247, 261, 29...</td>\n",
              "    </tr>\n",
              "  </tbody>\n",
              "</table>\n",
              "</div>"
            ],
            "text/plain": [
              "   userId                                            movieId\n",
              "0       1  [1, 3, 6, 47, 50, 101, 110, 151, 157, 163, 216...\n",
              "1       2  [333, 1704, 3578, 6874, 46970, 48516, 58559, 6...\n",
              "2       3  [849, 1587, 2288, 2851, 3024, 3703, 4518, 5181...\n",
              "3       4  [106, 125, 162, 176, 215, 232, 260, 265, 319, ...\n",
              "4       5  [1, 21, 34, 36, 50, 58, 110, 232, 247, 261, 29..."
            ]
          },
          "metadata": {},
          "execution_count": 19
        }
      ]
    },
    {
      "cell_type": "markdown",
      "metadata": {
        "id": "ZQQX_iaQPazb"
      },
      "source": [
        "Examinamos los perfiles de usuario calculados."
      ]
    },
    {
      "cell_type": "code",
      "metadata": {
        "colab": {
          "base_uri": "https://localhost:8080/"
        },
        "id": "KBkk0sQ4Pfwi",
        "outputId": "9045a274-30d0-483f-ce2c-11e61d1975cb"
      },
      "source": [
        "print(perfiles_usuarios)"
      ],
      "execution_count": 20,
      "outputs": [
        {
          "output_type": "stream",
          "name": "stdout",
          "text": [
            "          Action  Adventure  Animation  ...  Thriller       War   Western\n",
            "userId                                  ...                              \n",
            "1       0.380000   0.370000   0.135000  ...  0.215000  0.100000  0.030000\n",
            "2       0.368421   0.105263   0.000000  ...  0.315789  0.052632  0.000000\n",
            "3       0.562500   0.250000   0.000000  ...  0.375000  0.000000  0.000000\n",
            "4       0.101562   0.148438   0.031250  ...  0.171875  0.039062  0.054688\n",
            "5       0.130435   0.130435   0.217391  ...  0.217391  0.086957  0.043478\n",
            "...          ...        ...        ...  ...       ...       ...       ...\n",
            "606     0.092985   0.114192   0.039152  ...  0.145188  0.063622  0.009788\n",
            "607     0.378378   0.180180   0.018018  ...  0.423423  0.036036  0.018018\n",
            "608     0.396429   0.221429   0.060714  ...  0.403571  0.035714  0.003571\n",
            "609     0.100000   0.200000   0.000000  ...  0.400000  0.200000  0.100000\n",
            "610     0.350163   0.203583   0.061889  ...  0.351792  0.039088  0.024430\n",
            "\n",
            "[609 rows x 19 columns]\n"
          ]
        }
      ]
    },
    {
      "cell_type": "markdown",
      "metadata": {
        "id": "eHhpNal__A9J"
      },
      "source": [
        "## Búsqueda de películas a recomendar\n",
        "Para encontrar películas con perfil similar a un perfil de usuario usaremos hnswlib, una biblioteca escalable para la búsqueda del vecino más cercano aproximado."
      ]
    },
    {
      "cell_type": "code",
      "metadata": {
        "colab": {
          "base_uri": "https://localhost:8080/"
        },
        "id": "Yb7-uyakrtG7",
        "outputId": "2ac0138e-542f-46c1-c6c7-f74c1ae67c5e"
      },
      "source": [
        "!pip install hnswlib\n",
        "import hnswlib"
      ],
      "execution_count": 21,
      "outputs": [
        {
          "output_type": "stream",
          "name": "stdout",
          "text": [
            "Collecting hnswlib\n",
            "  Downloading hnswlib-0.5.2.tar.gz (29 kB)\n",
            "  Installing build dependencies ... \u001b[?25l\u001b[?25hdone\n",
            "  Getting requirements to build wheel ... \u001b[?25l\u001b[?25hdone\n",
            "    Preparing wheel metadata ... \u001b[?25l\u001b[?25hdone\n",
            "Requirement already satisfied: numpy in /usr/local/lib/python3.7/dist-packages (from hnswlib) (1.19.5)\n",
            "Building wheels for collected packages: hnswlib\n",
            "  Building wheel for hnswlib (PEP 517) ... \u001b[?25l\u001b[?25hdone\n",
            "  Created wheel for hnswlib: filename=hnswlib-0.5.2-cp37-cp37m-linux_x86_64.whl size=1325742 sha256=6e8138d8a434f8371466d6a4e3e18d739569e0c7ae8abda256fc352efb55995e\n",
            "  Stored in directory: /root/.cache/pip/wheels/b4/11/b3/337c4a361b31217d62c3b420ad66fe20d381f1ebb29b046095\n",
            "Successfully built hnswlib\n",
            "Installing collected packages: hnswlib\n",
            "Successfully installed hnswlib-0.5.2\n"
          ]
        }
      ]
    },
    {
      "cell_type": "markdown",
      "metadata": {
        "id": "g9CMz5YfOSGX"
      },
      "source": [
        "Seleccionamos un usuario para recomendarle películas."
      ]
    },
    {
      "cell_type": "code",
      "metadata": {
        "colab": {
          "base_uri": "https://localhost:8080/"
        },
        "id": "yYetutds-77w",
        "outputId": "dc4452f6-0858-4c69-dc98-1c39f3ebd2fd"
      },
      "source": [
        "uid = 1\n",
        "pelis_u1 = usuarios[usuarios['userId']==uid]['movieId']\n",
        "print(pelis_u1)"
      ],
      "execution_count": 22,
      "outputs": [
        {
          "output_type": "stream",
          "name": "stdout",
          "text": [
            "0    [1, 3, 6, 47, 50, 101, 110, 151, 157, 163, 216...\n",
            "Name: movieId, dtype: object\n"
          ]
        }
      ]
    },
    {
      "cell_type": "markdown",
      "metadata": {
        "id": "NZlkwgq3OiL1"
      },
      "source": [
        "Buscamos las películas cuyos perfiles son más similares al perfil del usuario (similitud coseno)."
      ]
    },
    {
      "cell_type": "code",
      "metadata": {
        "id": "CZDHZ5TAy-aQ"
      },
      "source": [
        "uid = 1\n",
        "perfiles_pelis_u1 = pelis[~pelis['movieId'].isin(pelis_u1[0])]\n",
        "mids_u1 = perfiles_pelis_u1['movieId']\n",
        "perfiles_pelis_u1 = perfiles_pelis_u1.drop('movieId', 1)\n",
        "consulta = perfiles_usuarios.loc[uid].to_numpy()[np.newaxis]\n",
        "ann = hnswlib.Index(space = 'cosine', dim = perfiles_usuarios.shape[1])\n",
        "ann.init_index(max_elements = perfiles_pelis_u1.shape[0], ef_construction = 200, M = 16)\n",
        "ann.add_items(perfiles_pelis_u1.to_numpy(), mids_u1.to_numpy())\n",
        "vecinos, dists = ann.knn_query(consulta, k = 10)"
      ],
      "execution_count": 23,
      "outputs": []
    },
    {
      "cell_type": "markdown",
      "metadata": {
        "id": "Mjp40OQZOJsp"
      },
      "source": [
        "Desplegamos las películas ordenadas por similitud coseno."
      ]
    },
    {
      "cell_type": "code",
      "metadata": {
        "colab": {
          "base_uri": "https://localhost:8080/",
          "height": 360
        },
        "id": "Rw3-Ygs10lCn",
        "outputId": "dfddc27e-045c-4b31-ce7d-fdd1f7c072ce"
      },
      "source": [
        "movies[movies['movieId'].isin(vecinos[0])].head(10)"
      ],
      "execution_count": 39,
      "outputs": [
        {
          "output_type": "execute_result",
          "data": {
            "text/html": [
              "<div>\n",
              "<style scoped>\n",
              "    .dataframe tbody tr th:only-of-type {\n",
              "        vertical-align: middle;\n",
              "    }\n",
              "\n",
              "    .dataframe tbody tr th {\n",
              "        vertical-align: top;\n",
              "    }\n",
              "\n",
              "    .dataframe thead th {\n",
              "        text-align: right;\n",
              "    }\n",
              "</style>\n",
              "<table border=\"1\" class=\"dataframe\">\n",
              "  <thead>\n",
              "    <tr style=\"text-align: right;\">\n",
              "      <th></th>\n",
              "      <th>movieId</th>\n",
              "      <th>title</th>\n",
              "      <th>genres</th>\n",
              "    </tr>\n",
              "  </thead>\n",
              "  <tbody>\n",
              "    <tr>\n",
              "      <th>478</th>\n",
              "      <td>546</td>\n",
              "      <td>Super Mario Bros. (1993)</td>\n",
              "      <td>Action|Adventure|Children|Comedy|Fantasy|Sci-Fi</td>\n",
              "    </tr>\n",
              "    <tr>\n",
              "      <th>2174</th>\n",
              "      <td>2890</td>\n",
              "      <td>Three Kings (1999)</td>\n",
              "      <td>Action|Adventure|Comedy|Drama|War</td>\n",
              "    </tr>\n",
              "    <tr>\n",
              "      <th>3526</th>\n",
              "      <td>4818</td>\n",
              "      <td>Extreme Days (2001)</td>\n",
              "      <td>Action|Adventure|Comedy|Drama</td>\n",
              "    </tr>\n",
              "    <tr>\n",
              "      <th>3608</th>\n",
              "      <td>4956</td>\n",
              "      <td>Stunt Man, The (1980)</td>\n",
              "      <td>Action|Adventure|Comedy|Drama|Romance|Thriller</td>\n",
              "    </tr>\n",
              "    <tr>\n",
              "      <th>4005</th>\n",
              "      <td>5657</td>\n",
              "      <td>Flashback (1990)</td>\n",
              "      <td>Action|Adventure|Comedy|Crime|Drama</td>\n",
              "    </tr>\n",
              "    <tr>\n",
              "      <th>4681</th>\n",
              "      <td>6990</td>\n",
              "      <td>The Great Train Robbery (1978)</td>\n",
              "      <td>Action|Adventure|Comedy|Crime|Drama</td>\n",
              "    </tr>\n",
              "    <tr>\n",
              "      <th>6094</th>\n",
              "      <td>42015</td>\n",
              "      <td>Casanova (2005)</td>\n",
              "      <td>Action|Adventure|Comedy|Drama|Romance</td>\n",
              "    </tr>\n",
              "    <tr>\n",
              "      <th>6570</th>\n",
              "      <td>55116</td>\n",
              "      <td>Hunting Party, The (2007)</td>\n",
              "      <td>Action|Adventure|Comedy|Drama|Thriller</td>\n",
              "    </tr>\n",
              "    <tr>\n",
              "      <th>8597</th>\n",
              "      <td>117646</td>\n",
              "      <td>Dragonheart 2: A New Beginning (2000)</td>\n",
              "      <td>Action|Adventure|Comedy|Drama|Fantasy|Thriller</td>\n",
              "    </tr>\n",
              "    <tr>\n",
              "      <th>9394</th>\n",
              "      <td>164226</td>\n",
              "      <td>Maximum Ride (2016)</td>\n",
              "      <td>Action|Adventure|Comedy|Fantasy|Sci-Fi|Thriller</td>\n",
              "    </tr>\n",
              "  </tbody>\n",
              "</table>\n",
              "</div>"
            ],
            "text/plain": [
              "      movieId  ...                                           genres\n",
              "478       546  ...  Action|Adventure|Children|Comedy|Fantasy|Sci-Fi\n",
              "2174     2890  ...                Action|Adventure|Comedy|Drama|War\n",
              "3526     4818  ...                    Action|Adventure|Comedy|Drama\n",
              "3608     4956  ...   Action|Adventure|Comedy|Drama|Romance|Thriller\n",
              "4005     5657  ...              Action|Adventure|Comedy|Crime|Drama\n",
              "4681     6990  ...              Action|Adventure|Comedy|Crime|Drama\n",
              "6094    42015  ...            Action|Adventure|Comedy|Drama|Romance\n",
              "6570    55116  ...           Action|Adventure|Comedy|Drama|Thriller\n",
              "8597   117646  ...   Action|Adventure|Comedy|Drama|Fantasy|Thriller\n",
              "9394   164226  ...  Action|Adventure|Comedy|Fantasy|Sci-Fi|Thriller\n",
              "\n",
              "[10 rows x 3 columns]"
            ]
          },
          "metadata": {},
          "execution_count": 39
        }
      ]
    }
  ]
}