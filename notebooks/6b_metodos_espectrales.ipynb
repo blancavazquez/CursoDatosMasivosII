{
  "nbformat": 4,
  "nbformat_minor": 0,
  "metadata": {
    "colab": {
      "name": "6b_spectral_clustering.ipynb",
      "provenance": [],
      "collapsed_sections": [],
      "authorship_tag": "ABX9TyMXLxLeuZKgz3uDhssGM6kV",
      "include_colab_link": true
    },
    "kernelspec": {
      "display_name": "Python 3",
      "name": "python3"
    }
  },
  "cells": [
    {
      "cell_type": "markdown",
      "metadata": {
        "id": "view-in-github",
        "colab_type": "text"
      },
      "source": [
        "<a href=\"https://colab.research.google.com/github/blancavazquez/CursoDatosMasivosII/blob/master/notebooks/6b_metodos_espectrales.ipynb\" target=\"_parent\"><img src=\"https://colab.research.google.com/assets/colab-badge.svg\" alt=\"Open In Colab\"/></a>"
      ]
    },
    {
      "cell_type": "markdown",
      "metadata": {
        "id": "PcC7st2LKSKQ"
      },
      "source": [
        "# Agrupamiento espectral\n",
        "En esta libreta veremos cómo descubrir comunidades en redes sociales usando agrupamiento espectral."
      ]
    },
    {
      "cell_type": "code",
      "metadata": {
        "id": "TjkXpNNCcK5p"
      },
      "source": [
        "import networkx as nx\n",
        "import pandas as pd\n",
        "import numpy as np\n",
        "import scipy as sp\n",
        "import matplotlib.pyplot as plt\n",
        "import random\n",
        "from sklearn.cluster import KMeans, SpectralClustering\n",
        "\n",
        "np.random.seed(2021)"
      ],
      "execution_count": 1,
      "outputs": []
    },
    {
      "cell_type": "markdown",
      "metadata": {
        "id": "BWemOVtWBIcT"
      },
      "source": [
        "## Grafo simple\n",
        "Empezamos creando un grafo simple, del cual analizaremos el [espectro](https://en.wikipedia.org/wiki/Spectrum_of_a_matrix) de su matriz laplaciana."
      ]
    },
    {
      "cell_type": "code",
      "metadata": {
        "id": "yiveX3LoVV4u"
      },
      "source": [
        "G_simple = nx.Graph()\n",
        "G_simple.add_nodes_from(range(10))\n",
        "acom1 = [(i,j)for i in range(4) for j in range(4) if i != j]\n",
        "acom2 = [(i,j)for i in range(4,8) for j in range(4,8) if i != j]\n",
        "acom3 = [(i,j)for i in range(8,12) for j in range(8,12) if i != j]\n",
        "G_simple.add_edges_from(acom1)\n",
        "G_simple.add_edges_from(acom2)\n",
        "G_simple.add_edges_from(acom3)\n",
        "G_simple.add_edge(3,4)\n",
        "G_simple.add_edge(2,5)\n",
        "G_simple.add_edge(6,8)\n",
        "G_simple.add_edge(7,9)\n",
        "G_simple.add_edge(10,12)\n",
        "G_simple.add_edge(11,12)\n",
        "G_simple.add_edge(12,13)"
      ],
      "execution_count": 2,
      "outputs": []
    },
    {
      "cell_type": "markdown",
      "metadata": {
        "id": "TR8h6iMA86vX"
      },
      "source": [
        "Visualizamos el grafo creado."
      ]
    },
    {
      "cell_type": "code",
      "metadata": {
        "colab": {
          "base_uri": "https://localhost:8080/",
          "height": 319
        },
        "id": "XkCaoOh3ax57",
        "outputId": "ed0f904e-7bc9-4fce-c448-7028c58b07e6"
      },
      "source": [
        "simple_pos = nx.spring_layout(G_simple)\n",
        "nx.draw(G_simple, pos=simple_pos)"
      ],
      "execution_count": 3,
      "outputs": [
        {
          "output_type": "display_data",
          "data": {
            "image/png": "[encoded data removed]",
            "text/plain": [
              "<Figure size 432x288 with 1 Axes>"
            ]
          },
          "metadata": {}
        }
      ]
    },
    {
      "cell_type": "markdown",
      "metadata": {
        "id": "skp5IESf9tZY"
      },
      "source": [
        "Obtenemos y desplegamos la matriz de adyacencia del grafo."
      ]
    },
    {
      "cell_type": "code",
      "metadata": {
        "colab": {
          "base_uri": "https://localhost:8080/"
        },
        "id": "UAORTzcNQbK7",
        "outputId": "17cb17b4-3cd3-4af3-d0eb-f8933ff51362"
      },
      "source": [
        "amat_simple = nx.linalg.adjacency_matrix(G_simple)\n",
        "amat_simple = amat_simple.toarray()\n",
        "print(amat_simple)"
      ],
      "execution_count": 4,
      "outputs": [
        {
          "output_type": "stream",
          "name": "stdout",
          "text": [
            "[[0 1 1 1 0 0 0 0 0 0 0 0 0 0]\n",
            " [1 0 1 1 0 0 0 0 0 0 0 0 0 0]\n",
            " [1 1 0 1 0 1 0 0 0 0 0 0 0 0]\n",
            " [1 1 1 0 1 0 0 0 0 0 0 0 0 0]\n",
            " [0 0 0 1 0 1 1 1 0 0 0 0 0 0]\n",
            " [0 0 1 0 1 0 1 1 0 0 0 0 0 0]\n",
            " [0 0 0 0 1 1 0 1 1 0 0 0 0 0]\n",
            " [0 0 0 0 1 1 1 0 0 1 0 0 0 0]\n",
            " [0 0 0 0 0 0 1 0 0 1 1 1 0 0]\n",
            " [0 0 0 0 0 0 0 1 1 0 1 1 0 0]\n",
            " [0 0 0 0 0 0 0 0 1 1 0 1 1 0]\n",
            " [0 0 0 0 0 0 0 0 1 1 1 0 1 0]\n",
            " [0 0 0 0 0 0 0 0 0 0 1 1 0 1]\n",
            " [0 0 0 0 0 0 0 0 0 0 0 0 1 0]]\n"
          ]
        }
      ]
    },
    {
      "cell_type": "markdown",
      "metadata": {
        "id": "kcEzW3uC91Vz"
      },
      "source": [
        "Hacemos lo propio con la matriz de grado."
      ]
    },
    {
      "cell_type": "code",
      "metadata": {
        "colab": {
          "base_uri": "https://localhost:8080/"
        },
        "id": "YOHpV51yQja5",
        "outputId": "3b4362f3-5ff5-4ed3-e34a-a5096354ed82"
      },
      "source": [
        "dmat_simple = np.diag(nx.linalg.laplacian_matrix(G_simple).diagonal())\n",
        "print(dmat_simple)\n",
        "print(dmat_simple.diagonal())"
      ],
      "execution_count": 5,
      "outputs": [
        {
          "output_type": "stream",
          "name": "stdout",
          "text": [
            "[[3 0 0 0 0 0 0 0 0 0 0 0 0 0]\n",
            " [0 3 0 0 0 0 0 0 0 0 0 0 0 0]\n",
            " [0 0 4 0 0 0 0 0 0 0 0 0 0 0]\n",
            " [0 0 0 4 0 0 0 0 0 0 0 0 0 0]\n",
            " [0 0 0 0 4 0 0 0 0 0 0 0 0 0]\n",
            " [0 0 0 0 0 4 0 0 0 0 0 0 0 0]\n",
            " [0 0 0 0 0 0 4 0 0 0 0 0 0 0]\n",
            " [0 0 0 0 0 0 0 4 0 0 0 0 0 0]\n",
            " [0 0 0 0 0 0 0 0 4 0 0 0 0 0]\n",
            " [0 0 0 0 0 0 0 0 0 4 0 0 0 0]\n",
            " [0 0 0 0 0 0 0 0 0 0 4 0 0 0]\n",
            " [0 0 0 0 0 0 0 0 0 0 0 4 0 0]\n",
            " [0 0 0 0 0 0 0 0 0 0 0 0 3 0]\n",
            " [0 0 0 0 0 0 0 0 0 0 0 0 0 1]]\n",
            "[3 3 4 4 4 4 4 4 4 4 4 4 3 1]\n"
          ]
        }
      ]
    },
    {
      "cell_type": "markdown",
      "metadata": {
        "id": "rxQ-jQTp982P"
      },
      "source": [
        "Finalmente obtenemos y desplegamos la matriz laplaciana."
      ]
    },
    {
      "cell_type": "code",
      "metadata": {
        "colab": {
          "base_uri": "https://localhost:8080/"
        },
        "id": "creQ1UyN79IY",
        "outputId": "a91edbc9-b007-4067-d7c4-d285ace2b10e"
      },
      "source": [
        "lmat_simple = nx.linalg.laplacian_matrix(G_simple)\n",
        "lmat_simple = lmat_simple.toarray()\n",
        "print(lmat_simple)"
      ],
      "execution_count": 6,
      "outputs": [
        {
          "output_type": "stream",
          "name": "stdout",
          "text": [
            "[[ 3 -1 -1 -1  0  0  0  0  0  0  0  0  0  0]\n",
            " [-1  3 -1 -1  0  0  0  0  0  0  0  0  0  0]\n",
            " [-1 -1  4 -1  0 -1  0  0  0  0  0  0  0  0]\n",
            " [-1 -1 -1  4 -1  0  0  0  0  0  0  0  0  0]\n",
            " [ 0  0  0 -1  4 -1 -1 -1  0  0  0  0  0  0]\n",
            " [ 0  0 -1  0 -1  4 -1 -1  0  0  0  0  0  0]\n",
            " [ 0  0  0  0 -1 -1  4 -1 -1  0  0  0  0  0]\n",
            " [ 0  0  0  0 -1 -1 -1  4  0 -1  0  0  0  0]\n",
            " [ 0  0  0  0  0  0 -1  0  4 -1 -1 -1  0  0]\n",
            " [ 0  0  0  0  0  0  0 -1 -1  4 -1 -1  0  0]\n",
            " [ 0  0  0  0  0  0  0  0 -1 -1  4 -1 -1  0]\n",
            " [ 0  0  0  0  0  0  0  0 -1 -1 -1  4 -1  0]\n",
            " [ 0  0  0  0  0  0  0  0  0  0 -1 -1  3 -1]\n",
            " [ 0  0  0  0  0  0  0  0  0  0  0  0 -1  1]]\n"
          ]
        }
      ]
    },
    {
      "cell_type": "markdown",
      "metadata": {
        "id": "JzhyzRYv-C1u"
      },
      "source": [
        "Calculamos los vectores y valores propios de la matriz laplaciana."
      ]
    },
    {
      "cell_type": "code",
      "metadata": {
        "id": "aYXz-CYu_u8t"
      },
      "source": [
        "import scipy as sp\n",
        "v0 = np.random.uniform(-1, 1, lmat_simple.shape[0])\n",
        "eval_simple, evec_simple = sp.sparse.linalg.eigsh(lmat_simple.astype(np.float64), k=10, sigma=1.0, which='LM', tol=0.0, v0=v0)\n",
        "#eval_simple, evec_simple = np.linalg.eigh(lmat_simple.astype(np.float64))"
      ],
      "execution_count": 7,
      "outputs": []
    },
    {
      "cell_type": "markdown",
      "metadata": {
        "id": "aUKB3Q-p-Imf"
      },
      "source": [
        "Verificamos que las restricciones se están cumpliendo."
      ]
    },
    {
      "cell_type": "code",
      "metadata": {
        "colab": {
          "base_uri": "https://localhost:8080/"
        },
        "id": "T4e4vVCJLDBx",
        "outputId": "570ef7b4-f1df-4c32-d06f-ee5e58b060f2"
      },
      "source": [
        "print(np.sum(evec_simple**2, axis=0))\n",
        "print(np.sum(evec_simple, axis=0))"
      ],
      "execution_count": 8,
      "outputs": [
        {
          "output_type": "stream",
          "name": "stdout",
          "text": [
            "[1. 1. 1. 1. 1. 1. 1. 1. 1. 1.]\n",
            "[-3.74165739e+00  4.10782519e-15 -5.55111512e-16 -6.66133815e-16\n",
            " -1.11022302e-16 -8.32667268e-17 -1.11022302e-16  2.70616862e-16\n",
            " -2.35922393e-16  6.24500451e-17]\n"
          ]
        }
      ]
    },
    {
      "cell_type": "markdown",
      "metadata": {
        "id": "IPoewvrb-OZB"
      },
      "source": [
        "Ordenamos los valores propios de menor a mayor y mantenemos el mismo orden para los vectores propios correspondientes."
      ]
    },
    {
      "cell_type": "code",
      "metadata": {
        "id": "Z9ZW332ICEkn"
      },
      "source": [
        "orden_idx = np.argsort(eval_simple)\n",
        "eval_simple = eval_simple[orden_idx]\n",
        "evec_simple = evec_simple[:, orden_idx]"
      ],
      "execution_count": 9,
      "outputs": []
    },
    {
      "cell_type": "markdown",
      "metadata": {
        "id": "XIHIsp6v-mfo"
      },
      "source": [
        "Examinamos los valores propios ordenados."
      ]
    },
    {
      "cell_type": "code",
      "metadata": {
        "colab": {
          "base_uri": "https://localhost:8080/"
        },
        "id": "ZB183R_ADkd-",
        "outputId": "4d9cda13-5ab6-4682-dabe-7f05d8626b60"
      },
      "source": [
        "print(eval_simple)"
      ],
      "execution_count": 10,
      "outputs": [
        {
          "output_type": "stream",
          "name": "stdout",
          "text": [
            "[-2.22044605e-16  2.50758251e-01  7.63932023e-01  1.37332602e+00\n",
            "  3.24376387e+00  4.00000000e+00  4.00000000e+00  4.00000000e+00\n",
            "  4.29185335e+00  5.00000000e+00]\n"
          ]
        }
      ]
    },
    {
      "cell_type": "markdown",
      "metadata": {
        "id": "1xbo26-b-7sw"
      },
      "source": [
        "Desplegamos el primer valor propio y su correspondiente vector propio. Nota que el valor propio más pequeño $\\approx 0$ y que todos los elementos de su vector propio correspondiente son iguales."
      ]
    },
    {
      "cell_type": "code",
      "metadata": {
        "colab": {
          "base_uri": "https://localhost:8080/"
        },
        "id": "B3k3XLSuFywQ",
        "outputId": "49c87cb9-0192-4036-ee7b-9a88d0918756"
      },
      "source": [
        "print(eval_simple[0])\n",
        "print(evec_simple[:, 0])"
      ],
      "execution_count": 11,
      "outputs": [
        {
          "output_type": "stream",
          "name": "stdout",
          "text": [
            "-2.220446049250313e-16\n",
            "[-0.26726124 -0.26726124 -0.26726124 -0.26726124 -0.26726124 -0.26726124\n",
            " -0.26726124 -0.26726124 -0.26726124 -0.26726124 -0.26726124 -0.26726124\n",
            " -0.26726124 -0.26726124]\n"
          ]
        }
      ]
    },
    {
      "cell_type": "markdown",
      "metadata": {
        "id": "rPXYt4bX_l7P"
      },
      "source": [
        "Visualizamos los elementos de los vectores propios con valor propio más pequeño."
      ]
    },
    {
      "cell_type": "code",
      "metadata": {
        "colab": {
          "base_uri": "https://localhost:8080/",
          "height": 297
        },
        "id": "L-eQ33a7JfIw",
        "outputId": "cc82cb7a-3cab-4a73-ffab-9a5433c264f5"
      },
      "source": [
        "fig, axs = plt.subplots(1,4, figsize=(15, 4), sharey=True)\n",
        "\n",
        "for i in range(4):\n",
        "  axs[i].plot(np.sort(evec_simple[:, i]), 'bo')\n",
        "  axs[i].set_ylim([-1,1])\n",
        "  axs[i].set_xlabel('Orden en el vector propio')\n",
        "  axs[i].set_title('$\\\\lambda_' + str(i + 1) + '$')\n",
        "\n",
        "axs[0].set_ylabel('Valor')\n",
        "fig.tight_layout()\n",
        "plt.show()"
      ],
      "execution_count": 12,
      "outputs": [
        {
          "output_type": "display_data",
          "data": {
            "image/png": "[encoded data removed]",
            "text/plain": [
              "<Figure size 1080x288 with 4 Axes>"
            ]
          },
          "metadata": {
            "needs_background": "light"
          }
        }
      ]
    },
    {
      "cell_type": "markdown",
      "metadata": {
        "id": "fUUKCK5616gv"
      },
      "source": [
        "Empleamos KMeans para agrupar los nodos usando los eigenvalores asociados."
      ]
    },
    {
      "cell_type": "code",
      "metadata": {
        "colab": {
          "base_uri": "https://localhost:8080/"
        },
        "id": "siW4DA0yRZuK",
        "outputId": "f802e2bf-f0b8-4c5f-cbaa-b206266b361e"
      },
      "source": [
        "km_simple = KMeans(n_clusters=3, n_init=100)\n",
        "km_simple = km_simple.fit(evec_simple[:, [1]])\n",
        "km_simple.labels_"
      ],
      "execution_count": 13,
      "outputs": [
        {
          "output_type": "execute_result",
          "data": {
            "text/plain": [
              "array([1, 1, 1, 1, 2, 2, 2, 2, 0, 0, 0, 0, 0, 0], dtype=int32)"
            ]
          },
          "metadata": {},
          "execution_count": 13
        }
      ]
    },
    {
      "cell_type": "code",
      "metadata": {
        "colab": {
          "base_uri": "https://localhost:8080/"
        },
        "id": "5_OL-i3ilcL_",
        "outputId": "c4157698-2d5f-4c3f-df9d-385de72303b3"
      },
      "source": [
        "print(G_simple.nodes)"
      ],
      "execution_count": 14,
      "outputs": [
        {
          "output_type": "stream",
          "name": "stdout",
          "text": [
            "[0, 1, 2, 3, 4, 5, 6, 7, 8, 9, 10, 11, 12, 13]\n"
          ]
        }
      ]
    },
    {
      "cell_type": "code",
      "metadata": {
        "colab": {
          "base_uri": "https://localhost:8080/",
          "height": 319
        },
        "id": "nb0rvR3YlAq2",
        "outputId": "ba1dcc7d-95d5-4eae-ae59-5a62d4b9b84f"
      },
      "source": [
        "mapa_color = {0:'blue', 1:'red', 2:'green'}\n",
        "color_vertices = [mapa_color[km_simple.labels_[n]] for n in G_simple]\n",
        "nx.draw(G_simple, pos=simple_pos, node_color=color_vertices)"
      ],
      "execution_count": 15,
      "outputs": [
        {
          "output_type": "display_data",
          "data": {
            "image/png": "[encoded data removed]",
            "text/plain": [
              "<Figure size 432x288 with 1 Axes>"
            ]
          },
          "metadata": {}
        }
      ]
    },
    {
      "cell_type": "markdown",
      "metadata": {
        "id": "o-J9w8ELKcsr"
      },
      "source": [
        "## Club de karate de Zachary\n",
        "Hacemos el mismo análisis del grafo anterior usando el grafo del [Club de karate de Zachary](https://en.wikipedia.org/wiki/Zachary%27s_karate_club), el cual está disponible en la biblioteca NetworkX. \n",
        "\n",
        "Primero, cargamos y visualizamos el grafo.\n"
      ]
    },
    {
      "cell_type": "code",
      "metadata": {
        "id": "6DWVTJgs5y4n",
        "colab": {
          "base_uri": "https://localhost:8080/",
          "height": 319
        },
        "outputId": "8a7c9401-210b-4052-a521-aaede8fb9668"
      },
      "source": [
        "G_karate = nx.karate_club_graph()    \n",
        "karate_pos = nx.spring_layout(G_karate)\n",
        "nx.draw(G_karate)"
      ],
      "execution_count": 16,
      "outputs": [
        {
          "output_type": "display_data",
          "data": {
            "image/png": "[encoded data removed]",
            "text/plain": [
              "<Figure size 432x288 with 1 Axes>"
            ]
          },
          "metadata": {}
        }
      ]
    },
    {
      "cell_type": "markdown",
      "metadata": {
        "id": "ABPLxQkt3e7q"
      },
      "source": [
        "Obtenemos su matriz de adyacencia y laplaciana."
      ]
    },
    {
      "cell_type": "code",
      "metadata": {
        "id": "6p4dATiOCejD"
      },
      "source": [
        "lmat_karate = nx.linalg.laplacian_matrix(G_karate)\n",
        "amat_karate = nx.linalg.adjacency_matrix(G_karate)\n",
        "lmat_karate = lmat_karate.toarray()"
      ],
      "execution_count": 17,
      "outputs": []
    },
    {
      "cell_type": "markdown",
      "metadata": {
        "id": "8n4X0oWl3lK9"
      },
      "source": [
        "Calculamos los vectores y valores propios de la matriz lapaciana."
      ]
    },
    {
      "cell_type": "code",
      "metadata": {
        "id": "qb86WfQyEJOU"
      },
      "source": [
        "eval_karate, evec_karate = np.linalg.eigh(lmat_karate.astype(np.float64))"
      ],
      "execution_count": 18,
      "outputs": []
    },
    {
      "cell_type": "markdown",
      "metadata": {
        "id": "5wY7DqF73sj6"
      },
      "source": [
        "Examinamos sus propiedades."
      ]
    },
    {
      "cell_type": "code",
      "metadata": {
        "id": "UkNq40LNDR1c",
        "colab": {
          "base_uri": "https://localhost:8080/"
        },
        "outputId": "960fa8d4-ac17-4d3d-e55b-60606dde7158"
      },
      "source": [
        "print(np.sum(evec_karate**2, axis=0))\n",
        "print(np.sum(evec_karate, axis=0))"
      ],
      "execution_count": 19,
      "outputs": [
        {
          "output_type": "stream",
          "name": "stdout",
          "text": [
            "[1. 1. 1. 1. 1. 1. 1. 1. 1. 1. 1. 1. 1. 1. 1. 1. 1. 1. 1. 1. 1. 1. 1. 1.\n",
            " 1. 1. 1. 1. 1. 1. 1. 1. 1. 1.]\n",
            "[ 5.83095189e+00 -2.01921813e-14  7.92074739e-15 -6.63358257e-15\n",
            " -1.77635684e-15 -7.49400542e-16 -7.58074159e-16 -2.08513762e-15\n",
            "  3.45817125e-15 -8.93087339e-17  3.25145308e-17  7.07682238e-17\n",
            "  7.71664492e-17  5.90119315e-17 -1.03389519e-15 -1.40816178e-15\n",
            "  1.59594560e-16  5.55111512e-17  1.05471187e-15  2.85814596e-15\n",
            "  8.04911693e-16  1.69555667e-16  3.33066907e-16  1.48145385e-15\n",
            " -5.24753851e-16 -7.27314367e-16 -5.46437895e-17  3.05311332e-16\n",
            " -1.76941795e-15  3.80251386e-15  2.49800181e-15  1.50573998e-15\n",
            "  3.05311332e-16 -1.11022302e-15]\n"
          ]
        }
      ]
    },
    {
      "cell_type": "markdown",
      "metadata": {
        "id": "0AK2pzC-4GyO"
      },
      "source": [
        "Ordenamos los vectores propios en orden ascendente al valor propio asociado."
      ]
    },
    {
      "cell_type": "code",
      "metadata": {
        "id": "nkgVkD55DR1m"
      },
      "source": [
        "orden_idx = np.argsort(eval_karate)\n",
        "eval_karate = eval_karate[orden_idx]\n",
        "evec_karate = evec_karate[:, orden_idx]"
      ],
      "execution_count": 20,
      "outputs": []
    },
    {
      "cell_type": "markdown",
      "metadata": {
        "id": "HTK2fuUY4jBt"
      },
      "source": [
        "Desplegamos los valores propios ordenados."
      ]
    },
    {
      "cell_type": "code",
      "metadata": {
        "id": "7RKdeAAoDR1n",
        "colab": {
          "base_uri": "https://localhost:8080/"
        },
        "outputId": "10495470-c5a3-4d2c-c1aa-054a6d3c96e4"
      },
      "source": [
        "print(eval_karate)"
      ],
      "execution_count": 21,
      "outputs": [
        {
          "output_type": "stream",
          "name": "stdout",
          "text": [
            "[2.42080015e-15 4.68525227e-01 9.09247664e-01 1.12501072e+00\n",
            " 1.25940411e+00 1.59928308e+00 1.76189862e+00 1.82605521e+00\n",
            " 1.95505045e+00 2.00000000e+00 2.00000000e+00 2.00000000e+00\n",
            " 2.00000000e+00 2.00000000e+00 2.48709173e+00 2.74915718e+00\n",
            " 3.01396297e+00 3.24206748e+00 3.37615409e+00 3.38196601e+00\n",
            " 3.47218740e+00 4.27587682e+00 4.48000767e+00 4.58079267e+00\n",
            " 5.37859508e+00 5.61803399e+00 6.33159222e+00 6.51554463e+00\n",
            " 6.99619703e+00 9.77724095e+00 1.09210675e+01 1.33061223e+01\n",
            " 1.70551712e+01 1.81366960e+01]\n"
          ]
        }
      ]
    },
    {
      "cell_type": "markdown",
      "metadata": {
        "id": "igTY-fEJ4muQ"
      },
      "source": [
        "Examinamos el vector propio asociado al valor propio más pequeño."
      ]
    },
    {
      "cell_type": "code",
      "metadata": {
        "id": "rBH62ZfyDR1o",
        "colab": {
          "base_uri": "https://localhost:8080/"
        },
        "outputId": "531ca774-6ab0-4893-bb86-d9f1a6f7b672"
      },
      "source": [
        "print(eval_karate[0])\n",
        "print(evec_karate[:, 0])"
      ],
      "execution_count": 22,
      "outputs": [
        {
          "output_type": "stream",
          "name": "stdout",
          "text": [
            "2.4208001520994115e-15\n",
            "[0.17149859 0.17149859 0.17149859 0.17149859 0.17149859 0.17149859\n",
            " 0.17149859 0.17149859 0.17149859 0.17149859 0.17149859 0.17149859\n",
            " 0.17149859 0.17149859 0.17149859 0.17149859 0.17149859 0.17149859\n",
            " 0.17149859 0.17149859 0.17149859 0.17149859 0.17149859 0.17149859\n",
            " 0.17149859 0.17149859 0.17149859 0.17149859 0.17149859 0.17149859\n",
            " 0.17149859 0.17149859 0.17149859 0.17149859]\n"
          ]
        }
      ]
    },
    {
      "cell_type": "markdown",
      "metadata": {
        "id": "iLEB1MBP4sJ6"
      },
      "source": [
        "Graficamos los elementos de los vectores propios asociados a los cuatro valores propios más pequeños."
      ]
    },
    {
      "cell_type": "code",
      "metadata": {
        "id": "N5XwcNYmDR1o",
        "colab": {
          "base_uri": "https://localhost:8080/",
          "height": 297
        },
        "outputId": "17da695f-3307-4301-baed-ca036ea91db0"
      },
      "source": [
        "fig, axs = plt.subplots(1,4, figsize=(15, 4), sharey=True)\n",
        "\n",
        "for i in range(4):\n",
        "  axs[i].plot(np.sort(evec_karate[:, i]), 'bo')\n",
        "  axs[i].set_ylim([-1,1])\n",
        "  axs[i].set_xlabel('Orden en el vector propio')\n",
        "  axs[i].set_title('$\\\\lambda_' + str(i + 1) + '$')\n",
        "\n",
        "axs[0].set_ylabel('Valor')\n",
        "fig.tight_layout()\n",
        "plt.show()"
      ],
      "execution_count": 23,
      "outputs": [
        {
          "output_type": "display_data",
          "data": {
            "image/png": "[encoded data removed]",
            "text/plain": [
              "<Figure size 1080x288 with 4 Axes>"
            ]
          },
          "metadata": {
            "needs_background": "light"
          }
        }
      ]
    },
    {
      "cell_type": "markdown",
      "metadata": {
        "id": "DjUIF_m5snTd"
      },
      "source": [
        "Agrupamos los elementos del vector propio con valor propio más pequeño."
      ]
    },
    {
      "cell_type": "code",
      "metadata": {
        "id": "Gg3MdaElDR1r",
        "colab": {
          "base_uri": "https://localhost:8080/"
        },
        "outputId": "efcbd10a-db06-4264-9c07-b9b7a05df53f"
      },
      "source": [
        "km_karate = KMeans(n_clusters=3, n_init=100)\n",
        "km_karate = km_karate.fit(evec_karate[:, [1]])\n",
        "km_karate.labels_"
      ],
      "execution_count": 24,
      "outputs": [
        {
          "output_type": "execute_result",
          "data": {
            "text/plain": [
              "array([2, 2, 2, 2, 1, 1, 1, 2, 0, 0, 1, 1, 2, 2, 0, 0, 1, 2, 0, 2, 0, 2,\n",
              "       0, 0, 0, 0, 0, 0, 0, 0, 0, 0, 0, 0], dtype=int32)"
            ]
          },
          "metadata": {},
          "execution_count": 24
        }
      ]
    },
    {
      "cell_type": "markdown",
      "metadata": {
        "id": "RETcl4mV2-9k"
      },
      "source": [
        "Visualizamos el agrupamiento de los vértices."
      ]
    },
    {
      "cell_type": "code",
      "metadata": {
        "id": "I0DPvNtsFEIi",
        "colab": {
          "base_uri": "https://localhost:8080/",
          "height": 319
        },
        "outputId": "160f1562-2d1a-439c-ef00-40c65d5c76ca"
      },
      "source": [
        "color_vertices = [mapa_color[km_karate.labels_[n]] for n in G_karate]\n",
        "nx.draw(G_karate, pos=karate_pos, node_color=color_vertices)"
      ],
      "execution_count": 25,
      "outputs": [
        {
          "output_type": "display_data",
          "data": {
            "image/png": "[encoded data removed]",
            "text/plain": [
              "<Figure size 432x288 with 1 Axes>"
            ]
          },
          "metadata": {}
        }
      ]
    },
    {
      "cell_type": "markdown",
      "metadata": {
        "id": "Lu9kayHkKwCy"
      },
      "source": [
        "## Detección de comunidades en _Facebook's Social circles_\n",
        "Aplicamos agrupamiento espectral a los [círculos sociales de Facebook de SNAP](https://snap.stanford.edu/data/ego-Facebook.html).\n",
        "\n",
        "Primero descargamos y desempaquetamos los datos."
      ]
    },
    {
      "cell_type": "code",
      "metadata": {
        "id": "jD9nZsuCh8b1",
        "colab": {
          "base_uri": "https://localhost:8080/"
        },
        "outputId": "6989ed49-7262-40f2-ab48-60818326f035"
      },
      "source": [
        "!wget https://snap.stanford.edu/data/facebook_combined.txt.gz\n",
        "!gunzip facebook_combined.txt.gz"
      ],
      "execution_count": 26,
      "outputs": [
        {
          "output_type": "stream",
          "name": "stdout",
          "text": [
            "--2021-11-16 16:09:37--  https://snap.stanford.edu/data/facebook_combined.txt.gz\n",
            "Resolving snap.stanford.edu (snap.stanford.edu)... 171.64.75.80\n",
            "Connecting to snap.stanford.edu (snap.stanford.edu)|171.64.75.80|:443... connected.\n",
            "HTTP request sent, awaiting response... 200 OK\n",
            "Length: 218576 (213K) [application/x-gzip]\n",
            "Saving to: ‘facebook_combined.txt.gz’\n",
            "\n",
            "facebook_combined.t 100%[===================>] 213.45K   287KB/s    in 0.7s    \n",
            "\n",
            "2021-11-16 16:09:38 (287 KB/s) - ‘facebook_combined.txt.gz’ saved [218576/218576]\n",
            "\n",
            "gzip: facebook_combined.txt already exists; do you wish to overwrite (y or n)? y\n"
          ]
        }
      ]
    },
    {
      "cell_type": "markdown",
      "metadata": {
        "id": "lBw2I3Kh79SK"
      },
      "source": [
        "Cargamos el grafo y lo visualizamos."
      ]
    },
    {
      "cell_type": "code",
      "metadata": {
        "id": "ym9D7LeProHm"
      },
      "source": [
        "G_large = nx.read_edgelist('facebook_combined.txt')\n",
        "large_pos = nx.spring_layout(G_large)\n",
        "nx.draw(G_large, pos=large_pos)"
      ],
      "execution_count": null,
      "outputs": []
    },
    {
      "cell_type": "markdown",
      "metadata": {
        "id": "-2uoiL-z7oLG"
      },
      "source": [
        "Obtenemos su matriz laplaciana y le aplicamos agrupamiento espectral para obtener 10 comunidades"
      ]
    },
    {
      "cell_type": "code",
      "metadata": {
        "id": "XSEXRpFhftcw"
      },
      "source": [
        "amat_large = nx.linalg.adjacency_matrix(G_large)\n",
        "sc_large = SpectralClustering(n_clusters=10, \n",
        "                              affinity='precomputed', \n",
        "                              n_init=100)\n",
        "sc_large = sc_large.fit(amat_large)"
      ],
      "execution_count": null,
      "outputs": []
    },
    {
      "cell_type": "markdown",
      "metadata": {
        "id": "NJdwTMs7gn9G"
      },
      "source": [
        "Visualizamos las comunidades"
      ]
    },
    {
      "cell_type": "code",
      "metadata": {
        "id": "9yXNmVx5gJS4"
      },
      "source": [
        "nx.draw(G_large, pos=large_pos, node_color=sc_large.labels_, cmap=plt.cm.jet)"
      ],
      "execution_count": null,
      "outputs": []
    }
  ]
}