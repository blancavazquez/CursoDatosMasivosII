{
  "nbformat": 4,
  "nbformat_minor": 0,
  "metadata": {
    "colab": {
      "name": "HIST.ipynb",
      "provenance": [],
      "collapsed_sections": [],
      "mount_file_id": "1KENni-n4u4nTkfieZx3m6zpMvQO7mVOH",
      "authorship_tag": "ABX9TyMAELWxqb3bgAdEwcNBy8bR",
      "include_colab_link": true
    },
    "kernelspec": {
      "name": "python3",
      "display_name": "Python 3"
    },
    "language_info": {
      "name": "python"
    }
  },
  "cells": [
    {
      "cell_type": "markdown",
      "metadata": {
        "id": "view-in-github",
        "colab_type": "text"
      },
      "source": [
        "<a href=\"https://colab.research.google.com/github/blancavazquez/CursoDatosMasivosII/blob/master/notebooks/HIST.ipynb\" target=\"_parent\"><img src=\"https://colab.research.google.com/assets/colab-badge.svg\" alt=\"Open In Colab\"/></a>"
      ]
    },
    {
      "cell_type": "markdown",
      "metadata": {
        "id": "Ulq1AdzHcjf5"
      },
      "source": [
        "## Algoritmo de HITS usando pyspark"
      ]
    },
    {
      "cell_type": "code",
      "metadata": {
        "id": "vHnj2vz4ellZ"
      },
      "source": [
        "#!pip install pyspark\n",
        "#!pip install -U -q PyDrive\n",
        "#!apt install openjdk-8-jdk-headless -qq\n",
        "import os\n",
        "os.environ[\"JAVA_HOME\"] = \"/usr/lib/jvm/java-8-openjdk-amd64\""
      ],
      "execution_count": 1,
      "outputs": []
    },
    {
      "cell_type": "code",
      "metadata": {
        "id": "Qw-1vKDhezS3"
      },
      "source": [
        "import re, sys\n",
        "from operator import add\n",
        "from pyspark import SparkContext"
      ],
      "execution_count": 2,
      "outputs": []
    },
    {
      "cell_type": "code",
      "metadata": {
        "id": "goWMWnMfe2iu"
      },
      "source": [
        "def computeAuth(urls, hub):\n",
        "    \"\"\"Calculates hub contributions to the auth of other URLs.\"\"\"\n",
        "    num_urls = len(urls)\n",
        "    for url in urls: yield (url, hub)\n",
        "\n",
        "def computeHub(urls, auth):\n",
        "    \"\"\"Calculates auth contributions to the hub of other URLs.\"\"\"\n",
        "    num_urls = len(urls)\n",
        "    for url in urls: yield (url, auth)\n",
        "\n",
        "def outNeighbors(urls):\n",
        "    \"\"\"Parses a urls pair string into urls pair.\"\"\"\n",
        "    parts = re.split(r'\\s+', urls)\n",
        "    return parts[0], parts[1]\n",
        "\n",
        "def inNeighbors(urls):\n",
        "    \"\"\"Parses a urls pair string into urls pair.\"\"\"\n",
        "    parts = re.split(r'\\s+', urls)\n",
        "    return parts[1], parts[0]"
      ],
      "execution_count": 3,
      "outputs": []
    },
    {
      "cell_type": "code",
      "metadata": {
        "id": "ExYthWJxhx6W"
      },
      "source": [
        "import pyspark\n",
        "from pyspark.sql.functions import * \n",
        "from pyspark.sql import SparkSession\n",
        "import re, sys\n",
        "from operator import add\n",
        "from pyspark import SparkContext\n",
        "import time\n",
        "sc = SparkContext()"
      ],
      "execution_count": 4,
      "outputs": []
    },
    {
      "cell_type": "code",
      "metadata": {
        "id": "QdJgE18ejp9q"
      },
      "source": [
        "lineas = sc.textFile('/content/drive/MyDrive/Colab Notebooks/datos_vinculos/data_hist.txt')"
      ],
      "execution_count": 5,
      "outputs": []
    },
    {
      "cell_type": "code",
      "metadata": {
        "colab": {
          "base_uri": "https://localhost:8080/"
        },
        "id": "oHqj9dStkW87",
        "outputId": "453a96e4-8c8b-465f-a0f1-5eb64fd9d961"
      },
      "source": [
        "lineas.collect()"
      ],
      "execution_count": 6,
      "outputs": [
        {
          "output_type": "execute_result",
          "data": {
            "text/plain": [
              "['1 2', '1 3', '1 4', '2 1', '2 4', '3 5', '4 2', '4 3']"
            ]
          },
          "metadata": {},
          "execution_count": 6
        }
      ]
    },
    {
      "cell_type": "code",
      "metadata": {
        "id": "XN2EjmOTiLaF",
        "colab": {
          "base_uri": "https://localhost:8080/"
        },
        "outputId": "2e089f83-4485-4779-859a-2cddfa13b050"
      },
      "source": [
        "out_links = lineas.map(lambda urls: outNeighbors(urls)).distinct().groupByKey()\n",
        "out_links.collect()"
      ],
      "execution_count": 7,
      "outputs": [
        {
          "output_type": "execute_result",
          "data": {
            "text/plain": [
              "[('1', <pyspark.resultiterable.ResultIterable at 0x7f4e15e09e10>),\n",
              " ('4', <pyspark.resultiterable.ResultIterable at 0x7f4e15e09cd0>),\n",
              " ('3', <pyspark.resultiterable.ResultIterable at 0x7f4e15e09e90>),\n",
              " ('2', <pyspark.resultiterable.ResultIterable at 0x7f4e15e09d90>)]"
            ]
          },
          "metadata": {},
          "execution_count": 7
        }
      ]
    },
    {
      "cell_type": "code",
      "metadata": {
        "colab": {
          "base_uri": "https://localhost:8080/"
        },
        "id": "9ikOJca_kzq7",
        "outputId": "9a1e23be-9126-4049-81ce-54ef6c938ae8"
      },
      "source": [
        "in_links = lineas.map(lambda urls: inNeighbors(urls)).distinct().groupByKey()\n",
        "in_links.collect()"
      ],
      "execution_count": 8,
      "outputs": [
        {
          "output_type": "execute_result",
          "data": {
            "text/plain": [
              "[('4', <pyspark.resultiterable.ResultIterable at 0x7f4e15e2b310>),\n",
              " ('1', <pyspark.resultiterable.ResultIterable at 0x7f4e15e2b090>),\n",
              " ('5', <pyspark.resultiterable.ResultIterable at 0x7f4e15e2b390>),\n",
              " ('2', <pyspark.resultiterable.ResultIterable at 0x7f4e15e2b4d0>),\n",
              " ('3', <pyspark.resultiterable.ResultIterable at 0x7f4e15df9bd0>)]"
            ]
          },
          "metadata": {},
          "execution_count": 8
        }
      ]
    },
    {
      "cell_type": "code",
      "metadata": {
        "colab": {
          "base_uri": "https://localhost:8080/"
        },
        "id": "JfiI1ufQk5eA",
        "outputId": "33c0d92e-25d0-4d77-b8e6-db8ce5c40507"
      },
      "source": [
        "hubs = out_links.map(lambda x: (x[0], 1.0))\n",
        "hubs.collect()"
      ],
      "execution_count": 9,
      "outputs": [
        {
          "output_type": "execute_result",
          "data": {
            "text/plain": [
              "[('1', 1.0), ('4', 1.0), ('3', 1.0), ('2', 1.0)]"
            ]
          },
          "metadata": {},
          "execution_count": 9
        }
      ]
    },
    {
      "cell_type": "code",
      "metadata": {
        "colab": {
          "base_uri": "https://localhost:8080/"
        },
        "id": "55SCDYO9pmc4",
        "outputId": "7b1c76d4-befd-4b20-9172-b92107fe8dba"
      },
      "source": [
        "auths = in_links.map(lambda x: (x[0], 1.0))\n",
        "auths.collect()"
      ],
      "execution_count": 10,
      "outputs": [
        {
          "output_type": "execute_result",
          "data": {
            "text/plain": [
              "[('4', 1.0), ('1', 1.0), ('5', 1.0), ('2', 1.0), ('3', 1.0)]"
            ]
          },
          "metadata": {},
          "execution_count": 10
        }
      ]
    },
    {
      "cell_type": "code",
      "metadata": {
        "colab": {
          "base_uri": "https://localhost:8080/"
        },
        "id": "D_cMaGQWqUwN",
        "outputId": "898ddc6b-f718-45ff-83d4-fb4152f3ad3b"
      },
      "source": [
        "# Calculates and updates URL ranks continuously using Hits algorithm.\n",
        "for iteration in range(int(10)):\n",
        "  # Calculates URL contributions to the rank of other URLs.\n",
        "  # Here we are contributing auth of a link present in the outgoing list of a link whose hub is given\n",
        "   \n",
        "   auth_contribs = out_links.join(hubs).flatMap(lambda url_urls_rank:computeAuth(url_urls_rank[1][0], url_urls_rank[1][1]))\n",
        "\n",
        "   auths = auth_contribs.reduceByKey(add) \n",
        "   max_value = auths.max(lambda x:x[1])[1]\n",
        "\n",
        "   auths = auths.mapValues(lambda rank: rank/(max_value))\n",
        "\n",
        "   # Here we are contributing hub of a link present in the incoming list of a link whose auth is given\n",
        "   hub_contribs = in_links.join(auths).flatMap(lambda url_urls_rank:computeHub(url_urls_rank[1][0], url_urls_rank[1][1]))\n",
        "   \n",
        "   hubs = hub_contribs.reduceByKey(add)\n",
        "   max_value = hubs.max(lambda x:x[1])[1]\n",
        "\n",
        "   hubs = hubs.mapValues(lambda rank:rank/(max_value))\n",
        "   print(\"iteración:\", iteration)"
      ],
      "execution_count": 11,
      "outputs": [
        {
          "output_type": "stream",
          "name": "stdout",
          "text": [
            "iteración: 0\n",
            "iteración: 1\n",
            "iteración: 2\n",
            "iteración: 3\n",
            "iteración: 4\n",
            "iteración: 5\n",
            "iteración: 6\n",
            "iteración: 7\n",
            "iteración: 8\n",
            "iteración: 9\n"
          ]
        }
      ]
    },
    {
      "cell_type": "code",
      "metadata": {
        "colab": {
          "base_uri": "https://localhost:8080/"
        },
        "id": "W2ttq_aSJf8W",
        "outputId": "f89e9a9d-e404-4509-84c7-30a04a6b6031"
      },
      "source": [
        "# Collects all URL ranks and dump them to console.\n",
        "for (link, rank) in auths.collect():\n",
        "  print(link, \"has auth:\", (link, rank))\n",
        "\n",
        "print(\"**************************************\")\n",
        "for (link, rank) in hubs.collect():\n",
        "  print(link, \"has hub:\", (link, rank))"
      ],
      "execution_count": 12,
      "outputs": [
        {
          "output_type": "stream",
          "name": "stdout",
          "text": [
            "1 has auth: ('1', 0.12838756187947561)\n",
            "2 has auth: ('2', 0.6149109120448921)\n",
            "4 has auth: ('4', 0.4866324223620656)\n",
            "3 has auth: ('3', 0.6149109120448921)\n",
            "5 has auth: ('5', 2.1303163408019257e-07)\n",
            "**************************************\n",
            "3 has hub: ('3', 1.2411145506532355e-07)\n",
            "4 has hub: ('4', 0.7164897209651799)\n",
            "2 has hub: ('2', 0.3583084055475835)\n",
            "1 has hub: ('1', 1.0)\n"
          ]
        }
      ]
    }
  ]
}