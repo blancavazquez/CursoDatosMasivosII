{
  "nbformat": 4,
  "nbformat_minor": 0,
  "metadata": {
    "colab": {
      "name": "3b_pagerank.ipynb",
      "provenance": [],
      "collapsed_sections": [],
      "authorship_tag": "ABX9TyN+hSnG690E/Nfq9oYWtFij",
      "include_colab_link": true
    },
    "kernelspec": {
      "name": "python3",
      "display_name": "Python 3"
    }
  },
  "cells": [
    {
      "cell_type": "markdown",
      "metadata": {
        "id": "view-in-github",
        "colab_type": "text"
      },
      "source": [
        "<a href=\"https://colab.research.google.com/github/blancavazquez/CursoDatosMasivosII/blob/master/notebooks/3b_pagerank.ipynb\" target=\"_parent\"><img src=\"https://colab.research.google.com/assets/colab-badge.svg\" alt=\"Open In Colab\"/></a>"
      ]
    },
    {
      "cell_type": "markdown",
      "metadata": {
        "id": "TBPTqDtJtt9y"
      },
      "source": [
        "# PageRank en Python\n",
        "## Formulación básica\n",
        "En esta libreta programaremos el algoritmo de PageRank y lo aplicaremos a problemas sencillos.\n",
        "\n",
        "PageRank calcula la relevancia de un conjunto de páginas a partir de la relevancia de los vínculos entrantes. La formulación básica es la siguiente\n",
        "\n",
        "$$\n",
        "\\mathbf{r}^{(t+1)} = \\mathbf{M} \\cdot \\mathbf{r}^{(t)} \n",
        "$$\n",
        "\n",
        "donde $\\mathbf{M}$ es una matriz columna estocástica y $\\sum_{i=1}^n r_i = 1$. El cálculo de PageRank es iterativo."
      ]
    },
    {
      "cell_type": "code",
      "metadata": {
        "id": "PRQmizzDzMK3"
      },
      "source": [
        "import numpy as np\n",
        "from scipy.sparse import csr_matrix\n",
        "\n",
        "def pagerank(M, iter=100):\n",
        "  n = M.shape[0]\n",
        "  r = np.ones(n) / n\n",
        "  for i in range(iter):\n",
        "    print('Iteración {0}: r = {1}'.format(i,r))\n",
        "    r = M @ r\n",
        "\n",
        "  return r"
      ],
      "execution_count": 1,
      "outputs": []
    },
    {
      "cell_type": "markdown",
      "metadata": {
        "id": "PV7HFB71rz9h"
      },
      "source": [
        "Probemos el algoritmo con el siguiente ejemplo.\n",
        "\n",
        "![](https://raw.githubusercontent.com/blancavazquez/CursoDatosMasivosII/master/figs/grafo_3nodos.svg)\n",
        "\n",
        "\\begin{align*}\n",
        "  r_a & = \\frac{r_a}{2} + \\frac{r_b}{2}\\\\\n",
        "  r_b & = \\frac{r_a}{2} + r_c\\\\\n",
        "  r_c & = \\frac{r_b}{2} \n",
        "\\end{align*}\n",
        "\n",
        "En su forma matricial\n",
        "  \n",
        "\\begin{equation*}\n",
        "\\mathbf{M} =\n",
        "\\begin{bmatrix}\n",
        "\\frac{1}{2}           & \\frac{1}{2} & 0\\\\\n",
        "\\frac{1}{2} & 0           & 1\\\\\n",
        "0 & \\frac{1}{2} & 0\n",
        "\\end{bmatrix}\n",
        "\\end{equation*}\n"
      ]
    },
    {
      "cell_type": "code",
      "metadata": {
        "id": "EoVpqyAI1ZvC",
        "colab": {
          "base_uri": "https://localhost:8080/"
        },
        "outputId": "f7ad7d55-3dce-458e-a244-3b82ffd21312"
      },
      "source": [
        "M1 = np.array([[1/2, 1/2, 0], [1/2, 0, 1], [0, 1/2, 0]])\n",
        "print(M1)"
      ],
      "execution_count": 2,
      "outputs": [
        {
          "output_type": "stream",
          "name": "stdout",
          "text": [
            "[[0.5 0.5 0. ]\n",
            " [0.5 0.  1. ]\n",
            " [0.  0.5 0. ]]\n"
          ]
        }
      ]
    },
    {
      "cell_type": "markdown",
      "metadata": {
        "id": "3hFu4kxL2zX6"
      },
      "source": [
        "Calculamos el PageRank de esta matriz"
      ]
    },
    {
      "cell_type": "code",
      "metadata": {
        "id": "SRaDdAyN4Ldm",
        "colab": {
          "base_uri": "https://localhost:8080/"
        },
        "outputId": "c83d50e6-fd48-43fb-e06c-049872bc873e"
      },
      "source": [
        "print(pagerank(M1, 100))"
      ],
      "execution_count": 3,
      "outputs": [
        {
          "output_type": "stream",
          "name": "stdout",
          "text": [
            "Iteración 0: r = [0.33333333 0.33333333 0.33333333]\n",
            "Iteración 1: r = [0.33333333 0.5        0.16666667]\n",
            "Iteración 2: r = [0.41666667 0.33333333 0.25      ]\n",
            "Iteración 3: r = [0.375      0.45833333 0.16666667]\n",
            "Iteración 4: r = [0.41666667 0.35416667 0.22916667]\n",
            "Iteración 5: r = [0.38541667 0.4375     0.17708333]\n",
            "Iteración 6: r = [0.41145833 0.36979167 0.21875   ]\n",
            "Iteración 7: r = [0.390625   0.42447917 0.18489583]\n",
            "Iteración 8: r = [0.40755208 0.38020833 0.21223958]\n",
            "Iteración 9: r = [0.39388021 0.41601562 0.19010417]\n",
            "Iteración 10: r = [0.40494792 0.38704427 0.20800781]\n",
            "Iteración 11: r = [0.39599609 0.41048177 0.19352214]\n",
            "Iteración 12: r = [0.40323893 0.39152018 0.20524089]\n",
            "Iteración 13: r = [0.39737956 0.40686035 0.19576009]\n",
            "Iteración 14: r = [0.40211995 0.39444987 0.20343018]\n",
            "Iteración 15: r = [0.39828491 0.40449015 0.19722493]\n",
            "Iteración 16: r = [0.40138753 0.39636739 0.20224508]\n",
            "Iteración 17: r = [0.39887746 0.40293884 0.1981837 ]\n",
            "Iteración 18: r = [0.40090815 0.39762243 0.20146942]\n",
            "Iteración 19: r = [0.39926529 0.4019235  0.19881121]\n",
            "Iteración 20: r = [0.40059439 0.39844386 0.20096175]\n",
            "Iteración 21: r = [0.39951913 0.40125895 0.19922193]\n",
            "Iteración 22: r = [0.40038904 0.39898149 0.20062947]\n",
            "Iteración 23: r = [0.39968526 0.40082399 0.19949075]\n",
            "Iteración 24: r = [0.40025463 0.39933338 0.200412  ]\n",
            "Iteración 25: r = [0.399794   0.40053931 0.19966669]\n",
            "Iteración 26: r = [0.40016666 0.39956369 0.20026965]\n",
            "Iteración 27: r = [0.39986517 0.40035298 0.19978185]\n",
            "Iteración 28: r = [0.40010908 0.39971443 0.20017649]\n",
            "Iteración 29: r = [0.39991175 0.40023103 0.19985722]\n",
            "Iteración 30: r = [0.40007139 0.39981309 0.20011551]\n",
            "Iteración 31: r = [0.39994224 0.40015121 0.19990655]\n",
            "Iteración 32: r = [0.40004673 0.39987767 0.20007561]\n",
            "Iteración 33: r = [0.3999622  0.40009897 0.19993883]\n",
            "Iteración 34: r = [0.40003058 0.39991993 0.20004948]\n",
            "Iteración 35: r = [0.39997526 0.40006478 0.19995997]\n",
            "Iteración 36: r = [0.40002002 0.3999476  0.20003239]\n",
            "Iteración 37: r = [0.39998381 0.4000424  0.1999738 ]\n",
            "Iteración 38: r = [0.4000131 0.3999657 0.2000212]\n",
            "Iteración 39: r = [0.3999894  0.40002775 0.19998285]\n",
            "Iteración 40: r = [0.40000857 0.39997755 0.20001387]\n",
            "Iteración 41: r = [0.39999306 0.40001816 0.19998878]\n",
            "Iteración 42: r = [0.40000561 0.39998531 0.20000908]\n",
            "Iteración 43: r = [0.39999546 0.40001189 0.19999265]\n",
            "Iteración 44: r = [0.40000367 0.39999038 0.20000594]\n",
            "Iteración 45: r = [0.39999703 0.40000778 0.19999519]\n",
            "Iteración 46: r = [0.4000024  0.39999371 0.20000389]\n",
            "Iteración 47: r = [0.39999805 0.40000509 0.19999685]\n",
            "Iteración 48: r = [0.40000157 0.39999588 0.20000255]\n",
            "Iteración 49: r = [0.39999873 0.40000333 0.19999794]\n",
            "Iteración 50: r = [0.40000103 0.3999973  0.20000167]\n",
            "Iteración 51: r = [0.39999917 0.40000218 0.19999865]\n",
            "Iteración 52: r = [0.40000067 0.39999824 0.20000109]\n",
            "Iteración 53: r = [0.39999945 0.40000143 0.19999912]\n",
            "Iteración 54: r = [0.40000044 0.39999884 0.20000071]\n",
            "Iteración 55: r = [0.39999964 0.40000093 0.19999942]\n",
            "Iteración 56: r = [0.40000029 0.39999924 0.20000047]\n",
            "Iteración 57: r = [0.39999977 0.40000061 0.19999962]\n",
            "Iteración 58: r = [0.40000019 0.39999951 0.20000031]\n",
            "Iteración 59: r = [0.39999985 0.4000004  0.19999975]\n",
            "Iteración 60: r = [0.40000012 0.39999968 0.2000002 ]\n",
            "Iteración 61: r = [0.3999999  0.40000026 0.19999984]\n",
            "Iteración 62: r = [0.40000008 0.39999979 0.20000013]\n",
            "Iteración 63: r = [0.39999993 0.40000017 0.19999989]\n",
            "Iteración 64: r = [0.40000005 0.39999986 0.20000009]\n",
            "Iteración 65: r = [0.39999996 0.40000011 0.19999993]\n",
            "Iteración 66: r = [0.40000003 0.39999991 0.20000006]\n",
            "Iteración 67: r = [0.39999997 0.40000007 0.19999995]\n",
            "Iteración 68: r = [0.40000002 0.39999994 0.20000004]\n",
            "Iteración 69: r = [0.39999998 0.40000005 0.19999997]\n",
            "Iteración 70: r = [0.40000001 0.39999996 0.20000002]\n",
            "Iteración 71: r = [0.39999999 0.40000003 0.19999998]\n",
            "Iteración 72: r = [0.40000001 0.39999997 0.20000002]\n",
            "Iteración 73: r = [0.39999999 0.40000002 0.19999999]\n",
            "Iteración 74: r = [0.40000001 0.39999998 0.20000001]\n",
            "Iteración 75: r = [0.39999999 0.40000001 0.19999999]\n",
            "Iteración 76: r = [0.4        0.39999999 0.20000001]\n",
            "Iteración 77: r = [0.4        0.40000001 0.19999999]\n",
            "Iteración 78: r = [0.4        0.39999999 0.2       ]\n",
            "Iteración 79: r = [0.4        0.40000001 0.2       ]\n",
            "Iteración 80: r = [0.4 0.4 0.2]\n",
            "Iteración 81: r = [0.4 0.4 0.2]\n",
            "Iteración 82: r = [0.4 0.4 0.2]\n",
            "Iteración 83: r = [0.4 0.4 0.2]\n",
            "Iteración 84: r = [0.4 0.4 0.2]\n",
            "Iteración 85: r = [0.4 0.4 0.2]\n",
            "Iteración 86: r = [0.4 0.4 0.2]\n",
            "Iteración 87: r = [0.4 0.4 0.2]\n",
            "Iteración 88: r = [0.4 0.4 0.2]\n",
            "Iteración 89: r = [0.4 0.4 0.2]\n",
            "Iteración 90: r = [0.4 0.4 0.2]\n",
            "Iteración 91: r = [0.4 0.4 0.2]\n",
            "Iteración 92: r = [0.4 0.4 0.2]\n",
            "Iteración 93: r = [0.4 0.4 0.2]\n",
            "Iteración 94: r = [0.4 0.4 0.2]\n",
            "Iteración 95: r = [0.4 0.4 0.2]\n",
            "Iteración 96: r = [0.4 0.4 0.2]\n",
            "Iteración 97: r = [0.4 0.4 0.2]\n",
            "Iteración 98: r = [0.4 0.4 0.2]\n",
            "Iteración 99: r = [0.4 0.4 0.2]\n",
            "[0.4 0.4 0.2]\n"
          ]
        }
      ]
    },
    {
      "cell_type": "markdown",
      "metadata": {
        "id": "jVCW4BaZuoJK"
      },
      "source": [
        "Ahora probemos con el siguiente ejemplo\n",
        "\n",
        "![](https://raw.githubusercontent.com/blancavazquez/CursoDatosMasivosII/master/figs/grafo_4nodos.svg)\n",
        "\n",
        "\\begin{equation*}\n",
        "        \\mathbf{M} =\n",
        "        \\begin{bmatrix}\n",
        "        0           & \\frac{1}{2} & 1 & 0\\\\\n",
        "        \\frac{1}{3} & 0           & 0 & \\frac{1}{2}\\\\\n",
        "        \\frac{1}{3} & 0           & 0 & \\frac{1}{2}\\\\\n",
        "        \\frac{1}{3} & \\frac{1}{2} & 0 & 0\n",
        "        \\end{bmatrix}\n",
        "\\end{equation*}"
      ]
    },
    {
      "cell_type": "code",
      "metadata": {
        "id": "QcYL5YA1zK1d",
        "colab": {
          "base_uri": "https://localhost:8080/"
        },
        "outputId": "4f11f8ce-83bf-41da-ea69-53a6cd8aa0bc"
      },
      "source": [
        "M2 = np.array([[0, 1/2, 1, 0], [1/3, 0, 0, 1/2], [1/3, 0, 0, 1/2], [1/3, 1/2, 0, 0]])\n",
        "print(M2)"
      ],
      "execution_count": 4,
      "outputs": [
        {
          "output_type": "stream",
          "name": "stdout",
          "text": [
            "[[0.         0.5        1.         0.        ]\n",
            " [0.33333333 0.         0.         0.5       ]\n",
            " [0.33333333 0.         0.         0.5       ]\n",
            " [0.33333333 0.5        0.         0.        ]]\n"
          ]
        }
      ]
    },
    {
      "cell_type": "markdown",
      "metadata": {
        "id": "riP3szKW26WE"
      },
      "source": [
        "Calculamos su relevancia"
      ]
    },
    {
      "cell_type": "code",
      "metadata": {
        "id": "lHWql2PA04gs",
        "colab": {
          "base_uri": "https://localhost:8080/"
        },
        "outputId": "ce72dce9-0b8e-421d-ba3d-10b5f168af7b"
      },
      "source": [
        "print(pagerank(M2, 20))"
      ],
      "execution_count": 5,
      "outputs": [
        {
          "output_type": "stream",
          "name": "stdout",
          "text": [
            "Iteración 0: r = [0.25 0.25 0.25 0.25]\n",
            "Iteración 1: r = [0.375      0.20833333 0.20833333 0.20833333]\n",
            "Iteración 2: r = [0.3125     0.22916667 0.22916667 0.22916667]\n",
            "Iteración 3: r = [0.34375 0.21875 0.21875 0.21875]\n",
            "Iteración 4: r = [0.328125   0.22395833 0.22395833 0.22395833]\n",
            "Iteración 5: r = [0.3359375  0.22135417 0.22135417 0.22135417]\n",
            "Iteración 6: r = [0.33203125 0.22265625 0.22265625 0.22265625]\n",
            "Iteración 7: r = [0.33398438 0.22200521 0.22200521 0.22200521]\n",
            "Iteración 8: r = [0.33300781 0.22233073 0.22233073 0.22233073]\n",
            "Iteración 9: r = [0.33349609 0.22216797 0.22216797 0.22216797]\n",
            "Iteración 10: r = [0.33325195 0.22224935 0.22224935 0.22224935]\n",
            "Iteración 11: r = [0.33337402 0.22220866 0.22220866 0.22220866]\n",
            "Iteración 12: r = [0.33331299 0.222229   0.222229   0.222229  ]\n",
            "Iteración 13: r = [0.33334351 0.22221883 0.22221883 0.22221883]\n",
            "Iteración 14: r = [0.33332825 0.22222392 0.22222392 0.22222392]\n",
            "Iteración 15: r = [0.33333588 0.22222137 0.22222137 0.22222137]\n",
            "Iteración 16: r = [0.33333206 0.22222265 0.22222265 0.22222265]\n",
            "Iteración 17: r = [0.33333397 0.22222201 0.22222201 0.22222201]\n",
            "Iteración 18: r = [0.33333302 0.22222233 0.22222233 0.22222233]\n",
            "Iteración 19: r = [0.33333349 0.22222217 0.22222217 0.22222217]\n",
            "[0.33333325 0.22222225 0.22222225 0.22222225]\n"
          ]
        }
      ]
    },
    {
      "cell_type": "markdown",
      "metadata": {
        "id": "8sIzeRasuyF5"
      },
      "source": [
        "## Trampas de araña\n",
        "En algunos problemas es posible encontrar trampas de araña, las cuales terminan absorviendo toda la relevancia. Por ej.\n",
        "\n",
        "![](https://raw.githubusercontent.com/blancavazquez/CursoDatosMasivosII/master/figs/grafo_trampa.svg)\n",
        "\n",
        "\n",
        "\\begin{equation*}\n",
        "    \\mathbf{M}  = \\begin{bmatrix}\n",
        "      0 & \\frac{1}{2} & 0\\\\\n",
        "      \\frac{1}{2} & \\frac{1}{2} & 0\\\\\n",
        "      \\frac{1}{2} & 0 & 1 \n",
        "      \\end{bmatrix}\n",
        "        \\end{equation*}"
      ]
    },
    {
      "cell_type": "code",
      "metadata": {
        "id": "igsUB9Sq1Jnb",
        "colab": {
          "base_uri": "https://localhost:8080/"
        },
        "outputId": "2d3f7cc8-53e9-4e6d-bee4-a60224ca6ecd"
      },
      "source": [
        "M3 = np.array([[0, 1/2, 0], [1/2, 1/2, 0], [1/2, 0, 1]])\n",
        "print(M3)"
      ],
      "execution_count": 6,
      "outputs": [
        {
          "output_type": "stream",
          "name": "stdout",
          "text": [
            "[[0.  0.5 0. ]\n",
            " [0.5 0.5 0. ]\n",
            " [0.5 0.  1. ]]\n"
          ]
        }
      ]
    },
    {
      "cell_type": "markdown",
      "metadata": {
        "id": "mvnAC4v93D01"
      },
      "source": [
        "Calculamos su relevancia"
      ]
    },
    {
      "cell_type": "code",
      "metadata": {
        "id": "CjugCB1h4Sff",
        "colab": {
          "base_uri": "https://localhost:8080/"
        },
        "outputId": "86b22481-917e-4138-f776-53f08c63aad3"
      },
      "source": [
        "pagerank(M3,iter=100)"
      ],
      "execution_count": 7,
      "outputs": [
        {
          "output_type": "stream",
          "name": "stdout",
          "text": [
            "Iteración 0: r = [0.33333333 0.33333333 0.33333333]\n",
            "Iteración 1: r = [0.16666667 0.33333333 0.5       ]\n",
            "Iteración 2: r = [0.16666667 0.25       0.58333333]\n",
            "Iteración 3: r = [0.125      0.20833333 0.66666667]\n",
            "Iteración 4: r = [0.10416667 0.16666667 0.72916667]\n",
            "Iteración 5: r = [0.08333333 0.13541667 0.78125   ]\n",
            "Iteración 6: r = [0.06770833 0.109375   0.82291667]\n",
            "Iteración 7: r = [0.0546875  0.08854167 0.85677083]\n",
            "Iteración 8: r = [0.04427083 0.07161458 0.88411458]\n",
            "Iteración 9: r = [0.03580729 0.05794271 0.90625   ]\n",
            "Iteración 10: r = [0.02897135 0.046875   0.92415365]\n",
            "Iteración 11: r = [0.0234375  0.03792318 0.93863932]\n",
            "Iteración 12: r = [0.01896159 0.03068034 0.95035807]\n",
            "Iteración 13: r = [0.01534017 0.02482096 0.95983887]\n",
            "Iteración 14: r = [0.01241048 0.02008057 0.96750895]\n",
            "Iteración 15: r = [0.01004028 0.01624552 0.97371419]\n",
            "Iteración 16: r = [0.00812276 0.0131429  0.97873433]\n",
            "Iteración 17: r = [0.00657145 0.01063283 0.98279572]\n",
            "Iteración 18: r = [0.00531642 0.00860214 0.98608144]\n",
            "Iteración 19: r = [0.00430107 0.00695928 0.98873965]\n",
            "Iteración 20: r = [0.00347964 0.00563018 0.99089019]\n",
            "Iteración 21: r = [0.00281509 0.00455491 0.99263   ]\n",
            "Iteración 22: r = [0.00227745 0.003685   0.99403755]\n",
            "Iteración 23: r = [0.0018425  0.00298123 0.99517628]\n",
            "Iteración 24: r = [0.00149061 0.00241186 0.99609752]\n",
            "Iteración 25: r = [0.00120593 0.00195124 0.99684283]\n",
            "Iteración 26: r = [9.75618760e-04 1.57858431e-03 9.97445797e-01]\n",
            "Iteración 27: r = [7.89292157e-04 1.27710154e-03 9.97933606e-01]\n",
            "Iteración 28: r = [6.38550768e-04 1.03319685e-03 9.98328252e-01]\n",
            "Iteración 29: r = [5.16598423e-04 8.35873807e-04 9.98647528e-01]\n",
            "Iteración 30: r = [4.17936904e-04 6.76236115e-04 9.98905827e-01]\n",
            "Iteración 31: r = [3.38118058e-04 5.47086510e-04 9.99114795e-01]\n",
            "Iteración 32: r = [2.73543255e-04 4.42602284e-04 9.99283854e-01]\n",
            "Iteración 33: r = [2.21301142e-04 3.58072769e-04 9.99420626e-01]\n",
            "Iteración 34: r = [1.79036385e-04 2.89686956e-04 9.99531277e-01]\n",
            "Iteración 35: r = [1.44843478e-04 2.34361670e-04 9.99620795e-01]\n",
            "Iteración 36: r = [1.17180835e-04 1.89602574e-04 9.99693217e-01]\n",
            "Iteración 37: r = [9.48012870e-05 1.53391704e-04 9.99751807e-01]\n",
            "Iteración 38: r = [7.66958522e-05 1.24096496e-04 9.99799208e-01]\n",
            "Iteración 39: r = [6.20482479e-05 1.00396174e-04 9.99837556e-01]\n",
            "Iteración 40: r = [5.01980870e-05 8.12222109e-05 9.99868580e-01]\n",
            "Iteración 41: r = [4.06111055e-05 6.57101489e-05 9.99893679e-01]\n",
            "Iteración 42: r = [3.28550745e-05 5.31606272e-05 9.99913984e-01]\n",
            "Iteración 43: r = [2.65803136e-05 4.30078508e-05 9.99930412e-01]\n",
            "Iteración 44: r = [2.15039254e-05 3.47940822e-05 9.99943702e-01]\n",
            "Iteración 45: r = [1.73970411e-05 2.81490038e-05 9.99954454e-01]\n",
            "Iteración 46: r = [1.40745019e-05 2.27730225e-05 9.99963152e-01]\n",
            "Iteración 47: r = [1.13865112e-05 1.84237622e-05 9.99970190e-01]\n",
            "Iteración 48: r = [9.21188109e-06 1.49051367e-05 9.99975883e-01]\n",
            "Iteración 49: r = [7.45256836e-06 1.20585089e-05 9.99980489e-01]\n",
            "Iteración 50: r = [6.02925445e-06 9.75553863e-06 9.99984215e-01]\n",
            "Iteración 51: r = [4.87776931e-06 7.89239654e-06 9.99987230e-01]\n",
            "Iteración 52: r = [3.94619827e-06 6.38508293e-06 9.99989669e-01]\n",
            "Iteración 53: r = [3.19254146e-06 5.16564060e-06 9.99991642e-01]\n",
            "Iteración 54: r = [2.58282030e-06 4.17909103e-06 9.99993238e-01]\n",
            "Iteración 55: r = [2.08954552e-06 3.38095567e-06 9.99994529e-01]\n",
            "Iteración 56: r = [1.69047783e-06 2.73525059e-06 9.99995574e-01]\n",
            "Iteración 57: r = [1.36762530e-06 2.21286421e-06 9.99996420e-01]\n",
            "Iteración 58: r = [1.10643211e-06 1.79024475e-06 9.99997103e-01]\n",
            "Iteración 59: r = [8.95122377e-07 1.44833843e-06 9.99997657e-01]\n",
            "Iteración 60: r = [7.24169215e-07 1.17173040e-06 9.99998104e-01]\n",
            "Iteración 61: r = [5.85865202e-07 9.47949809e-07 9.99998466e-01]\n",
            "Iteración 62: r = [4.73974904e-07 7.66907505e-07 9.99998759e-01]\n",
            "Iteración 63: r = [3.83453753e-07 6.20441205e-07 9.99998996e-01]\n",
            "Iteración 64: r = [3.10220602e-07 5.01947479e-07 9.99999188e-01]\n",
            "Iteración 65: r = [2.50973739e-07 4.06084041e-07 9.99999343e-01]\n",
            "Iteración 66: r = [2.03042020e-07 3.28528890e-07 9.99999468e-01]\n",
            "Iteración 67: r = [1.64264445e-07 2.65785455e-07 9.99999570e-01]\n",
            "Iteración 68: r = [1.32892728e-07 2.15024950e-07 9.99999652e-01]\n",
            "Iteración 69: r = [1.07512475e-07 1.73958839e-07 9.99999719e-01]\n",
            "Iteración 70: r = [8.69794194e-08 1.40735657e-07 9.99999772e-01]\n",
            "Iteración 71: r = [7.03678285e-08 1.13857538e-07 9.99999816e-01]\n",
            "Iteración 72: r = [5.69287691e-08 9.21126833e-08 9.99999851e-01]\n",
            "Iteración 73: r = [4.60563417e-08 7.45207262e-08 9.99999879e-01]\n",
            "Iteración 74: r = [3.72603631e-08 6.02885339e-08 9.99999902e-01]\n",
            "Iteración 75: r = [3.01442670e-08 4.87744485e-08 9.99999921e-01]\n",
            "Iteración 76: r = [2.43872243e-08 3.94593577e-08 9.99999936e-01]\n",
            "Iteración 77: r = [1.97296789e-08 3.19232910e-08 9.99999948e-01]\n",
            "Iteración 78: r = [1.59616455e-08 2.58264849e-08 9.99999958e-01]\n",
            "Iteración 79: r = [1.29132425e-08 2.08940652e-08 9.99999966e-01]\n",
            "Iteración 80: r = [1.04470326e-08 1.69036538e-08 9.99999973e-01]\n",
            "Iteración 81: r = [8.45182692e-09 1.36753432e-08 9.99999978e-01]\n",
            "Iteración 82: r = [6.83767161e-09 1.10635851e-08 9.99999982e-01]\n",
            "Iteración 83: r = [5.53179254e-09 8.95062834e-09 9.99999986e-01]\n",
            "Iteración 84: r = [4.47531417e-09 7.24121044e-09 9.99999988e-01]\n",
            "Iteración 85: r = [3.62060522e-09 5.85826231e-09 9.99999991e-01]\n",
            "Iteración 86: r = [2.92913115e-09 4.73943376e-09 9.99999992e-01]\n",
            "Iteración 87: r = [2.36971688e-09 3.83428246e-09 9.99999994e-01]\n",
            "Iteración 88: r = [1.91714123e-09 3.10199967e-09 9.99999995e-01]\n",
            "Iteración 89: r = [1.55099983e-09 2.50957045e-09 9.99999996e-01]\n",
            "Iteración 90: r = [1.25478522e-09 2.03028514e-09 9.99999997e-01]\n",
            "Iteración 91: r = [1.01514257e-09 1.64253518e-09 9.99999997e-01]\n",
            "Iteración 92: r = [8.21267592e-10 1.32883888e-09 9.99999998e-01]\n",
            "Iteración 93: r = [6.64419439e-10 1.07505323e-09 9.99999998e-01]\n",
            "Iteración 94: r = [5.37526617e-10 8.69736336e-10 9.99999999e-01]\n",
            "Iteración 95: r = [4.34868168e-10 7.03631477e-10 9.99999999e-01]\n",
            "Iteración 96: r = [3.51815738e-10 5.69249822e-10 9.99999999e-01]\n",
            "Iteración 97: r = [2.84624911e-10 4.60532780e-10 9.99999999e-01]\n",
            "Iteración 98: r = [2.30266390e-10 3.72578846e-10 9.99999999e-01]\n",
            "Iteración 99: r = [1.86289423e-10 3.01422618e-10 1.00000000e+00]\n"
          ]
        },
        {
          "output_type": "execute_result",
          "data": {
            "text/plain": [
              "array([1.50711309e-10, 2.43856020e-10, 1.00000000e+00])"
            ]
          },
          "metadata": {},
          "execution_count": 7
        }
      ]
    },
    {
      "cell_type": "markdown",
      "metadata": {
        "id": "Dq72FlovxPOy"
      },
      "source": [
        "## Formulación de Google\n",
        "La solución a las trampas de araña es la teletransfortación aleatorio. Por lo que podemos reformular el algoritmo de la siguiente manera\n",
        "\n",
        "\\begin{align*}\n",
        "\\mathbf{r}^{(t+1)} & = \\mathbf{A} \\cdot \\mathbf{r}^{(t)}\\\\\n",
        "        \\mathbf{A} & = \\beta \\cdot \\mathbf{M} + (1 - \\beta) \\cdot \\frac{1}{n} \\mathbf{e} \\cdot \\mathbf{e}^\\top\n",
        "\\end{align*}\n",
        "\n",
        "donde $\\mathbf{e}$ es un vector de dimensión $n$ con unos en todos sus elementos"
      ]
    },
    {
      "cell_type": "code",
      "metadata": {
        "id": "kXgOTtP75uZO"
      },
      "source": [
        "def pagerank_google(M, beta = 0.8, iter=10):\n",
        "  n = M.shape[0]\n",
        "  r = np.ones(n) / n\n",
        "  eeT = np.ones((n, n))\n",
        "  A = M * beta + (1 - beta) * (eeT / n)\n",
        "  for i in range(iter):\n",
        "    print('Iteración {0}: r = {1}'.format(i,r))\n",
        "    r = A @ r\n",
        "\n",
        "  return r"
      ],
      "execution_count": 8,
      "outputs": []
    },
    {
      "cell_type": "markdown",
      "metadata": {
        "id": "2KwlCR1Gy_XJ"
      },
      "source": [
        "Aplicamos esta formulación a nuestro ejemplo anterior"
      ]
    },
    {
      "cell_type": "code",
      "metadata": {
        "id": "o9o8-QzW6lrH",
        "colab": {
          "base_uri": "https://localhost:8080/"
        },
        "outputId": "73dbc110-ae8d-479a-944f-e6690db72db8"
      },
      "source": [
        "pagerank_google(M3, 0.8, iter=100)"
      ],
      "execution_count": 9,
      "outputs": [
        {
          "output_type": "stream",
          "name": "stdout",
          "text": [
            "Iteración 0: r = [0.33333333 0.33333333 0.33333333]\n",
            "Iteración 1: r = [0.2        0.33333333 0.46666667]\n",
            "Iteración 2: r = [0.2  0.28 0.52]\n",
            "Iteración 3: r = [0.17866667 0.25866667 0.56266667]\n",
            "Iteración 4: r = [0.17013333 0.2416     0.58826667]\n",
            "Iteración 5: r = [0.16330667 0.23136    0.60533333]\n",
            "Iteración 6: r = [0.15921067 0.22453333 0.616256  ]\n",
            "Iteración 7: r = [0.15648    0.22016427 0.62335573]\n",
            "Iteración 8: r = [0.15473237 0.21732437 0.62794325]\n",
            "Iteración 9: r = [0.15359642 0.21548937 0.63091422]\n",
            "Iteración 10: r = [0.15286241 0.21430098 0.63283661]\n",
            "Iteración 11: r = [0.15238706 0.21353202 0.63408092]\n",
            "Iteración 12: r = [0.15207948 0.2130343  0.63488622]\n",
            "Iteración 13: r = [0.15188039 0.21271218 0.63540744]\n",
            "Iteración 14: r = [0.15175154 0.21250369 0.63574477]\n",
            "Iteración 15: r = [0.15166814 0.21236876 0.6359631 ]\n",
            "Iteración 16: r = [0.15161417 0.21228143 0.6361044 ]\n",
            "Iteración 17: r = [0.15157924 0.21222491 0.63619586]\n",
            "Iteración 18: r = [0.15155663 0.21218832 0.63625505]\n",
            "Iteración 19: r = [0.151542   0.21216465 0.63629336]\n",
            "Iteración 20: r = [0.15153253 0.21214932 0.63631815]\n",
            "Iteración 21: r = [0.1515264  0.21213941 0.6363342 ]\n",
            "Iteración 22: r = [0.15152243 0.21213299 0.63634458]\n",
            "Iteración 23: r = [0.15151986 0.21212883 0.6363513 ]\n",
            "Iteración 24: r = [0.1515182  0.21212614 0.63635566]\n",
            "Iteración 25: r = [0.15151712 0.2121244  0.63635847]\n",
            "Iteración 26: r = [0.15151643 0.21212328 0.63636029]\n",
            "Iteración 27: r = [0.15151598 0.21212255 0.63636147]\n",
            "Iteración 28: r = [0.15151569 0.21212208 0.63636224]\n",
            "Iteración 29: r = [0.1515155  0.21212177 0.63636273]\n",
            "Iteración 30: r = [0.15151538 0.21212157 0.63636305]\n",
            "Iteración 31: r = [0.1515153  0.21212145 0.63636326]\n",
            "Iteración 32: r = [0.15151525 0.21212136 0.63636339]\n",
            "Iteración 33: r = [0.15151521 0.21212131 0.63636348]\n",
            "Iteración 34: r = [0.15151519 0.21212128 0.63636353]\n",
            "Iteración 35: r = [0.15151518 0.21212125 0.63636357]\n",
            "Iteración 36: r = [0.15151517 0.21212124 0.63636359]\n",
            "Iteración 37: r = [0.15151516 0.21212123 0.63636361]\n",
            "Iteración 38: r = [0.15151516 0.21212122 0.63636362]\n",
            "Iteración 39: r = [0.15151516 0.21212122 0.63636362]\n",
            "Iteración 40: r = [0.15151515 0.21212122 0.63636363]\n",
            "Iteración 41: r = [0.15151515 0.21212122 0.63636363]\n",
            "Iteración 42: r = [0.15151515 0.21212121 0.63636363]\n",
            "Iteración 43: r = [0.15151515 0.21212121 0.63636363]\n",
            "Iteración 44: r = [0.15151515 0.21212121 0.63636364]\n",
            "Iteración 45: r = [0.15151515 0.21212121 0.63636364]\n",
            "Iteración 46: r = [0.15151515 0.21212121 0.63636364]\n",
            "Iteración 47: r = [0.15151515 0.21212121 0.63636364]\n",
            "Iteración 48: r = [0.15151515 0.21212121 0.63636364]\n",
            "Iteración 49: r = [0.15151515 0.21212121 0.63636364]\n",
            "Iteración 50: r = [0.15151515 0.21212121 0.63636364]\n",
            "Iteración 51: r = [0.15151515 0.21212121 0.63636364]\n",
            "Iteración 52: r = [0.15151515 0.21212121 0.63636364]\n",
            "Iteración 53: r = [0.15151515 0.21212121 0.63636364]\n",
            "Iteración 54: r = [0.15151515 0.21212121 0.63636364]\n",
            "Iteración 55: r = [0.15151515 0.21212121 0.63636364]\n",
            "Iteración 56: r = [0.15151515 0.21212121 0.63636364]\n",
            "Iteración 57: r = [0.15151515 0.21212121 0.63636364]\n",
            "Iteración 58: r = [0.15151515 0.21212121 0.63636364]\n",
            "Iteración 59: r = [0.15151515 0.21212121 0.63636364]\n",
            "Iteración 60: r = [0.15151515 0.21212121 0.63636364]\n",
            "Iteración 61: r = [0.15151515 0.21212121 0.63636364]\n",
            "Iteración 62: r = [0.15151515 0.21212121 0.63636364]\n",
            "Iteración 63: r = [0.15151515 0.21212121 0.63636364]\n",
            "Iteración 64: r = [0.15151515 0.21212121 0.63636364]\n",
            "Iteración 65: r = [0.15151515 0.21212121 0.63636364]\n",
            "Iteración 66: r = [0.15151515 0.21212121 0.63636364]\n",
            "Iteración 67: r = [0.15151515 0.21212121 0.63636364]\n",
            "Iteración 68: r = [0.15151515 0.21212121 0.63636364]\n",
            "Iteración 69: r = [0.15151515 0.21212121 0.63636364]\n",
            "Iteración 70: r = [0.15151515 0.21212121 0.63636364]\n",
            "Iteración 71: r = [0.15151515 0.21212121 0.63636364]\n",
            "Iteración 72: r = [0.15151515 0.21212121 0.63636364]\n",
            "Iteración 73: r = [0.15151515 0.21212121 0.63636364]\n",
            "Iteración 74: r = [0.15151515 0.21212121 0.63636364]\n",
            "Iteración 75: r = [0.15151515 0.21212121 0.63636364]\n",
            "Iteración 76: r = [0.15151515 0.21212121 0.63636364]\n",
            "Iteración 77: r = [0.15151515 0.21212121 0.63636364]\n",
            "Iteración 78: r = [0.15151515 0.21212121 0.63636364]\n",
            "Iteración 79: r = [0.15151515 0.21212121 0.63636364]\n",
            "Iteración 80: r = [0.15151515 0.21212121 0.63636364]\n",
            "Iteración 81: r = [0.15151515 0.21212121 0.63636364]\n",
            "Iteración 82: r = [0.15151515 0.21212121 0.63636364]\n",
            "Iteración 83: r = [0.15151515 0.21212121 0.63636364]\n",
            "Iteración 84: r = [0.15151515 0.21212121 0.63636364]\n",
            "Iteración 85: r = [0.15151515 0.21212121 0.63636364]\n",
            "Iteración 86: r = [0.15151515 0.21212121 0.63636364]\n",
            "Iteración 87: r = [0.15151515 0.21212121 0.63636364]\n",
            "Iteración 88: r = [0.15151515 0.21212121 0.63636364]\n",
            "Iteración 89: r = [0.15151515 0.21212121 0.63636364]\n",
            "Iteración 90: r = [0.15151515 0.21212121 0.63636364]\n",
            "Iteración 91: r = [0.15151515 0.21212121 0.63636364]\n",
            "Iteración 92: r = [0.15151515 0.21212121 0.63636364]\n",
            "Iteración 93: r = [0.15151515 0.21212121 0.63636364]\n",
            "Iteración 94: r = [0.15151515 0.21212121 0.63636364]\n",
            "Iteración 95: r = [0.15151515 0.21212121 0.63636364]\n",
            "Iteración 96: r = [0.15151515 0.21212121 0.63636364]\n",
            "Iteración 97: r = [0.15151515 0.21212121 0.63636364]\n",
            "Iteración 98: r = [0.15151515 0.21212121 0.63636364]\n",
            "Iteración 99: r = [0.15151515 0.21212121 0.63636364]\n"
          ]
        },
        {
          "output_type": "execute_result",
          "data": {
            "text/plain": [
              "array([0.15151515, 0.21212121, 0.63636364])"
            ]
          },
          "metadata": {},
          "execution_count": 9
        }
      ]
    },
    {
      "cell_type": "markdown",
      "metadata": {
        "id": "1N-fGNZJvzoR"
      },
      "source": [
        "## Callejones sin salida\n",
        "También hay callejones sin salida, los cuales ocurren cuando una página no tiene ningún vínculo saliente. Por ej.\n",
        "\n",
        "![](https://raw.githubusercontent.com/blancavazquez/CursoDatosMasivosII/master/figs/grafo_callejon.svg)\n",
        "\n",
        "\n",
        "\\begin{equation*}\n",
        " \\mathbf{M}  = \\begin{bmatrix}\n",
        "      \\frac{1}{2} &  \\frac{1}{2} & 0\\\\\n",
        "      0 & \\frac{1}{2} & 0\\\\\n",
        "      \\frac{1}{2} & 0 & 0 \n",
        "      \\end{bmatrix}\n",
        "\\end{equation*}\n"
      ]
    },
    {
      "cell_type": "code",
      "metadata": {
        "id": "_fzbZIqD4rFJ",
        "colab": {
          "base_uri": "https://localhost:8080/"
        },
        "outputId": "b16cb97c-d76f-40a9-be6f-2abc93f6978d"
      },
      "source": [
        "M4 = np.array([[1/2, 1/2, 0], [0, 1/2, 0], [1/2, 0, 0]])\n",
        "print(M4)"
      ],
      "execution_count": 10,
      "outputs": [
        {
          "output_type": "stream",
          "name": "stdout",
          "text": [
            "[[0.5 0.5 0. ]\n",
            " [0.  0.5 0. ]\n",
            " [0.5 0.  0. ]]\n"
          ]
        }
      ]
    },
    {
      "cell_type": "markdown",
      "metadata": {
        "id": "rqO7Cl6YzlTp"
      },
      "source": [
        "Su PageRank con la formulación básica"
      ]
    },
    {
      "cell_type": "code",
      "metadata": {
        "id": "tUiOR3uj5d0N",
        "colab": {
          "base_uri": "https://localhost:8080/"
        },
        "outputId": "226ded57-abee-4835-d843-654964957b90"
      },
      "source": [
        "pagerank(M4,iter=100)"
      ],
      "execution_count": 11,
      "outputs": [
        {
          "output_type": "stream",
          "name": "stdout",
          "text": [
            "Iteración 0: r = [0.33333333 0.33333333 0.33333333]\n",
            "Iteración 1: r = [0.33333333 0.16666667 0.16666667]\n",
            "Iteración 2: r = [0.25       0.08333333 0.16666667]\n",
            "Iteración 3: r = [0.16666667 0.04166667 0.125     ]\n",
            "Iteración 4: r = [0.10416667 0.02083333 0.08333333]\n",
            "Iteración 5: r = [0.0625     0.01041667 0.05208333]\n",
            "Iteración 6: r = [0.03645833 0.00520833 0.03125   ]\n",
            "Iteración 7: r = [0.02083333 0.00260417 0.01822917]\n",
            "Iteración 8: r = [0.01171875 0.00130208 0.01041667]\n",
            "Iteración 9: r = [0.00651042 0.00065104 0.00585938]\n",
            "Iteración 10: r = [0.00358073 0.00032552 0.00325521]\n",
            "Iteración 11: r = [0.00195312 0.00016276 0.00179036]\n",
            "Iteración 12: r = [1.05794271e-03 8.13802083e-05 9.76562500e-04]\n",
            "Iteración 13: r = [5.69661458e-04 4.06901042e-05 5.28971354e-04]\n",
            "Iteración 14: r = [3.05175781e-04 2.03450521e-05 2.84830729e-04]\n",
            "Iteración 15: r = [1.62760417e-04 1.01725260e-05 1.52587891e-04]\n",
            "Iteración 16: r = [8.64664714e-05 5.08626302e-06 8.13802083e-05]\n",
            "Iteración 17: r = [4.57763672e-05 2.54313151e-06 4.32332357e-05]\n",
            "Iteración 18: r = [2.41597493e-05 1.27156576e-06 2.28881836e-05]\n",
            "Iteración 19: r = [1.27156576e-05 6.35782878e-07 1.20798747e-05]\n",
            "Iteración 20: r = [6.67572021e-06 3.17891439e-07 6.35782878e-06]\n",
            "Iteración 21: r = [3.49680583e-06 1.58945719e-07 3.33786011e-06]\n",
            "Iteración 22: r = [1.82787577e-06 7.94728597e-08 1.74840291e-06]\n",
            "Iteración 23: r = [9.53674316e-07 3.97364299e-08 9.13937887e-07]\n",
            "Iteración 24: r = [4.96705373e-07 1.98682149e-08 4.76837158e-07]\n",
            "Iteración 25: r = [2.58286794e-07 9.93410746e-09 2.48352687e-07]\n",
            "Iteración 26: r = [1.34110451e-07 4.96705373e-09 1.29143397e-07]\n",
            "Iteración 27: r = [6.95387522e-08 2.48352687e-09 6.70552254e-08]\n",
            "Iteración 28: r = [3.60111396e-08 1.24176343e-09 3.47693761e-08]\n",
            "Iteración 29: r = [1.86264515e-08 6.20881716e-10 1.80055698e-08]\n",
            "Iteración 30: r = [9.62366660e-09 3.10440858e-10 9.31322575e-09]\n",
            "Iteración 31: r = [4.96705373e-09 1.55220429e-10 4.81183330e-09]\n",
            "Iteración 32: r = [2.56113708e-09 7.76102146e-11 2.48352687e-09]\n",
            "Iteración 33: r = [1.31937365e-09 3.88051073e-11 1.28056854e-09]\n",
            "Iteración 34: r = [6.79089377e-10 1.94025536e-11 6.59686824e-10]\n",
            "Iteración 35: r = [3.49245965e-10 9.70127682e-12 3.39544689e-10]\n",
            "Iteración 36: r = [1.79473621e-10 4.85063841e-12 1.74622983e-10]\n",
            "Iteración 37: r = [9.21621298e-11 2.42531920e-12 8.97368106e-11]\n",
            "Iteración 38: r = [4.72937245e-11 1.21265960e-12 4.60810649e-11]\n",
            "Iteración 39: r = [2.42531920e-11 6.06329801e-13 2.36468622e-11]\n",
            "Iteración 40: r = [1.24297609e-11 3.03164901e-13 1.21265960e-11]\n",
            "Iteración 41: r = [6.36646291e-12 1.51582450e-13 6.21488046e-12]\n",
            "Iteración 42: r = [3.25902268e-12 7.57912251e-14 3.18323146e-12]\n",
            "Iteración 43: r = [1.66740695e-12 3.78956126e-14 1.62951134e-12]\n",
            "Iteración 44: r = [8.52651283e-13 1.89478063e-14 8.33703477e-13]\n",
            "Iteración 45: r = [4.35799545e-13 9.47390314e-15 4.26325641e-13]\n",
            "Iteración 46: r = [2.22636724e-13 4.73695157e-15 2.17899772e-13]\n",
            "Iteración 47: r = [1.13686838e-13 2.36847579e-15 1.11318362e-13]\n",
            "Iteración 48: r = [5.80276568e-14 1.18423789e-15 5.68434189e-14]\n",
            "Iteración 49: r = [2.96059473e-14 5.92118946e-16 2.90138284e-14]\n",
            "Iteración 50: r = [1.50990331e-14 2.96059473e-16 1.48029737e-14]\n",
            "Iteración 51: r = [7.69754630e-15 1.48029737e-16 7.54951657e-15]\n",
            "Iteración 52: r = [3.92278802e-15 7.40148683e-17 3.84877315e-15]\n",
            "Iteración 53: r = [1.99840144e-15 3.70074342e-17 1.96139401e-15]\n",
            "Iteración 54: r = [1.01770444e-15 1.85037171e-17 9.99200722e-16]\n",
            "Iteración 55: r = [5.18104078e-16 9.25185854e-18 5.08852220e-16]\n",
            "Iteración 56: r = [2.63677968e-16 4.62592927e-18 2.59052039e-16]\n",
            "Iteración 57: r = [1.34151949e-16 2.31296463e-18 1.31838984e-16]\n",
            "Iteración 58: r = [6.82324567e-17 1.15648232e-18 6.70759744e-17]\n",
            "Iteración 59: r = [3.46944695e-17 5.78241159e-19 3.41162284e-17]\n",
            "Iteración 60: r = [1.76363553e-17 2.89120579e-19 1.73472348e-17]\n",
            "Iteración 61: r = [8.96273796e-18 1.44560290e-19 8.81817767e-18]\n",
            "Iteración 62: r = [4.55364912e-18 7.22801448e-20 4.48136898e-18]\n",
            "Iteración 63: r = [2.31296463e-18 3.61400724e-20 2.27682456e-18]\n",
            "Iteración 64: r = [1.17455235e-18 1.80700362e-20 1.15648232e-18]\n",
            "Iteración 65: r = [5.96311195e-19 9.03501810e-21 5.87276177e-19]\n",
            "Iteración 66: r = [3.02673106e-19 4.51750905e-21 2.98155597e-19]\n",
            "Iteración 67: r = [1.53595308e-19 2.25875453e-21 1.51336553e-19]\n",
            "Iteración 68: r = [7.79270311e-20 1.12937726e-21 7.67976539e-20]\n",
            "Iteración 69: r = [3.95282042e-20 5.64688632e-22 3.89635156e-20]\n",
            "Iteración 70: r = [2.00464464e-20 2.82344316e-22 1.97641021e-20]\n",
            "Iteración 71: r = [1.01643954e-20 1.41172158e-22 1.00232232e-20]\n",
            "Iteración 72: r = [5.15278376e-21 7.05860789e-23 5.08219768e-21]\n",
            "Iteración 73: r = [2.61168492e-21 3.52930395e-23 2.57639188e-21]\n",
            "Iteración 74: r = [1.32348898e-21 1.76465197e-23 1.30584246e-21]\n",
            "Iteración 75: r = [6.70567750e-22 8.82325987e-24 6.61744490e-22]\n",
            "Iteración 76: r = [3.39695505e-22 4.41162993e-24 3.35283875e-22]\n",
            "Iteración 77: r = [1.72053567e-22 2.20581497e-24 1.69847752e-22]\n",
            "Iteración 78: r = [8.71296912e-23 1.10290748e-24 8.60267837e-23]\n",
            "Iteración 79: r = [4.41162993e-23 5.51453742e-25 4.35648456e-23]\n",
            "Iteración 80: r = [2.23338765e-23 2.75726871e-25 2.20581497e-23]\n",
            "Iteración 81: r = [1.13048017e-23 1.37863435e-25 1.11669383e-23]\n",
            "Iteración 82: r = [5.72133257e-24 6.89317177e-26 5.65240085e-24]\n",
            "Iteración 83: r = [2.89513214e-24 3.44658589e-26 2.86066629e-24]\n",
            "Iteración 84: r = [1.46479900e-24 1.72329294e-26 1.44756607e-24]\n",
            "Iteración 85: r = [7.41015965e-25 8.61646471e-27 7.32399501e-25]\n",
            "Iteración 86: r = [3.74816215e-25 4.30823236e-27 3.70507983e-25]\n",
            "Iteración 87: r = [1.89562224e-25 2.15411618e-27 1.87408108e-25]\n",
            "Iteración 88: r = [9.58581699e-26 1.07705809e-27 9.47811119e-26]\n",
            "Iteración 89: r = [4.84676140e-26 5.38529045e-28 4.79290850e-26]\n",
            "Iteración 90: r = [2.45030715e-26 2.69264522e-28 2.42338070e-26]\n",
            "Iteración 91: r = [1.23861680e-26 1.34632261e-28 1.22515358e-26]\n",
            "Iteración 92: r = [6.26040014e-27 6.73161306e-29 6.19308401e-27]\n",
            "Iteración 93: r = [3.16385814e-27 3.36580653e-29 3.13020007e-27]\n",
            "Iteración 94: r = [1.59875810e-27 1.68290326e-29 1.58192907e-27]\n",
            "Iteración 95: r = [8.07793567e-28 8.41451632e-30 7.99379051e-28]\n",
            "Iteración 96: r = [4.08104042e-28 4.20725816e-30 4.03896783e-28]\n",
            "Iteración 97: r = [2.06155650e-28 2.10362908e-30 2.04052021e-28]\n",
            "Iteración 98: r = [1.04129639e-28 1.05181454e-30 1.03077825e-28]\n",
            "Iteración 99: r = [5.25907270e-29 5.25907270e-31 5.20648197e-29]\n"
          ]
        },
        {
          "output_type": "execute_result",
          "data": {
            "text/plain": [
              "array([2.65583171e-29, 2.62953635e-31, 2.62953635e-29])"
            ]
          },
          "metadata": {},
          "execution_count": 11
        }
      ]
    },
    {
      "cell_type": "markdown",
      "metadata": {
        "id": "Rj7FoJ7Mzn9C"
      },
      "source": [
        "Su PageRank con la formulación de Google"
      ]
    },
    {
      "cell_type": "code",
      "metadata": {
        "id": "3YXQvIz96qG8",
        "colab": {
          "base_uri": "https://localhost:8080/"
        },
        "outputId": "baa187be-c252-481c-8c64-c89860364ae0"
      },
      "source": [
        "pagerank_google(M4, 0.8, iter=100)"
      ],
      "execution_count": 12,
      "outputs": [
        {
          "output_type": "stream",
          "name": "stdout",
          "text": [
            "Iteración 0: r = [0.33333333 0.33333333 0.33333333]\n",
            "Iteración 1: r = [0.33333333 0.2        0.2       ]\n",
            "Iteración 2: r = [0.26222222 0.12888889 0.18222222]\n",
            "Iteración 3: r = [0.19466667 0.08977778 0.14311111]\n",
            "Iteración 4: r = [0.14228148 0.06441481 0.10637037]\n",
            "Iteración 5: r = [0.10354963 0.04663704 0.0777837 ]\n",
            "Iteración 6: r = [0.07527269 0.03385284 0.05661788]\n",
            "Iteración 7: r = [0.05469977 0.0245907  0.04115864]\n",
            "Iteración 8: r = [0.03974613 0.01786622 0.02990985]\n",
            "Iteración 9: r = [0.02887975 0.0129813  0.02173326]\n",
            "Iteración 10: r = [0.02098404 0.00943214 0.01579152]\n",
            "Iteración 11: r = [0.01524699 0.00685337 0.01147413]\n",
            "Iteración 12: r = [0.01107844 0.00497965 0.00833709]\n",
            "Iteración 13: r = [0.00804958 0.0036182  0.00605772]\n",
            "Iteración 14: r = [0.00584881 0.00262898 0.00440153]\n",
            "Iteración 15: r = [0.00424974 0.00191021 0.00319815]\n",
            "Iteración 16: r = [0.00308786 0.00138796 0.00232377]\n",
            "Iteración 17: r = [0.00224363 0.00100849 0.00168845]\n",
            "Iteración 18: r = [0.00163022 0.00073277 0.00122682]\n",
            "Iteración 19: r = [0.00118452 0.00053243 0.00089141]\n",
            "Iteración 20: r = [0.00086067 0.00038686 0.0006477 ]\n",
            "Iteración 21: r = [0.00062536 0.00028109 0.00047062]\n",
            "Iteración 22: r = [0.00045439 0.00020424 0.00034195]\n",
            "Iteración 23: r = [0.00033016 0.0001484  0.00024846]\n",
            "Iteración 24: r = [0.00023989 0.00010783 0.00018053]\n",
            "Iteración 25: r = [1.74304346e-04 7.83480156e-05 1.31172960e-04]\n",
            "Iteración 26: r = [1.26649299e-04 5.69275610e-05 9.53100931e-05]\n",
            "Iteración 27: r = [9.20232076e-05 4.13634879e-05 6.92521833e-05]\n",
            "Iteración 28: r = [6.68639368e-05 3.00546538e-05 5.03185416e-05]\n",
            "Iteración 29: r = [4.85832451e-05 2.18376703e-05 3.65613835e-05]\n",
            "Iteración 30: r = [3.53005194e-05 1.58672214e-05 2.65654513e-05]\n",
            "Iteración 31: r = [2.56493091e-05 1.15291014e-05 1.93024206e-05]\n",
            "Iteración 32: r = [1.86367529e-05 8.37702928e-06 1.40251124e-05]\n",
            "Iteración 33: r = [1.35414392e-05 6.08673802e-06 1.01906275e-05]\n",
            "Iteración 34: r = [9.83919120e-06 4.42261552e-06 7.40449599e-06]\n",
            "Iteración 35: r = [7.14914287e-06 3.21346639e-06 5.38009666e-06]\n",
            "Iteración 36: r = [5.19455743e-06 2.33490028e-06 3.90917087e-06]\n",
            "Iteración 37: r = [3.77435832e-06 1.69653535e-06 2.84039821e-06]\n",
            "Iteración 38: r = [2.74244360e-06 1.23270027e-06 2.06382946e-06]\n",
            "Iteración 39: r = [1.99265577e-06 8.95678328e-07 1.49957566e-06]\n",
            "Iteración 40: r = [1.44786095e-06 6.50798648e-07 1.08958962e-06]\n",
            "Iteración 41: r = [1.05201379e-06 4.72869408e-07 7.91694330e-07]\n",
            "Iteración 42: r = [7.64391781e-07 3.43586265e-07 5.75244018e-07]\n",
            "Iteración 43: r = [5.55406023e-07 2.49649310e-07 4.17971517e-07]\n",
            "Iteración 44: r = [4.03557256e-07 1.81394847e-07 3.03697532e-07]\n",
            "Iteración 45: r = [2.93224151e-07 1.31801248e-07 2.20666212e-07]\n",
            "Iteración 46: r = [2.13056267e-07 9.57666066e-08 1.60335768e-07]\n",
            "Iteración 47: r = [1.54806392e-07 6.95838854e-08 1.16499749e-07]\n",
            "Iteración 48: r = [1.12482113e-07 5.05595559e-08 8.46485586e-08]\n",
            "Iteración 49: r = [8.17293493e-08 3.67365042e-08 6.15055269e-08]\n",
            "Iteración 50: r = [5.93844334e-08 2.66926937e-08 4.46898317e-08]\n",
            "Iteración 51: r = [4.31486481e-08 1.93948747e-08 3.24715706e-08]\n",
            "Iteración 52: r = [3.13517487e-08 1.40922895e-08 2.35937988e-08]\n",
            "Iteración 53: r = [2.27801377e-08 1.02394382e-08 1.71432219e-08]\n",
            "Iteración 54: r = [1.65520169e-08 7.43996183e-09 1.24562416e-08]\n",
            "Iteración 55: r = [1.20266729e-08 5.40586609e-09 9.05068813e-09]\n",
            "Iteración 56: r = [8.73856405e-09 3.92789491e-09 6.57621761e-09]\n",
            "Iteración 57: r = [6.34942869e-09 2.85400307e-09 4.77827072e-09]\n",
            "Iteración 58: r = [4.61348620e-09 2.07371473e-09 3.47188497e-09]\n",
            "Iteración 59: r = [3.35215276e-09 1.50675828e-09 2.52266687e-09]\n",
            "Iteración 60: r = [2.43566961e-09 1.09480851e-09 1.83296630e-09]\n",
            "Iteración 61: r = [1.76975421e-09 7.95486365e-10 1.33183081e-09]\n",
            "Iteración 62: r = [1.28590099e-09 5.77999305e-10 9.67706443e-10]\n",
            "Iteración 63: r = [9.34333900e-10 4.19973504e-10 7.03134178e-10]\n",
            "Iteración 64: r = [6.78885734e-10 3.05152174e-10 5.10896332e-10]\n",
            "Iteración 65: r = [4.93277446e-10 2.21723152e-10 3.71216576e-10]\n",
            "Iteración 66: r = [3.58414717e-10 1.61103739e-10 2.69725457e-10]\n",
            "Iteración 67: r = [2.60423644e-10 1.17057757e-10 1.95982148e-10]\n",
            "Iteración 68: r = [1.89223463e-10 8.50540058e-11 1.42400361e-10]\n",
            "Iteración 69: r = [1.37489510e-10 6.18001243e-11 1.03467907e-10]\n",
            "Iteración 70: r = [9.98996896e-11 4.49038858e-11 7.51796399e-11]\n",
            "Iteración 71: r = [7.25869779e-11 3.26271020e-11 5.46254235e-11]\n",
            "Iteración 72: r = [5.27415988e-11 2.37068077e-11 3.96907580e-11]\n",
            "Iteración 73: r = [3.83219736e-11 1.72253341e-11 2.88392505e-11]\n",
            "Iteración 74: r = [2.78446936e-11 1.25159042e-11 2.09545600e-11]\n",
            "Iteración 75: r = [2.02319163e-11 9.09403885e-12 1.52255546e-11]\n",
            "Iteración 76: r = [1.47004827e-11 6.60771619e-12 1.10628672e-11]\n",
            "Iteración 77: r = [1.06813506e-11 4.80115755e-12 8.03826415e-12]\n",
            "Iteración 78: r = [7.76105476e-12 3.48851451e-12 5.84059174e-12]\n",
            "Iteración 79: r = [5.63917177e-12 2.53474987e-12 4.24376597e-12]\n",
            "Iteración 80: r = [4.09741450e-12 1.84174579e-12 3.08351455e-12]\n",
            "Iteración 81: r = [2.97717577e-12 1.33820997e-12 2.24047746e-12]\n",
            "Iteración 82: r = [2.16321184e-12 9.72341535e-13 1.62792785e-12]\n",
            "Iteración 83: r = [1.57178677e-12 7.06502030e-13 1.18285015e-12]\n",
            "Iteración 84: r = [1.14205812e-12 5.13343408e-13 8.59457303e-13]\n",
            "Iteración 85: r = [8.29817865e-13 3.72994618e-13 6.24480501e-13]\n",
            "Iteración 86: r = [6.02944526e-13 2.71017380e-13 4.53746678e-13]\n",
            "Iteración 87: r = [4.38098668e-13 1.96920857e-13 3.29691716e-13]\n",
            "Iteración 88: r = [3.18321893e-13 1.43082426e-13 2.39553550e-13]\n",
            "Iteración 89: r = [2.31292252e-13 1.03963495e-13 1.74059282e-13]\n",
            "Iteración 90: r = [1.68056634e-13 7.55397332e-14 1.26471236e-13]\n",
            "Iteración 91: r = [1.22109720e-13 5.48870668e-14 9.18938271e-14]\n",
            "Iteración 92: r = [8.87247558e-14 3.98808677e-14 6.67699291e-14]\n",
            "Iteración 93: r = [6.44672862e-14 2.89773839e-14 4.85149392e-14]\n",
            "Iteración 94: r = [4.68418420e-14 2.10549275e-14 3.52508884e-14]\n",
            "Iteración 95: r = [3.40352183e-14 1.52984815e-14 2.56132473e-14]\n",
            "Iteración 96: r = [2.47299431e-14 1.11158558e-14 1.86105505e-14]\n",
            "Iteración 97: r = [1.79687428e-14 8.07676560e-15 1.35224005e-14]\n",
            "Iteración 98: r = [1.30560640e-14 5.86856684e-15 9.82535773e-15]\n",
            "Iteración 99: r = [9.48651822e-15 4.26409264e-15 7.13909149e-15]\n"
          ]
        },
        {
          "output_type": "execute_result",
          "data": {
            "text/plain": [
              "array([6.89289117e-15, 3.09828388e-15, 5.18725411e-15])"
            ]
          },
          "metadata": {},
          "execution_count": 12
        }
      ]
    },
    {
      "cell_type": "markdown",
      "metadata": {
        "id": "fuvYbRtAwZqS"
      },
      "source": [
        "Los callejones sin salida rompen una de las restricciones de las columnas de $\\mathbf{M}$, esto es, que deben sumar 1. Este problema se puede resolver teletransportándose siempre a otra página en los callejones sin salida, lo cual se puede llevar a cabo substituyendo los ceros por $\\frac{1}{n}$ en la columna correspondiente \n",
        "\n",
        "\\begin{equation*}\n",
        "\\mathbf{M}  =  \\begin{bmatrix}\n",
        "      0 & \\frac{1}{2} & \\frac{1}{3}\\\\\n",
        "      \\frac{1}{2} & \\frac{1}{2} & \\frac{1}{3}\\\\\n",
        "      \\frac{1}{2} & 0 & \\frac{1}{3}\n",
        "      \\end{bmatrix}\n",
        "\\end{equation*}"
      ]
    },
    {
      "cell_type": "code",
      "metadata": {
        "id": "15D5U9Qt5gkM",
        "colab": {
          "base_uri": "https://localhost:8080/"
        },
        "outputId": "f99756db-598a-4fda-8388-442a9bc4fa4d"
      },
      "source": [
        "M4_tt = np.array([[1/2, 1/2, 1/3], [0, 1/2, 1/3], [1/2, 0, 1/3]])\n",
        "print(M4_tt)"
      ],
      "execution_count": 13,
      "outputs": [
        {
          "output_type": "stream",
          "name": "stdout",
          "text": [
            "[[0.5        0.5        0.33333333]\n",
            " [0.         0.5        0.33333333]\n",
            " [0.5        0.         0.33333333]]\n"
          ]
        }
      ]
    },
    {
      "cell_type": "markdown",
      "metadata": {
        "id": "kHL3Ad1hvB4l"
      },
      "source": [
        "Si calculamos la relevancia en esta matriz modificada obtenemos lo siguiente"
      ]
    },
    {
      "cell_type": "code",
      "metadata": {
        "id": "ig3P9Wqx5sqA",
        "colab": {
          "base_uri": "https://localhost:8080/"
        },
        "outputId": "052864e7-0017-4326-cb7a-1e2576c7c4f2"
      },
      "source": [
        "pagerank(M4_tt,iter=20)"
      ],
      "execution_count": 14,
      "outputs": [
        {
          "output_type": "stream",
          "name": "stdout",
          "text": [
            "Iteración 0: r = [0.33333333 0.33333333 0.33333333]\n",
            "Iteración 1: r = [0.44444444 0.27777778 0.27777778]\n",
            "Iteración 2: r = [0.4537037  0.23148148 0.31481481]\n",
            "Iteración 3: r = [0.44753086 0.22067901 0.33179012]\n",
            "Iteración 4: r = [0.44470165 0.22093621 0.33436214]\n",
            "Iteración 5: r = [0.44427298 0.22192215 0.33380487]\n",
            "Iteración 6: r = [0.44436586 0.22222937 0.33340478]\n",
            "Iteración 7: r = [0.44443254 0.22224961 0.33331785]\n",
            "Iteración 8: r = [0.44444702 0.22223076 0.33332222]\n",
            "Iteración 9: r = [0.4444463  0.22222278 0.33333092]\n",
            "Iteración 10: r = [0.44444485 0.2222217  0.33333345]\n",
            "Iteración 11: r = [0.44444442 0.222222   0.33333357]\n",
            "Iteración 12: r = [0.4444444  0.22222219 0.3333334 ]\n",
            "Iteración 13: r = [0.44444443 0.22222223 0.33333334]\n",
            "Iteración 14: r = [0.44444444 0.22222223 0.33333333]\n",
            "Iteración 15: r = [0.44444445 0.22222222 0.33333333]\n",
            "Iteración 16: r = [0.44444444 0.22222222 0.33333333]\n",
            "Iteración 17: r = [0.44444444 0.22222222 0.33333333]\n",
            "Iteración 18: r = [0.44444444 0.22222222 0.33333333]\n",
            "Iteración 19: r = [0.44444444 0.22222222 0.33333333]\n"
          ]
        },
        {
          "output_type": "execute_result",
          "data": {
            "text/plain": [
              "array([0.44444444, 0.22222222, 0.33333333])"
            ]
          },
          "metadata": {},
          "execution_count": 14
        }
      ]
    },
    {
      "cell_type": "code",
      "metadata": {
        "id": "P867oS-Q7kZu",
        "colab": {
          "base_uri": "https://localhost:8080/"
        },
        "outputId": "b3a69d80-3de1-495f-b5ed-ebc775c794bf"
      },
      "source": [
        "pagerank_google(M4_tt, 0.8, iter=100)"
      ],
      "execution_count": 15,
      "outputs": [
        {
          "output_type": "stream",
          "name": "stdout",
          "text": [
            "Iteración 0: r = [0.33333333 0.33333333 0.33333333]\n",
            "Iteración 1: r = [0.42222222 0.28888889 0.28888889]\n",
            "Iteración 2: r = [0.42814815 0.25925926 0.31259259]\n",
            "Iteración 3: r = [0.42498765 0.2537284  0.32128395]\n",
            "Iteración 4: r = [0.42382881 0.25383374 0.32233745]\n",
            "Iteración 5: r = [0.42368834 0.25415682 0.32215484]\n",
            "Iteración 6: r = [0.42371269 0.25423735 0.32204996]\n",
            "Iteración 7: r = [0.42372667 0.2542416  0.32203173]\n",
            "Iteración 8: r = [0.4237291  0.25423843 0.32203246]\n",
            "Iteración 9: r = [0.423729   0.25423736 0.32203363]\n",
            "Iteración 10: r = [0.42372885 0.25423725 0.3220339 ]\n",
            "Iteración 11: r = [0.42372881 0.25423727 0.32203391]\n",
            "Iteración 12: r = [0.42372881 0.25423729 0.3220339 ]\n",
            "Iteración 13: r = [0.42372881 0.25423729 0.3220339 ]\n",
            "Iteración 14: r = [0.42372881 0.25423729 0.3220339 ]\n",
            "Iteración 15: r = [0.42372881 0.25423729 0.3220339 ]\n",
            "Iteración 16: r = [0.42372881 0.25423729 0.3220339 ]\n",
            "Iteración 17: r = [0.42372881 0.25423729 0.3220339 ]\n",
            "Iteración 18: r = [0.42372881 0.25423729 0.3220339 ]\n",
            "Iteración 19: r = [0.42372881 0.25423729 0.3220339 ]\n",
            "Iteración 20: r = [0.42372881 0.25423729 0.3220339 ]\n",
            "Iteración 21: r = [0.42372881 0.25423729 0.3220339 ]\n",
            "Iteración 22: r = [0.42372881 0.25423729 0.3220339 ]\n",
            "Iteración 23: r = [0.42372881 0.25423729 0.3220339 ]\n",
            "Iteración 24: r = [0.42372881 0.25423729 0.3220339 ]\n",
            "Iteración 25: r = [0.42372881 0.25423729 0.3220339 ]\n",
            "Iteración 26: r = [0.42372881 0.25423729 0.3220339 ]\n",
            "Iteración 27: r = [0.42372881 0.25423729 0.3220339 ]\n",
            "Iteración 28: r = [0.42372881 0.25423729 0.3220339 ]\n",
            "Iteración 29: r = [0.42372881 0.25423729 0.3220339 ]\n",
            "Iteración 30: r = [0.42372881 0.25423729 0.3220339 ]\n",
            "Iteración 31: r = [0.42372881 0.25423729 0.3220339 ]\n",
            "Iteración 32: r = [0.42372881 0.25423729 0.3220339 ]\n",
            "Iteración 33: r = [0.42372881 0.25423729 0.3220339 ]\n",
            "Iteración 34: r = [0.42372881 0.25423729 0.3220339 ]\n",
            "Iteración 35: r = [0.42372881 0.25423729 0.3220339 ]\n",
            "Iteración 36: r = [0.42372881 0.25423729 0.3220339 ]\n",
            "Iteración 37: r = [0.42372881 0.25423729 0.3220339 ]\n",
            "Iteración 38: r = [0.42372881 0.25423729 0.3220339 ]\n",
            "Iteración 39: r = [0.42372881 0.25423729 0.3220339 ]\n",
            "Iteración 40: r = [0.42372881 0.25423729 0.3220339 ]\n",
            "Iteración 41: r = [0.42372881 0.25423729 0.3220339 ]\n",
            "Iteración 42: r = [0.42372881 0.25423729 0.3220339 ]\n",
            "Iteración 43: r = [0.42372881 0.25423729 0.3220339 ]\n",
            "Iteración 44: r = [0.42372881 0.25423729 0.3220339 ]\n",
            "Iteración 45: r = [0.42372881 0.25423729 0.3220339 ]\n",
            "Iteración 46: r = [0.42372881 0.25423729 0.3220339 ]\n",
            "Iteración 47: r = [0.42372881 0.25423729 0.3220339 ]\n",
            "Iteración 48: r = [0.42372881 0.25423729 0.3220339 ]\n",
            "Iteración 49: r = [0.42372881 0.25423729 0.3220339 ]\n",
            "Iteración 50: r = [0.42372881 0.25423729 0.3220339 ]\n",
            "Iteración 51: r = [0.42372881 0.25423729 0.3220339 ]\n",
            "Iteración 52: r = [0.42372881 0.25423729 0.3220339 ]\n",
            "Iteración 53: r = [0.42372881 0.25423729 0.3220339 ]\n",
            "Iteración 54: r = [0.42372881 0.25423729 0.3220339 ]\n",
            "Iteración 55: r = [0.42372881 0.25423729 0.3220339 ]\n",
            "Iteración 56: r = [0.42372881 0.25423729 0.3220339 ]\n",
            "Iteración 57: r = [0.42372881 0.25423729 0.3220339 ]\n",
            "Iteración 58: r = [0.42372881 0.25423729 0.3220339 ]\n",
            "Iteración 59: r = [0.42372881 0.25423729 0.3220339 ]\n",
            "Iteración 60: r = [0.42372881 0.25423729 0.3220339 ]\n",
            "Iteración 61: r = [0.42372881 0.25423729 0.3220339 ]\n",
            "Iteración 62: r = [0.42372881 0.25423729 0.3220339 ]\n",
            "Iteración 63: r = [0.42372881 0.25423729 0.3220339 ]\n",
            "Iteración 64: r = [0.42372881 0.25423729 0.3220339 ]\n",
            "Iteración 65: r = [0.42372881 0.25423729 0.3220339 ]\n",
            "Iteración 66: r = [0.42372881 0.25423729 0.3220339 ]\n",
            "Iteración 67: r = [0.42372881 0.25423729 0.3220339 ]\n",
            "Iteración 68: r = [0.42372881 0.25423729 0.3220339 ]\n",
            "Iteración 69: r = [0.42372881 0.25423729 0.3220339 ]\n",
            "Iteración 70: r = [0.42372881 0.25423729 0.3220339 ]\n",
            "Iteración 71: r = [0.42372881 0.25423729 0.3220339 ]\n",
            "Iteración 72: r = [0.42372881 0.25423729 0.3220339 ]\n",
            "Iteración 73: r = [0.42372881 0.25423729 0.3220339 ]\n",
            "Iteración 74: r = [0.42372881 0.25423729 0.3220339 ]\n",
            "Iteración 75: r = [0.42372881 0.25423729 0.3220339 ]\n",
            "Iteración 76: r = [0.42372881 0.25423729 0.3220339 ]\n",
            "Iteración 77: r = [0.42372881 0.25423729 0.3220339 ]\n",
            "Iteración 78: r = [0.42372881 0.25423729 0.3220339 ]\n",
            "Iteración 79: r = [0.42372881 0.25423729 0.3220339 ]\n",
            "Iteración 80: r = [0.42372881 0.25423729 0.3220339 ]\n",
            "Iteración 81: r = [0.42372881 0.25423729 0.3220339 ]\n",
            "Iteración 82: r = [0.42372881 0.25423729 0.3220339 ]\n",
            "Iteración 83: r = [0.42372881 0.25423729 0.3220339 ]\n",
            "Iteración 84: r = [0.42372881 0.25423729 0.3220339 ]\n",
            "Iteración 85: r = [0.42372881 0.25423729 0.3220339 ]\n",
            "Iteración 86: r = [0.42372881 0.25423729 0.3220339 ]\n",
            "Iteración 87: r = [0.42372881 0.25423729 0.3220339 ]\n",
            "Iteración 88: r = [0.42372881 0.25423729 0.3220339 ]\n",
            "Iteración 89: r = [0.42372881 0.25423729 0.3220339 ]\n",
            "Iteración 90: r = [0.42372881 0.25423729 0.3220339 ]\n",
            "Iteración 91: r = [0.42372881 0.25423729 0.3220339 ]\n",
            "Iteración 92: r = [0.42372881 0.25423729 0.3220339 ]\n",
            "Iteración 93: r = [0.42372881 0.25423729 0.3220339 ]\n",
            "Iteración 94: r = [0.42372881 0.25423729 0.3220339 ]\n",
            "Iteración 95: r = [0.42372881 0.25423729 0.3220339 ]\n",
            "Iteración 96: r = [0.42372881 0.25423729 0.3220339 ]\n",
            "Iteración 97: r = [0.42372881 0.25423729 0.3220339 ]\n",
            "Iteración 98: r = [0.42372881 0.25423729 0.3220339 ]\n",
            "Iteración 99: r = [0.42372881 0.25423729 0.3220339 ]\n"
          ]
        },
        {
          "output_type": "execute_result",
          "data": {
            "text/plain": [
              "array([0.42372881, 0.25423729, 0.3220339 ])"
            ]
          },
          "metadata": {},
          "execution_count": 15
        }
      ]
    },
    {
      "cell_type": "markdown",
      "metadata": {
        "id": "SwqGR45qzv_J"
      },
      "source": [
        "## PageRank escalable\n",
        "$\\mathbf{A}$ es una matriz densa (a diferencia de $\\mathbf{M}$), por lo que la memoria requerida crece cuadráticamente respecto a $n$. Una forma más eficiente de calcular PageRank es la siguiente\n",
        "\n",
        "* Calcula $\\hat{\\mathbf{r}}^{(t+1)} = \\beta \\cdot \\mathbf{M}\\cdot \\mathbf{r}^{(t)}$\n",
        "* Agrega $\\frac{\\left(1-\\beta\\right)}{n}$ a los elementos de $\\hat{\\mathbf{r}}^{(t+1)}$\n",
        "\n",
        "donde $\\beta$ es un hiperparámetro que se fija usualmente en un valor entre 0.8 y 0.9. Aquí presuponemos que no existen callejones sin salida."
      ]
    },
    {
      "cell_type": "code",
      "metadata": {
        "id": "lfPKI6-58mcr"
      },
      "source": [
        "def pagerank_escalable_nocss(M, beta = 0.8, iter=100):\n",
        "  n = M.shape[0]\n",
        "  r = np.ones(n) / n\n",
        "  umbn = (1 - beta) / n\n",
        "  for i in range(iter):\n",
        "    print('Iteración {0}: r = {1}'.format(i,r))\n",
        "    rhat = beta * M @ r\n",
        "    r = rhat + umbn\n",
        "\n",
        "  return r"
      ],
      "execution_count": 16,
      "outputs": []
    },
    {
      "cell_type": "code",
      "metadata": {
        "colab": {
          "base_uri": "https://localhost:8080/"
        },
        "id": "sApCVvkv19Wq",
        "outputId": "a91fd59d-894a-49d3-940f-93c77d18ce16"
      },
      "source": [
        "pagerank_escalable_nocss(csr_matrix(M3), 0.8, iter=20)"
      ],
      "execution_count": 17,
      "outputs": [
        {
          "output_type": "stream",
          "name": "stdout",
          "text": [
            "Iteración 0: r = [0.33333333 0.33333333 0.33333333]\n",
            "Iteración 1: r = [0.2        0.33333333 0.46666667]\n",
            "Iteración 2: r = [0.2  0.28 0.52]\n",
            "Iteración 3: r = [0.17866667 0.25866667 0.56266667]\n",
            "Iteración 4: r = [0.17013333 0.2416     0.58826667]\n",
            "Iteración 5: r = [0.16330667 0.23136    0.60533333]\n",
            "Iteración 6: r = [0.15921067 0.22453333 0.616256  ]\n",
            "Iteración 7: r = [0.15648    0.22016427 0.62335573]\n",
            "Iteración 8: r = [0.15473237 0.21732437 0.62794325]\n",
            "Iteración 9: r = [0.15359642 0.21548937 0.63091422]\n",
            "Iteración 10: r = [0.15286241 0.21430098 0.63283661]\n",
            "Iteración 11: r = [0.15238706 0.21353202 0.63408092]\n",
            "Iteración 12: r = [0.15207948 0.2130343  0.63488622]\n",
            "Iteración 13: r = [0.15188039 0.21271218 0.63540744]\n",
            "Iteración 14: r = [0.15175154 0.21250369 0.63574477]\n",
            "Iteración 15: r = [0.15166814 0.21236876 0.6359631 ]\n",
            "Iteración 16: r = [0.15161417 0.21228143 0.6361044 ]\n",
            "Iteración 17: r = [0.15157924 0.21222491 0.63619586]\n",
            "Iteración 18: r = [0.15155663 0.21218832 0.63625505]\n",
            "Iteración 19: r = [0.151542   0.21216465 0.63629336]\n"
          ]
        },
        {
          "output_type": "execute_result",
          "data": {
            "text/plain": [
              "array([0.15153253, 0.21214932, 0.63631815])"
            ]
          },
          "metadata": {},
          "execution_count": 17
        }
      ]
    },
    {
      "cell_type": "code",
      "metadata": {
        "colab": {
          "base_uri": "https://localhost:8080/"
        },
        "id": "noOZNxyE_pLy",
        "outputId": "01d49d02-4452-4b8c-bf48-546ff4492883"
      },
      "source": [
        "pagerank_escalable_nocss(M4_tt, beta=0.8, iter=100)"
      ],
      "execution_count": 18,
      "outputs": [
        {
          "output_type": "stream",
          "name": "stdout",
          "text": [
            "Iteración 0: r = [0.33333333 0.33333333 0.33333333]\n",
            "Iteración 1: r = [0.42222222 0.28888889 0.28888889]\n",
            "Iteración 2: r = [0.42814815 0.25925926 0.31259259]\n",
            "Iteración 3: r = [0.42498765 0.2537284  0.32128395]\n",
            "Iteración 4: r = [0.42382881 0.25383374 0.32233745]\n",
            "Iteración 5: r = [0.42368834 0.25415682 0.32215484]\n",
            "Iteración 6: r = [0.42371269 0.25423735 0.32204996]\n",
            "Iteración 7: r = [0.42372667 0.2542416  0.32203173]\n",
            "Iteración 8: r = [0.4237291  0.25423843 0.32203246]\n",
            "Iteración 9: r = [0.423729   0.25423736 0.32203363]\n",
            "Iteración 10: r = [0.42372885 0.25423725 0.3220339 ]\n",
            "Iteración 11: r = [0.42372881 0.25423727 0.32203391]\n",
            "Iteración 12: r = [0.42372881 0.25423729 0.3220339 ]\n",
            "Iteración 13: r = [0.42372881 0.25423729 0.3220339 ]\n",
            "Iteración 14: r = [0.42372881 0.25423729 0.3220339 ]\n",
            "Iteración 15: r = [0.42372881 0.25423729 0.3220339 ]\n",
            "Iteración 16: r = [0.42372881 0.25423729 0.3220339 ]\n",
            "Iteración 17: r = [0.42372881 0.25423729 0.3220339 ]\n",
            "Iteración 18: r = [0.42372881 0.25423729 0.3220339 ]\n",
            "Iteración 19: r = [0.42372881 0.25423729 0.3220339 ]\n",
            "Iteración 20: r = [0.42372881 0.25423729 0.3220339 ]\n",
            "Iteración 21: r = [0.42372881 0.25423729 0.3220339 ]\n",
            "Iteración 22: r = [0.42372881 0.25423729 0.3220339 ]\n",
            "Iteración 23: r = [0.42372881 0.25423729 0.3220339 ]\n",
            "Iteración 24: r = [0.42372881 0.25423729 0.3220339 ]\n",
            "Iteración 25: r = [0.42372881 0.25423729 0.3220339 ]\n",
            "Iteración 26: r = [0.42372881 0.25423729 0.3220339 ]\n",
            "Iteración 27: r = [0.42372881 0.25423729 0.3220339 ]\n",
            "Iteración 28: r = [0.42372881 0.25423729 0.3220339 ]\n",
            "Iteración 29: r = [0.42372881 0.25423729 0.3220339 ]\n",
            "Iteración 30: r = [0.42372881 0.25423729 0.3220339 ]\n",
            "Iteración 31: r = [0.42372881 0.25423729 0.3220339 ]\n",
            "Iteración 32: r = [0.42372881 0.25423729 0.3220339 ]\n",
            "Iteración 33: r = [0.42372881 0.25423729 0.3220339 ]\n",
            "Iteración 34: r = [0.42372881 0.25423729 0.3220339 ]\n",
            "Iteración 35: r = [0.42372881 0.25423729 0.3220339 ]\n",
            "Iteración 36: r = [0.42372881 0.25423729 0.3220339 ]\n",
            "Iteración 37: r = [0.42372881 0.25423729 0.3220339 ]\n",
            "Iteración 38: r = [0.42372881 0.25423729 0.3220339 ]\n",
            "Iteración 39: r = [0.42372881 0.25423729 0.3220339 ]\n",
            "Iteración 40: r = [0.42372881 0.25423729 0.3220339 ]\n",
            "Iteración 41: r = [0.42372881 0.25423729 0.3220339 ]\n",
            "Iteración 42: r = [0.42372881 0.25423729 0.3220339 ]\n",
            "Iteración 43: r = [0.42372881 0.25423729 0.3220339 ]\n",
            "Iteración 44: r = [0.42372881 0.25423729 0.3220339 ]\n",
            "Iteración 45: r = [0.42372881 0.25423729 0.3220339 ]\n",
            "Iteración 46: r = [0.42372881 0.25423729 0.3220339 ]\n",
            "Iteración 47: r = [0.42372881 0.25423729 0.3220339 ]\n",
            "Iteración 48: r = [0.42372881 0.25423729 0.3220339 ]\n",
            "Iteración 49: r = [0.42372881 0.25423729 0.3220339 ]\n",
            "Iteración 50: r = [0.42372881 0.25423729 0.3220339 ]\n",
            "Iteración 51: r = [0.42372881 0.25423729 0.3220339 ]\n",
            "Iteración 52: r = [0.42372881 0.25423729 0.3220339 ]\n",
            "Iteración 53: r = [0.42372881 0.25423729 0.3220339 ]\n",
            "Iteración 54: r = [0.42372881 0.25423729 0.3220339 ]\n",
            "Iteración 55: r = [0.42372881 0.25423729 0.3220339 ]\n",
            "Iteración 56: r = [0.42372881 0.25423729 0.3220339 ]\n",
            "Iteración 57: r = [0.42372881 0.25423729 0.3220339 ]\n",
            "Iteración 58: r = [0.42372881 0.25423729 0.3220339 ]\n",
            "Iteración 59: r = [0.42372881 0.25423729 0.3220339 ]\n",
            "Iteración 60: r = [0.42372881 0.25423729 0.3220339 ]\n",
            "Iteración 61: r = [0.42372881 0.25423729 0.3220339 ]\n",
            "Iteración 62: r = [0.42372881 0.25423729 0.3220339 ]\n",
            "Iteración 63: r = [0.42372881 0.25423729 0.3220339 ]\n",
            "Iteración 64: r = [0.42372881 0.25423729 0.3220339 ]\n",
            "Iteración 65: r = [0.42372881 0.25423729 0.3220339 ]\n",
            "Iteración 66: r = [0.42372881 0.25423729 0.3220339 ]\n",
            "Iteración 67: r = [0.42372881 0.25423729 0.3220339 ]\n",
            "Iteración 68: r = [0.42372881 0.25423729 0.3220339 ]\n",
            "Iteración 69: r = [0.42372881 0.25423729 0.3220339 ]\n",
            "Iteración 70: r = [0.42372881 0.25423729 0.3220339 ]\n",
            "Iteración 71: r = [0.42372881 0.25423729 0.3220339 ]\n",
            "Iteración 72: r = [0.42372881 0.25423729 0.3220339 ]\n",
            "Iteración 73: r = [0.42372881 0.25423729 0.3220339 ]\n",
            "Iteración 74: r = [0.42372881 0.25423729 0.3220339 ]\n",
            "Iteración 75: r = [0.42372881 0.25423729 0.3220339 ]\n",
            "Iteración 76: r = [0.42372881 0.25423729 0.3220339 ]\n",
            "Iteración 77: r = [0.42372881 0.25423729 0.3220339 ]\n",
            "Iteración 78: r = [0.42372881 0.25423729 0.3220339 ]\n",
            "Iteración 79: r = [0.42372881 0.25423729 0.3220339 ]\n",
            "Iteración 80: r = [0.42372881 0.25423729 0.3220339 ]\n",
            "Iteración 81: r = [0.42372881 0.25423729 0.3220339 ]\n",
            "Iteración 82: r = [0.42372881 0.25423729 0.3220339 ]\n",
            "Iteración 83: r = [0.42372881 0.25423729 0.3220339 ]\n",
            "Iteración 84: r = [0.42372881 0.25423729 0.3220339 ]\n",
            "Iteración 85: r = [0.42372881 0.25423729 0.3220339 ]\n",
            "Iteración 86: r = [0.42372881 0.25423729 0.3220339 ]\n",
            "Iteración 87: r = [0.42372881 0.25423729 0.3220339 ]\n",
            "Iteración 88: r = [0.42372881 0.25423729 0.3220339 ]\n",
            "Iteración 89: r = [0.42372881 0.25423729 0.3220339 ]\n",
            "Iteración 90: r = [0.42372881 0.25423729 0.3220339 ]\n",
            "Iteración 91: r = [0.42372881 0.25423729 0.3220339 ]\n",
            "Iteración 92: r = [0.42372881 0.25423729 0.3220339 ]\n",
            "Iteración 93: r = [0.42372881 0.25423729 0.3220339 ]\n",
            "Iteración 94: r = [0.42372881 0.25423729 0.3220339 ]\n",
            "Iteración 95: r = [0.42372881 0.25423729 0.3220339 ]\n",
            "Iteración 96: r = [0.42372881 0.25423729 0.3220339 ]\n",
            "Iteración 97: r = [0.42372881 0.25423729 0.3220339 ]\n",
            "Iteración 98: r = [0.42372881 0.25423729 0.3220339 ]\n",
            "Iteración 99: r = [0.42372881 0.25423729 0.3220339 ]\n"
          ]
        },
        {
          "output_type": "execute_result",
          "data": {
            "text/plain": [
              "array([0.42372881, 0.25423729, 0.3220339 ])"
            ]
          },
          "metadata": {},
          "execution_count": 18
        }
      ]
    },
    {
      "cell_type": "markdown",
      "metadata": {
        "id": "dlLW9y6Z1kDD"
      },
      "source": [
        "Cuando tenemos callejones sin salida, es necesario hacer el siguiente ajuste\n",
        "* Calcula $\\hat{\\mathbf{r}}^{(t+1)} = \\beta \\cdot \\mathbf{M}\\cdot \\mathbf{r}^{(t)}$\n",
        "* Agrega $\\frac{\\left(1-\\sum_j \\hat{r}_j^{(t+1)}\\right)}{n}$ a los elementos de $\\hat{\\mathbf{r}}^{(t+1)}$"
      ]
    },
    {
      "cell_type": "code",
      "metadata": {
        "id": "OzoGczUd1Vg7"
      },
      "source": [
        "def pagerank_escalable_css(M, beta = 0.8, iter=20):\n",
        "  n = M.shape[0]\n",
        "  r = np.ones(n) / n\n",
        "  for i in range(iter):\n",
        "    print('Iteración {0}: r = {1}'.format(i,r))\n",
        "    rhat = beta * M @ r\n",
        "    umrsn = (1 - rhat.sum()) / n\n",
        "    r = rhat + umrsn\n",
        "\n",
        "  return r"
      ],
      "execution_count": 19,
      "outputs": []
    },
    {
      "cell_type": "code",
      "metadata": {
        "colab": {
          "base_uri": "https://localhost:8080/"
        },
        "id": "6mKkZ4H41r6h",
        "outputId": "bc22a54b-c1fb-468d-87d6-8e90b6d8bae1"
      },
      "source": [
        "pagerank_escalable_css(csr_matrix(M3), 0.8, iter=20)"
      ],
      "execution_count": 20,
      "outputs": [
        {
          "output_type": "stream",
          "name": "stdout",
          "text": [
            "Iteración 0: r = [0.33333333 0.33333333 0.33333333]\n",
            "Iteración 1: r = [0.2        0.33333333 0.46666667]\n",
            "Iteración 2: r = [0.2  0.28 0.52]\n",
            "Iteración 3: r = [0.17866667 0.25866667 0.56266667]\n",
            "Iteración 4: r = [0.17013333 0.2416     0.58826667]\n",
            "Iteración 5: r = [0.16330667 0.23136    0.60533333]\n",
            "Iteración 6: r = [0.15921067 0.22453333 0.616256  ]\n",
            "Iteración 7: r = [0.15648    0.22016427 0.62335573]\n",
            "Iteración 8: r = [0.15473237 0.21732437 0.62794325]\n",
            "Iteración 9: r = [0.15359642 0.21548937 0.63091422]\n",
            "Iteración 10: r = [0.15286241 0.21430098 0.63283661]\n",
            "Iteración 11: r = [0.15238706 0.21353202 0.63408092]\n",
            "Iteración 12: r = [0.15207948 0.2130343  0.63488622]\n",
            "Iteración 13: r = [0.15188039 0.21271218 0.63540744]\n",
            "Iteración 14: r = [0.15175154 0.21250369 0.63574477]\n",
            "Iteración 15: r = [0.15166814 0.21236876 0.6359631 ]\n",
            "Iteración 16: r = [0.15161417 0.21228143 0.6361044 ]\n",
            "Iteración 17: r = [0.15157924 0.21222491 0.63619586]\n",
            "Iteración 18: r = [0.15155663 0.21218832 0.63625505]\n",
            "Iteración 19: r = [0.151542   0.21216465 0.63629336]\n"
          ]
        },
        {
          "output_type": "execute_result",
          "data": {
            "text/plain": [
              "array([0.15153253, 0.21214932, 0.63631815])"
            ]
          },
          "metadata": {},
          "execution_count": 20
        }
      ]
    },
    {
      "cell_type": "code",
      "metadata": {
        "colab": {
          "base_uri": "https://localhost:8080/"
        },
        "id": "pT0uCyxe2SWP",
        "outputId": "ccff35f4-0767-4a96-ba7d-327de297e62e"
      },
      "source": [
        "pagerank_escalable_css(csr_matrix(M4), 0.8, iter=20)"
      ],
      "execution_count": 21,
      "outputs": [
        {
          "output_type": "stream",
          "name": "stdout",
          "text": [
            "Iteración 0: r = [0.33333333 0.33333333 0.33333333]\n",
            "Iteración 1: r = [0.42222222 0.28888889 0.28888889]\n",
            "Iteración 2: r = [0.42814815 0.25925926 0.31259259]\n",
            "Iteración 3: r = [0.42498765 0.2537284  0.32128395]\n",
            "Iteración 4: r = [0.42382881 0.25383374 0.32233745]\n",
            "Iteración 5: r = [0.42368834 0.25415682 0.32215484]\n",
            "Iteración 6: r = [0.42371269 0.25423735 0.32204996]\n",
            "Iteración 7: r = [0.42372667 0.2542416  0.32203173]\n",
            "Iteración 8: r = [0.4237291  0.25423843 0.32203246]\n",
            "Iteración 9: r = [0.423729   0.25423736 0.32203363]\n",
            "Iteración 10: r = [0.42372885 0.25423725 0.3220339 ]\n",
            "Iteración 11: r = [0.42372881 0.25423727 0.32203391]\n",
            "Iteración 12: r = [0.42372881 0.25423729 0.3220339 ]\n",
            "Iteración 13: r = [0.42372881 0.25423729 0.3220339 ]\n",
            "Iteración 14: r = [0.42372881 0.25423729 0.3220339 ]\n",
            "Iteración 15: r = [0.42372881 0.25423729 0.3220339 ]\n",
            "Iteración 16: r = [0.42372881 0.25423729 0.3220339 ]\n",
            "Iteración 17: r = [0.42372881 0.25423729 0.3220339 ]\n",
            "Iteración 18: r = [0.42372881 0.25423729 0.3220339 ]\n",
            "Iteración 19: r = [0.42372881 0.25423729 0.3220339 ]\n"
          ]
        },
        {
          "output_type": "execute_result",
          "data": {
            "text/plain": [
              "array([0.42372881, 0.25423729, 0.3220339 ])"
            ]
          },
          "metadata": {},
          "execution_count": 21
        }
      ]
    }
  ]
}