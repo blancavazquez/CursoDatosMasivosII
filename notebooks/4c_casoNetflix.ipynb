{
  "nbformat": 4,
  "nbformat_minor": 0,
  "metadata": {
    "kernelspec": {
      "display_name": "Python 3",
      "language": "python",
      "name": "python3"
    },
    "language_info": {
      "codemirror_mode": {
        "name": "ipython",
        "version": 3
      },
      "file_extension": ".py",
      "mimetype": "text/x-python",
      "name": "python",
      "nbconvert_exporter": "python",
      "pygments_lexer": "ipython3",
      "version": "3.8.5"
    },
    "colab": {
      "name": "4d_casoNetflix.ipynb",
      "provenance": [],
      "collapsed_sections": [],
      "include_colab_link": true
    }
  },
  "cells": [
    {
      "cell_type": "markdown",
      "metadata": {
        "id": "view-in-github",
        "colab_type": "text"
      },
      "source": [
        "<a href=\"https://colab.research.google.com/github/blancavazquez/CursoDatosMasivosII/blob/master/notebooks/4c_casoNetflix.ipynb\" target=\"_parent\"><img src=\"https://colab.research.google.com/assets/colab-badge.svg\" alt=\"Open In Colab\"/></a>"
      ]
    },
    {
      "cell_type": "markdown",
      "metadata": {
        "id": "_FnMwcS22WXA"
      },
      "source": [
        "## Sistema de recomendación: caso Netflix\n",
        "\n",
        "Objetivo: construir un sistema de recomendación de películas basado en los datos de Netflix.\n",
        "\n",
        "Los pasos a seguir son:\n",
        "* Análisis de datos\n",
        "* Pre-procesamiento\n",
        "* Construcción del sistema de recomendación\n",
        "    - Usando filtrado colaborativo\n",
        "\n",
        "[Créditos y fuente de datos](https://www.kaggle.com/laowingkin/netflix-movie-recommendation)"
      ]
    },
    {
      "cell_type": "code",
      "metadata": {
        "colab": {
          "base_uri": "https://localhost:8080/"
        },
        "id": "pc78u78w2WXD",
        "outputId": "bb444bd6-f687-45ba-cf16-4a63994c8088"
      },
      "source": [
        "\"\"\"Carga de bibliotecas\"\"\"\n",
        "import pandas as pd\n",
        "import numpy as np\n",
        "import math\n",
        "import re\n",
        "from scipy.sparse import csr_matrix\n",
        "import matplotlib.pyplot as plt\n",
        "import seaborn as sns\n",
        "!pip install scikit-surprise\n",
        "from surprise import Reader, Dataset, SVD\n",
        "from surprise.model_selection import cross_validate\n",
        "sns.set_style(\"darkgrid\")"
      ],
      "execution_count": 1,
      "outputs": [
        {
          "output_type": "stream",
          "name": "stdout",
          "text": [
            "Requirement already satisfied: scikit-surprise in /usr/local/lib/python3.7/dist-packages (1.1.1)\n",
            "Requirement already satisfied: scipy>=1.0.0 in /usr/local/lib/python3.7/dist-packages (from scikit-surprise) (1.4.1)\n",
            "Requirement already satisfied: joblib>=0.11 in /usr/local/lib/python3.7/dist-packages (from scikit-surprise) (1.0.1)\n",
            "Requirement already satisfied: six>=1.10.0 in /usr/local/lib/python3.7/dist-packages (from scikit-surprise) (1.15.0)\n",
            "Requirement already satisfied: numpy>=1.11.2 in /usr/local/lib/python3.7/dist-packages (from scikit-surprise) (1.19.5)\n"
          ]
        }
      ]
    },
    {
      "cell_type": "code",
      "metadata": {
        "colab": {
          "base_uri": "https://localhost:8080/"
        },
        "id": "8BpiLTci3mbP",
        "outputId": "58dcc730-8479-492d-8134-363ba7538a2b"
      },
      "source": [
        "from google.colab import drive\n",
        "drive.mount('/content/drive')"
      ],
      "execution_count": 2,
      "outputs": [
        {
          "output_type": "stream",
          "name": "stdout",
          "text": [
            "Drive already mounted at /content/drive; to attempt to forcibly remount, call drive.mount(\"/content/drive\", force_remount=True).\n"
          ]
        }
      ]
    },
    {
      "cell_type": "code",
      "metadata": {
        "colab": {
          "base_uri": "https://localhost:8080/"
        },
        "id": "iOcjS-eH2WXE",
        "outputId": "3ce0364a-7136-4861-bd45-da1c760faf4c"
      },
      "source": [
        "\"\"\"Carga de la base de datos\"\"\"\n",
        "#selección de ID y rating\n",
        "df = pd.read_csv('/content/drive/MyDrive/Colab Notebooks/data/combined_data_1.txt', \n",
        "                 header = None, names = ['User_Id', 'Rating'], usecols = [0,1])\n",
        "df['Rating'] = df['Rating'].astype(float)\n",
        "print(\"Tamaño original:\", df.shape)"
      ],
      "execution_count": 3,
      "outputs": [
        {
          "output_type": "stream",
          "name": "stdout",
          "text": [
            "Tamaño original: (24058263, 2)\n"
          ]
        }
      ]
    },
    {
      "cell_type": "code",
      "metadata": {
        "colab": {
          "base_uri": "https://localhost:8080/",
          "height": 357
        },
        "id": "Rij8L5eay9Jo",
        "outputId": "888bf45f-6d27-402c-f879-0230e797e1d5"
      },
      "source": [
        "df_raiting = df[:500000] #selección de sub-conjunto de registros\n",
        "df_raiting.tail(10)"
      ],
      "execution_count": 4,
      "outputs": [
        {
          "output_type": "execute_result",
          "data": {
            "text/html": [
              "<div>\n",
              "<style scoped>\n",
              "    .dataframe tbody tr th:only-of-type {\n",
              "        vertical-align: middle;\n",
              "    }\n",
              "\n",
              "    .dataframe tbody tr th {\n",
              "        vertical-align: top;\n",
              "    }\n",
              "\n",
              "    .dataframe thead th {\n",
              "        text-align: right;\n",
              "    }\n",
              "</style>\n",
              "<table border=\"1\" class=\"dataframe\">\n",
              "  <thead>\n",
              "    <tr style=\"text-align: right;\">\n",
              "      <th></th>\n",
              "      <th>User_Id</th>\n",
              "      <th>Rating</th>\n",
              "    </tr>\n",
              "  </thead>\n",
              "  <tbody>\n",
              "    <tr>\n",
              "      <th>499990</th>\n",
              "      <td>2284938</td>\n",
              "      <td>3.0</td>\n",
              "    </tr>\n",
              "    <tr>\n",
              "      <th>499991</th>\n",
              "      <td>996626</td>\n",
              "      <td>4.0</td>\n",
              "    </tr>\n",
              "    <tr>\n",
              "      <th>499992</th>\n",
              "      <td>1778262</td>\n",
              "      <td>1.0</td>\n",
              "    </tr>\n",
              "    <tr>\n",
              "      <th>499993</th>\n",
              "      <td>1823668</td>\n",
              "      <td>2.0</td>\n",
              "    </tr>\n",
              "    <tr>\n",
              "      <th>499994</th>\n",
              "      <td>1129025</td>\n",
              "      <td>4.0</td>\n",
              "    </tr>\n",
              "    <tr>\n",
              "      <th>499995</th>\n",
              "      <td>1957556</td>\n",
              "      <td>4.0</td>\n",
              "    </tr>\n",
              "    <tr>\n",
              "      <th>499996</th>\n",
              "      <td>1492198</td>\n",
              "      <td>3.0</td>\n",
              "    </tr>\n",
              "    <tr>\n",
              "      <th>499997</th>\n",
              "      <td>1018901</td>\n",
              "      <td>3.0</td>\n",
              "    </tr>\n",
              "    <tr>\n",
              "      <th>499998</th>\n",
              "      <td>213704</td>\n",
              "      <td>4.0</td>\n",
              "    </tr>\n",
              "    <tr>\n",
              "      <th>499999</th>\n",
              "      <td>2143870</td>\n",
              "      <td>3.0</td>\n",
              "    </tr>\n",
              "  </tbody>\n",
              "</table>\n",
              "</div>"
            ],
            "text/plain": [
              "        User_Id  Rating\n",
              "499990  2284938     3.0\n",
              "499991   996626     4.0\n",
              "499992  1778262     1.0\n",
              "499993  1823668     2.0\n",
              "499994  1129025     4.0\n",
              "499995  1957556     4.0\n",
              "499996  1492198     3.0\n",
              "499997  1018901     3.0\n",
              "499998   213704     4.0\n",
              "499999  2143870     3.0"
            ]
          },
          "metadata": {},
          "execution_count": 4
        }
      ]
    },
    {
      "cell_type": "code",
      "metadata": {
        "colab": {
          "base_uri": "https://localhost:8080/"
        },
        "id": "-59KSqm8xwW3",
        "outputId": "aa4f8f1e-5fd4-4f09-9501-2dce28108023"
      },
      "source": [
        "print('Tamaño de la base de datos: {}'.format(df_raiting.shape))"
      ],
      "execution_count": 5,
      "outputs": [
        {
          "output_type": "stream",
          "name": "stdout",
          "text": [
            "Tamaño de la base de datos: (500000, 2)\n"
          ]
        }
      ]
    },
    {
      "cell_type": "markdown",
      "metadata": {
        "id": "cD_iWnue2WXF"
      },
      "source": [
        "## Análisis de datos"
      ]
    },
    {
      "cell_type": "code",
      "metadata": {
        "colab": {
          "base_uri": "https://localhost:8080/"
        },
        "id": "l1ccIdvf2WXG",
        "outputId": "3b84b9c3-18b3-4300-cd7d-3ec440a2b348"
      },
      "source": [
        "print(\"Conteo de raitings\")\n",
        "p = df_raiting.groupby('Rating')['Rating'].agg(['count'])\n",
        "print(p)"
      ],
      "execution_count": 6,
      "outputs": [
        {
          "output_type": "stream",
          "name": "stdout",
          "text": [
            "Conteo de raitings\n",
            "         count\n",
            "Rating        \n",
            "1.0      25316\n",
            "2.0      52325\n",
            "3.0     147151\n",
            "4.0     174248\n",
            "5.0     100812\n"
          ]
        }
      ]
    },
    {
      "cell_type": "code",
      "metadata": {
        "colab": {
          "base_uri": "https://localhost:8080/"
        },
        "id": "kuxNiBRTsUPU",
        "outputId": "24748924-4d10-4547-891b-50f8e3e3bf99"
      },
      "source": [
        "movie_count = df_raiting.isnull().sum()[1]#Se obtiene el total de películas\n",
        "users_count = df_raiting['User_Id'].nunique() - movie_count#Se obtiene el total de usuarios\n",
        "rating_count = df_raiting['User_Id'].count() - movie_count#Se obtiene el total de ratings\n",
        "\n",
        "print(\"Total de películas:\", movie_count, \"total de usuarios:\", users_count, \"total de ratings:\", rating_count)"
      ],
      "execution_count": 7,
      "outputs": [
        {
          "output_type": "stream",
          "name": "stdout",
          "text": [
            "Total de películas: 148 total de usuarios: 214992 total de ratings: 499852\n"
          ]
        }
      ]
    },
    {
      "cell_type": "code",
      "metadata": {
        "colab": {
          "base_uri": "https://localhost:8080/",
          "height": 596
        },
        "id": "ptMfNI1vzzhJ",
        "outputId": "787fec4f-a22c-4da8-94ba-54f7812f7b02"
      },
      "source": [
        "ax = p.plot(kind = 'barh', legend = False, figsize = (15,10))\n",
        "plt.title('Total: {:,} peliculas, {:,} usuarios, {:,} ratings'.format(movie_count, users_count, rating_count), fontsize=20)\n",
        "plt.axis('off')\n",
        "\n",
        "for i in range(1,6):\n",
        "    ax.text(p.iloc[i-1][0]/4, i-1, 'Rating {}: {:.0f}%'.format(i, p.iloc[i-1][0]*100 / p.sum()[0]), color = 'white', weight = 'bold')"
      ],
      "execution_count": 8,
      "outputs": [
        {
          "output_type": "display_data",
          "data": {
            "image/png": "[encoded data removed]",
            "text/plain": [
              "<Figure size 1080x720 with 1 Axes>"
            ]
          },
          "metadata": {
            "needs_background": "light"
          }
        }
      ]
    },
    {
      "cell_type": "markdown",
      "metadata": {
        "id": "4VN5eaDm2WXG"
      },
      "source": [
        "Se observa que la mayoría de los ratings tiende a ser positiva (>3)"
      ]
    },
    {
      "cell_type": "markdown",
      "metadata": {
        "id": "1XAx3I7-2WXH"
      },
      "source": [
        "## Pre-procesamiento"
      ]
    },
    {
      "cell_type": "code",
      "metadata": {
        "colab": {
          "base_uri": "https://localhost:8080/",
          "height": 374
        },
        "id": "ra-D7JVz6mMY",
        "outputId": "ed1f60fa-8bd9-4053-c8ff-1eda3f07978f"
      },
      "source": [
        "\"\"\"Crear una matriz para el ID de la película (procesamiento más eficiente)\"\"\"\n",
        "df_nan = pd.DataFrame(pd.isnull(df_raiting.Rating))\n",
        "df_nan = df_nan[df_nan['Rating'] == True]\n",
        "df_nan = df_nan.reset_index()\n",
        "\n",
        "print(\"Tamaño df_nan:\", df_nan.shape)\n",
        "df_nan.head(10)"
      ],
      "execution_count": 9,
      "outputs": [
        {
          "output_type": "stream",
          "name": "stdout",
          "text": [
            "Tamaño df_nan: (148, 2)\n"
          ]
        },
        {
          "output_type": "execute_result",
          "data": {
            "text/html": [
              "<div>\n",
              "<style scoped>\n",
              "    .dataframe tbody tr th:only-of-type {\n",
              "        vertical-align: middle;\n",
              "    }\n",
              "\n",
              "    .dataframe tbody tr th {\n",
              "        vertical-align: top;\n",
              "    }\n",
              "\n",
              "    .dataframe thead th {\n",
              "        text-align: right;\n",
              "    }\n",
              "</style>\n",
              "<table border=\"1\" class=\"dataframe\">\n",
              "  <thead>\n",
              "    <tr style=\"text-align: right;\">\n",
              "      <th></th>\n",
              "      <th>index</th>\n",
              "      <th>Rating</th>\n",
              "    </tr>\n",
              "  </thead>\n",
              "  <tbody>\n",
              "    <tr>\n",
              "      <th>0</th>\n",
              "      <td>0</td>\n",
              "      <td>True</td>\n",
              "    </tr>\n",
              "    <tr>\n",
              "      <th>1</th>\n",
              "      <td>548</td>\n",
              "      <td>True</td>\n",
              "    </tr>\n",
              "    <tr>\n",
              "      <th>2</th>\n",
              "      <td>694</td>\n",
              "      <td>True</td>\n",
              "    </tr>\n",
              "    <tr>\n",
              "      <th>3</th>\n",
              "      <td>2707</td>\n",
              "      <td>True</td>\n",
              "    </tr>\n",
              "    <tr>\n",
              "      <th>4</th>\n",
              "      <td>2850</td>\n",
              "      <td>True</td>\n",
              "    </tr>\n",
              "    <tr>\n",
              "      <th>5</th>\n",
              "      <td>3991</td>\n",
              "      <td>True</td>\n",
              "    </tr>\n",
              "    <tr>\n",
              "      <th>6</th>\n",
              "      <td>5011</td>\n",
              "      <td>True</td>\n",
              "    </tr>\n",
              "    <tr>\n",
              "      <th>7</th>\n",
              "      <td>5105</td>\n",
              "      <td>True</td>\n",
              "    </tr>\n",
              "    <tr>\n",
              "      <th>8</th>\n",
              "      <td>20016</td>\n",
              "      <td>True</td>\n",
              "    </tr>\n",
              "    <tr>\n",
              "      <th>9</th>\n",
              "      <td>20112</td>\n",
              "      <td>True</td>\n",
              "    </tr>\n",
              "  </tbody>\n",
              "</table>\n",
              "</div>"
            ],
            "text/plain": [
              "   index  Rating\n",
              "0      0    True\n",
              "1    548    True\n",
              "2    694    True\n",
              "3   2707    True\n",
              "4   2850    True\n",
              "5   3991    True\n",
              "6   5011    True\n",
              "7   5105    True\n",
              "8  20016    True\n",
              "9  20112    True"
            ]
          },
          "metadata": {},
          "execution_count": 9
        }
      ]
    },
    {
      "cell_type": "code",
      "metadata": {
        "id": "HMeXLUH_2WXH"
      },
      "source": [
        "movie_np = []\n",
        "movie_id = 1\n",
        "\n",
        "for i,j in zip(df_nan['index'][1:],df_nan['index'][:-1]):\n",
        "    temp = np.full((1,i-j-1), movie_id) #Return a new array of given shape and type, filled with movie_id\n",
        "    movie_np = np.append(movie_np, temp)\n",
        "    movie_id += 1"
      ],
      "execution_count": 10,
      "outputs": []
    },
    {
      "cell_type": "code",
      "metadata": {
        "colab": {
          "base_uri": "https://localhost:8080/"
        },
        "id": "xA0C4Hni82by",
        "outputId": "1d436f75-8b2d-4604-db84-ca1536774661"
      },
      "source": [
        "# Se toma en cuenta el último registro y la longitud correspondiente\n",
        "last_record = np.full((1,len(df_raiting) - df_nan.iloc[-1, 0] - 1),movie_id)\n",
        "movie_np = np.append(movie_np, last_record) #indices de las películas\n",
        "\n",
        "print('Películas (numpy): {}'.format(movie_np))"
      ],
      "execution_count": 11,
      "outputs": [
        {
          "output_type": "stream",
          "name": "stdout",
          "text": [
            "Películas (numpy): [  1.   1.   1. ... 148. 148. 148.]\n"
          ]
        }
      ]
    },
    {
      "cell_type": "code",
      "metadata": {
        "colab": {
          "base_uri": "https://localhost:8080/",
          "height": 417
        },
        "id": "1A9l5Dj72WXH",
        "outputId": "4b15b2d9-cd06-47eb-dc9a-051940f3af06"
      },
      "source": [
        "\"\"\"Visualizamos nuevamente\"\"\"\n",
        "df_raiting = df_raiting[pd.notnull(df_raiting['Rating'])]\n",
        "\n",
        "df_raiting['Movie_Id'] = movie_np.astype(int)\n",
        "df_raiting['User_Id'] = df_raiting['User_Id'].astype(int)\n",
        "df_raiting"
      ],
      "execution_count": 12,
      "outputs": [
        {
          "output_type": "execute_result",
          "data": {
            "text/html": [
              "<div>\n",
              "<style scoped>\n",
              "    .dataframe tbody tr th:only-of-type {\n",
              "        vertical-align: middle;\n",
              "    }\n",
              "\n",
              "    .dataframe tbody tr th {\n",
              "        vertical-align: top;\n",
              "    }\n",
              "\n",
              "    .dataframe thead th {\n",
              "        text-align: right;\n",
              "    }\n",
              "</style>\n",
              "<table border=\"1\" class=\"dataframe\">\n",
              "  <thead>\n",
              "    <tr style=\"text-align: right;\">\n",
              "      <th></th>\n",
              "      <th>User_Id</th>\n",
              "      <th>Rating</th>\n",
              "      <th>Movie_Id</th>\n",
              "    </tr>\n",
              "  </thead>\n",
              "  <tbody>\n",
              "    <tr>\n",
              "      <th>1</th>\n",
              "      <td>1488844</td>\n",
              "      <td>3.0</td>\n",
              "      <td>1</td>\n",
              "    </tr>\n",
              "    <tr>\n",
              "      <th>2</th>\n",
              "      <td>822109</td>\n",
              "      <td>5.0</td>\n",
              "      <td>1</td>\n",
              "    </tr>\n",
              "    <tr>\n",
              "      <th>3</th>\n",
              "      <td>885013</td>\n",
              "      <td>4.0</td>\n",
              "      <td>1</td>\n",
              "    </tr>\n",
              "    <tr>\n",
              "      <th>4</th>\n",
              "      <td>30878</td>\n",
              "      <td>4.0</td>\n",
              "      <td>1</td>\n",
              "    </tr>\n",
              "    <tr>\n",
              "      <th>5</th>\n",
              "      <td>823519</td>\n",
              "      <td>3.0</td>\n",
              "      <td>1</td>\n",
              "    </tr>\n",
              "    <tr>\n",
              "      <th>...</th>\n",
              "      <td>...</td>\n",
              "      <td>...</td>\n",
              "      <td>...</td>\n",
              "    </tr>\n",
              "    <tr>\n",
              "      <th>499995</th>\n",
              "      <td>1957556</td>\n",
              "      <td>4.0</td>\n",
              "      <td>148</td>\n",
              "    </tr>\n",
              "    <tr>\n",
              "      <th>499996</th>\n",
              "      <td>1492198</td>\n",
              "      <td>3.0</td>\n",
              "      <td>148</td>\n",
              "    </tr>\n",
              "    <tr>\n",
              "      <th>499997</th>\n",
              "      <td>1018901</td>\n",
              "      <td>3.0</td>\n",
              "      <td>148</td>\n",
              "    </tr>\n",
              "    <tr>\n",
              "      <th>499998</th>\n",
              "      <td>213704</td>\n",
              "      <td>4.0</td>\n",
              "      <td>148</td>\n",
              "    </tr>\n",
              "    <tr>\n",
              "      <th>499999</th>\n",
              "      <td>2143870</td>\n",
              "      <td>3.0</td>\n",
              "      <td>148</td>\n",
              "    </tr>\n",
              "  </tbody>\n",
              "</table>\n",
              "<p>499852 rows × 3 columns</p>\n",
              "</div>"
            ],
            "text/plain": [
              "        User_Id  Rating  Movie_Id\n",
              "1       1488844     3.0         1\n",
              "2        822109     5.0         1\n",
              "3        885013     4.0         1\n",
              "4         30878     4.0         1\n",
              "5        823519     3.0         1\n",
              "...         ...     ...       ...\n",
              "499995  1957556     4.0       148\n",
              "499996  1492198     3.0       148\n",
              "499997  1018901     3.0       148\n",
              "499998   213704     4.0       148\n",
              "499999  2143870     3.0       148\n",
              "\n",
              "[499852 rows x 3 columns]"
            ]
          },
          "metadata": {},
          "execution_count": 12
        }
      ]
    },
    {
      "cell_type": "markdown",
      "metadata": {
        "id": "cjLxgclV2WXJ"
      },
      "source": [
        "## Selección de usuarios y películas\n",
        "\n",
        "Algunos criterios que se toman en cuenta:\n",
        "\n",
        "- Eliminar películas con menos ratings (relativamente no son populares)\n",
        "- Eliminar a los usuarios que dieron menos reseñas (son relativamente menos activos)"
      ]
    },
    {
      "cell_type": "code",
      "metadata": {
        "colab": {
          "base_uri": "https://localhost:8080/"
        },
        "id": "rqe-2sOt2WXJ",
        "outputId": "3073cb30-1aa8-4e66-c536-f1cee91668e2"
      },
      "source": [
        "f = ['count','mean']\n",
        "df_movie_summary = df_raiting.groupby('Movie_Id')['Rating'].agg(f)\n",
        "df_movie_summary.index = df_movie_summary.index.map(int)\n",
        "movie_benchmark = round(df_movie_summary['count'].quantile(0.7),0)\n",
        "drop_movie_list = df_movie_summary[df_movie_summary['count'] < movie_benchmark].index\n",
        "\n",
        "print('Películas menos populares: {}'.format(movie_benchmark))\n",
        "\n",
        "df_cust_summary = df_raiting.groupby('User_Id')['Rating'].agg(f)\n",
        "df_cust_summary.index = df_cust_summary.index.map(int)\n",
        "cust_benchmark = round(df_cust_summary['count'].quantile(0.7),0)\n",
        "drop_cust_list = df_cust_summary[df_cust_summary['count'] < cust_benchmark].index\n",
        "\n",
        "print('Usuarios menos activos: {}'.format(cust_benchmark))"
      ],
      "execution_count": 13,
      "outputs": [
        {
          "output_type": "stream",
          "name": "stdout",
          "text": [
            "Películas menos populares: 1205.0\n",
            "Usuarios menos activos: 2.0\n"
          ]
        }
      ]
    },
    {
      "cell_type": "code",
      "metadata": {
        "colab": {
          "base_uri": "https://localhost:8080/"
        },
        "id": "WMcmOwUc2WXK",
        "outputId": "7b522f5a-dae4-4c49-e4e5-e2304d3e8d89"
      },
      "source": [
        "\"\"\"Después de reducir la base de datos, vemos cómo queda\"\"\"\n",
        "print('Tamaño original: {}'.format(df_raiting.shape))\n",
        "df_raiting = df_raiting[~df_raiting['Movie_Id'].isin(drop_movie_list)]\n",
        "df_raiting = df_raiting[~df_raiting['User_Id'].isin(drop_cust_list)]\n",
        "print('Tamaño después de la reducción: {}'.format(df_raiting.shape))"
      ],
      "execution_count": 14,
      "outputs": [
        {
          "output_type": "stream",
          "name": "stdout",
          "text": [
            "Tamaño original: (499852, 3)\n",
            "Tamaño después de la reducción: (364216, 3)\n"
          ]
        }
      ]
    },
    {
      "cell_type": "code",
      "metadata": {
        "id": "mxxCI9252WXK"
      },
      "source": [
        "#df.to_csv('/content/drive/MyDrive/Colab Notebooks/data/netflix_new_ratings.csv')"
      ],
      "execution_count": 15,
      "outputs": []
    },
    {
      "cell_type": "markdown",
      "metadata": {
        "id": "2UxDP2y82WXL"
      },
      "source": [
        "## Carga del catálogo de películas"
      ]
    },
    {
      "cell_type": "code",
      "metadata": {
        "colab": {
          "base_uri": "https://localhost:8080/"
        },
        "id": "_6_fXVHM2WXL",
        "outputId": "5eeb9834-de29-4244-e7de-8e44506fefad"
      },
      "source": [
        "\"\"\"Carga de la base de datos de películas\"\"\"\n",
        "df_movies = pd.read_csv('/content/drive/MyDrive/Colab Notebooks/data/movie_titles.csv', \n",
        "                        encoding = \"ISO-8859-1\", header = None, \n",
        "                        names = ['Movie_Id', 'Year', 'Name'])\n",
        "df_movies.set_index('Movie_Id', inplace = True)\n",
        "print (df_movies.head(10))"
      ],
      "execution_count": 16,
      "outputs": [
        {
          "output_type": "stream",
          "name": "stdout",
          "text": [
            "            Year                          Name\n",
            "Movie_Id                                      \n",
            "1         2003.0               Dinosaur Planet\n",
            "2         2004.0    Isle of Man TT 2004 Review\n",
            "3         1997.0                     Character\n",
            "4         1994.0  Paula Abdul's Get Up & Dance\n",
            "5         2004.0      The Rise and Fall of ECW\n",
            "6         1997.0                          Sick\n",
            "7         1992.0                         8 Man\n",
            "8         2004.0    What the #$*! Do We Know!?\n",
            "9         1991.0      Class of Nuke 'Em High 2\n",
            "10        2001.0                       Fighter\n"
          ]
        }
      ]
    },
    {
      "cell_type": "code",
      "metadata": {
        "id": "N2soyG4E2WXN"
      },
      "source": [
        "#Esta dataframe, lo reservaremos para generar las recomendaciones\n",
        "movies = df_movies.copy() #hacemos una copia de df_movies\n",
        "movies = movies.reset_index()\n",
        "movies = movies[~movies['Movie_Id'].isin(drop_movie_list)]"
      ],
      "execution_count": 17,
      "outputs": []
    },
    {
      "cell_type": "markdown",
      "metadata": {
        "id": "EL6_sSpI2WXL"
      },
      "source": [
        "## Construcción del sistema de recomendación usando filtrado colaborativo\n",
        "\n",
        "Usamos la biblioteca [Surprise](https://surprise.readthedocs.io/en/stable/getting_started.html) y se emplea el algoritmo de [factorización de matrices probabilísticas](https://surprise.readthedocs.io/en/stable/matrix_factorization.html#surprise.prediction_algorithms.matrix_factorization.SVD)."
      ]
    },
    {
      "cell_type": "code",
      "metadata": {
        "colab": {
          "base_uri": "https://localhost:8080/"
        },
        "id": "nTOrMdjs1p-G",
        "outputId": "331ae68d-1d15-48fd-a7a1-fc83b0ebb060"
      },
      "source": [
        "\"\"\"Entrenar el modelo\"\"\"\n",
        "from surprise.model_selection import train_test_split\n",
        "from surprise import accuracy\n",
        "\n",
        "reader = Reader()\n",
        "data = Dataset.load_from_df(df_raiting[['User_Id', 'Movie_Id', 'Rating']], reader) #Traemos la base de datos completa\n",
        "\n",
        "trainset, testset = train_test_split(data, test_size=.25)\n",
        "svd = SVD() #definición del modelo\n",
        "svd.fit(trainset) #training\n",
        "\n",
        "print(\"Rendimiento sobre conjunto de prueba\")\n",
        "predictions = svd.test(testset)\n",
        "print(accuracy.rmse(predictions))"
      ],
      "execution_count": 18,
      "outputs": [
        {
          "output_type": "stream",
          "name": "stdout",
          "text": [
            "Rendimiento sobre conjunto de prueba\n",
            "RMSE: 0.9868\n",
            "0.9867589561092426\n"
          ]
        }
      ]
    },
    {
      "cell_type": "code",
      "metadata": {
        "colab": {
          "base_uri": "https://localhost:8080/"
        },
        "id": "RqluMgHUMmnB",
        "outputId": "fcb6f221-603d-46db-f32d-5715e24e6675"
      },
      "source": [
        "#Lista testset\n",
        "testset[:10]"
      ],
      "execution_count": 19,
      "outputs": [
        {
          "output_type": "execute_result",
          "data": {
            "text/plain": [
              "[(2380626, 83, 4.0),\n",
              " (1917947, 58, 3.0),\n",
              " (936322, 30, 3.0),\n",
              " (691272, 118, 5.0),\n",
              " (632944, 111, 4.0),\n",
              " (281688, 28, 4.0),\n",
              " (2469751, 28, 3.0),\n",
              " (2125119, 143, 2.0),\n",
              " (2035595, 138, 2.0),\n",
              " (2317348, 30, 4.0)]"
            ]
          },
          "metadata": {},
          "execution_count": 19
        }
      ]
    },
    {
      "cell_type": "code",
      "metadata": {
        "scrolled": true,
        "colab": {
          "base_uri": "https://localhost:8080/"
        },
        "id": "ZeVvKC5M2WXM",
        "outputId": "889089f2-0778-42c6-ab82-f6fb51de5ae0"
      },
      "source": [
        "\"\"\" Analicemos a un usuario en particular \"\"\"\n",
        "userid= 988097 #user_id de un usuario específico\n",
        "user = df_raiting[(df_raiting['User_Id'] == userid) & (df_raiting['Rating'] == 5)]\n",
        "user = user.set_index('Movie_Id')\n",
        "user = user.join(df_movies)['Name']\n",
        "print(\"Películas que ha visto el usuario \"+str(userid))\n",
        "print(user)"
      ],
      "execution_count": 20,
      "outputs": [
        {
          "output_type": "stream",
          "name": "stdout",
          "text": [
            "Películas que ha visto el usuario 988097\n",
            "Movie_Id\n",
            "118    Rambo: First Blood Part II\n",
            "Name: Name, dtype: object\n"
          ]
        }
      ]
    },
    {
      "cell_type": "code",
      "metadata": {
        "colab": {
          "base_uri": "https://localhost:8080/",
          "height": 357
        },
        "id": "TtTRBe_LK7Wd",
        "outputId": "9dcb5d19-4ff8-47b0-9045-e4493e6af111"
      },
      "source": [
        "movies['Estimate_Score'] = movies['Movie_Id'].apply(lambda x: svd.predict(userid, x).est)\n",
        "movies = movies.sort_values('Estimate_Score', ascending=False)\n",
        "movies.head(10)"
      ],
      "execution_count": 21,
      "outputs": [
        {
          "output_type": "execute_result",
          "data": {
            "text/html": [
              "<div>\n",
              "<style scoped>\n",
              "    .dataframe tbody tr th:only-of-type {\n",
              "        vertical-align: middle;\n",
              "    }\n",
              "\n",
              "    .dataframe tbody tr th {\n",
              "        vertical-align: top;\n",
              "    }\n",
              "\n",
              "    .dataframe thead th {\n",
              "        text-align: right;\n",
              "    }\n",
              "</style>\n",
              "<table border=\"1\" class=\"dataframe\">\n",
              "  <thead>\n",
              "    <tr style=\"text-align: right;\">\n",
              "      <th></th>\n",
              "      <th>Movie_Id</th>\n",
              "      <th>Year</th>\n",
              "      <th>Name</th>\n",
              "      <th>Estimate_Score</th>\n",
              "    </tr>\n",
              "  </thead>\n",
              "  <tbody>\n",
              "    <tr>\n",
              "      <th>32</th>\n",
              "      <td>33</td>\n",
              "      <td>2000.0</td>\n",
              "      <td>Aqua Teen Hunger Force: Vol. 1</td>\n",
              "      <td>4.561223</td>\n",
              "    </tr>\n",
              "    <tr>\n",
              "      <th>70</th>\n",
              "      <td>71</td>\n",
              "      <td>1995.0</td>\n",
              "      <td>Maya Lin: A Strong Clear Vision</td>\n",
              "      <td>4.151837</td>\n",
              "    </tr>\n",
              "    <tr>\n",
              "      <th>96</th>\n",
              "      <td>97</td>\n",
              "      <td>2002.0</td>\n",
              "      <td>Mostly Martha</td>\n",
              "      <td>4.116399</td>\n",
              "    </tr>\n",
              "    <tr>\n",
              "      <th>17</th>\n",
              "      <td>18</td>\n",
              "      <td>1994.0</td>\n",
              "      <td>Immortal Beloved</td>\n",
              "      <td>4.081650</td>\n",
              "    </tr>\n",
              "    <tr>\n",
              "      <th>67</th>\n",
              "      <td>68</td>\n",
              "      <td>2004.0</td>\n",
              "      <td>Invader Zim</td>\n",
              "      <td>4.059965</td>\n",
              "    </tr>\n",
              "    <tr>\n",
              "      <th>57</th>\n",
              "      <td>58</td>\n",
              "      <td>1996.0</td>\n",
              "      <td>Dragonheart</td>\n",
              "      <td>4.010595</td>\n",
              "    </tr>\n",
              "    <tr>\n",
              "      <th>75</th>\n",
              "      <td>76</td>\n",
              "      <td>1952.0</td>\n",
              "      <td>I Love Lucy: Season 2</td>\n",
              "      <td>4.003207</td>\n",
              "    </tr>\n",
              "    <tr>\n",
              "      <th>142</th>\n",
              "      <td>143</td>\n",
              "      <td>1997.0</td>\n",
              "      <td>The Game</td>\n",
              "      <td>3.980582</td>\n",
              "    </tr>\n",
              "    <tr>\n",
              "      <th>51</th>\n",
              "      <td>52</td>\n",
              "      <td>2002.0</td>\n",
              "      <td>The Weather Underground</td>\n",
              "      <td>3.946877</td>\n",
              "    </tr>\n",
              "    <tr>\n",
              "      <th>45</th>\n",
              "      <td>46</td>\n",
              "      <td>1964.0</td>\n",
              "      <td>Rudolph the Red-Nosed Reindeer</td>\n",
              "      <td>3.944146</td>\n",
              "    </tr>\n",
              "  </tbody>\n",
              "</table>\n",
              "</div>"
            ],
            "text/plain": [
              "     Movie_Id    Year                             Name  Estimate_Score\n",
              "32         33  2000.0   Aqua Teen Hunger Force: Vol. 1        4.561223\n",
              "70         71  1995.0  Maya Lin: A Strong Clear Vision        4.151837\n",
              "96         97  2002.0                    Mostly Martha        4.116399\n",
              "17         18  1994.0                 Immortal Beloved        4.081650\n",
              "67         68  2004.0                      Invader Zim        4.059965\n",
              "57         58  1996.0                      Dragonheart        4.010595\n",
              "75         76  1952.0            I Love Lucy: Season 2        4.003207\n",
              "142       143  1997.0                         The Game        3.980582\n",
              "51         52  2002.0          The Weather Underground        3.946877\n",
              "45         46  1964.0   Rudolph the Red-Nosed Reindeer        3.944146"
            ]
          },
          "metadata": {},
          "execution_count": 21
        }
      ]
    },
    {
      "cell_type": "markdown",
      "metadata": {
        "id": "o5-vBmlZVh1m"
      },
      "source": [
        "## Ejercicio\n",
        "\n",
        "1. Ejecuta la libreta actual y obtenen la predición para un par de usuarios diferentes\n",
        "- Previamente (descarga la libreta actual y los datos de Kaggle)\n",
        "\n",
        "2. Aumenta el número de registros a analizar.\n",
        "  - Vuelve a ejecutar la libreta y genera las recomendaciones para los dos usuarios previos y genera dos nuevas predicciones (nuevos usuarios)\n"
      ]
    }
  ]
}