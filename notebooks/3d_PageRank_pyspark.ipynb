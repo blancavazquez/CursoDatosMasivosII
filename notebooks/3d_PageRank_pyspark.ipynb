{
  "nbformat": 4,
  "nbformat_minor": 0,
  "metadata": {
    "colab": {
      "name": "PageRank_spark.ipynb",
      "provenance": [],
      "collapsed_sections": [],
      "mount_file_id": "1Qf_TKebtn7HXLyHxQzdKn5noAGp02Pae",
      "authorship_tag": "ABX9TyPxRrYoFuJ4D0+dHJB5Wu9K",
      "include_colab_link": true
    },
    "kernelspec": {
      "name": "python3",
      "display_name": "Python 3"
    },
    "language_info": {
      "name": "python"
    }
  },
  "cells": [
    {
      "cell_type": "markdown",
      "metadata": {
        "id": "view-in-github",
        "colab_type": "text"
      },
      "source": [
        "<a href=\"https://colab.research.google.com/github/blancavazquez/CursoDatosMasivosII/blob/master/notebooks/3d_PageRank_pyspark.ipynb\" target=\"_parent\"><img src=\"https://colab.research.google.com/assets/colab-badge.svg\" alt=\"Open In Colab\"/></a>"
      ]
    },
    {
      "cell_type": "markdown",
      "metadata": {
        "id": "wMRZojcTvaDa"
      },
      "source": [
        "## Algoritmo de Page Rank usando pyspark"
      ]
    },
    {
      "cell_type": "code",
      "metadata": {
        "id": "iMzHvRjhuUdS",
        "colab": {
          "base_uri": "https://localhost:8080/"
        },
        "outputId": "ab4f9c13-dea0-4e15-879f-2a744bbbed40"
      },
      "source": [
        "!pip install pyspark\n",
        "!pip install -U -q PyDrive\n",
        "!apt install openjdk-8-jdk-headless -qq\n",
        "import os\n",
        "os.environ[\"JAVA_HOME\"] = \"/usr/lib/jvm/java-8-openjdk-amd64\""
      ],
      "execution_count": 1,
      "outputs": [
        {
          "output_type": "stream",
          "name": "stdout",
          "text": [
            "Requirement already satisfied: pyspark in /usr/local/lib/python3.7/dist-packages (3.1.2)\n",
            "Requirement already satisfied: py4j==0.10.9 in /usr/local/lib/python3.7/dist-packages (from pyspark) (0.10.9)\n",
            "openjdk-8-jdk-headless is already the newest version (8u292-b10-0ubuntu1~18.04).\n",
            "0 upgraded, 0 newly installed, 0 to remove and 37 not upgraded.\n"
          ]
        }
      ]
    },
    {
      "cell_type": "code",
      "metadata": {
        "id": "o9dCojYhuZT5"
      },
      "source": [
        "import pyspark\n",
        "from pyspark import SparkContext\n",
        "\n",
        "sc = SparkContext(appName=\"PageRank_pySpark\") # Initialize the spark context."
      ],
      "execution_count": 2,
      "outputs": []
    },
    {
      "cell_type": "code",
      "metadata": {
        "id": "9WMYEPr5ud0f"
      },
      "source": [
        "# returns list of (url, contribution) tuples to each url \n",
        "def computeContribs(urls, rank):\n",
        "    \"\"\"Calculates URL contributions to the rank of other URLs.\"\"\"\n",
        "    num_urls = len(urls)\n",
        "    contributions = []\n",
        "    for url in urls:\n",
        "        contributions.append( (url, rank/num_urls ) )\n",
        "    return contributions"
      ],
      "execution_count": 3,
      "outputs": []
    },
    {
      "cell_type": "code",
      "metadata": {
        "id": "QSuFczrvB-Fr"
      },
      "source": [
        "links = sc.textFile('/content/drive/MyDrive/Colab Notebooks/datos_vinculos/data_hist.txt')"
      ],
      "execution_count": 4,
      "outputs": []
    },
    {
      "cell_type": "code",
      "metadata": {
        "id": "guRMNBlhunko"
      },
      "source": [
        "# create RDD in format (URL, [neighbors])\n",
        "links = links.map(lambda x: x.split()).map(lambda x: (x[0], x[1])).distinct().groupByKey()"
      ],
      "execution_count": 5,
      "outputs": []
    },
    {
      "cell_type": "code",
      "metadata": {
        "colab": {
          "base_uri": "https://localhost:8080/"
        },
        "id": "M9DcR5_6uqWZ",
        "outputId": "b64d6ea9-fa0f-44e8-b590-ab7d65f96470"
      },
      "source": [
        "# after groupBy, value is iterator; let's convert to a list\n",
        "links = links.mapValues(lambda x: list(x))\n",
        "links.collect()"
      ],
      "execution_count": 6,
      "outputs": [
        {
          "output_type": "execute_result",
          "data": {
            "text/plain": [
              "[('1', ['4', '2', '3']), ('4', ['2', '3']), ('3', ['5']), ('2', ['1', '4'])]"
            ]
          },
          "metadata": {},
          "execution_count": 6
        }
      ]
    },
    {
      "cell_type": "code",
      "metadata": {
        "colab": {
          "base_uri": "https://localhost:8080/"
        },
        "id": "DHnwSQQkuvDw",
        "outputId": "56166564-dd71-49ed-ee48-3de30ac9e8c7"
      },
      "source": [
        "# Initialize rank of each URL to 1\n",
        "ranks = links.map(lambda x: (x[0], 1.0))\n",
        "ranks.collect()"
      ],
      "execution_count": 7,
      "outputs": [
        {
          "output_type": "execute_result",
          "data": {
            "text/plain": [
              "[('1', 1.0), ('4', 1.0), ('3', 1.0), ('2', 1.0)]"
            ]
          },
          "metadata": {},
          "execution_count": 7
        }
      ]
    },
    {
      "cell_type": "code",
      "metadata": {
        "id": "_z4DiEyWuv7Y"
      },
      "source": [
        "# Calculates and updates URL ranks continuously using PageRank algorithm.\n",
        "for iteration in range(10):\n",
        "    \n",
        "    # create RDD of form: (url, (neighbors, rank)\n",
        "    contribs = links.join(ranks)\n",
        "    contribs.collect()\n",
        "    \n",
        "    # create RDD of form: (url, contributed rank)\n",
        "    contribs = contribs.flatMap( #neighbor urls,  rank\n",
        "             lambda x: computeContribs(x[1][0], x[1][1]))\n",
        "\n",
        "    # Re-calculates URL ranks based on neighbor contributions, by\n",
        "    #     summing contributions to each url (reduceByKey)\n",
        "    #     rank = .85*contributions + 0.15 (mapValues)\n",
        "    ranks = contribs.reduceByKey(lambda v1,v2:v1+v2).mapValues(lambda rank: rank * 0.85 + 0.15)\n",
        "    ranks.collect()"
      ],
      "execution_count": 8,
      "outputs": []
    },
    {
      "cell_type": "code",
      "metadata": {
        "colab": {
          "base_uri": "https://localhost:8080/"
        },
        "id": "slxzVFbfu1XI",
        "outputId": "8b08e59e-dc2f-43d6-d15c-ec3206ee3de5"
      },
      "source": [
        "# Output final\n",
        "for link, rank in ranks.collect():\n",
        "    print(link, \"has rank:\", rank)"
      ],
      "execution_count": 9,
      "outputs": [
        {
          "output_type": "stream",
          "name": "stdout",
          "text": [
            "2 has rank: 0.42905173875775604\n",
            "5 has rank: 0.5176120203758106\n",
            "3 has rank: 0.42905173875775604\n",
            "1 has rank: 0.33380601018790523\n",
            "4 has rank: 0.42905173875775604\n"
          ]
        }
      ]
    },
    {
      "cell_type": "code",
      "metadata": {
        "id": "0EPbcdbku27o"
      },
      "source": [
        "sc.stop()"
      ],
      "execution_count": 10,
      "outputs": []
    }
  ]
}