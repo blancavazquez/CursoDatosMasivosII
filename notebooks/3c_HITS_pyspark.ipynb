{
  "nbformat": 4,
  "nbformat_minor": 0,
  "metadata": {
    "colab": {
      "name": "HIST.ipynb",
      "provenance": [],
      "collapsed_sections": [],
      "mount_file_id": "1KENni-n4u4nTkfieZx3m6zpMvQO7mVOH",
      "authorship_tag": "ABX9TyOM+3g7G6VncVJKa3E/m4RI",
      "include_colab_link": true
    },
    "kernelspec": {
      "name": "python3",
      "display_name": "Python 3"
    },
    "language_info": {
      "name": "python"
    }
  },
  "cells": [
    {
      "cell_type": "markdown",
      "metadata": {
        "id": "view-in-github",
        "colab_type": "text"
      },
      "source": [
        "<a href=\"https://colab.research.google.com/github/blancavazquez/CursoDatosMasivosII/blob/master/notebooks/3c_HITS_pyspark.ipynb\" target=\"_parent\"><img src=\"https://colab.research.google.com/assets/colab-badge.svg\" alt=\"Open In Colab\"/></a>"
      ]
    },
    {
      "cell_type": "markdown",
      "metadata": {
        "id": "Ulq1AdzHcjf5"
      },
      "source": [
        "## Algoritmo de HITS usando pyspark"
      ]
    },
    {
      "cell_type": "code",
      "metadata": {
        "id": "vHnj2vz4ellZ"
      },
      "source": [
        "#!pip install pyspark\n",
        "#!pip install -U -q PyDrive\n",
        "#!apt install openjdk-8-jdk-headless -qq\n",
        "import os\n",
        "os.environ[\"JAVA_HOME\"] = \"/usr/lib/jvm/java-8-openjdk-amd64\""
      ],
      "execution_count": 1,
      "outputs": []
    },
    {
      "cell_type": "code",
      "metadata": {
        "id": "Qw-1vKDhezS3"
      },
      "source": [
        "import pyspark\n",
        "from pyspark import SparkContext\n",
        "from operator import add\n",
        "import re, sys\n",
        "import time"
      ],
      "execution_count": 2,
      "outputs": []
    },
    {
      "cell_type": "code",
      "metadata": {
        "id": "goWMWnMfe2iu"
      },
      "source": [
        "def computeAuth(urls, hub):\n",
        "    \"\"\"Calculates hub contributions to the auth of other URLs.\"\"\"\n",
        "    num_urls = len(urls)\n",
        "    for url in urls: yield (url, hub)\n",
        "\n",
        "def computeHub(urls, auth):\n",
        "    \"\"\"Calculates auth contributions to the hub of other URLs.\"\"\"\n",
        "    num_urls = len(urls)\n",
        "    for url in urls: yield (url, auth)\n",
        "\n",
        "def outNeighbors(urls):\n",
        "    \"\"\"Parses a urls pair string into urls pair.\"\"\"\n",
        "    parts = re.split(r'\\s+', urls)\n",
        "    return parts[0], parts[1]\n",
        "\n",
        "def inNeighbors(urls):\n",
        "    \"\"\"Parses a urls pair string into urls pair.\"\"\"\n",
        "    parts = re.split(r'\\s+', urls)\n",
        "    return parts[1], parts[0]"
      ],
      "execution_count": 3,
      "outputs": []
    },
    {
      "cell_type": "code",
      "metadata": {
        "id": "ExYthWJxhx6W"
      },
      "source": [
        "sc = SparkContext(appName=\"HITS_pySpark\") # Initialize the spark context."
      ],
      "execution_count": 4,
      "outputs": []
    },
    {
      "cell_type": "code",
      "metadata": {
        "id": "QdJgE18ejp9q"
      },
      "source": [
        "lineas = sc.textFile('/content/drive/MyDrive/Colab Notebooks/datos_vinculos/data_hist.txt')"
      ],
      "execution_count": 5,
      "outputs": []
    },
    {
      "cell_type": "code",
      "metadata": {
        "colab": {
          "base_uri": "https://localhost:8080/"
        },
        "id": "oHqj9dStkW87",
        "outputId": "2e7863ec-d6e7-4f75-8edd-1c247c0d4e98"
      },
      "source": [
        "lineas.collect()"
      ],
      "execution_count": 6,
      "outputs": [
        {
          "output_type": "execute_result",
          "data": {
            "text/plain": [
              "['1 2', '1 3', '1 4', '2 1', '2 4', '3 5', '4 2', '4 3']"
            ]
          },
          "metadata": {},
          "execution_count": 6
        }
      ]
    },
    {
      "cell_type": "code",
      "metadata": {
        "id": "XN2EjmOTiLaF",
        "colab": {
          "base_uri": "https://localhost:8080/"
        },
        "outputId": "c5aad527-ddcd-4b10-8352-5f3106eb5c8c"
      },
      "source": [
        "# create RDD in format (URL)\n",
        "out_links = lineas.map(lambda urls: outNeighbors(urls)).distinct().groupByKey()\n",
        "out_links.collect()"
      ],
      "execution_count": 7,
      "outputs": [
        {
          "output_type": "execute_result",
          "data": {
            "text/plain": [
              "[('1', <pyspark.resultiterable.ResultIterable at 0x7faa6d81cb50>),\n",
              " ('4', <pyspark.resultiterable.ResultIterable at 0x7faa67073bd0>),\n",
              " ('3', <pyspark.resultiterable.ResultIterable at 0x7faa67073950>),\n",
              " ('2', <pyspark.resultiterable.ResultIterable at 0x7faa67073810>)]"
            ]
          },
          "metadata": {},
          "execution_count": 7
        }
      ]
    },
    {
      "cell_type": "code",
      "metadata": {
        "colab": {
          "base_uri": "https://localhost:8080/"
        },
        "id": "9ikOJca_kzq7",
        "outputId": "2ff0b456-5a7f-4000-ceda-268403c1de37"
      },
      "source": [
        "# create RDD in format (URL)\n",
        "in_links = lineas.map(lambda urls: inNeighbors(urls)).distinct().groupByKey()\n",
        "in_links.collect()"
      ],
      "execution_count": 8,
      "outputs": [
        {
          "output_type": "execute_result",
          "data": {
            "text/plain": [
              "[('4', <pyspark.resultiterable.ResultIterable at 0x7faa670662d0>),\n",
              " ('1', <pyspark.resultiterable.ResultIterable at 0x7faa67066110>),\n",
              " ('5', <pyspark.resultiterable.ResultIterable at 0x7faa670663d0>),\n",
              " ('2', <pyspark.resultiterable.ResultIterable at 0x7faa67066450>),\n",
              " ('3', <pyspark.resultiterable.ResultIterable at 0x7faa6704a110>)]"
            ]
          },
          "metadata": {},
          "execution_count": 8
        }
      ]
    },
    {
      "cell_type": "code",
      "metadata": {
        "colab": {
          "base_uri": "https://localhost:8080/"
        },
        "id": "JfiI1ufQk5eA",
        "outputId": "978eb079-6aa0-47d4-cefb-43ff4cfa9b1d"
      },
      "source": [
        "# Initialize hub of each URL to 1\n",
        "hubs = out_links.map(lambda x: (x[0], 1.0))\n",
        "hubs.collect()"
      ],
      "execution_count": 9,
      "outputs": [
        {
          "output_type": "execute_result",
          "data": {
            "text/plain": [
              "[('1', 1.0), ('4', 1.0), ('3', 1.0), ('2', 1.0)]"
            ]
          },
          "metadata": {},
          "execution_count": 9
        }
      ]
    },
    {
      "cell_type": "code",
      "metadata": {
        "colab": {
          "base_uri": "https://localhost:8080/"
        },
        "id": "55SCDYO9pmc4",
        "outputId": "8f569e60-82d4-441b-a5be-95b0076aa9b1"
      },
      "source": [
        "# Initialize auths of each URL to 1\n",
        "auths = in_links.map(lambda x: (x[0], 1.0))\n",
        "auths.collect()"
      ],
      "execution_count": 10,
      "outputs": [
        {
          "output_type": "execute_result",
          "data": {
            "text/plain": [
              "[('4', 1.0), ('1', 1.0), ('5', 1.0), ('2', 1.0), ('3', 1.0)]"
            ]
          },
          "metadata": {},
          "execution_count": 10
        }
      ]
    },
    {
      "cell_type": "code",
      "metadata": {
        "colab": {
          "base_uri": "https://localhost:8080/"
        },
        "id": "D_cMaGQWqUwN",
        "outputId": "b0dd5c55-3541-45a4-f392-a73ebd13f786"
      },
      "source": [
        "# Calculates and updates hub & auth ranks continuously using HITS algorithm.\n",
        "for iteration in range(10):\n",
        "  # Calculates URL contributions to the rank of other URLs.\n",
        "  \n",
        "  # Here we are contributing auth of a link present in the outgoing list of a link whose hub is given\n",
        "   auth_contribs = out_links.join(hubs).flatMap(lambda url_urls_rank:computeAuth(url_urls_rank[1][0], url_urls_rank[1][1]))\n",
        "   auths = auth_contribs.reduceByKey(add)\n",
        "   max_value = auths.max(lambda x:x[1])[1]\n",
        "   auths = auths.mapValues(lambda rank: rank/max_value) #normalize\n",
        "\n",
        "   # Here we are contributing hub of a link present in the incoming list of a link whose auth is given\n",
        "   hub_contribs = in_links.join(auths).flatMap(lambda url_urls_rank:computeHub(url_urls_rank[1][0], url_urls_rank[1][1]))\n",
        "   hubs = hub_contribs.reduceByKey(add)\n",
        "   max_value = hubs.max(lambda x:x[1])[1]\n",
        "   hubs = hubs.mapValues(lambda rank:rank/max_value)\n",
        "   print(\"Iteration:\", iteration +1)"
      ],
      "execution_count": 11,
      "outputs": [
        {
          "output_type": "stream",
          "name": "stdout",
          "text": [
            "Iteration: 1\n",
            "Iteration: 2\n",
            "Iteration: 3\n",
            "Iteration: 4\n",
            "Iteration: 5\n",
            "Iteration: 6\n",
            "Iteration: 7\n",
            "Iteration: 8\n",
            "Iteration: 9\n",
            "Iteration: 10\n"
          ]
        }
      ]
    },
    {
      "cell_type": "code",
      "metadata": {
        "colab": {
          "base_uri": "https://localhost:8080/"
        },
        "id": "W2ttq_aSJf8W",
        "outputId": "a678ae47-cf21-4fdf-b426-c6ad29cf5959"
      },
      "source": [
        "# Output final\n",
        "for (link, rank) in auths.collect():\n",
        "  print(link, \"has auth:\", (link, rank))\n",
        "\n",
        "print(\"**************************************\")\n",
        "for (link, rank) in hubs.collect():\n",
        "  print(link, \"has hub:\", (link, rank))"
      ],
      "execution_count": 12,
      "outputs": [
        {
          "output_type": "stream",
          "name": "stdout",
          "text": [
            "1 has auth: ('1', 0.12838756187947561)\n",
            "2 has auth: ('2', 0.6149109120448921)\n",
            "4 has auth: ('4', 0.4866324223620656)\n",
            "3 has auth: ('3', 0.6149109120448921)\n",
            "5 has auth: ('5', 2.1303163408019257e-07)\n",
            "**************************************\n",
            "3 has hub: ('3', 1.2411145506532355e-07)\n",
            "4 has hub: ('4', 0.7164897209651799)\n",
            "2 has hub: ('2', 0.3583084055475835)\n",
            "1 has hub: ('1', 1.0)\n"
          ]
        }
      ]
    },
    {
      "cell_type": "code",
      "metadata": {
        "id": "qWzaeumrMNAj"
      },
      "source": [
        "sc.stop()"
      ],
      "execution_count": 13,
      "outputs": []
    }
  ]
}